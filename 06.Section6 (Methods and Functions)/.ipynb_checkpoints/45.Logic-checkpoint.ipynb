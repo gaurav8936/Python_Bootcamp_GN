{
 "cells": [
  {
   "cell_type": "markdown",
   "id": "ec5842e2",
   "metadata": {},
   "source": [
    "<font size = 8> Logic with Functions"
   ]
  },
  {
   "cell_type": "markdown",
   "id": "23a8215c",
   "metadata": {},
   "source": [
    "<font color = aloe, size = 6> Playing with even numbers"
   ]
  },
  {
   "cell_type": "markdown",
   "id": "17a30a9a",
   "metadata": {},
   "source": [
    "` check if number is even `"
   ]
  },
  {
   "cell_type": "code",
   "execution_count": 3,
   "id": "5e0f4dfb",
   "metadata": {},
   "outputs": [],
   "source": [
    "def even_check(numberinput):\n",
    "    result = numberinput % 2 == 0\n",
    "    return result"
   ]
  },
  {
   "cell_type": "code",
   "execution_count": 4,
   "id": "766a9d21",
   "metadata": {},
   "outputs": [
    {
     "data": {
      "text/plain": [
       "True"
      ]
     },
     "execution_count": 4,
     "metadata": {},
     "output_type": "execute_result"
    }
   ],
   "source": [
    "even_check(20)"
   ]
  },
  {
   "cell_type": "markdown",
   "id": "cae0806b",
   "metadata": {},
   "source": [
    "` simplified code `"
   ]
  },
  {
   "cell_type": "code",
   "execution_count": 8,
   "id": "b92e1e31",
   "metadata": {},
   "outputs": [],
   "source": [
    "def even_check1(numberinput1):\n",
    "    return numberinput1 % 2 == 0"
   ]
  },
  {
   "cell_type": "code",
   "execution_count": 9,
   "id": "e318727b",
   "metadata": {},
   "outputs": [
    {
     "data": {
      "text/plain": [
       "False"
      ]
     },
     "execution_count": 9,
     "metadata": {},
     "output_type": "execute_result"
    }
   ],
   "source": [
    "even_check1(21)"
   ]
  },
  {
   "cell_type": "markdown",
   "id": "cd061a0e",
   "metadata": {},
   "source": [
    "### check inside of a list"
   ]
  },
  {
   "cell_type": "code",
   "execution_count": 10,
   "id": "4ad88362",
   "metadata": {},
   "outputs": [],
   "source": [
    "# return true if any number is even inside a list"
   ]
  },
  {
   "cell_type": "code",
   "execution_count": 15,
   "id": "1b6a82be",
   "metadata": {
    "scrolled": true
   },
   "outputs": [],
   "source": [
    "# Once the return condition is true, the function is over"
   ]
  },
  {
   "cell_type": "code",
   "execution_count": 3,
   "id": "ff182f7e",
   "metadata": {},
   "outputs": [],
   "source": [
    "def even_check_list(num_list):\n",
    "    for number in num_list:\n",
    "        if number%2 ==0:\n",
    "            return True ## this returns the very first time there is a match\n",
    "        else:\n",
    "            pass\n",
    "        "
   ]
  },
  {
   "cell_type": "code",
   "execution_count": 5,
   "id": "6d52e510",
   "metadata": {},
   "outputs": [],
   "source": [
    "num_list = [1,2,5]"
   ]
  },
  {
   "cell_type": "code",
   "execution_count": 6,
   "id": "fcff442b",
   "metadata": {},
   "outputs": [
    {
     "data": {
      "text/plain": [
       "True"
      ]
     },
     "execution_count": 6,
     "metadata": {},
     "output_type": "execute_result"
    }
   ],
   "source": [
    "even_check_list(num_list)"
   ]
  },
  {
   "cell_type": "code",
   "execution_count": 13,
   "id": "897086e9",
   "metadata": {},
   "outputs": [],
   "source": [
    "num_list = [1,3,5]\n",
    "# num_list= [1,1,1,1,2]"
   ]
  },
  {
   "cell_type": "code",
   "execution_count": 14,
   "id": "7e9a4389",
   "metadata": {},
   "outputs": [],
   "source": [
    "even_check_list(num_list)"
   ]
  },
  {
   "cell_type": "code",
   "execution_count": 9,
   "id": "391a9b08",
   "metadata": {},
   "outputs": [],
   "source": [
    "# note that the false condition does not return a value (as the program is incomplete as yet)"
   ]
  },
  {
   "cell_type": "markdown",
   "id": "78850213",
   "metadata": {},
   "source": [
    "<font color = blue> adding the condition for the false"
   ]
  },
  {
   "cell_type": "code",
   "execution_count": 25,
   "id": "009df159",
   "metadata": {},
   "outputs": [],
   "source": [
    "def even_check_list1(num_list1):\n",
    "    for number1 in num_list1:\n",
    "        if number1%2 ==0:\n",
    "            return True ## this returns the very first time there is a match\n",
    "        else:\n",
    "            return False ## WRONG!!\n",
    "        \n",
    "# this is the most common mistake\n",
    "# the reason is that the loop runs just once\n",
    "# assume the list is [1,1,3,5,6]\n",
    "# the program will exit after the very first time it sees 1 and returns FALSE\n",
    "# however, there are true condition (6) later down the list"
   ]
  },
  {
   "cell_type": "code",
   "execution_count": 26,
   "id": "d1a165bf",
   "metadata": {},
   "outputs": [],
   "source": [
    "num_list1 = [1,1,3,5,6]"
   ]
  },
  {
   "cell_type": "code",
   "execution_count": 27,
   "id": "359fc73b",
   "metadata": {
    "scrolled": true
   },
   "outputs": [
    {
     "data": {
      "text/plain": [
       "False"
      ]
     },
     "execution_count": 27,
     "metadata": {},
     "output_type": "execute_result"
    }
   ],
   "source": [
    "even_check_list1(num_list1)"
   ]
  },
  {
   "cell_type": "code",
   "execution_count": 20,
   "id": "600dbe0f",
   "metadata": {},
   "outputs": [],
   "source": [
    "# Notice that it is only checking the first number"
   ]
  },
  {
   "cell_type": "code",
   "execution_count": 37,
   "id": "411248df",
   "metadata": {},
   "outputs": [],
   "source": [
    "# Rewriting the program with the 'return FALSE' at the outer for loop (and executes after all the records have executed in the for loop)"
   ]
  },
  {
   "cell_type": "code",
   "execution_count": 47,
   "id": "916b2c07",
   "metadata": {},
   "outputs": [],
   "source": [
    "def even_check_list2(num_list2):\n",
    "    for number2 in num_list2:\n",
    "        if number2%2 ==0:\n",
    "            return True\n",
    "        else:\n",
    "            pass\n",
    "\n",
    "    return False ## notice the indentation level here"
   ]
  },
  {
   "cell_type": "code",
   "execution_count": 48,
   "id": "338bf879",
   "metadata": {},
   "outputs": [],
   "source": [
    "num_list2 = [1,1,3,5,6]"
   ]
  },
  {
   "cell_type": "code",
   "execution_count": 49,
   "id": "4b233aa0",
   "metadata": {},
   "outputs": [
    {
     "data": {
      "text/plain": [
       "True"
      ]
     },
     "execution_count": 49,
     "metadata": {},
     "output_type": "execute_result"
    }
   ],
   "source": [
    "even_check_list2(num_list2)"
   ]
  },
  {
   "cell_type": "markdown",
   "id": "c95f3611",
   "metadata": {},
   "source": [
    "### Return all the even numbers in the list (not just exiting if it contains a single even number"
   ]
  },
  {
   "cell_type": "code",
   "execution_count": 53,
   "id": "4be9d3e1",
   "metadata": {},
   "outputs": [],
   "source": [
    "def check_even_list3(num_list3):\n",
    "    # return all teh even numbers in a list\n",
    "    \n",
    "    # define placeholder variable at the top of the function\n",
    "    even_numbers3 = []\n",
    "    \n",
    "    for number3 in num_list3:\n",
    "        if number3%2 == 0:\n",
    "            even_numbers3.append(number3)\n",
    "            \n",
    "        else:\n",
    "            pass\n",
    "    return even_numbers3"
   ]
  },
  {
   "cell_type": "code",
   "execution_count": 56,
   "id": "e48a581f",
   "metadata": {},
   "outputs": [],
   "source": [
    "num_list3 = [1,1,3,5,6,3,5,7,9,12,24]"
   ]
  },
  {
   "cell_type": "code",
   "execution_count": 57,
   "id": "becd240e",
   "metadata": {},
   "outputs": [
    {
     "data": {
      "text/plain": [
       "[6, 12, 24]"
      ]
     },
     "execution_count": 57,
     "metadata": {},
     "output_type": "execute_result"
    }
   ],
   "source": [
    "check_even_list3(num_list3)"
   ]
  },
  {
   "cell_type": "code",
   "execution_count": null,
   "id": "c2b9b1aa",
   "metadata": {},
   "outputs": [],
   "source": []
  }
 ],
 "metadata": {
  "kernelspec": {
   "display_name": "Python 3 (ipykernel)",
   "language": "python",
   "name": "python3"
  },
  "language_info": {
   "codemirror_mode": {
    "name": "ipython",
    "version": 3
   },
   "file_extension": ".py",
   "mimetype": "text/x-python",
   "name": "python",
   "nbconvert_exporter": "python",
   "pygments_lexer": "ipython3",
   "version": "3.9.12"
  }
 },
 "nbformat": 4,
 "nbformat_minor": 5
}
