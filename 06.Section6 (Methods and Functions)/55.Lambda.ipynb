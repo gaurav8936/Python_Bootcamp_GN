{
 "cells": [
  {
   "cell_type": "markdown",
   "id": "691fd27e",
   "metadata": {},
   "source": [
    "<font size = 8> Lambda Expressions, Map and Filter Functions"
   ]
  },
  {
   "cell_type": "markdown",
   "id": "e975ebbd",
   "metadata": {},
   "source": [
    "Way to create anonymous functions"
   ]
  },
  {
   "cell_type": "markdown",
   "id": "c79b876c",
   "metadata": {},
   "source": [
    "# Map"
   ]
  },
  {
   "cell_type": "code",
   "execution_count": 1,
   "id": "d04e97c2",
   "metadata": {},
   "outputs": [
    {
     "name": "stdout",
     "output_type": "stream",
     "text": [
      "Help on class map in module builtins:\n",
      "\n",
      "class map(object)\n",
      " |  map(func, *iterables) --> map object\n",
      " |  \n",
      " |  Make an iterator that computes the function using arguments from\n",
      " |  each of the iterables.  Stops when the shortest iterable is exhausted.\n",
      " |  \n",
      " |  Methods defined here:\n",
      " |  \n",
      " |  __getattribute__(self, name, /)\n",
      " |      Return getattr(self, name).\n",
      " |  \n",
      " |  __iter__(self, /)\n",
      " |      Implement iter(self).\n",
      " |  \n",
      " |  __next__(self, /)\n",
      " |      Implement next(self).\n",
      " |  \n",
      " |  __reduce__(...)\n",
      " |      Return state information for pickling.\n",
      " |  \n",
      " |  ----------------------------------------------------------------------\n",
      " |  Static methods defined here:\n",
      " |  \n",
      " |  __new__(*args, **kwargs) from builtins.type\n",
      " |      Create and return a new object.  See help(type) for accurate signature.\n",
      "\n"
     ]
    }
   ],
   "source": [
    "help(map)"
   ]
  },
  {
   "cell_type": "code",
   "execution_count": 2,
   "id": "9a484297",
   "metadata": {},
   "outputs": [],
   "source": [
    "def square(num):\n",
    "    return num**2"
   ]
  },
  {
   "cell_type": "code",
   "execution_count": 3,
   "id": "ef2f10a0",
   "metadata": {},
   "outputs": [],
   "source": [
    "my_nums = [1,2,3,4,5]"
   ]
  },
  {
   "cell_type": "markdown",
   "id": "300d37f6",
   "metadata": {},
   "source": [
    "the ask is to run the square functino for every item on the list\n",
    "this can be done using the for loop"
   ]
  },
  {
   "cell_type": "code",
   "execution_count": 4,
   "id": "ec2e52de",
   "metadata": {},
   "outputs": [
    {
     "data": {
      "text/plain": [
       "<map at 0x7fe7b0dd2c40>"
      ]
     },
     "execution_count": 4,
     "metadata": {},
     "output_type": "execute_result"
    }
   ],
   "source": [
    "map(square, my_nums)"
   ]
  },
  {
   "cell_type": "markdown",
   "id": "1cb868b0",
   "metadata": {},
   "source": [
    "<font color = red> There are two ways to apply the map: FOR loop or LIST"
   ]
  },
  {
   "cell_type": "markdown",
   "id": "4da86579",
   "metadata": {},
   "source": [
    "### FOR"
   ]
  },
  {
   "cell_type": "code",
   "execution_count": 6,
   "id": "1ccd874a",
   "metadata": {},
   "outputs": [
    {
     "name": "stdout",
     "output_type": "stream",
     "text": [
      "1\n",
      "4\n",
      "9\n",
      "16\n",
      "25\n"
     ]
    }
   ],
   "source": [
    "# Note how the for loop starts\n",
    "\n",
    "for item in map(square, my_nums):\n",
    "    print(item)"
   ]
  },
  {
   "cell_type": "markdown",
   "id": "fa711a0a",
   "metadata": {},
   "source": [
    "### LIST"
   ]
  },
  {
   "cell_type": "code",
   "execution_count": 8,
   "id": "ae19b86b",
   "metadata": {},
   "outputs": [
    {
     "data": {
      "text/plain": [
       "[1, 4, 9, 16, 25]"
      ]
     },
     "execution_count": 8,
     "metadata": {},
     "output_type": "execute_result"
    }
   ],
   "source": [
    "list(map(square, my_nums))\n",
    "# this gives a list output"
   ]
  },
  {
   "cell_type": "markdown",
   "id": "781150f3",
   "metadata": {},
   "source": [
    "***"
   ]
  },
  {
   "cell_type": "code",
   "execution_count": 21,
   "id": "37cc8d15",
   "metadata": {},
   "outputs": [],
   "source": [
    "# Use Map to determine if the words have even characters or not\n",
    "# Step1: Write a function to return if a string is even or odd\n",
    "# Step 2: initialize the string\n",
    "# Step 3: use Map to iterate teh string through teh function"
   ]
  },
  {
   "cell_type": "code",
   "execution_count": 20,
   "id": "9a78b408",
   "metadata": {},
   "outputs": [],
   "source": [
    "# create a function to determine if the words have even number of characters or not\n",
    "# This is just a typical function\n",
    "\n",
    "\n",
    "def splicer(mystring):\n",
    "    if len(mystring)%2 == 0:\n",
    "        return 'EVEN'\n",
    "    else:\n",
    "        # return mystring[0]\n",
    "        return('ODD')"
   ]
  },
  {
   "cell_type": "code",
   "execution_count": 18,
   "id": "8c49f6e7",
   "metadata": {},
   "outputs": [],
   "source": [
    "names = ['Andy', 'Eve', 'Sally']"
   ]
  },
  {
   "cell_type": "code",
   "execution_count": 22,
   "id": "405455d3",
   "metadata": {},
   "outputs": [
    {
     "data": {
      "text/plain": [
       "['EVEN', 'ODD', 'ODD']"
      ]
     },
     "execution_count": 22,
     "metadata": {},
     "output_type": "execute_result"
    }
   ],
   "source": [
    "# now use the map function to iterate the function through the list\n",
    "\n",
    "list(map(splicer, names))\n",
    "\n",
    "## list(map(splicer, names)) -- note you do not add the () for the function (splicer())"
   ]
  },
  {
   "cell_type": "markdown",
   "id": "053cb7a6",
   "metadata": {},
   "source": [
    "***"
   ]
  },
  {
   "cell_type": "markdown",
   "id": "95664f2c",
   "metadata": {},
   "source": [
    "# Filter"
   ]
  },
  {
   "cell_type": "code",
   "execution_count": 23,
   "id": "55e16ce7",
   "metadata": {},
   "outputs": [],
   "source": [
    "def check_even(num):\n",
    "    return num%2 == 0"
   ]
  },
  {
   "cell_type": "code",
   "execution_count": 24,
   "id": "cc40d280",
   "metadata": {},
   "outputs": [],
   "source": [
    "mynums = [1,2,3,4,5,6]"
   ]
  },
  {
   "cell_type": "code",
   "execution_count": 25,
   "id": "00063918",
   "metadata": {},
   "outputs": [],
   "source": [
    "# I only want to grab even numbers from the list\n",
    "# Filter is like Map\n",
    "# Map applies the function to every item on the list\n",
    "# Filter on teh otehr hand, filters the list based on the condition of the function\n",
    "##### Filter has to return a bo0lean value"
   ]
  },
  {
   "cell_type": "code",
   "execution_count": 31,
   "id": "7cb904fc",
   "metadata": {},
   "outputs": [
    {
     "data": {
      "text/plain": [
       "<filter at 0x7fe798a7b640>"
      ]
     },
     "execution_count": 31,
     "metadata": {},
     "output_type": "execute_result"
    }
   ],
   "source": [
    "filter(check_even, mynums)"
   ]
  },
  {
   "cell_type": "markdown",
   "id": "800b7d22",
   "metadata": {},
   "source": [
    "### LIST"
   ]
  },
  {
   "cell_type": "code",
   "execution_count": 41,
   "id": "0ca70815",
   "metadata": {},
   "outputs": [
    {
     "data": {
      "text/plain": [
       "[2, 4, 6]"
      ]
     },
     "execution_count": 41,
     "metadata": {},
     "output_type": "execute_result"
    }
   ],
   "source": [
    "list(filter(check_even, mynums))"
   ]
  },
  {
   "cell_type": "markdown",
   "id": "4242163f",
   "metadata": {},
   "source": [
    "### FOR "
   ]
  },
  {
   "cell_type": "code",
   "execution_count": 28,
   "id": "ac688215",
   "metadata": {},
   "outputs": [
    {
     "name": "stdout",
     "output_type": "stream",
     "text": [
      "2\n",
      "4\n",
      "6\n"
     ]
    }
   ],
   "source": [
    "for n in filter(check_even, mynums):\n",
    "    print(n)"
   ]
  },
  {
   "cell_type": "markdown",
   "id": "60de156e",
   "metadata": {},
   "source": [
    "***"
   ]
  },
  {
   "cell_type": "markdown",
   "id": "6a591db8",
   "metadata": {},
   "source": [
    "# Lambda"
   ]
  },
  {
   "cell_type": "markdown",
   "id": "41317d04",
   "metadata": {},
   "source": [
    "### Step by Step conversion of a function to a Lambda expression"
   ]
  },
  {
   "cell_type": "code",
   "execution_count": 36,
   "id": "64c1eb2b",
   "metadata": {},
   "outputs": [],
   "source": [
    "# starting with a standard function\n",
    "\n",
    "def square(num):\n",
    "    result = num**2\n",
    "    return result   "
   ]
  },
  {
   "cell_type": "code",
   "execution_count": 35,
   "id": "999dfbc0",
   "metadata": {},
   "outputs": [
    {
     "data": {
      "text/plain": [
       "100"
      ]
     },
     "execution_count": 35,
     "metadata": {},
     "output_type": "execute_result"
    }
   ],
   "source": [
    "square(10)"
   ]
  },
  {
   "cell_type": "code",
   "execution_count": 38,
   "id": "dd5183f2",
   "metadata": {},
   "outputs": [],
   "source": [
    "# first simplification\n",
    "\n",
    "def square1(num):\n",
    "    return num**2"
   ]
  },
  {
   "cell_type": "code",
   "execution_count": 40,
   "id": "bd2ba8ec",
   "metadata": {},
   "outputs": [
    {
     "data": {
      "text/plain": [
       "9"
      ]
     },
     "execution_count": 40,
     "metadata": {},
     "output_type": "execute_result"
    }
   ],
   "source": [
    "square1(3)"
   ]
  },
  {
   "cell_type": "code",
   "execution_count": 42,
   "id": "f27b3c79",
   "metadata": {},
   "outputs": [],
   "source": [
    "# next simplicatio\n",
    "\n",
    "def square2(num): return num**2"
   ]
  },
  {
   "cell_type": "code",
   "execution_count": 43,
   "id": "a797e3e0",
   "metadata": {},
   "outputs": [
    {
     "data": {
      "text/plain": [
       "16"
      ]
     },
     "execution_count": 43,
     "metadata": {},
     "output_type": "execute_result"
    }
   ],
   "source": [
    "square2(4)"
   ]
  },
  {
   "cell_type": "markdown",
   "id": "6a20a26c",
   "metadata": {},
   "source": [
    "<font color = red> Lambda functions are anonymous and often used just once -- NO NAME or DEF Keyword"
   ]
  },
  {
   "cell_type": "code",
   "execution_count": 44,
   "id": "2ce7d562",
   "metadata": {},
   "outputs": [
    {
     "data": {
      "text/plain": [
       "<function __main__.<lambda>(num)>"
      ]
     },
     "execution_count": 44,
     "metadata": {},
     "output_type": "execute_result"
    }
   ],
   "source": [
    "lambda num: num**2"
   ]
  },
  {
   "cell_type": "code",
   "execution_count": 45,
   "id": "362fdc3b",
   "metadata": {},
   "outputs": [],
   "source": [
    "# Note this itself does not return a value"
   ]
  },
  {
   "cell_type": "code",
   "execution_count": 46,
   "id": "1c5bb85d",
   "metadata": {},
   "outputs": [],
   "source": [
    "# assing this to a variable\n",
    "\n",
    "square3 = lambda num: num**2"
   ]
  },
  {
   "cell_type": "code",
   "execution_count": 47,
   "id": "1d4ab0ad",
   "metadata": {},
   "outputs": [
    {
     "data": {
      "text/plain": [
       "9"
      ]
     },
     "execution_count": 47,
     "metadata": {},
     "output_type": "execute_result"
    }
   ],
   "source": [
    "square3(3)"
   ]
  },
  {
   "cell_type": "markdown",
   "id": "749708fa",
   "metadata": {},
   "source": [
    "<font color = blue> Lamdba functions are rarelyl assigned, but used along with functions like Map and Filter"
   ]
  },
  {
   "cell_type": "markdown",
   "id": "9bf77808",
   "metadata": {},
   "source": [
    "### Lambda with MAP"
   ]
  },
  {
   "cell_type": "code",
   "execution_count": 48,
   "id": "14197a82",
   "metadata": {},
   "outputs": [],
   "source": [
    "# Recall the earlier square function"
   ]
  },
  {
   "attachments": {
    "image.png": {
     "image/png": "[encoded data removed]"
    }
   },
   "cell_type": "markdown",
   "id": "048f4b19",
   "metadata": {},
   "source": [
    "![image.png](attachment:image.png)"
   ]
  },
  {
   "attachments": {
    "image-2.png": {
     "image/png": "[encoded data removed]"
    },
    "image.png": {
     "image/png": "[encoded data removed]"
    }
   },
   "cell_type": "markdown",
   "id": "6b43ae10",
   "metadata": {},
   "source": [
    "![image.png](attachment:image.png)\n",
    "![image-2.png](attachment:image-2.png)"
   ]
  },
  {
   "cell_type": "code",
   "execution_count": 49,
   "id": "80377569",
   "metadata": {},
   "outputs": [
    {
     "data": {
      "text/plain": [
       "<map at 0x7fe7a01cfa30>"
      ]
     },
     "execution_count": 49,
     "metadata": {},
     "output_type": "execute_result"
    }
   ],
   "source": [
    "map(lambda num:num**2, mynums)"
   ]
  },
  {
   "cell_type": "code",
   "execution_count": 50,
   "id": "5bdca5b5",
   "metadata": {},
   "outputs": [
    {
     "data": {
      "text/plain": [
       "[1, 4, 9, 16, 25, 36]"
      ]
     },
     "execution_count": 50,
     "metadata": {},
     "output_type": "execute_result"
    }
   ],
   "source": [
    "list(map(lambda num:num**2, mynums))"
   ]
  },
  {
   "cell_type": "markdown",
   "id": "6cd8d29e",
   "metadata": {},
   "source": [
    "***"
   ]
  },
  {
   "cell_type": "markdown",
   "id": "4bb3cbd0",
   "metadata": {},
   "source": [
    "### Lambda with FILTER"
   ]
  },
  {
   "cell_type": "code",
   "execution_count": 51,
   "id": "e4be4c66",
   "metadata": {},
   "outputs": [],
   "source": [
    "# Recall earlier check even function"
   ]
  },
  {
   "attachments": {
    "image.png": {
     "image/png": "[encoded data removed]"
    }
   },
   "cell_type": "markdown",
   "id": "f0f73d52",
   "metadata": {},
   "source": [
    "![image.png](attachment:image.png)"
   ]
  },
  {
   "attachments": {
    "image.png": {
     "image/png": "[encoded data removed]"
    }
   },
   "cell_type": "markdown",
   "id": "36bfa9f5",
   "metadata": {},
   "source": [
    "![image.png](attachment:image.png)"
   ]
  },
  {
   "cell_type": "code",
   "execution_count": 52,
   "id": "65d7e873",
   "metadata": {},
   "outputs": [
    {
     "data": {
      "text/plain": [
       "<function __main__.<lambda>(num)>"
      ]
     },
     "execution_count": 52,
     "metadata": {},
     "output_type": "execute_result"
    }
   ],
   "source": [
    "lambda num: num%2 ==0"
   ]
  },
  {
   "cell_type": "code",
   "execution_count": 53,
   "id": "33d0d179",
   "metadata": {},
   "outputs": [
    {
     "data": {
      "text/plain": [
       "<filter at 0x7fe7b0fbba60>"
      ]
     },
     "execution_count": 53,
     "metadata": {},
     "output_type": "execute_result"
    }
   ],
   "source": [
    "filter(lambda num:num%2 ==0, mynums)"
   ]
  },
  {
   "cell_type": "code",
   "execution_count": 54,
   "id": "182d7d5d",
   "metadata": {},
   "outputs": [
    {
     "data": {
      "text/plain": [
       "[2, 4, 6]"
      ]
     },
     "execution_count": 54,
     "metadata": {},
     "output_type": "execute_result"
    }
   ],
   "source": [
    "list(filter(lambda num:num%2 ==0, mynums))"
   ]
  },
  {
   "cell_type": "markdown",
   "id": "1fa1a8d6",
   "metadata": {},
   "source": [
    "***"
   ]
  },
  {
   "cell_type": "markdown",
   "id": "31657443",
   "metadata": {},
   "source": [
    "<font color = teal> Grab first characters of a string with Lambda"
   ]
  },
  {
   "cell_type": "code",
   "execution_count": 55,
   "id": "4166728f",
   "metadata": {},
   "outputs": [
    {
     "data": {
      "text/plain": [
       "['Andy', 'Eve', 'Sally']"
      ]
     },
     "execution_count": 55,
     "metadata": {},
     "output_type": "execute_result"
    }
   ],
   "source": [
    "names"
   ]
  },
  {
   "cell_type": "code",
   "execution_count": 56,
   "id": "9755443d",
   "metadata": {},
   "outputs": [
    {
     "data": {
      "text/plain": [
       "<map at 0x7fe7b0fbbbe0>"
      ]
     },
     "execution_count": 56,
     "metadata": {},
     "output_type": "execute_result"
    }
   ],
   "source": [
    "map(lambda x:x[0], names)"
   ]
  },
  {
   "cell_type": "code",
   "execution_count": 57,
   "id": "a5b2932a",
   "metadata": {},
   "outputs": [
    {
     "data": {
      "text/plain": [
       "['A', 'E', 'S']"
      ]
     },
     "execution_count": 57,
     "metadata": {},
     "output_type": "execute_result"
    }
   ],
   "source": [
    "list(map(lambda x:x[0], names))"
   ]
  },
  {
   "cell_type": "markdown",
   "id": "9c19c416",
   "metadata": {},
   "source": [
    "***"
   ]
  },
  {
   "cell_type": "markdown",
   "id": "3c811a49",
   "metadata": {},
   "source": [
    "<font color = teal> Reverse names"
   ]
  },
  {
   "cell_type": "code",
   "execution_count": 58,
   "id": "8a053c68",
   "metadata": {},
   "outputs": [
    {
     "data": {
      "text/plain": [
       "['ydnA', 'evE', 'yllaS']"
      ]
     },
     "execution_count": 58,
     "metadata": {},
     "output_type": "execute_result"
    }
   ],
   "source": [
    "list(map(lambda x:x[::-1], names))"
   ]
  },
  {
   "cell_type": "markdown",
   "id": "3bda0691",
   "metadata": {},
   "source": [
    "***"
   ]
  },
  {
   "cell_type": "markdown",
   "id": "9159857e",
   "metadata": {},
   "source": [
    "<font color = red> Use Lambda sparingly and like list comprehension, it should be readable later"
   ]
  },
  {
   "cell_type": "code",
   "execution_count": null,
   "id": "cdbdfe90",
   "metadata": {},
   "outputs": [],
   "source": []
  }
 ],
 "metadata": {
  "kernelspec": {
   "display_name": "Python 3 (ipykernel)",
   "language": "python",
   "name": "python3"
  },
  "language_info": {
   "codemirror_mode": {
    "name": "ipython",
    "version": 3
   },
   "file_extension": ".py",
   "mimetype": "text/x-python",
   "name": "python",
   "nbconvert_exporter": "python",
   "pygments_lexer": "ipython3",
   "version": "3.9.12"
  }
 },
 "nbformat": 4,
 "nbformat_minor": 5
}
