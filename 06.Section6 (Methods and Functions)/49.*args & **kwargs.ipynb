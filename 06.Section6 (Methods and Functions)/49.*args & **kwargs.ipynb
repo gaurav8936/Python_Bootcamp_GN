{
 "cells": [
  {
   "cell_type": "markdown",
   "id": "4de3c3df",
   "metadata": {},
   "source": [
    "<font size = 8> *args and *kwargs in Python"
   ]
  },
  {
   "cell_type": "code",
   "execution_count": 1,
   "id": "95f43ed0",
   "metadata": {},
   "outputs": [],
   "source": [
    "# Functional Parameters\n",
    "\n",
    "# args -- Arguments\n",
    "#kwargs -- Key Word Arguments"
   ]
  },
  {
   "cell_type": "markdown",
   "id": "4a16d3e0",
   "metadata": {},
   "source": [
    "## *args"
   ]
  },
  {
   "cell_type": "code",
   "execution_count": 30,
   "id": "964a47ed",
   "metadata": {},
   "outputs": [],
   "source": [
    "def myfunc(numa, numb):\n",
    "    # returns 5% of the sum of a and b\n",
    "    return sum((numa,numb)) * 0.05"
   ]
  },
  {
   "cell_type": "code",
   "execution_count": 4,
   "id": "29677fa8",
   "metadata": {},
   "outputs": [
    {
     "data": {
      "text/plain": [
       "5.0"
      ]
     },
     "execution_count": 4,
     "metadata": {},
     "output_type": "execute_result"
    }
   ],
   "source": [
    "myfunc(40, 60)"
   ]
  },
  {
   "cell_type": "code",
   "execution_count": 5,
   "id": "5bb25692",
   "metadata": {},
   "outputs": [],
   "source": [
    "# What is we had more numbers of parametes to pass?"
   ]
  },
  {
   "cell_type": "code",
   "execution_count": 6,
   "id": "8330da6f",
   "metadata": {},
   "outputs": [],
   "source": [
    "# numa and numb are positional arguments\n",
    "# 40 is assigned to numa\n",
    "# 60 is assigned to numb"
   ]
  },
  {
   "cell_type": "code",
   "execution_count": 7,
   "id": "77b433f7",
   "metadata": {},
   "outputs": [],
   "source": [
    "# note also that we had to pass them as a TUPLE which takes advantage of the positional \n",
    "# arguments"
   ]
  },
  {
   "cell_type": "code",
   "execution_count": 8,
   "id": "f85f3bd7",
   "metadata": {},
   "outputs": [],
   "source": [
    "# What is there are more parameters to be passed?"
   ]
  },
  {
   "cell_type": "code",
   "execution_count": 9,
   "id": "e024e3b7",
   "metadata": {},
   "outputs": [],
   "source": [
    "# One option is to have a placeholder parameter"
   ]
  },
  {
   "cell_type": "code",
   "execution_count": 10,
   "id": "e68e6f7f",
   "metadata": {},
   "outputs": [],
   "source": [
    "def myfunc(a,b,c=0):\n",
    "    # c= 0 is a placeholder\n",
    "    return sum((a,b,c)) * 0.05"
   ]
  },
  {
   "cell_type": "code",
   "execution_count": 11,
   "id": "4cd7c24e",
   "metadata": {},
   "outputs": [
    {
     "data": {
      "text/plain": [
       "0.15000000000000002"
      ]
     },
     "execution_count": 11,
     "metadata": {},
     "output_type": "execute_result"
    }
   ],
   "source": [
    "myfunc(1,2)"
   ]
  },
  {
   "cell_type": "code",
   "execution_count": 12,
   "id": "58959c9c",
   "metadata": {},
   "outputs": [
    {
     "data": {
      "text/plain": [
       "0.30000000000000004"
      ]
     },
     "execution_count": 12,
     "metadata": {},
     "output_type": "execute_result"
    }
   ],
   "source": [
    "myfunc(1,2,3)"
   ]
  },
  {
   "cell_type": "code",
   "execution_count": 13,
   "id": "797aabda",
   "metadata": {},
   "outputs": [
    {
     "ename": "TypeError",
     "evalue": "myfunc() takes from 2 to 3 positional arguments but 4 were given",
     "output_type": "error",
     "traceback": [
      "\u001b[0;31m---------------------------------------------------------------------------\u001b[0m",
      "\u001b[0;31mTypeError\u001b[0m                                 Traceback (most recent call last)",
      "Input \u001b[0;32mIn [13]\u001b[0m, in \u001b[0;36m<cell line: 1>\u001b[0;34m()\u001b[0m\n\u001b[0;32m----> 1\u001b[0m \u001b[43mmyfunc\u001b[49m\u001b[43m(\u001b[49m\u001b[38;5;241;43m1\u001b[39;49m\u001b[43m,\u001b[49m\u001b[38;5;241;43m2\u001b[39;49m\u001b[43m,\u001b[49m\u001b[38;5;241;43m3\u001b[39;49m\u001b[43m,\u001b[49m\u001b[38;5;241;43m4\u001b[39;49m\u001b[43m)\u001b[49m\n",
      "\u001b[0;31mTypeError\u001b[0m: myfunc() takes from 2 to 3 positional arguments but 4 were given"
     ]
    }
   ],
   "source": [
    "myfunc(1,2,3,4)"
   ]
  },
  {
   "cell_type": "code",
   "execution_count": 14,
   "id": "994c4329",
   "metadata": {},
   "outputs": [],
   "source": [
    "# you can see that the 4th parameter was not in the list"
   ]
  },
  {
   "cell_type": "code",
   "execution_count": 15,
   "id": "5c387019",
   "metadata": {},
   "outputs": [],
   "source": [
    "# this limit is what can be avoided with *args"
   ]
  },
  {
   "cell_type": "code",
   "execution_count": 21,
   "id": "c5a71364",
   "metadata": {},
   "outputs": [],
   "source": [
    "def myfunc(*args):\n",
    "    # *args allows the function to treat this as a tuple for parameters that are coming in\n",
    "    print(args)\n",
    "    return sum(args) * 0.05\n"
   ]
  },
  {
   "cell_type": "code",
   "execution_count": 22,
   "id": "827b76cb",
   "metadata": {},
   "outputs": [
    {
     "name": "stdout",
     "output_type": "stream",
     "text": [
      "(1, 2, 3, 4, 5)\n"
     ]
    },
    {
     "data": {
      "text/plain": [
       "0.75"
      ]
     },
     "execution_count": 22,
     "metadata": {},
     "output_type": "execute_result"
    }
   ],
   "source": [
    "myfunc(1,2,3,4,5)"
   ]
  },
  {
   "cell_type": "code",
   "execution_count": 23,
   "id": "ea8f706e",
   "metadata": {},
   "outputs": [
    {
     "name": "stdout",
     "output_type": "stream",
     "text": [
      "(100, 2, 300, 650, 1097)\n"
     ]
    },
    {
     "data": {
      "text/plain": [
       "107.45"
      ]
     },
     "execution_count": 23,
     "metadata": {},
     "output_type": "execute_result"
    }
   ],
   "source": [
    "myfunc(100,2,300,650, 1097)"
   ]
  },
  {
   "cell_type": "code",
   "execution_count": 24,
   "id": "7dddf739",
   "metadata": {},
   "outputs": [],
   "source": [
    "# notice that print(args) just returns a tuple"
   ]
  },
  {
   "cell_type": "code",
   "execution_count": 25,
   "id": "50101402",
   "metadata": {},
   "outputs": [],
   "source": [
    "# note the * format can be used with any keyword"
   ]
  },
  {
   "cell_type": "code",
   "execution_count": 26,
   "id": "6e57a2ad",
   "metadata": {},
   "outputs": [],
   "source": [
    "def myfunc2(*other):\n",
    "    return sum(other) * 0.05\n",
    "    print(other)"
   ]
  },
  {
   "cell_type": "code",
   "execution_count": 27,
   "id": "4028800d",
   "metadata": {},
   "outputs": [
    {
     "data": {
      "text/plain": [
       "0.30000000000000004"
      ]
     },
     "execution_count": 27,
     "metadata": {},
     "output_type": "execute_result"
    }
   ],
   "source": [
    "myfunc2(1,2,3)"
   ]
  },
  {
   "cell_type": "markdown",
   "id": "7a791b91",
   "metadata": {},
   "source": [
    "***"
   ]
  },
  {
   "cell_type": "code",
   "execution_count": 28,
   "id": "76e23691",
   "metadata": {},
   "outputs": [],
   "source": [
    "def myfunc2(*args):\n",
    "    for item in args:\n",
    "        print(item)"
   ]
  },
  {
   "cell_type": "code",
   "execution_count": 29,
   "id": "69dd84a5",
   "metadata": {},
   "outputs": [
    {
     "name": "stdout",
     "output_type": "stream",
     "text": [
      "4\n",
      "5\n",
      "6\n",
      "7\n",
      "1\n",
      "2\n"
     ]
    }
   ],
   "source": [
    "myfunc2(4,5,6,7,1,2)"
   ]
  },
  {
   "cell_type": "markdown",
   "id": "61da6ad2",
   "metadata": {},
   "source": [
    "***"
   ]
  },
  {
   "cell_type": "markdown",
   "id": "9dc97989",
   "metadata": {},
   "source": [
    "## **kwargs"
   ]
  },
  {
   "cell_type": "markdown",
   "id": "8f89b25c",
   "metadata": {},
   "source": [
    "<font color = red> **args returns a tuple"
   ]
  },
  {
   "cell_type": "markdown",
   "id": "e04ff922",
   "metadata": {},
   "source": [
    "<font color = red> **kwargs returns a dictionary"
   ]
  },
  {
   "cell_type": "code",
   "execution_count": 31,
   "id": "29018f8a",
   "metadata": {},
   "outputs": [],
   "source": [
    "# this is for key value pairs"
   ]
  },
  {
   "cell_type": "code",
   "execution_count": 36,
   "id": "37883091",
   "metadata": {},
   "outputs": [],
   "source": [
    "def myfunc3(**kwargs):\n",
    "    if 'fruit' in kwargs:\n",
    "        print('My fruit of choice is {}'.format(kwargs['fruit']))\n",
    "    else:\n",
    "        print('I did not find any fruit here')"
   ]
  },
  {
   "cell_type": "code",
   "execution_count": 37,
   "id": "1ed472df",
   "metadata": {},
   "outputs": [
    {
     "name": "stdout",
     "output_type": "stream",
     "text": [
      "My fruit of choice is apple\n"
     ]
    }
   ],
   "source": [
    "myfunc3(fruit = 'apple')"
   ]
  },
  {
   "cell_type": "code",
   "execution_count": 39,
   "id": "f6003ae0",
   "metadata": {},
   "outputs": [
    {
     "name": "stdout",
     "output_type": "stream",
     "text": [
      "My fruit of choice is apple\n"
     ]
    }
   ],
   "source": [
    "myfunc3(fruit = 'apple', veggie = 'lettuce')"
   ]
  },
  {
   "cell_type": "code",
   "execution_count": 40,
   "id": "b556b571",
   "metadata": {},
   "outputs": [],
   "source": [
    "# Note that Python isn't complaining despite the dictionary containing vegetable"
   ]
  },
  {
   "cell_type": "markdown",
   "id": "311ecc6c",
   "metadata": {},
   "source": [
    "***"
   ]
  },
  {
   "cell_type": "markdown",
   "id": "d216ee4f",
   "metadata": {},
   "source": [
    "<font color = red> An example with both *args and **kwargs"
   ]
  },
  {
   "cell_type": "code",
   "execution_count": 44,
   "id": "cb06ac36",
   "metadata": {},
   "outputs": [],
   "source": [
    "def myfunc4(*args, **kwargs):\n",
    "    print(args)\n",
    "    print(kwargs)\n",
    "    print('I would like {}{}'.format(args[0], kwargs['food']))"
   ]
  },
  {
   "cell_type": "code",
   "execution_count": 45,
   "id": "52f3642f",
   "metadata": {},
   "outputs": [
    {
     "name": "stdout",
     "output_type": "stream",
     "text": [
      "(10, 20, 30)\n",
      "{'fruit': 'orange', 'food': 'eggs', 'veggies': 'greens'}\n",
      "I would like 10eggs\n"
     ]
    }
   ],
   "source": [
    "myfunc4(10,20,30, fruit = 'orange', food = 'eggs', veggies = 'greens')"
   ]
  },
  {
   "cell_type": "code",
   "execution_count": 47,
   "id": "b33202fe",
   "metadata": {},
   "outputs": [
    {
     "ename": "SyntaxError",
     "evalue": "positional argument follows keyword argument (206565102.py, line 1)",
     "output_type": "error",
     "traceback": [
      "\u001b[0;36m  Input \u001b[0;32mIn [47]\u001b[0;36m\u001b[0m\n\u001b[0;31m    myfunc4(10,20,30, fruit = 'orange', food = 'eggs', veggies = 'greens', 100)\u001b[0m\n\u001b[0m                                                                              ^\u001b[0m\n\u001b[0;31mSyntaxError\u001b[0m\u001b[0;31m:\u001b[0m positional argument follows keyword argument\n"
     ]
    }
   ],
   "source": [
    "myfunc4(10,20,30, fruit = 'orange', food = 'eggs', veggies = 'greens', 100)\n",
    "# note that this will error because the positional argument sanctity is challenged"
   ]
  },
  {
   "cell_type": "markdown",
   "id": "25cd09d8",
   "metadata": {},
   "source": [
    "<font size = 6, color = red> This capability is really important when using external libraries"
   ]
  },
  {
   "cell_type": "code",
   "execution_count": null,
   "id": "59c0c0c9",
   "metadata": {},
   "outputs": [],
   "source": []
  }
 ],
 "metadata": {
  "kernelspec": {
   "display_name": "Python 3 (ipykernel)",
   "language": "python",
   "name": "python3"
  },
  "language_info": {
   "codemirror_mode": {
    "name": "ipython",
    "version": 3
   },
   "file_extension": ".py",
   "mimetype": "text/x-python",
   "name": "python",
   "nbconvert_exporter": "python",
   "pygments_lexer": "ipython3",
   "version": "3.9.12"
  }
 },
 "nbformat": 4,
 "nbformat_minor": 5
}
