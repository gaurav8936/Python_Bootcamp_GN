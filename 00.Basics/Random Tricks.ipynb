{
 "cells": [
  {
   "cell_type": "markdown",
   "id": "0d5e0039",
   "metadata": {},
   "source": [
    "# Random Tricks"
   ]
  },
  {
   "cell_type": "markdown",
   "id": "5e341c20",
   "metadata": {},
   "source": [
    "## How to Prevent Automatic Creation of DS_Store Files"
   ]
  },
  {
   "cell_type": "markdown",
   "id": "7d51ad0b",
   "metadata": {},
   "source": [
    "` Select Go > Utilities > Terminal.\n",
    "Type defaults write com.apple.desktopservices DSDontWriteNetworkStores true and press Enter. If you ever want to reverse this command, use the same command but change true to false. `"
   ]
  },
  {
   "cell_type": "markdown",
   "id": "8d9f8935",
   "metadata": {},
   "source": [
    "defaults write com.apple.desktopservices DSDontWriteNetworkStores true"
   ]
  },
  {
   "cell_type": "markdown",
   "id": "7cbca13a",
   "metadata": {},
   "source": [
    "## Adding Images"
   ]
  },
  {
   "cell_type": "markdown",
   "id": "bc4b0e93",
   "metadata": {},
   "source": [
    "![UC Berkeley Logo](https://logos-world.net/wp-content/uploads/2022/02/UC-Berkeley-Logo.png)\n"
   ]
  },
  {
   "cell_type": "markdown",
   "id": "c60c3980",
   "metadata": {},
   "source": [
    "![Image of Yaktocat](https://octodex.github.com/images/yaktocat.png)"
   ]
  },
  {
   "cell_type": "markdown",
   "id": "d9343ae6",
   "metadata": {},
   "source": [
    "![image](https://www.switchingtomac.com/wp-content/uploads/2021/07/11-what-is-a-ds-store-file-and-how-to-remove-it-enter-command.png)"
   ]
  },
  {
   "cell_type": "code",
   "execution_count": null,
   "id": "aa03d40d",
   "metadata": {},
   "outputs": [],
   "source": []
  }
 ],
 "metadata": {
  "kernelspec": {
   "display_name": "Python 3 (ipykernel)",
   "language": "python",
   "name": "python3"
  },
  "language_info": {
   "codemirror_mode": {
    "name": "ipython",
    "version": 3
   },
   "file_extension": ".py",
   "mimetype": "text/x-python",
   "name": "python",
   "nbconvert_exporter": "python",
   "pygments_lexer": "ipython3",
   "version": "3.9.12"
  }
 },
 "nbformat": 4,
 "nbformat_minor": 5
}
