{
 "cells": [
  {
   "cell_type": "markdown",
   "id": "74074709",
   "metadata": {},
   "source": [
    "# Markdown format only"
   ]
  },
  {
   "cell_type": "markdown",
   "id": "3534a7dd",
   "metadata": {},
   "source": [
    "## getting familar with markdown formats"
   ]
  },
  {
   "cell_type": "markdown",
   "id": "7d008021",
   "metadata": {},
   "source": [
    "**bold**"
   ]
  },
  {
   "cell_type": "markdown",
   "id": "932b422e",
   "metadata": {},
   "source": [
    "*italics*"
   ]
  },
  {
   "cell_type": "markdown",
   "id": "5aa23cb6",
   "metadata": {},
   "source": [
    "# Header 1"
   ]
  },
  {
   "cell_type": "markdown",
   "id": "bcc033d9",
   "metadata": {},
   "source": [
    "## Header 2"
   ]
  },
  {
   "cell_type": "markdown",
   "id": "5479da4d",
   "metadata": {},
   "source": [
    "## Header 3"
   ]
  },
  {
   "cell_type": "markdown",
   "id": "9ebf90f6",
   "metadata": {},
   "source": [
    "#### Header 4"
   ]
  },
  {
   "cell_type": "markdown",
   "id": "36e45f8f",
   "metadata": {},
   "source": [
    "* this is a bullet list\n",
    "* this is a bullet list\n",
    "* this is a bullet list"
   ]
  },
  {
   "cell_type": "markdown",
   "id": "a83f500e",
   "metadata": {},
   "source": [
    "1. this is a number list \n",
    "2. this is a number list\n",
    "3. this is a number list "
   ]
  },
  {
   "cell_type": "markdown",
   "id": "3d235715",
   "metadata": {},
   "source": [
    "` highlight code `"
   ]
  },
  {
   "cell_type": "markdown",
   "id": "0c4e37f2",
   "metadata": {},
   "source": [
    "***\n",
    "testing underlining\n",
    "***"
   ]
  },
  {
   "cell_type": "markdown",
   "id": "15057474",
   "metadata": {},
   "source": [
    "Testing hyperlinks by using this approach <a href=\"http://www.news.google.com\" target=\"_blank\">this link</a>."
   ]
  },
  {
   "cell_type": "markdown",
   "id": "9b61286c",
   "metadata": {},
   "source": [
    "### render images"
   ]
  },
  {
   "cell_type": "code",
   "execution_count": 1,
   "id": "48604f04",
   "metadata": {},
   "outputs": [
    {
     "name": "stdout",
     "output_type": "stream",
     "text": [
      "zsh:1: bad pattern: [Markdown\r\n"
     ]
    }
   ],
   "source": [
    "![Markdown Logo is here.](https://www.fullstackpython.com/img/logos/markdown.png)"
   ]
  },
  {
   "cell_type": "markdown",
   "id": "cb36d8a2",
   "metadata": {},
   "source": [
    "The alt text is the alternative text that appears if an image fails to load on webpage; it is also used by screen-reading tools to identify the image to users of the screen-reading tools."
   ]
  },
  {
   "cell_type": "markdown",
   "id": "1a3a070e",
   "metadata": {},
   "source": [
    "### Local Images Using Relative Computer Paths"
   ]
  },
  {
   "cell_type": "markdown",
   "id": "01175474",
   "metadata": {},
   "source": [
    "You can also add images to a Markdown cell using relative paths to files in your directory structure using:\n",
    "\n",
    "![alt text here](path-to-image-here)\n",
    "\n",
    "For relative paths (images stored on your computer) to work in Jupyter Notebook, you need to place the image in a location on your computer that is RELATIVE to your .ipynb file. This is where good file management becomes extremely important.\n",
    "\n",
    "For a simple example of using relative paths, imagine that you have a subdirectory named images in your earth-analytics directory (i.e. earth-analytics/images/).\n",
    "\n",
    "If your Jupyter Notebook file (.ipynb) is located in root of this directory (i.e. earth-analytics/notebook.ipynb), and all images that you want to include in your report are located in the images subdirectory (i.e. earth-analytics/images/), then the path that you would use for each image is:\n",
    "\n",
    "images/image-name.png\n",
    "\n",
    "If all of your images are in the images subdirectory, then you will be able to easily find them. This also follows good file management practices because all of the images that you use in your report are contained within your project directory.\n"
   ]
  },
  {
   "cell_type": "code",
   "execution_count": 8,
   "id": "569f235d",
   "metadata": {},
   "outputs": [
    {
     "name": "stdout",
     "output_type": "stream",
     "text": [
      "zsh:1: bad pattern: [alt\r\n"
     ]
    }
   ],
   "source": [
    "![alt text here](https://www.fullstackpython.com/img/logos/markdown.png)"
   ]
  },
  {
   "cell_type": "code",
   "execution_count": null,
   "id": "db0023ba",
   "metadata": {},
   "outputs": [],
   "source": []
  }
 ],
 "metadata": {
  "kernelspec": {
   "display_name": "Python 3 (ipykernel)",
   "language": "python",
   "name": "python3"
  },
  "language_info": {
   "codemirror_mode": {
    "name": "ipython",
    "version": 3
   },
   "file_extension": ".py",
   "mimetype": "text/x-python",
   "name": "python",
   "nbconvert_exporter": "python",
   "pygments_lexer": "ipython3",
   "version": "3.9.12"
  }
 },
 "nbformat": 4,
 "nbformat_minor": 5
}
