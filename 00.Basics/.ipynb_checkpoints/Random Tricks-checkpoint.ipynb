{
 "cells": [
  {
   "cell_type": "markdown",
   "id": "0d5e0039",
   "metadata": {},
   "source": [
    "# Basic Git Commands"
   ]
  },
  {
   "cell_type": "markdown",
   "id": "5e341c20",
   "metadata": {},
   "source": [
    "git version\n",
    "   "
   ]
  },
  {
   "cell_type": "markdown",
   "id": "7d51ad0b",
   "metadata": {},
   "source": [
    "git config --global user.name \"Gaurav Narasimhan\""
   ]
  },
  {
   "cell_type": "markdown",
   "id": "17636b64",
   "metadata": {},
   "source": [
    "git config --global user.email \"gaurav.narasimhan@berkeley.edu\""
   ]
  },
  {
   "cell_type": "markdown",
   "id": "c558bba0",
   "metadata": {},
   "source": [
    "git config --global --list"
   ]
  },
  {
   "cell_type": "markdown",
   "id": "a038ed69",
   "metadata": {},
   "source": [
    "git clone https://github.com/gaurav8936/github-demo.git"
   ]
  },
  {
   "cell_type": "markdown",
   "id": "507edd61",
   "metadata": {},
   "source": [
    "git status"
   ]
  },
  {
   "cell_type": "markdown",
   "id": "21e7d763",
   "metadata": {},
   "source": [
    "git add start.txt"
   ]
  },
  {
   "cell_type": "markdown",
   "id": "93b52fe7",
   "metadata": {},
   "source": [
    "git commit -m \"adding start.txt file\""
   ]
  },
  {
   "cell_type": "markdown",
   "id": "db0bc8f1",
   "metadata": {},
   "source": [
    "git push origin main"
   ]
  },
  {
   "cell_type": "markdown",
   "id": "6d9ca27e",
   "metadata": {},
   "source": [
    "git pull"
   ]
  },
  {
   "cell_type": "markdown",
   "id": "bd81b0fa",
   "metadata": {},
   "source": [
    "Git checkout dev"
   ]
  },
  {
   "cell_type": "markdown",
   "id": "502def58",
   "metadata": {},
   "source": [
    "Git checkout -b stage —— this is a new branch"
   ]
  },
  {
   "cell_type": "markdown",
   "id": "04b54e1f",
   "metadata": {},
   "source": [
    "Git push origin stage\n"
   ]
  },
  {
   "cell_type": "markdown",
   "id": "7e7a92ab",
   "metadata": {},
   "source": [
    "Git diff main dev"
   ]
  },
  {
   "cell_type": "markdown",
   "id": "2f2c380e",
   "metadata": {},
   "source": [
    "git config pull.rebase false"
   ]
  },
  {
   "cell_type": "markdown",
   "id": "04d4687a",
   "metadata": {},
   "source": [
    "git remote add origin <server>"
   ]
  },
  {
   "cell_type": "markdown",
   "id": "036a9ac0",
   "metadata": {},
   "source": [
    "git remote -v"
   ]
  },
  {
   "cell_type": "markdown",
   "id": "7573b691",
   "metadata": {},
   "source": [
    ":q! (Quit without saving)"
   ]
  },
  {
   "cell_type": "markdown",
   "id": "a5ff7354",
   "metadata": {},
   "source": [
    ":w (only save)"
   ]
  },
  {
   "cell_type": "markdown",
   "id": "37015c6e",
   "metadata": {},
   "source": [
    "` process to initialize git at a new location and connect to origin `"
   ]
  },
  {
   "cell_type": "markdown",
   "id": "dbd373e7",
   "metadata": {},
   "source": [
    ":x (save and exit)"
   ]
  },
  {
   "cell_type": "markdown",
   "id": "30b0738e",
   "metadata": {},
   "source": [
    "* git init\n",
    "* git remote add origin https://github.com/gaurav8936/Python_Bootcamp_GN.git"
   ]
  },
  {
   "cell_type": "markdown",
   "id": "1688f459",
   "metadata": {},
   "source": [
    "` Process to get out of quote> in mac terminal`"
   ]
  },
  {
   "cell_type": "markdown",
   "id": "16cc9fa3",
   "metadata": {},
   "source": [
    "it means that you've entered something that leads the shell to believe the command is not complete, and you need to enter more text. A \"\\\" character is most likely. Either finish your command or use Ctrl-C to break out of it. It looks like the last quote may be \"smart\" when it should be straight"
   ]
  },
  {
   "cell_type": "code",
   "execution_count": null,
   "id": "1b36ffad",
   "metadata": {},
   "outputs": [],
   "source": []
  }
 ],
 "metadata": {
  "kernelspec": {
   "display_name": "Python 3 (ipykernel)",
   "language": "python",
   "name": "python3"
  },
  "language_info": {
   "codemirror_mode": {
    "name": "ipython",
    "version": 3
   },
   "file_extension": ".py",
   "mimetype": "text/x-python",
   "name": "python",
   "nbconvert_exporter": "python",
   "pygments_lexer": "ipython3",
   "version": "3.9.12"
  }
 },
 "nbformat": 4,
 "nbformat_minor": 5
}
