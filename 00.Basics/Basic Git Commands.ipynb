{
 "cells": [
  {
   "cell_type": "markdown",
   "id": "0d5e0039",
   "metadata": {},
   "source": [
    "# Basic Git Commands"
   ]
  },
  {
   "cell_type": "markdown",
   "id": "5e341c20",
   "metadata": {},
   "source": [
    "git version\n",
    "   "
   ]
  },
  {
   "cell_type": "markdown",
   "id": "7d51ad0b",
   "metadata": {},
   "source": [
    "git config --global user.name \"Gaurav Narasimhan\""
   ]
  },
  {
   "cell_type": "markdown",
   "id": "17636b64",
   "metadata": {},
   "source": [
    "git config --global user.email \"gaurav.narasimhan@berkeley.edu\""
   ]
  },
  {
   "cell_type": "markdown",
   "id": "c558bba0",
   "metadata": {},
   "source": [
    "git config --global --list"
   ]
  },
  {
   "cell_type": "markdown",
   "id": "a038ed69",
   "metadata": {},
   "source": [
    "git clone https://github.com/gaurav8936/github-demo.git"
   ]
  },
  {
   "cell_type": "markdown",
   "id": "507edd61",
   "metadata": {},
   "source": [
    "git status"
   ]
  },
  {
   "cell_type": "markdown",
   "id": "21e7d763",
   "metadata": {},
   "source": [
    "git add start.txt"
   ]
  },
  {
   "cell_type": "markdown",
   "id": "93b52fe7",
   "metadata": {},
   "source": [
    "git commit -m \"adding start.txt file\""
   ]
  },
  {
   "cell_type": "markdown",
   "id": "db0bc8f1",
   "metadata": {},
   "source": [
    "git push origin main"
   ]
  },
  {
   "cell_type": "markdown",
   "id": "6d9ca27e",
   "metadata": {},
   "source": [
    "git pull"
   ]
  },
  {
   "cell_type": "markdown",
   "id": "bd81b0fa",
   "metadata": {},
   "source": [
    "Git checkout dev"
   ]
  },
  {
   "cell_type": "markdown",
   "id": "502def58",
   "metadata": {},
   "source": [
    "Git checkout -b stage —— this is a new branch"
   ]
  },
  {
   "cell_type": "markdown",
   "id": "04b54e1f",
   "metadata": {},
   "source": [
    "Git push origin stage\n"
   ]
  },
  {
   "cell_type": "markdown",
   "id": "7e7a92ab",
   "metadata": {},
   "source": [
    "Git diff main dev"
   ]
  },
  {
   "cell_type": "markdown",
   "id": "2f2c380e",
   "metadata": {},
   "source": [
    "git config pull.rebase false"
   ]
  },
  {
   "cell_type": "markdown",
   "id": "04d4687a",
   "metadata": {},
   "source": [
    "git remote add origin <server>"
   ]
  },
  {
   "cell_type": "markdown",
   "id": "036a9ac0",
   "metadata": {},
   "source": [
    "git remote -v"
   ]
  },
  {
   "cell_type": "markdown",
   "id": "7573b691",
   "metadata": {},
   "source": [
    ":q! (Quit without saving)"
   ]
  },
  {
   "cell_type": "markdown",
   "id": "a5ff7354",
   "metadata": {},
   "source": [
    ":w (only save)"
   ]
  },
  {
   "cell_type": "markdown",
   "id": "96d40472",
   "metadata": {},
   "source": [
    "` process to initialize git at a new location and connect to origin `"
   ]
  },
  {
   "cell_type": "markdown",
   "id": "dbd373e7",
   "metadata": {},
   "source": [
    ":x (save and exit)"
   ]
  },
  {
   "cell_type": "markdown",
   "id": "30b0738e",
   "metadata": {},
   "source": [
    "* git init\n",
    "* git remote add origin https://github.com/gaurav8936/Python_Bootcamp_GN.git"
   ]
  },
  {
   "cell_type": "markdown",
   "id": "1688f459",
   "metadata": {},
   "source": [
    "` Process to get out of quote> in mac terminal`"
   ]
  },
  {
   "cell_type": "markdown",
   "id": "97470684",
   "metadata": {},
   "source": [
    "it means that you've entered something that leads the shell to believe the command is not complete, and you need to enter more text. A \"\\\" character is most likely. Either finish your command or use Ctrl-C to break out of it. It looks like the last quote may be \"smart\" when it should be straight"
   ]
  },
  {
   "cell_type": "markdown",
   "id": "dd998fb4",
   "metadata": {},
   "source": [
    "## Undo local changes"
   ]
  },
  {
   "cell_type": "markdown",
   "id": "79cb8f86",
   "metadata": {},
   "source": [
    "If you mess up, you can replace the changes in your working tree with the last content in head:\n",
    "Changes already added to the index, as well as new files, will be kept."
   ]
  },
  {
   "cell_type": "markdown",
   "id": "053dc884",
   "metadata": {},
   "source": [
    "git checkout -- <filename>"
   ]
  },
  {
   "cell_type": "markdown",
   "id": "02c63c57",
   "metadata": {},
   "source": [
    "Instead, to drop all your local changes and commits, fetch the latest history from the server and point your local master branch at it, do this:"
   ]
  },
  {
   "cell_type": "markdown",
   "id": "1e39211c",
   "metadata": {},
   "source": [
    "` git fetch origin `\n",
    "\n",
    "` git reset --hard origin/master`"
   ]
  },
  {
   "cell_type": "markdown",
   "id": "c3f0e069",
   "metadata": {},
   "source": [
    "` git pull --rebase origin master `"
   ]
  },
  {
   "cell_type": "markdown",
   "id": "76c33b93",
   "metadata": {},
   "source": [
    "## Restore Changes"
   ]
  },
  {
   "cell_type": "markdown",
   "id": "0f0ec538",
   "metadata": {},
   "source": [
    "Changes that haven't been committed to the local repository are called \"local\" changes in Git. They exist in your Working Copy, but you haven't wrapped them in a commit, yet.\n",
    "\n",
    "If you want to discard this type of changes, you can use the git restore command:"
   ]
  },
  {
   "cell_type": "markdown",
   "id": "37140299",
   "metadata": {},
   "source": [
    "` git restore index.html `"
   ]
  },
  {
   "cell_type": "markdown",
   "id": "dc2ad87c",
   "metadata": {},
   "source": [
    "## Removing untracked files (like .DS_Store)"
   ]
  },
  {
   "cell_type": "markdown",
   "id": "2f7b6853",
   "metadata": {},
   "source": [
    "git clean -f"
   ]
  },
  {
   "cell_type": "markdown",
   "id": "73b9a83d",
   "metadata": {},
   "source": [
    "git clean -f folderpath"
   ]
  },
  {
   "cell_type": "markdown",
   "id": "95838d83",
   "metadata": {},
   "source": [
    "## GIT Stages"
   ]
  },
  {
   "cell_type": "markdown",
   "id": "1fbbbd33",
   "metadata": {},
   "source": [
    "#To brief, I only know there are 3 stages in git untracked, staged, committed#"
   ]
  },
  {
   "cell_type": "markdown",
   "id": "8513603d",
   "metadata": {},
   "source": [
    "## Adding modified files to stage (when error 'Changes not staged for commit'"
   ]
  },
  {
   "cell_type": "markdown",
   "id": "e2f5210a",
   "metadata": {},
   "source": [
    "**git add -u :/    adds all modified file changes to the stage**"
   ]
  },
  {
   "cell_type": "markdown",
   "id": "1de23fba",
   "metadata": {},
   "source": [
    "**git add * :/ adds modified and any new files (that's not gitignore'ed) to the stage**"
   ]
  },
  {
   "cell_type": "markdown",
   "id": "a03c3909",
   "metadata": {},
   "source": [
    "## When getting error 'modified new commits\""
   ]
  },
  {
   "cell_type": "markdown",
   "id": "746f474f",
   "metadata": {},
   "source": [
    "\n",
    "` git diff `"
   ]
  },
  {
   "cell_type": "markdown",
   "id": "283e8016",
   "metadata": {},
   "source": [
    "\n",
    "` git add 99.Archive/github-demo `"
   ]
  },
  {
   "cell_type": "code",
   "execution_count": null,
   "id": "3841b489",
   "metadata": {},
   "outputs": [],
   "source": []
  }
 ],
 "metadata": {
  "kernelspec": {
   "display_name": "Python 3 (ipykernel)",
   "language": "python",
   "name": "python3"
  },
  "language_info": {
   "codemirror_mode": {
    "name": "ipython",
    "version": 3
   },
   "file_extension": ".py",
   "mimetype": "text/x-python",
   "name": "python",
   "nbconvert_exporter": "python",
   "pygments_lexer": "ipython3",
   "version": "3.9.12"
  }
 },
 "nbformat": 4,
 "nbformat_minor": 5
}
