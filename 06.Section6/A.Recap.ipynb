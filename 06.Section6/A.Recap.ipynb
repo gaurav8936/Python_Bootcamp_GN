{
 "cells": [
  {
   "cell_type": "markdown",
   "id": "a981f555",
   "metadata": {},
   "source": [
    "<font size = 8, color = teal> Recap"
   ]
  },
  {
   "cell_type": "markdown",
   "id": "702fbddd",
   "metadata": {},
   "source": [
    "<font size = 6, color = blue> Methods (are built in functions)"
   ]
  },
  {
   "cell_type": "code",
   "execution_count": 1,
   "id": "ea32f6c2",
   "metadata": {},
   "outputs": [],
   "source": [
    "mylist1 = [1,2,3,4,5]"
   ]
  },
  {
   "cell_type": "markdown",
   "id": "4afbc3a1",
   "metadata": {},
   "source": [
    "### Append"
   ]
  },
  {
   "cell_type": "code",
   "execution_count": 2,
   "id": "0f0b5bc6",
   "metadata": {},
   "outputs": [],
   "source": [
    "mylist1.append(6)"
   ]
  },
  {
   "cell_type": "code",
   "execution_count": 3,
   "id": "37473935",
   "metadata": {},
   "outputs": [
    {
     "data": {
      "text/plain": [
       "[1, 2, 3, 4, 5, 6]"
      ]
     },
     "execution_count": 3,
     "metadata": {},
     "output_type": "execute_result"
    }
   ],
   "source": [
    "mylist1"
   ]
  },
  {
   "cell_type": "markdown",
   "id": "a9a98a6d",
   "metadata": {},
   "source": [
    "### Pop"
   ]
  },
  {
   "cell_type": "code",
   "execution_count": 11,
   "id": "f5f046e0",
   "metadata": {},
   "outputs": [
    {
     "data": {
      "text/plain": [
       "5"
      ]
     },
     "execution_count": 11,
     "metadata": {},
     "output_type": "execute_result"
    }
   ],
   "source": [
    "mylist1.pop()"
   ]
  },
  {
   "cell_type": "code",
   "execution_count": 5,
   "id": "96a743da",
   "metadata": {},
   "outputs": [
    {
     "data": {
      "text/plain": [
       "[1, 2, 3, 4, 5]"
      ]
     },
     "execution_count": 5,
     "metadata": {},
     "output_type": "execute_result"
    }
   ],
   "source": [
    "mylist1"
   ]
  },
  {
   "cell_type": "code",
   "execution_count": 6,
   "id": "b44232f1",
   "metadata": {},
   "outputs": [
    {
     "name": "stdout",
     "output_type": "stream",
     "text": [
      "Help on built-in function clear:\n",
      "\n",
      "clear() method of builtins.list instance\n",
      "    Remove all items from list.\n",
      "\n"
     ]
    }
   ],
   "source": [
    "help(mylist1.clear)"
   ]
  },
  {
   "cell_type": "markdown",
   "id": "bd4e68aa",
   "metadata": {},
   "source": [
    "### Clear"
   ]
  },
  {
   "cell_type": "code",
   "execution_count": 8,
   "id": "55ad6fbe",
   "metadata": {},
   "outputs": [],
   "source": [
    "mylist1.clear()"
   ]
  },
  {
   "cell_type": "code",
   "execution_count": 9,
   "id": "d0d4ff96",
   "metadata": {},
   "outputs": [
    {
     "data": {
      "text/plain": [
       "[]"
      ]
     },
     "execution_count": 9,
     "metadata": {},
     "output_type": "execute_result"
    }
   ],
   "source": [
    "mylist1"
   ]
  },
  {
   "cell_type": "code",
   "execution_count": 16,
   "id": "f78683ea",
   "metadata": {},
   "outputs": [],
   "source": [
    "mylist1 = [1,2,3,4,5]"
   ]
  },
  {
   "cell_type": "markdown",
   "id": "96570c78",
   "metadata": {},
   "source": [
    "### Copy"
   ]
  },
  {
   "cell_type": "code",
   "execution_count": 12,
   "id": "f338ebae",
   "metadata": {},
   "outputs": [
    {
     "name": "stdout",
     "output_type": "stream",
     "text": [
      "Help on built-in function copy:\n",
      "\n",
      "copy() method of builtins.list instance\n",
      "    Return a shallow copy of the list.\n",
      "\n"
     ]
    }
   ],
   "source": [
    "help(mylist1.copy)"
   ]
  },
  {
   "cell_type": "code",
   "execution_count": 17,
   "id": "625f59c8",
   "metadata": {},
   "outputs": [
    {
     "data": {
      "text/plain": [
       "[1, 2, 3, 4, 5]"
      ]
     },
     "execution_count": 17,
     "metadata": {},
     "output_type": "execute_result"
    }
   ],
   "source": [
    "# mylist2 = []\n",
    "mylist1.copy()"
   ]
  },
  {
   "cell_type": "code",
   "execution_count": 18,
   "id": "c6faf58e",
   "metadata": {},
   "outputs": [],
   "source": [
    "mylist2 = mylist1.copy()"
   ]
  },
  {
   "cell_type": "code",
   "execution_count": 19,
   "id": "fa781dfb",
   "metadata": {},
   "outputs": [
    {
     "data": {
      "text/plain": [
       "[1, 2, 3, 4, 5]"
      ]
     },
     "execution_count": 19,
     "metadata": {},
     "output_type": "execute_result"
    }
   ],
   "source": [
    "mylist2"
   ]
  },
  {
   "cell_type": "markdown",
   "id": "edf890a9",
   "metadata": {},
   "source": [
    "### Count"
   ]
  },
  {
   "cell_type": "code",
   "execution_count": 23,
   "id": "fd715ab7",
   "metadata": {},
   "outputs": [],
   "source": [
    "mylist2 = [1,1,1,2,2,3,3,3,3,4,5,6]"
   ]
  },
  {
   "cell_type": "code",
   "execution_count": 20,
   "id": "2fbfb4ad",
   "metadata": {},
   "outputs": [
    {
     "name": "stdout",
     "output_type": "stream",
     "text": [
      "Help on built-in function count:\n",
      "\n",
      "count(value, /) method of builtins.list instance\n",
      "    Return number of occurrences of value.\n",
      "\n"
     ]
    }
   ],
   "source": [
    "help(mylist1.count)"
   ]
  },
  {
   "cell_type": "code",
   "execution_count": 26,
   "id": "badb5489",
   "metadata": {},
   "outputs": [
    {
     "data": {
      "text/plain": [
       "3"
      ]
     },
     "execution_count": 26,
     "metadata": {},
     "output_type": "execute_result"
    }
   ],
   "source": [
    "mylist2.count(1)"
   ]
  },
  {
   "cell_type": "markdown",
   "id": "7d8d1b7c",
   "metadata": {},
   "source": [
    "### Extend"
   ]
  },
  {
   "cell_type": "code",
   "execution_count": 27,
   "id": "5e3b3df0",
   "metadata": {},
   "outputs": [
    {
     "name": "stdout",
     "output_type": "stream",
     "text": [
      "Help on built-in function extend:\n",
      "\n",
      "extend(iterable, /) method of builtins.list instance\n",
      "    Extend list by appending elements from the iterable.\n",
      "\n"
     ]
    }
   ],
   "source": [
    "help(mylist2.extend)"
   ]
  },
  {
   "cell_type": "code",
   "execution_count": 28,
   "id": "bd0c1dff",
   "metadata": {},
   "outputs": [],
   "source": [
    "mylist1.extend(mylist2)"
   ]
  },
  {
   "cell_type": "code",
   "execution_count": 29,
   "id": "436b9876",
   "metadata": {},
   "outputs": [
    {
     "data": {
      "text/plain": [
       "[1, 2, 3, 4, 5, 1, 1, 1, 2, 2, 3, 3, 3, 3, 4, 5, 6]"
      ]
     },
     "execution_count": 29,
     "metadata": {},
     "output_type": "execute_result"
    }
   ],
   "source": [
    "mylist1"
   ]
  },
  {
   "cell_type": "markdown",
   "id": "741c99a3",
   "metadata": {},
   "source": [
    "### Index"
   ]
  },
  {
   "cell_type": "code",
   "execution_count": 30,
   "id": "ccdc71d0",
   "metadata": {},
   "outputs": [
    {
     "name": "stdout",
     "output_type": "stream",
     "text": [
      "Help on built-in function index:\n",
      "\n",
      "index(value, start=0, stop=9223372036854775807, /) method of builtins.list instance\n",
      "    Return first index of value.\n",
      "    \n",
      "    Raises ValueError if the value is not present.\n",
      "\n"
     ]
    }
   ],
   "source": [
    "help(mylist1.index)"
   ]
  },
  {
   "cell_type": "code",
   "execution_count": 31,
   "id": "2674e174",
   "metadata": {},
   "outputs": [],
   "source": [
    "myindex = mylist1.index(6)"
   ]
  },
  {
   "cell_type": "code",
   "execution_count": 32,
   "id": "414a341f",
   "metadata": {},
   "outputs": [
    {
     "data": {
      "text/plain": [
       "16"
      ]
     },
     "execution_count": 32,
     "metadata": {},
     "output_type": "execute_result"
    }
   ],
   "source": [
    "myindex"
   ]
  },
  {
   "cell_type": "markdown",
   "id": "2836acd0",
   "metadata": {},
   "source": [
    "### Insert"
   ]
  },
  {
   "cell_type": "code",
   "execution_count": 38,
   "id": "ead271a1",
   "metadata": {},
   "outputs": [
    {
     "name": "stdout",
     "output_type": "stream",
     "text": [
      "Help on built-in function insert:\n",
      "\n",
      "insert(index, object, /) method of builtins.list instance\n",
      "    Insert object before index.\n",
      "\n"
     ]
    }
   ],
   "source": [
    "help(mylist1.insert)"
   ]
  },
  {
   "cell_type": "code",
   "execution_count": 36,
   "id": "51f760fb",
   "metadata": {},
   "outputs": [],
   "source": [
    "mylist1.insert(4,75)"
   ]
  },
  {
   "cell_type": "code",
   "execution_count": 37,
   "id": "af04e14a",
   "metadata": {},
   "outputs": [
    {
     "data": {
      "text/plain": [
       "[1, 2, 3, 4, 75, 5, 1, 1, 1, 2, 2, 3, 3, 3, 3, 4, 5, 6, 4]"
      ]
     },
     "execution_count": 37,
     "metadata": {},
     "output_type": "execute_result"
    }
   ],
   "source": [
    "mylist1"
   ]
  },
  {
   "cell_type": "markdown",
   "id": "5fc93c8d",
   "metadata": {},
   "source": [
    "### Remove"
   ]
  },
  {
   "cell_type": "code",
   "execution_count": 39,
   "id": "7b7bd41a",
   "metadata": {},
   "outputs": [
    {
     "name": "stdout",
     "output_type": "stream",
     "text": [
      "Help on built-in function remove:\n",
      "\n",
      "remove(value, /) method of builtins.list instance\n",
      "    Remove first occurrence of value.\n",
      "    \n",
      "    Raises ValueError if the value is not present.\n",
      "\n"
     ]
    }
   ],
   "source": [
    "help(mylist1.remove)"
   ]
  },
  {
   "cell_type": "code",
   "execution_count": 40,
   "id": "45f9644e",
   "metadata": {},
   "outputs": [],
   "source": [
    "mylist1.remove(75)"
   ]
  },
  {
   "cell_type": "code",
   "execution_count": 41,
   "id": "10f67a84",
   "metadata": {},
   "outputs": [
    {
     "data": {
      "text/plain": [
       "[1, 2, 3, 4, 5, 1, 1, 1, 2, 2, 3, 3, 3, 3, 4, 5, 6, 4]"
      ]
     },
     "execution_count": 41,
     "metadata": {},
     "output_type": "execute_result"
    }
   ],
   "source": [
    "mylist1"
   ]
  },
  {
   "cell_type": "code",
   "execution_count": 42,
   "id": "716e314f",
   "metadata": {},
   "outputs": [
    {
     "name": "stdout",
     "output_type": "stream",
     "text": [
      "Help on built-in function reverse:\n",
      "\n",
      "reverse() method of builtins.list instance\n",
      "    Reverse *IN PLACE*.\n",
      "\n"
     ]
    }
   ],
   "source": [
    "help(mylist1.reverse)"
   ]
  },
  {
   "cell_type": "markdown",
   "id": "46d8707e",
   "metadata": {},
   "source": [
    "### Reverse"
   ]
  },
  {
   "cell_type": "code",
   "execution_count": 43,
   "id": "83bf19d5",
   "metadata": {},
   "outputs": [],
   "source": [
    "mylist1.reverse()"
   ]
  },
  {
   "cell_type": "code",
   "execution_count": 44,
   "id": "162bf10e",
   "metadata": {},
   "outputs": [
    {
     "data": {
      "text/plain": [
       "[4, 6, 5, 4, 3, 3, 3, 3, 2, 2, 1, 1, 1, 5, 4, 3, 2, 1]"
      ]
     },
     "execution_count": 44,
     "metadata": {},
     "output_type": "execute_result"
    }
   ],
   "source": [
    "mylist1"
   ]
  },
  {
   "cell_type": "markdown",
   "id": "36d3e42c",
   "metadata": {},
   "source": [
    "### Sort"
   ]
  },
  {
   "cell_type": "code",
   "execution_count": 45,
   "id": "4f340214",
   "metadata": {},
   "outputs": [
    {
     "name": "stdout",
     "output_type": "stream",
     "text": [
      "Help on built-in function sort:\n",
      "\n",
      "sort(*, key=None, reverse=False) method of builtins.list instance\n",
      "    Sort the list in ascending order and return None.\n",
      "    \n",
      "    The sort is in-place (i.e. the list itself is modified) and stable (i.e. the\n",
      "    order of two equal elements is maintained).\n",
      "    \n",
      "    If a key function is given, apply it once to each list item and sort them,\n",
      "    ascending or descending, according to their function values.\n",
      "    \n",
      "    The reverse flag can be set to sort in descending order.\n",
      "\n"
     ]
    }
   ],
   "source": [
    "help(mylist1.sort)"
   ]
  },
  {
   "cell_type": "code",
   "execution_count": 46,
   "id": "610a5b2f",
   "metadata": {},
   "outputs": [],
   "source": [
    "mylist1.sort()"
   ]
  },
  {
   "cell_type": "code",
   "execution_count": 47,
   "id": "f769ffe6",
   "metadata": {},
   "outputs": [
    {
     "data": {
      "text/plain": [
       "[1, 1, 1, 1, 2, 2, 2, 3, 3, 3, 3, 3, 4, 4, 4, 5, 5, 6]"
      ]
     },
     "execution_count": 47,
     "metadata": {},
     "output_type": "execute_result"
    }
   ],
   "source": [
    "mylist1"
   ]
  },
  {
   "cell_type": "markdown",
   "id": "25e97f85",
   "metadata": {},
   "source": [
    "***"
   ]
  },
  {
   "cell_type": "markdown",
   "id": "a7475dec",
   "metadata": {},
   "source": [
    "<font size = 6, color = blue> Functions"
   ]
  },
  {
   "cell_type": "code",
   "execution_count": 48,
   "id": "4ed835af",
   "metadata": {},
   "outputs": [],
   "source": [
    "def say_hello():\n",
    "    print(\"Hello\")"
   ]
  },
  {
   "cell_type": "code",
   "execution_count": 49,
   "id": "2c1b8f99",
   "metadata": {},
   "outputs": [
    {
     "name": "stdout",
     "output_type": "stream",
     "text": [
      "Hello\n"
     ]
    }
   ],
   "source": [
    "say_hello()"
   ]
  },
  {
   "cell_type": "code",
   "execution_count": 51,
   "id": "c6504ada",
   "metadata": {},
   "outputs": [],
   "source": [
    "def say_hello(name):\n",
    "    print(f'Hello {name}')"
   ]
  },
  {
   "cell_type": "code",
   "execution_count": 53,
   "id": "1b9044b5",
   "metadata": {},
   "outputs": [
    {
     "name": "stdout",
     "output_type": "stream",
     "text": [
      "Hello Ziba\n"
     ]
    }
   ],
   "source": [
    "say_hello('Ziba')"
   ]
  },
  {
   "cell_type": "code",
   "execution_count": 56,
   "id": "b7f3959a",
   "metadata": {},
   "outputs": [],
   "source": [
    "def add_sum(num1, num2):\n",
    "#    return num1 + num2\n",
    "    return (num1 + num2)"
   ]
  },
  {
   "cell_type": "code",
   "execution_count": 57,
   "id": "b4001df6",
   "metadata": {},
   "outputs": [
    {
     "data": {
      "text/plain": [
       "3"
      ]
     },
     "execution_count": 57,
     "metadata": {},
     "output_type": "execute_result"
    }
   ],
   "source": [
    "add_sum(1,2)"
   ]
  },
  {
   "cell_type": "code",
   "execution_count": 58,
   "id": "5ecb61e4",
   "metadata": {},
   "outputs": [
    {
     "data": {
      "text/plain": [
       "30"
      ]
     },
     "execution_count": 58,
     "metadata": {},
     "output_type": "execute_result"
    }
   ],
   "source": [
    "result = add_sum(10,20)\n",
    "result"
   ]
  },
  {
   "cell_type": "code",
   "execution_count": 72,
   "id": "b76124a2",
   "metadata": {},
   "outputs": [],
   "source": [
    "# testing how print is handled\n",
    "def add_sum2(num1, num2):\n",
    "    '''\n",
    "    hello there # testing blocking code\n",
    "    how are you\n",
    "    '''\n",
    "#    print(num1 + num2)\n",
    "    result1 = print(num1 + num2)"
   ]
  },
  {
   "cell_type": "code",
   "execution_count": 73,
   "id": "6996c723",
   "metadata": {},
   "outputs": [
    {
     "name": "stdout",
     "output_type": "stream",
     "text": [
      "30\n"
     ]
    }
   ],
   "source": [
    "add_sum2(10,20)"
   ]
  },
  {
   "cell_type": "code",
   "execution_count": 70,
   "id": "3ce2b723",
   "metadata": {},
   "outputs": [],
   "source": [
    "# testing how return is handled when compared with print\n",
    "\n",
    "'''\n",
    "hello again\n",
    "there is nothing else\n",
    "to matter here\n",
    "'''\n",
    "def add_sum3 (num1, num2):\n",
    "    return (num1 + num2)"
   ]
  },
  {
   "cell_type": "code",
   "execution_count": 71,
   "id": "4fc4bdb4",
   "metadata": {},
   "outputs": [
    {
     "data": {
      "text/plain": [
       "30"
      ]
     },
     "execution_count": 71,
     "metadata": {},
     "output_type": "execute_result"
    }
   ],
   "source": [
    "add_sum3(10,20)"
   ]
  },
  {
   "cell_type": "code",
   "execution_count": 74,
   "id": "e6d4aed0",
   "metadata": {},
   "outputs": [
    {
     "data": {
      "text/plain": [
       "'1020'"
      ]
     },
     "execution_count": 74,
     "metadata": {},
     "output_type": "execute_result"
    }
   ],
   "source": [
    "add_sum3('10', '20')"
   ]
  },
  {
   "cell_type": "markdown",
   "id": "a74e109b",
   "metadata": {},
   "source": [
    "***"
   ]
  },
  {
   "cell_type": "markdown",
   "id": "ddfe4629",
   "metadata": {},
   "source": [
    "<font size = 6, color = blue> Logic with Functions"
   ]
  },
  {
   "cell_type": "code",
   "execution_count": 76,
   "id": "46b9ecf0",
   "metadata": {},
   "outputs": [],
   "source": [
    "# check if number is even"
   ]
  },
  {
   "cell_type": "markdown",
   "id": "baba2686",
   "metadata": {},
   "source": [
    "***"
   ]
  },
  {
   "cell_type": "code",
   "execution_count": 92,
   "id": "a317508c",
   "metadata": {},
   "outputs": [],
   "source": [
    "# method 1"
   ]
  },
  {
   "cell_type": "code",
   "execution_count": 80,
   "id": "5245a58d",
   "metadata": {},
   "outputs": [],
   "source": [
    "def even_check(num):\n",
    "    if num % 2 == 0:\n",
    "        return print(f'this number is even {num}')\n",
    "    else:\n",
    "        print('not even')"
   ]
  },
  {
   "cell_type": "code",
   "execution_count": 81,
   "id": "2289a236",
   "metadata": {},
   "outputs": [
    {
     "name": "stdout",
     "output_type": "stream",
     "text": [
      "this number is even 12\n"
     ]
    }
   ],
   "source": [
    "even_check(12)"
   ]
  },
  {
   "cell_type": "code",
   "execution_count": 82,
   "id": "8a5110ce",
   "metadata": {},
   "outputs": [
    {
     "name": "stdout",
     "output_type": "stream",
     "text": [
      "not even\n"
     ]
    }
   ],
   "source": [
    "even_check(13)"
   ]
  },
  {
   "cell_type": "markdown",
   "id": "f395015b",
   "metadata": {},
   "source": [
    "***"
   ]
  },
  {
   "cell_type": "code",
   "execution_count": 89,
   "id": "b10d278d",
   "metadata": {},
   "outputs": [],
   "source": [
    "# method 2"
   ]
  },
  {
   "cell_type": "code",
   "execution_count": 83,
   "id": "cebfb364",
   "metadata": {},
   "outputs": [],
   "source": [
    "def even_check2(num):\n",
    "    result = num%2 == 0\n",
    "    return result"
   ]
  },
  {
   "cell_type": "code",
   "execution_count": 84,
   "id": "2c3b18a1",
   "metadata": {},
   "outputs": [
    {
     "data": {
      "text/plain": [
       "True"
      ]
     },
     "execution_count": 84,
     "metadata": {},
     "output_type": "execute_result"
    }
   ],
   "source": [
    "even_check2(12)"
   ]
  },
  {
   "cell_type": "code",
   "execution_count": 85,
   "id": "5b2cb29f",
   "metadata": {},
   "outputs": [
    {
     "data": {
      "text/plain": [
       "False"
      ]
     },
     "execution_count": 85,
     "metadata": {},
     "output_type": "execute_result"
    }
   ],
   "source": [
    "even_check2(13)"
   ]
  },
  {
   "cell_type": "markdown",
   "id": "0e05aa1b",
   "metadata": {},
   "source": [
    "***"
   ]
  },
  {
   "cell_type": "code",
   "execution_count": 91,
   "id": "92ad46f6",
   "metadata": {},
   "outputs": [],
   "source": [
    "# method 3"
   ]
  },
  {
   "cell_type": "code",
   "execution_count": 86,
   "id": "82cddfc8",
   "metadata": {},
   "outputs": [],
   "source": [
    "def even_check3(num):\n",
    "    return num%2 == 0"
   ]
  },
  {
   "cell_type": "code",
   "execution_count": 87,
   "id": "18374e72",
   "metadata": {},
   "outputs": [
    {
     "data": {
      "text/plain": [
       "False"
      ]
     },
     "execution_count": 87,
     "metadata": {},
     "output_type": "execute_result"
    }
   ],
   "source": [
    "even_check3(15)"
   ]
  },
  {
   "cell_type": "code",
   "execution_count": 88,
   "id": "5054201f",
   "metadata": {},
   "outputs": [
    {
     "data": {
      "text/plain": [
       "True"
      ]
     },
     "execution_count": 88,
     "metadata": {},
     "output_type": "execute_result"
    }
   ],
   "source": [
    "even_check3(12)"
   ]
  },
  {
   "cell_type": "markdown",
   "id": "11120708",
   "metadata": {},
   "source": [
    "***"
   ]
  },
  {
   "cell_type": "code",
   "execution_count": 93,
   "id": "9d42be2d",
   "metadata": {},
   "outputs": [],
   "source": [
    "# check for even number inside a list"
   ]
  },
  {
   "cell_type": "code",
   "execution_count": 94,
   "id": "5acda3ae",
   "metadata": {},
   "outputs": [],
   "source": [
    "mylist1 = [1,2,3,4,5,6,7,8,9,10]"
   ]
  },
  {
   "cell_type": "code",
   "execution_count": 99,
   "id": "a543ccb4",
   "metadata": {},
   "outputs": [],
   "source": [
    "########### Method 1 (incorrect)"
   ]
  },
  {
   "cell_type": "code",
   "execution_count": 95,
   "id": "24d79688",
   "metadata": {},
   "outputs": [],
   "source": [
    "def even_check4(mylist1):\n",
    "    for num in mylist1:\n",
    "        if num % 2 == 0:\n",
    "            return ('this is even')\n",
    "        else:\n",
    "            return ('this is odd')\n",
    "        "
   ]
  },
  {
   "cell_type": "code",
   "execution_count": 96,
   "id": "1ea4b2b4",
   "metadata": {},
   "outputs": [
    {
     "data": {
      "text/plain": [
       "'this is odd'"
      ]
     },
     "execution_count": 96,
     "metadata": {},
     "output_type": "execute_result"
    }
   ],
   "source": [
    "even_check4(mylist1)"
   ]
  },
  {
   "cell_type": "code",
   "execution_count": 100,
   "id": "9b2bf492",
   "metadata": {},
   "outputs": [],
   "source": [
    "########## Method 2 (this is correct)"
   ]
  },
  {
   "cell_type": "code",
   "execution_count": 97,
   "id": "32c5db16",
   "metadata": {},
   "outputs": [],
   "source": [
    "def even_check5(mylist1):\n",
    "    for num in mylist1:\n",
    "        if num % 2 == 0:\n",
    "            return ('this is even')\n",
    "        else:\n",
    "            pass \n",
    "    return ('this is odd')"
   ]
  },
  {
   "cell_type": "code",
   "execution_count": 98,
   "id": "4e3ffb87",
   "metadata": {},
   "outputs": [
    {
     "data": {
      "text/plain": [
       "'this is even'"
      ]
     },
     "execution_count": 98,
     "metadata": {},
     "output_type": "execute_result"
    }
   ],
   "source": [
    "even_check5(mylist1)"
   ]
  },
  {
   "cell_type": "markdown",
   "id": "b9c9ec1c",
   "metadata": {},
   "source": [
    "***"
   ]
  },
  {
   "cell_type": "code",
   "execution_count": 101,
   "id": "b87eb2a2",
   "metadata": {},
   "outputs": [],
   "source": [
    "# Return all even numbers in the list"
   ]
  },
  {
   "cell_type": "code",
   "execution_count": 104,
   "id": "5ce1ff00",
   "metadata": {},
   "outputs": [],
   "source": [
    "def even_check6(templist6):\n",
    "    new_even_list = []\n",
    "    \n",
    "    for num6 in templist6:\n",
    "        if num6 % 2 == 0:\n",
    "            new_even_list.append(num6)\n",
    "        else:\n",
    "            pass\n",
    "    return new_even_list"
   ]
  },
  {
   "cell_type": "code",
   "execution_count": 105,
   "id": "f4f99697",
   "metadata": {},
   "outputs": [
    {
     "data": {
      "text/plain": [
       "[2, 4, 6, 8, 10]"
      ]
     },
     "execution_count": 105,
     "metadata": {},
     "output_type": "execute_result"
    }
   ],
   "source": [
    "even_check6(mylist1)"
   ]
  },
  {
   "cell_type": "markdown",
   "id": "0c4db7c9",
   "metadata": {},
   "source": [
    "***"
   ]
  },
  {
   "cell_type": "markdown",
   "id": "f854967b",
   "metadata": {},
   "source": [
    "<font size = 6, color = blue> Tuple Unpacking"
   ]
  },
  {
   "cell_type": "code",
   "execution_count": 107,
   "id": "2ff09aeb",
   "metadata": {},
   "outputs": [],
   "source": [
    "stock_prices = [('APPL', 100), ('GOOG', 200), ('TSLA', 300), ('ORCL', 400)]"
   ]
  },
  {
   "cell_type": "code",
   "execution_count": 111,
   "id": "f061041b",
   "metadata": {},
   "outputs": [],
   "source": [
    "# standard tuple unpacking with for loops"
   ]
  },
  {
   "cell_type": "code",
   "execution_count": 108,
   "id": "98cd45e9",
   "metadata": {},
   "outputs": [
    {
     "name": "stdout",
     "output_type": "stream",
     "text": [
      "('APPL', 100)\n",
      "('GOOG', 200)\n",
      "('TSLA', 300)\n",
      "('ORCL', 400)\n"
     ]
    }
   ],
   "source": [
    "for item in stock_prices:\n",
    "    print(item)"
   ]
  },
  {
   "cell_type": "code",
   "execution_count": 110,
   "id": "957065d3",
   "metadata": {},
   "outputs": [
    {
     "name": "stdout",
     "output_type": "stream",
     "text": [
      "APPL\n",
      "GOOG\n",
      "TSLA\n",
      "ORCL\n"
     ]
    }
   ],
   "source": [
    "for ticker, price in stock_prices:\n",
    "    print(ticker)"
   ]
  },
  {
   "cell_type": "markdown",
   "id": "72c109da",
   "metadata": {},
   "source": [
    "***"
   ]
  },
  {
   "cell_type": "code",
   "execution_count": 112,
   "id": "386f5de3",
   "metadata": {},
   "outputs": [],
   "source": [
    "# tuple unpacking using Functions"
   ]
  },
  {
   "cell_type": "code",
   "execution_count": 113,
   "id": "06892a91",
   "metadata": {},
   "outputs": [],
   "source": [
    "# determine max stock price"
   ]
  },
  {
   "cell_type": "code",
   "execution_count": 118,
   "id": "2affb0f2",
   "metadata": {},
   "outputs": [],
   "source": [
    "def max_stock_price(stock_prices):\n",
    "    current_max = 0\n",
    "    ticker_max = ''\n",
    "    \n",
    "    for stock in stock_prices:\n",
    "        if price > current_max:\n",
    "            current_max = price\n",
    "            ticker_max = ticker\n",
    "        else:\n",
    "            pass\n",
    "            \n",
    "    return (ticker_max, current_max)"
   ]
  },
  {
   "cell_type": "code",
   "execution_count": 119,
   "id": "ef77c07d",
   "metadata": {},
   "outputs": [
    {
     "data": {
      "text/plain": [
       "('ORCL', 400)"
      ]
     },
     "execution_count": 119,
     "metadata": {},
     "output_type": "execute_result"
    }
   ],
   "source": [
    "max_stock_price(stock_prices)"
   ]
  },
  {
   "cell_type": "code",
   "execution_count": 120,
   "id": "d784623e",
   "metadata": {},
   "outputs": [],
   "source": [
    "ticker, price = max_stock_price(stock_prices)"
   ]
  },
  {
   "cell_type": "code",
   "execution_count": 121,
   "id": "a5b45590",
   "metadata": {},
   "outputs": [
    {
     "data": {
      "text/plain": [
       "'ORCL'"
      ]
     },
     "execution_count": 121,
     "metadata": {},
     "output_type": "execute_result"
    }
   ],
   "source": [
    "ticker"
   ]
  },
  {
   "cell_type": "code",
   "execution_count": 122,
   "id": "c4712f59",
   "metadata": {},
   "outputs": [
    {
     "data": {
      "text/plain": [
       "400"
      ]
     },
     "execution_count": 122,
     "metadata": {},
     "output_type": "execute_result"
    }
   ],
   "source": [
    "price"
   ]
  },
  {
   "cell_type": "code",
   "execution_count": 123,
   "id": "d24d7335",
   "metadata": {},
   "outputs": [],
   "source": [
    "items = max_stock_price(stock_prices)"
   ]
  },
  {
   "cell_type": "code",
   "execution_count": 124,
   "id": "ed47081d",
   "metadata": {},
   "outputs": [
    {
     "data": {
      "text/plain": [
       "('ORCL', 400)"
      ]
     },
     "execution_count": 124,
     "metadata": {},
     "output_type": "execute_result"
    }
   ],
   "source": [
    "items"
   ]
  },
  {
   "cell_type": "markdown",
   "id": "bef8fd6b",
   "metadata": {},
   "source": [
    "***"
   ]
  },
  {
   "cell_type": "markdown",
   "id": "486ce97a",
   "metadata": {},
   "source": [
    "<font size = 6, color = blue> Interaction between functions"
   ]
  },
  {
   "cell_type": "code",
   "execution_count": null,
   "id": "d6f5f5bb",
   "metadata": {},
   "outputs": [],
   "source": []
  }
 ],
 "metadata": {
  "kernelspec": {
   "display_name": "Python 3 (ipykernel)",
   "language": "python",
   "name": "python3"
  },
  "language_info": {
   "codemirror_mode": {
    "name": "ipython",
    "version": 3
   },
   "file_extension": ".py",
   "mimetype": "text/x-python",
   "name": "python",
   "nbconvert_exporter": "python",
   "pygments_lexer": "ipython3",
   "version": "3.9.12"
  }
 },
 "nbformat": 4,
 "nbformat_minor": 5
}
