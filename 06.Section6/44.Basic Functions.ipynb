{
 "cells": [
  {
   "cell_type": "markdown",
   "id": "08060649",
   "metadata": {},
   "source": [
    "<font size = 8> Basic Functions"
   ]
  },
  {
   "cell_type": "code",
   "execution_count": 3,
   "id": "a683ac15",
   "metadata": {},
   "outputs": [],
   "source": [
    "def say_hello():\n",
    "    print(\"Hello\")\n",
    "    print(\"How\")\n",
    "    print(\"You?\")"
   ]
  },
  {
   "cell_type": "markdown",
   "id": "b0c7cb0a",
   "metadata": {},
   "source": [
    "` () required in order to execute the function `"
   ]
  },
  {
   "cell_type": "code",
   "execution_count": 4,
   "id": "04e8fc0a",
   "metadata": {},
   "outputs": [
    {
     "name": "stdout",
     "output_type": "stream",
     "text": [
      "Hello\n",
      "How\n",
      "You?\n"
     ]
    }
   ],
   "source": [
    "say_hello()"
   ]
  },
  {
   "cell_type": "code",
   "execution_count": 5,
   "id": "dec8101c",
   "metadata": {},
   "outputs": [
    {
     "data": {
      "text/plain": [
       "<function __main__.say_hello()>"
      ]
     },
     "execution_count": 5,
     "metadata": {},
     "output_type": "execute_result"
    }
   ],
   "source": [
    "say_hello"
   ]
  },
  {
   "cell_type": "code",
   "execution_count": 8,
   "id": "f61b1c97",
   "metadata": {},
   "outputs": [],
   "source": [
    "def say_hello(name1):\n",
    "    print(f'Hello {name1}')"
   ]
  },
  {
   "cell_type": "code",
   "execution_count": 9,
   "id": "9d84a87d",
   "metadata": {},
   "outputs": [
    {
     "name": "stdout",
     "output_type": "stream",
     "text": [
      "Hello Ziba\n"
     ]
    }
   ],
   "source": [
    "say_hello('Ziba')"
   ]
  },
  {
   "cell_type": "code",
   "execution_count": 10,
   "id": "1d721e20",
   "metadata": {},
   "outputs": [
    {
     "ename": "TypeError",
     "evalue": "say_hello() missing 1 required positional argument: 'name1'",
     "output_type": "error",
     "traceback": [
      "\u001b[0;31m---------------------------------------------------------------------------\u001b[0m",
      "\u001b[0;31mTypeError\u001b[0m                                 Traceback (most recent call last)",
      "Input \u001b[0;32mIn [10]\u001b[0m, in \u001b[0;36m<cell line: 1>\u001b[0;34m()\u001b[0m\n\u001b[0;32m----> 1\u001b[0m \u001b[43msay_hello\u001b[49m\u001b[43m(\u001b[49m\u001b[43m)\u001b[49m\n",
      "\u001b[0;31mTypeError\u001b[0m: say_hello() missing 1 required positional argument: 'name1'"
     ]
    }
   ],
   "source": [
    "say_hello()"
   ]
  },
  {
   "cell_type": "markdown",
   "id": "05a90bdf",
   "metadata": {},
   "source": [
    "<font color = red> providing default values"
   ]
  },
  {
   "cell_type": "code",
   "execution_count": 11,
   "id": "53802e69",
   "metadata": {},
   "outputs": [],
   "source": [
    "def say_hello(name1 = 'Default'):\n",
    "    print(f'Hello {name1}')"
   ]
  },
  {
   "cell_type": "code",
   "execution_count": 12,
   "id": "e396c8e3",
   "metadata": {},
   "outputs": [
    {
     "name": "stdout",
     "output_type": "stream",
     "text": [
      "Hello Default\n"
     ]
    }
   ],
   "source": [
    "say_hello()"
   ]
  },
  {
   "cell_type": "markdown",
   "id": "62d82656",
   "metadata": {},
   "source": [
    "<font color = red> Using the RETURN keyword"
   ]
  },
  {
   "cell_type": "code",
   "execution_count": 13,
   "id": "cf8cdcf2",
   "metadata": {},
   "outputs": [],
   "source": [
    "def add_num(num1, num2):\n",
    "    return num1+num2 # see that () is not required"
   ]
  },
  {
   "cell_type": "markdown",
   "id": "db21097c",
   "metadata": {},
   "source": [
    "` before variable assignment -- the value is NOT saved `"
   ]
  },
  {
   "cell_type": "code",
   "execution_count": 14,
   "id": "3deec72f",
   "metadata": {},
   "outputs": [
    {
     "data": {
      "text/plain": [
       "30"
      ]
     },
     "execution_count": 14,
     "metadata": {},
     "output_type": "execute_result"
    }
   ],
   "source": [
    "add_num(10,20)"
   ]
  },
  {
   "cell_type": "markdown",
   "id": "a3d3fb09",
   "metadata": {},
   "source": [
    "` Variable Assignment `"
   ]
  },
  {
   "cell_type": "code",
   "execution_count": 16,
   "id": "846d9d4a",
   "metadata": {},
   "outputs": [],
   "source": [
    "result = add_num(10, 20)"
   ]
  },
  {
   "cell_type": "code",
   "execution_count": 17,
   "id": "83c6440a",
   "metadata": {},
   "outputs": [
    {
     "data": {
      "text/plain": [
       "30"
      ]
     },
     "execution_count": 17,
     "metadata": {},
     "output_type": "execute_result"
    }
   ],
   "source": [
    "result"
   ]
  },
  {
   "cell_type": "markdown",
   "id": "6771ec94",
   "metadata": {},
   "source": [
    "<font color = red> The difference between print and return"
   ]
  },
  {
   "cell_type": "code",
   "execution_count": 18,
   "id": "7802381f",
   "metadata": {},
   "outputs": [],
   "source": [
    "def print_result(a,b):\n",
    "    print(a+b)"
   ]
  },
  {
   "cell_type": "code",
   "execution_count": 25,
   "id": "e85cb7ae",
   "metadata": {},
   "outputs": [],
   "source": [
    "def return_result(a,b):\n",
    "    return a+b"
   ]
  },
  {
   "cell_type": "code",
   "execution_count": 20,
   "id": "93839617",
   "metadata": {},
   "outputs": [
    {
     "name": "stdout",
     "output_type": "stream",
     "text": [
      "30\n"
     ]
    }
   ],
   "source": [
    "print_result(10,20)"
   ]
  },
  {
   "attachments": {
    "image.png": {
     "image/png": "[encoded data removed]"
    }
   },
   "cell_type": "markdown",
   "id": "7535b70c",
   "metadata": {},
   "source": [
    "![image.png](attachment:image.png)"
   ]
  },
  {
   "cell_type": "markdown",
   "id": "f0d4c45f",
   "metadata": {},
   "source": [
    "` Note there is no Out[] which implies there is not value being saved. It is just being printed on screen `"
   ]
  },
  {
   "cell_type": "markdown",
   "id": "4645abcf",
   "metadata": {},
   "source": [
    "<font color = red>  even assigning a variable to 'print' does not save teh value"
   ]
  },
  {
   "cell_type": "code",
   "execution_count": 21,
   "id": "0737e27c",
   "metadata": {},
   "outputs": [
    {
     "name": "stdout",
     "output_type": "stream",
     "text": [
      "30\n"
     ]
    }
   ],
   "source": [
    "result1 = print_result(10,20)"
   ]
  },
  {
   "cell_type": "code",
   "execution_count": 22,
   "id": "b9038fb9",
   "metadata": {},
   "outputs": [],
   "source": [
    "result1"
   ]
  },
  {
   "cell_type": "code",
   "execution_count": 23,
   "id": "7bec287f",
   "metadata": {},
   "outputs": [
    {
     "data": {
      "text/plain": [
       "NoneType"
      ]
     },
     "execution_count": 23,
     "metadata": {},
     "output_type": "execute_result"
    }
   ],
   "source": [
    "type(result1)"
   ]
  },
  {
   "cell_type": "markdown",
   "id": "c6a058bb",
   "metadata": {},
   "source": [
    "<font color = red> testing the return "
   ]
  },
  {
   "cell_type": "code",
   "execution_count": 26,
   "id": "23372d8f",
   "metadata": {},
   "outputs": [
    {
     "data": {
      "text/plain": [
       "30"
      ]
     },
     "execution_count": 26,
     "metadata": {},
     "output_type": "execute_result"
    }
   ],
   "source": [
    "return_result(10,20)"
   ]
  },
  {
   "attachments": {
    "image.png": {
     "image/png": "[encoded data removed]"
    }
   },
   "cell_type": "markdown",
   "id": "e38f1396",
   "metadata": {},
   "source": [
    "![image.png](attachment:image.png)"
   ]
  },
  {
   "cell_type": "markdown",
   "id": "d0154b59",
   "metadata": {},
   "source": [
    "` Notice the 'OUT [] `"
   ]
  },
  {
   "cell_type": "code",
   "execution_count": 27,
   "id": "15edaf9f",
   "metadata": {},
   "outputs": [],
   "source": [
    "result = return_result(10,20)"
   ]
  },
  {
   "cell_type": "code",
   "execution_count": 29,
   "id": "6219f9fc",
   "metadata": {},
   "outputs": [
    {
     "data": {
      "text/plain": [
       "30"
      ]
     },
     "execution_count": 29,
     "metadata": {},
     "output_type": "execute_result"
    }
   ],
   "source": [
    "result"
   ]
  },
  {
   "cell_type": "code",
   "execution_count": 28,
   "id": "dc77aefb",
   "metadata": {},
   "outputs": [
    {
     "data": {
      "text/plain": [
       "int"
      ]
     },
     "execution_count": 28,
     "metadata": {},
     "output_type": "execute_result"
    }
   ],
   "source": [
    "type(result)"
   ]
  },
  {
   "cell_type": "markdown",
   "id": "e7ab77a0",
   "metadata": {},
   "source": [
    "<font color = red> seeing both print and return"
   ]
  },
  {
   "cell_type": "code",
   "execution_count": 30,
   "id": "d09669b9",
   "metadata": {},
   "outputs": [],
   "source": [
    "def myfunc(a,b):\n",
    "    print(a+b)\n",
    "    return a+b"
   ]
  },
  {
   "cell_type": "markdown",
   "id": "7d073ce6",
   "metadata": {},
   "source": [
    "` PRINT `"
   ]
  },
  {
   "cell_type": "code",
   "execution_count": 31,
   "id": "5fe286ef",
   "metadata": {},
   "outputs": [
    {
     "name": "stdout",
     "output_type": "stream",
     "text": [
      "30\n"
     ]
    }
   ],
   "source": [
    "result = myfunc(10,20)"
   ]
  },
  {
   "cell_type": "markdown",
   "id": "8cd113e0",
   "metadata": {},
   "source": [
    "` RETURN `"
   ]
  },
  {
   "cell_type": "code",
   "execution_count": 32,
   "id": "3d3119f9",
   "metadata": {},
   "outputs": [
    {
     "name": "stdout",
     "output_type": "stream",
     "text": [
      "30\n"
     ]
    },
    {
     "data": {
      "text/plain": [
       "30"
      ]
     },
     "execution_count": 32,
     "metadata": {},
     "output_type": "execute_result"
    }
   ],
   "source": [
    "myfunc(10,20)"
   ]
  },
  {
   "cell_type": "markdown",
   "id": "2ba0eb7e",
   "metadata": {},
   "source": [
    "***"
   ]
  },
  {
   "cell_type": "code",
   "execution_count": 34,
   "id": "8ec80f8d",
   "metadata": {},
   "outputs": [],
   "source": [
    "def sum_number(num1, num2):\n",
    "    return num1 + num2"
   ]
  },
  {
   "cell_type": "markdown",
   "id": "61f99a8b",
   "metadata": {},
   "source": [
    "` remember that we do not SPECIFY any data type  -- this is dynamically determined `"
   ]
  },
  {
   "cell_type": "markdown",
   "id": "645110e9",
   "metadata": {},
   "source": [
    "` Notice the way 10 and '10' are treated below `"
   ]
  },
  {
   "cell_type": "code",
   "execution_count": 36,
   "id": "0c53f874",
   "metadata": {},
   "outputs": [
    {
     "data": {
      "text/plain": [
       "30"
      ]
     },
     "execution_count": 36,
     "metadata": {},
     "output_type": "execute_result"
    }
   ],
   "source": [
    "sum_number(10,20)"
   ]
  },
  {
   "cell_type": "code",
   "execution_count": 39,
   "id": "47684698",
   "metadata": {},
   "outputs": [
    {
     "data": {
      "text/plain": [
       "'1020'"
      ]
     },
     "execution_count": 39,
     "metadata": {},
     "output_type": "execute_result"
    }
   ],
   "source": [
    "sum_number('10', '20')"
   ]
  },
  {
   "cell_type": "code",
   "execution_count": null,
   "id": "5c1eb988",
   "metadata": {},
   "outputs": [],
   "source": []
  }
 ],
 "metadata": {
  "kernelspec": {
   "display_name": "Python 3 (ipykernel)",
   "language": "python",
   "name": "python3"
  },
  "language_info": {
   "codemirror_mode": {
    "name": "ipython",
    "version": 3
   },
   "file_extension": ".py",
   "mimetype": "text/x-python",
   "name": "python",
   "nbconvert_exporter": "python",
   "pygments_lexer": "ipython3",
   "version": "3.9.12"
  }
 },
 "nbformat": 4,
 "nbformat_minor": 5
}
