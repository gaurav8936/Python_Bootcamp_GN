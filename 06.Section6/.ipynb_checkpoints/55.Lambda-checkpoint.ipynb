{
 "cells": [
  {
   "cell_type": "markdown",
   "id": "eb0b2ada",
   "metadata": {},
   "source": [
    "<font size = 8> Lambda Expressions, Map and Filter Functions"
   ]
  },
  {
   "cell_type": "markdown",
   "id": "1ce43550",
   "metadata": {},
   "source": [
    "Way to create anonymous functions"
   ]
  },
  {
   "cell_type": "markdown",
   "id": "5743d915",
   "metadata": {},
   "source": [
    "# Map"
   ]
  },
  {
   "cell_type": "code",
   "execution_count": 1,
   "id": "c36cdd93",
   "metadata": {},
   "outputs": [
    {
     "name": "stdout",
     "output_type": "stream",
     "text": [
      "Help on class map in module builtins:\n",
      "\n",
      "class map(object)\n",
      " |  map(func, *iterables) --> map object\n",
      " |  \n",
      " |  Make an iterator that computes the function using arguments from\n",
      " |  each of the iterables.  Stops when the shortest iterable is exhausted.\n",
      " |  \n",
      " |  Methods defined here:\n",
      " |  \n",
      " |  __getattribute__(self, name, /)\n",
      " |      Return getattr(self, name).\n",
      " |  \n",
      " |  __iter__(self, /)\n",
      " |      Implement iter(self).\n",
      " |  \n",
      " |  __next__(self, /)\n",
      " |      Implement next(self).\n",
      " |  \n",
      " |  __reduce__(...)\n",
      " |      Return state information for pickling.\n",
      " |  \n",
      " |  ----------------------------------------------------------------------\n",
      " |  Static methods defined here:\n",
      " |  \n",
      " |  __new__(*args, **kwargs) from builtins.type\n",
      " |      Create and return a new object.  See help(type) for accurate signature.\n",
      "\n"
     ]
    }
   ],
   "source": [
    "help(map)"
   ]
  },
  {
   "cell_type": "code",
   "execution_count": 2,
   "id": "03d6aec9",
   "metadata": {},
   "outputs": [],
   "source": [
    "def square(num):\n",
    "    return num**2"
   ]
  },
  {
   "cell_type": "code",
   "execution_count": 3,
   "id": "ac908553",
   "metadata": {},
   "outputs": [],
   "source": [
    "my_nums = [1,2,3,4,5]"
   ]
  },
  {
   "cell_type": "markdown",
   "id": "c0bb3d7e",
   "metadata": {},
   "source": [
    "the ask is to run the square functino for every item on the list\n",
    "this can be done using the for loop"
   ]
  },
  {
   "cell_type": "code",
   "execution_count": 4,
   "id": "0e59ec48",
   "metadata": {},
   "outputs": [
    {
     "data": {
      "text/plain": [
       "<map at 0x7fe7b0dd2c40>"
      ]
     },
     "execution_count": 4,
     "metadata": {},
     "output_type": "execute_result"
    }
   ],
   "source": [
    "map(square, my_nums)"
   ]
  },
  {
   "cell_type": "markdown",
   "id": "0512278b",
   "metadata": {},
   "source": [
    "<font color = red> There are two ways to apply the map: FOR loop or LIST"
   ]
  },
  {
   "cell_type": "markdown",
   "id": "38286e85",
   "metadata": {},
   "source": [
    "### FOR"
   ]
  },
  {
   "cell_type": "code",
   "execution_count": 6,
   "id": "cbd8c244",
   "metadata": {},
   "outputs": [
    {
     "name": "stdout",
     "output_type": "stream",
     "text": [
      "1\n",
      "4\n",
      "9\n",
      "16\n",
      "25\n"
     ]
    }
   ],
   "source": [
    "# Note how the for loop starts\n",
    "\n",
    "for item in map(square, my_nums):\n",
    "    print(item)"
   ]
  },
  {
   "cell_type": "markdown",
   "id": "dda12c2e",
   "metadata": {},
   "source": [
    "### LIST"
   ]
  },
  {
   "cell_type": "code",
   "execution_count": 8,
   "id": "6d0a0bc7",
   "metadata": {},
   "outputs": [
    {
     "data": {
      "text/plain": [
       "[1, 4, 9, 16, 25]"
      ]
     },
     "execution_count": 8,
     "metadata": {},
     "output_type": "execute_result"
    }
   ],
   "source": [
    "list(map(square, my_nums))\n",
    "# this gives a list output"
   ]
  },
  {
   "cell_type": "markdown",
   "id": "01c4e075",
   "metadata": {},
   "source": [
    "***"
   ]
  },
  {
   "cell_type": "code",
   "execution_count": 21,
   "id": "159043da",
   "metadata": {},
   "outputs": [],
   "source": [
    "# Use Map to determine if the words have even characters or not\n",
    "# Step1: Write a function to return if a string is even or odd\n",
    "# Step 2: initialize the string\n",
    "# Step 3: use Map to iterate teh string through teh function"
   ]
  },
  {
   "cell_type": "code",
   "execution_count": 20,
   "id": "7518fc5d",
   "metadata": {},
   "outputs": [],
   "source": [
    "# create a function to determine if the words have even number of characters or not\n",
    "# This is just a typical function\n",
    "\n",
    "\n",
    "def splicer(mystring):\n",
    "    if len(mystring)%2 == 0:\n",
    "        return 'EVEN'\n",
    "    else:\n",
    "        # return mystring[0]\n",
    "        return('ODD')"
   ]
  },
  {
   "cell_type": "code",
   "execution_count": 18,
   "id": "e27e3ae2",
   "metadata": {},
   "outputs": [],
   "source": [
    "names = ['Andy', 'Eve', 'Sally']"
   ]
  },
  {
   "cell_type": "code",
   "execution_count": 22,
   "id": "a8bb5977",
   "metadata": {},
   "outputs": [
    {
     "data": {
      "text/plain": [
       "['EVEN', 'ODD', 'ODD']"
      ]
     },
     "execution_count": 22,
     "metadata": {},
     "output_type": "execute_result"
    }
   ],
   "source": [
    "# now use the map function to iterate the function through the list\n",
    "\n",
    "list(map(splicer, names))\n",
    "\n",
    "## list(map(splicer, names)) -- note you do not add the () for the function (splicer())"
   ]
  },
  {
   "cell_type": "markdown",
   "id": "16185a25",
   "metadata": {},
   "source": [
    "***"
   ]
  },
  {
   "cell_type": "markdown",
   "id": "581dca0a",
   "metadata": {},
   "source": [
    "# Filter"
   ]
  },
  {
   "cell_type": "code",
   "execution_count": 23,
   "id": "c08f53f8",
   "metadata": {},
   "outputs": [],
   "source": [
    "def check_even(num):\n",
    "    return num%2 == 0"
   ]
  },
  {
   "cell_type": "code",
   "execution_count": 24,
   "id": "70c1d2c4",
   "metadata": {},
   "outputs": [],
   "source": [
    "mynums = [1,2,3,4,5,6]"
   ]
  },
  {
   "cell_type": "code",
   "execution_count": 25,
   "id": "60e94a33",
   "metadata": {},
   "outputs": [],
   "source": [
    "# I only want to grab even numbers from the list\n",
    "# Filter is like Map\n",
    "# Map applies the function to every item on the list\n",
    "# Filter on teh otehr hand, filters the list based on the condition of the function\n",
    "##### Filter has to return a bo0lean value"
   ]
  },
  {
   "cell_type": "code",
   "execution_count": 31,
   "id": "a4a0746c",
   "metadata": {},
   "outputs": [
    {
     "data": {
      "text/plain": [
       "<filter at 0x7fe798a7b640>"
      ]
     },
     "execution_count": 31,
     "metadata": {},
     "output_type": "execute_result"
    }
   ],
   "source": [
    "filter(check_even, mynums)"
   ]
  },
  {
   "cell_type": "markdown",
   "id": "1d8584a1",
   "metadata": {},
   "source": [
    "### LIST"
   ]
  },
  {
   "cell_type": "code",
   "execution_count": 32,
   "id": "974337b5",
   "metadata": {},
   "outputs": [
    {
     "data": {
      "text/plain": [
       "[2, 4, 6]"
      ]
     },
     "execution_count": 32,
     "metadata": {},
     "output_type": "execute_result"
    }
   ],
   "source": [
    "list(filter(check_even, mynums))"
   ]
  },
  {
   "cell_type": "markdown",
   "id": "1c3126cc",
   "metadata": {},
   "source": [
    "### FOR "
   ]
  },
  {
   "cell_type": "code",
   "execution_count": 28,
   "id": "41bbef77",
   "metadata": {},
   "outputs": [
    {
     "name": "stdout",
     "output_type": "stream",
     "text": [
      "2\n",
      "4\n",
      "6\n"
     ]
    }
   ],
   "source": [
    "for n in filter(check_even, mynums):\n",
    "    print(n)"
   ]
  },
  {
   "cell_type": "code",
   "execution_count": null,
   "id": "37e8fd23",
   "metadata": {},
   "outputs": [],
   "source": []
  }
 ],
 "metadata": {
  "kernelspec": {
   "display_name": "Python 3 (ipykernel)",
   "language": "python",
   "name": "python3"
  },
  "language_info": {
   "codemirror_mode": {
    "name": "ipython",
    "version": 3
   },
   "file_extension": ".py",
   "mimetype": "text/x-python",
   "name": "python",
   "nbconvert_exporter": "python",
   "pygments_lexer": "ipython3",
   "version": "3.9.12"
  }
 },
 "nbformat": 4,
 "nbformat_minor": 5
}
