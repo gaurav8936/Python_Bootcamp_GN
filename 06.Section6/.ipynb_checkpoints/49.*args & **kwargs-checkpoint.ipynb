{
 "cells": [
  {
   "cell_type": "markdown",
   "id": "a782fb03",
   "metadata": {},
   "source": [
    "<font size = 8> *args and *kwargs in Python"
   ]
  },
  {
   "cell_type": "code",
   "execution_count": 1,
   "id": "072ba8dc",
   "metadata": {},
   "outputs": [],
   "source": [
    "# Functional Parameters\n",
    "\n",
    "# args -- Arguments\n",
    "#kwargs -- Key Word Arguments"
   ]
  },
  {
   "cell_type": "code",
   "execution_count": 3,
   "id": "3bd624b7",
   "metadata": {},
   "outputs": [],
   "source": [
    "def myfunc(numa, numb):\n",
    "    # returns 5% of the sum of a and b\n",
    "    return sum((numa,numb)) * 0.05"
   ]
  },
  {
   "cell_type": "code",
   "execution_count": 4,
   "id": "f0ecabf9",
   "metadata": {},
   "outputs": [
    {
     "data": {
      "text/plain": [
       "5.0"
      ]
     },
     "execution_count": 4,
     "metadata": {},
     "output_type": "execute_result"
    }
   ],
   "source": [
    "myfunc(40, 60)"
   ]
  },
  {
   "cell_type": "code",
   "execution_count": 5,
   "id": "65f6b7bb",
   "metadata": {},
   "outputs": [],
   "source": [
    "# What is we had more numbers of parametes to pass?"
   ]
  },
  {
   "cell_type": "code",
   "execution_count": 6,
   "id": "180cda52",
   "metadata": {},
   "outputs": [],
   "source": [
    "# numa and numb are positional arguments\n",
    "# 40 is assigned to numa\n",
    "# 60 is assigned to numb"
   ]
  },
  {
   "cell_type": "code",
   "execution_count": 7,
   "id": "88253ef8",
   "metadata": {},
   "outputs": [],
   "source": [
    "# note also that we had to pass them as a TUPLE which takes advantage of the positional \n",
    "# arguments"
   ]
  },
  {
   "cell_type": "code",
   "execution_count": null,
   "id": "9155190a",
   "metadata": {},
   "outputs": [],
   "source": []
  }
 ],
 "metadata": {
  "kernelspec": {
   "display_name": "Python 3 (ipykernel)",
   "language": "python",
   "name": "python3"
  },
  "language_info": {
   "codemirror_mode": {
    "name": "ipython",
    "version": 3
   },
   "file_extension": ".py",
   "mimetype": "text/x-python",
   "name": "python",
   "nbconvert_exporter": "python",
   "pygments_lexer": "ipython3",
   "version": "3.9.12"
  }
 },
 "nbformat": 4,
 "nbformat_minor": 5
}
