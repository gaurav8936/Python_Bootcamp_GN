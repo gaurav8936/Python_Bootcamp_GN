{
 "cells": [
  {
   "cell_type": "markdown",
   "id": "114cf6d7",
   "metadata": {},
   "source": [
    "<font size = 8> Tuple Unpacking with Functions"
   ]
  },
  {
   "cell_type": "markdown",
   "id": "31c359e5",
   "metadata": {},
   "source": [
    "### Using FOR Loop"
   ]
  },
  {
   "cell_type": "code",
   "execution_count": 3,
   "id": "4e1ee18a",
   "metadata": {},
   "outputs": [],
   "source": [
    "stock_prices = [('APPL', 200), ('GOOG', 400), ('MSFT', 100)]"
   ]
  },
  {
   "cell_type": "code",
   "execution_count": 4,
   "id": "dc4c6f3b",
   "metadata": {},
   "outputs": [
    {
     "name": "stdout",
     "output_type": "stream",
     "text": [
      "('APPL', 200)\n",
      "('GOOG', 400)\n",
      "('MSFT', 100)\n"
     ]
    }
   ],
   "source": [
    "for item in stock_prices:\n",
    "    print(item)"
   ]
  },
  {
   "cell_type": "code",
   "execution_count": 6,
   "id": "936a7552",
   "metadata": {},
   "outputs": [],
   "source": [
    "# Unpack the tuple and get only the ticker"
   ]
  },
  {
   "cell_type": "code",
   "execution_count": 7,
   "id": "9f5ec74a",
   "metadata": {},
   "outputs": [
    {
     "name": "stdout",
     "output_type": "stream",
     "text": [
      "APPL\n",
      "GOOG\n",
      "MSFT\n"
     ]
    }
   ],
   "source": [
    "for ticker, price in stock_prices:\n",
    "    print(ticker)"
   ]
  },
  {
   "cell_type": "code",
   "execution_count": 9,
   "id": "f5df8bc5",
   "metadata": {},
   "outputs": [
    {
     "name": "stdout",
     "output_type": "stream",
     "text": [
      "20.0\n",
      "40.0\n",
      "10.0\n"
     ]
    }
   ],
   "source": [
    "for ticker, price in stock_prices:\n",
    "    print(0.1*price)"
   ]
  },
  {
   "cell_type": "code",
   "execution_count": 10,
   "id": "05ac3544",
   "metadata": {},
   "outputs": [],
   "source": [
    "# this gives us a 10% increase scenario"
   ]
  },
  {
   "cell_type": "markdown",
   "id": "2720bade",
   "metadata": {},
   "source": [
    "***"
   ]
  },
  {
   "cell_type": "markdown",
   "id": "88eb1315",
   "metadata": {},
   "source": [
    "### Using Functions"
   ]
  },
  {
   "cell_type": "code",
   "execution_count": 17,
   "id": "879fc4d6",
   "metadata": {},
   "outputs": [],
   "source": [
    "work_hours = [('Abby', 100), ('Billy', 4000), ('Cassie', 800)]"
   ]
  },
  {
   "cell_type": "markdown",
   "id": "86a6e24b",
   "metadata": {},
   "source": [
    "<font color = red> Who is the employee of the month? "
   ]
  },
  {
   "cell_type": "code",
   "execution_count": 18,
   "id": "bac34725",
   "metadata": {},
   "outputs": [],
   "source": [
    "# return not just the employee name but also the number of hours worked"
   ]
  },
  {
   "cell_type": "code",
   "execution_count": 19,
   "id": "611336ff",
   "metadata": {},
   "outputs": [],
   "source": [
    "def employee_check(work_hours):\n",
    "    #placeholder variable\n",
    "    # both these values are reset every time there is a condition that \n",
    "                 # is more than the stored value\n",
    "    current_max = 0\n",
    "    employee_of_month = ''\n",
    "    \n",
    "    for employee,hours in work_hours:\n",
    "        if hours > current_max:\n",
    "            current_max = hours\n",
    "            employee_of_month = employee\n",
    "        else:\n",
    "            pass\n",
    "        \n",
    "    #Return\n",
    "    return (employee_of_month, current_max)"
   ]
  },
  {
   "cell_type": "code",
   "execution_count": 20,
   "id": "9d40360c",
   "metadata": {},
   "outputs": [
    {
     "data": {
      "text/plain": [
       "('Billy', 4000)"
      ]
     },
     "execution_count": 20,
     "metadata": {},
     "output_type": "execute_result"
    }
   ],
   "source": [
    "employee_check(work_hours)"
   ]
  },
  {
   "cell_type": "code",
   "execution_count": 21,
   "id": "97ea1bbb",
   "metadata": {},
   "outputs": [],
   "source": [
    "result = employee_check(work_hours)"
   ]
  },
  {
   "cell_type": "code",
   "execution_count": 22,
   "id": "e3dfe0e2",
   "metadata": {},
   "outputs": [
    {
     "data": {
      "text/plain": [
       "('Billy', 4000)"
      ]
     },
     "execution_count": 22,
     "metadata": {},
     "output_type": "execute_result"
    }
   ],
   "source": [
    "result"
   ]
  },
  {
   "cell_type": "code",
   "execution_count": 23,
   "id": "71d8fc51",
   "metadata": {},
   "outputs": [],
   "source": [
    "# unpack the tuple for the result as well"
   ]
  },
  {
   "cell_type": "code",
   "execution_count": 24,
   "id": "ab5b996e",
   "metadata": {},
   "outputs": [],
   "source": [
    "name,hours = employee_check(work_hours)"
   ]
  },
  {
   "cell_type": "code",
   "execution_count": 25,
   "id": "2199d8ba",
   "metadata": {},
   "outputs": [
    {
     "data": {
      "text/plain": [
       "'Billy'"
      ]
     },
     "execution_count": 25,
     "metadata": {},
     "output_type": "execute_result"
    }
   ],
   "source": [
    "name"
   ]
  },
  {
   "cell_type": "code",
   "execution_count": 26,
   "id": "3c3cbb6b",
   "metadata": {},
   "outputs": [
    {
     "data": {
      "text/plain": [
       "4000"
      ]
     },
     "execution_count": 26,
     "metadata": {},
     "output_type": "execute_result"
    }
   ],
   "source": [
    "hours"
   ]
  },
  {
   "cell_type": "markdown",
   "id": "9022ce63",
   "metadata": {},
   "source": [
    "<font color = red> common error with unpacking values that don't exist"
   ]
  },
  {
   "cell_type": "code",
   "execution_count": 27,
   "id": "43d75dec",
   "metadata": {},
   "outputs": [
    {
     "ename": "ValueError",
     "evalue": "not enough values to unpack (expected 3, got 2)",
     "output_type": "error",
     "traceback": [
      "\u001b[0;31m---------------------------------------------------------------------------\u001b[0m",
      "\u001b[0;31mValueError\u001b[0m                                Traceback (most recent call last)",
      "Input \u001b[0;32mIn [27]\u001b[0m, in \u001b[0;36m<cell line: 1>\u001b[0;34m()\u001b[0m\n\u001b[0;32m----> 1\u001b[0m name, hours, location \u001b[38;5;241m=\u001b[39m employee_check(work_hours)\n",
      "\u001b[0;31mValueError\u001b[0m: not enough values to unpack (expected 3, got 2)"
     ]
    }
   ],
   "source": [
    "name, hours, location = employee_check(work_hours)"
   ]
  },
  {
   "cell_type": "code",
   "execution_count": 28,
   "id": "257870f9",
   "metadata": {},
   "outputs": [],
   "source": [
    "# expected 3, got 2"
   ]
  },
  {
   "cell_type": "code",
   "execution_count": 32,
   "id": "22193d06",
   "metadata": {},
   "outputs": [],
   "source": [
    "# the easiest way to handle these errors is to assign the entire output to a single item\n",
    "# and then explore the item"
   ]
  },
  {
   "cell_type": "code",
   "execution_count": 33,
   "id": "8568c05c",
   "metadata": {},
   "outputs": [],
   "source": [
    "singleitem = employee_check(work_hours)"
   ]
  },
  {
   "cell_type": "code",
   "execution_count": 34,
   "id": "075b788c",
   "metadata": {},
   "outputs": [
    {
     "data": {
      "text/plain": [
       "('Billy', 4000)"
      ]
     },
     "execution_count": 34,
     "metadata": {},
     "output_type": "execute_result"
    }
   ],
   "source": [
    "singleitem"
   ]
  },
  {
   "cell_type": "code",
   "execution_count": null,
   "id": "d48b1153",
   "metadata": {},
   "outputs": [],
   "source": []
  }
 ],
 "metadata": {
  "kernelspec": {
   "display_name": "Python 3 (ipykernel)",
   "language": "python",
   "name": "python3"
  },
  "language_info": {
   "codemirror_mode": {
    "name": "ipython",
    "version": 3
   },
   "file_extension": ".py",
   "mimetype": "text/x-python",
   "name": "python",
   "nbconvert_exporter": "python",
   "pygments_lexer": "ipython3",
   "version": "3.9.12"
  }
 },
 "nbformat": 4,
 "nbformat_minor": 5
}
