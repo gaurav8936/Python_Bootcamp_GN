{
 "cells": [
  {
   "cell_type": "markdown",
   "id": "35b7ce5e",
   "metadata": {},
   "source": [
    "<font size = 8> Datetime Module"
   ]
  },
  {
   "cell_type": "code",
   "execution_count": 4,
   "id": "1017de0b",
   "metadata": {},
   "outputs": [],
   "source": [
    "import os"
   ]
  },
  {
   "cell_type": "code",
   "execution_count": 3,
   "id": "107cc832",
   "metadata": {},
   "outputs": [
    {
     "data": {
      "text/plain": [
       "'/Users/ganarasi/Dropbox/Berkeley2022/11.Python/31.Python_Bootcamp_GN/14. Advanced Python Modules'"
      ]
     },
     "execution_count": 3,
     "metadata": {},
     "output_type": "execute_result"
    }
   ],
   "source": [
    "os.getcwd()"
   ]
  },
  {
   "cell_type": "markdown",
   "id": "cfb64ee4",
   "metadata": {},
   "source": [
    "***"
   ]
  },
  {
   "cell_type": "code",
   "execution_count": 5,
   "id": "799ec5dc",
   "metadata": {},
   "outputs": [],
   "source": [
    "# how many seconds have passed\n",
    "# how many days have passed~"
   ]
  },
  {
   "cell_type": "markdown",
   "id": "934c3b01",
   "metadata": {},
   "source": [
    "***"
   ]
  },
  {
   "cell_type": "code",
   "execution_count": 6,
   "id": "12008488",
   "metadata": {},
   "outputs": [],
   "source": [
    "import datetime"
   ]
  },
  {
   "cell_type": "code",
   "execution_count": 7,
   "id": "962991cf",
   "metadata": {},
   "outputs": [],
   "source": [
    "mytime = datetime.time(2, 20) # 2 am and 20 minutes past"
   ]
  },
  {
   "cell_type": "code",
   "execution_count": 8,
   "id": "9793512c",
   "metadata": {},
   "outputs": [
    {
     "data": {
      "text/plain": [
       "20"
      ]
     },
     "execution_count": 8,
     "metadata": {},
     "output_type": "execute_result"
    }
   ],
   "source": [
    "mytime.minute"
   ]
  },
  {
   "cell_type": "code",
   "execution_count": 9,
   "id": "2d4a4c5e",
   "metadata": {},
   "outputs": [
    {
     "data": {
      "text/plain": [
       "2"
      ]
     },
     "execution_count": 9,
     "metadata": {},
     "output_type": "execute_result"
    }
   ],
   "source": [
    "mytime.hour"
   ]
  },
  {
   "cell_type": "code",
   "execution_count": 10,
   "id": "e1d3473a",
   "metadata": {},
   "outputs": [
    {
     "name": "stdout",
     "output_type": "stream",
     "text": [
      "02:20:00\n"
     ]
    }
   ],
   "source": [
    "print(mytime)"
   ]
  },
  {
   "cell_type": "code",
   "execution_count": 11,
   "id": "2e719025",
   "metadata": {},
   "outputs": [],
   "source": [
    "# it will automatically fill in the seconds with 00"
   ]
  },
  {
   "cell_type": "markdown",
   "id": "086663a5",
   "metadata": {},
   "source": [
    "***"
   ]
  },
  {
   "cell_type": "code",
   "execution_count": 12,
   "id": "65df74cf",
   "metadata": {},
   "outputs": [],
   "source": [
    "mytime2 = datetime.time(2)"
   ]
  },
  {
   "cell_type": "code",
   "execution_count": 13,
   "id": "758bebe8",
   "metadata": {},
   "outputs": [
    {
     "name": "stdout",
     "output_type": "stream",
     "text": [
      "02:00:00\n"
     ]
    }
   ],
   "source": [
    "print(mytime2)"
   ]
  },
  {
   "cell_type": "code",
   "execution_count": 16,
   "id": "60db753f",
   "metadata": {},
   "outputs": [],
   "source": [
    "mytime3 = datetime.time()"
   ]
  },
  {
   "cell_type": "code",
   "execution_count": 17,
   "id": "f87ff6a4",
   "metadata": {},
   "outputs": [
    {
     "name": "stdout",
     "output_type": "stream",
     "text": [
      "00:00:00\n"
     ]
    }
   ],
   "source": [
    "print(mytime3)"
   ]
  },
  {
   "cell_type": "markdown",
   "id": "50dbb5b9",
   "metadata": {},
   "source": [
    "***"
   ]
  },
  {
   "cell_type": "code",
   "execution_count": 18,
   "id": "347ccdcc",
   "metadata": {},
   "outputs": [
    {
     "data": {
      "text/plain": [
       "0"
      ]
     },
     "execution_count": 18,
     "metadata": {},
     "output_type": "execute_result"
    }
   ],
   "source": [
    "mytime.microsecond"
   ]
  },
  {
   "cell_type": "markdown",
   "id": "b3311621",
   "metadata": {},
   "source": [
    "***"
   ]
  },
  {
   "cell_type": "code",
   "execution_count": 21,
   "id": "a1907d70",
   "metadata": {},
   "outputs": [],
   "source": [
    "mytime4 = datetime.time(13, 20, 1, 20)"
   ]
  },
  {
   "cell_type": "code",
   "execution_count": 22,
   "id": "9b90d5ae",
   "metadata": {},
   "outputs": [
    {
     "name": "stdout",
     "output_type": "stream",
     "text": [
      "13:20:01.000020\n"
     ]
    }
   ],
   "source": [
    "print(mytime4)"
   ]
  },
  {
   "cell_type": "markdown",
   "id": "61d2e745",
   "metadata": {},
   "source": [
    "***"
   ]
  },
  {
   "cell_type": "code",
   "execution_count": 23,
   "id": "6fb4e695",
   "metadata": {},
   "outputs": [
    {
     "data": {
      "text/plain": [
       "datetime.time"
      ]
     },
     "execution_count": 23,
     "metadata": {},
     "output_type": "execute_result"
    }
   ],
   "source": [
    "type(mytime4)"
   ]
  },
  {
   "cell_type": "code",
   "execution_count": 24,
   "id": "19b2f0f1",
   "metadata": {},
   "outputs": [],
   "source": [
    "# notice that this has only hte time\n",
    "\n",
    "# NO DATE"
   ]
  },
  {
   "cell_type": "markdown",
   "id": "b5c9493f",
   "metadata": {},
   "source": [
    "***"
   ]
  },
  {
   "cell_type": "code",
   "execution_count": 25,
   "id": "f501be85",
   "metadata": {},
   "outputs": [],
   "source": [
    "today = datetime.date.today()"
   ]
  },
  {
   "cell_type": "code",
   "execution_count": 26,
   "id": "a2b0e04e",
   "metadata": {},
   "outputs": [
    {
     "name": "stdout",
     "output_type": "stream",
     "text": [
      "2022-07-25\n"
     ]
    }
   ],
   "source": [
    "print(today)"
   ]
  },
  {
   "cell_type": "code",
   "execution_count": 27,
   "id": "8513d441",
   "metadata": {},
   "outputs": [],
   "source": [
    "# format follows the european standard"
   ]
  },
  {
   "cell_type": "code",
   "execution_count": 28,
   "id": "f3ba783f",
   "metadata": {},
   "outputs": [
    {
     "data": {
      "text/plain": [
       "25"
      ]
     },
     "execution_count": 28,
     "metadata": {},
     "output_type": "execute_result"
    }
   ],
   "source": [
    "today.day"
   ]
  },
  {
   "cell_type": "code",
   "execution_count": 29,
   "id": "81bb2af1",
   "metadata": {},
   "outputs": [
    {
     "data": {
      "text/plain": [
       "2022"
      ]
     },
     "execution_count": 29,
     "metadata": {},
     "output_type": "execute_result"
    }
   ],
   "source": [
    "today.year"
   ]
  },
  {
   "cell_type": "markdown",
   "id": "b560f7a0",
   "metadata": {},
   "source": [
    "***"
   ]
  },
  {
   "cell_type": "markdown",
   "id": "c772b15d",
   "metadata": {},
   "source": [
    "## cTIME"
   ]
  },
  {
   "cell_type": "code",
   "execution_count": 31,
   "id": "d07133e6",
   "metadata": {},
   "outputs": [
    {
     "data": {
      "text/plain": [
       "'Mon Jul 25 00:00:00 2022'"
      ]
     },
     "execution_count": 31,
     "metadata": {},
     "output_type": "execute_result"
    }
   ],
   "source": [
    "today.ctime()"
   ]
  },
  {
   "cell_type": "markdown",
   "id": "bf8994e0",
   "metadata": {},
   "source": [
    "***"
   ]
  },
  {
   "cell_type": "markdown",
   "id": "a0457ca4",
   "metadata": {},
   "source": [
    "# Combining Date and Time"
   ]
  },
  {
   "cell_type": "code",
   "execution_count": 32,
   "id": "cfa0a9fd",
   "metadata": {},
   "outputs": [],
   "source": [
    "from datetime import datetime"
   ]
  },
  {
   "attachments": {
    "image.png": {
     "image/png": "[encoded data removed]"
    }
   },
   "cell_type": "markdown",
   "id": "cc564e45",
   "metadata": {},
   "source": [
    "![image.png](attachment:image.png)"
   ]
  },
  {
   "cell_type": "code",
   "execution_count": 33,
   "id": "ef3816d4",
   "metadata": {},
   "outputs": [],
   "source": [
    "# Notice all lthe information is now available"
   ]
  },
  {
   "cell_type": "code",
   "execution_count": 35,
   "id": "8a15ce31",
   "metadata": {},
   "outputs": [],
   "source": [
    "mydatetime = datetime(2021,10,3,14,20,1)"
   ]
  },
  {
   "cell_type": "code",
   "execution_count": 36,
   "id": "b2cc6b90",
   "metadata": {},
   "outputs": [
    {
     "name": "stdout",
     "output_type": "stream",
     "text": [
      "2021-10-03 14:20:01\n"
     ]
    }
   ],
   "source": [
    "print(mydatetime)"
   ]
  },
  {
   "cell_type": "markdown",
   "id": "7ed22460",
   "metadata": {},
   "source": [
    "***"
   ]
  },
  {
   "cell_type": "markdown",
   "id": "0e44b92b",
   "metadata": {},
   "source": [
    "## Replace Functionality to edit date/time"
   ]
  },
  {
   "cell_type": "markdown",
   "id": "4f99fdc8",
   "metadata": {},
   "source": [
    "***"
   ]
  },
  {
   "cell_type": "code",
   "execution_count": 37,
   "id": "25f3149a",
   "metadata": {},
   "outputs": [
    {
     "data": {
      "text/plain": [
       "datetime.datetime(2022, 10, 3, 14, 20, 1)"
      ]
     },
     "execution_count": 37,
     "metadata": {},
     "output_type": "execute_result"
    }
   ],
   "source": [
    "mydatetime.replace(year = 2022)"
   ]
  },
  {
   "cell_type": "code",
   "execution_count": 39,
   "id": "e80918eb",
   "metadata": {},
   "outputs": [],
   "source": [
    "mydatetime2 = mydatetime.replace(year = 2022)"
   ]
  },
  {
   "cell_type": "code",
   "execution_count": 41,
   "id": "b212cdc1",
   "metadata": {},
   "outputs": [
    {
     "name": "stdout",
     "output_type": "stream",
     "text": [
      "2022-10-03 14:20:01\n"
     ]
    }
   ],
   "source": [
    "print(mydatetime2)"
   ]
  },
  {
   "cell_type": "markdown",
   "id": "867bb72b",
   "metadata": {},
   "source": [
    "***"
   ]
  },
  {
   "cell_type": "code",
   "execution_count": 42,
   "id": "08b7c5b8",
   "metadata": {},
   "outputs": [],
   "source": [
    "# figuring out how long did users spend on my website or stay logged in"
   ]
  },
  {
   "cell_type": "code",
   "execution_count": 43,
   "id": "4aa2bf6e",
   "metadata": {},
   "outputs": [],
   "source": [
    "# you can do basic math on a date or datetime object"
   ]
  },
  {
   "cell_type": "code",
   "execution_count": 44,
   "id": "74c11720",
   "metadata": {},
   "outputs": [],
   "source": [
    "# DATE"
   ]
  },
  {
   "cell_type": "code",
   "execution_count": 45,
   "id": "2ec15ad6",
   "metadata": {},
   "outputs": [],
   "source": [
    "from datetime import date"
   ]
  },
  {
   "cell_type": "code",
   "execution_count": 46,
   "id": "9189d542",
   "metadata": {},
   "outputs": [],
   "source": [
    "date1 = date(2022, 11, 3)\n",
    "date2 = date(2020, 11, 3)"
   ]
  },
  {
   "cell_type": "code",
   "execution_count": 47,
   "id": "ffb1fbce",
   "metadata": {},
   "outputs": [
    {
     "data": {
      "text/plain": [
       "datetime.timedelta(days=730)"
      ]
     },
     "execution_count": 47,
     "metadata": {},
     "output_type": "execute_result"
    }
   ],
   "source": [
    "date1 - date2"
   ]
  },
  {
   "cell_type": "code",
   "execution_count": 48,
   "id": "14052322",
   "metadata": {},
   "outputs": [],
   "source": [
    "# time delta object"
   ]
  },
  {
   "cell_type": "code",
   "execution_count": 50,
   "id": "d8cfca20",
   "metadata": {},
   "outputs": [],
   "source": [
    "result = date1 - date2"
   ]
  },
  {
   "cell_type": "code",
   "execution_count": 51,
   "id": "f9b05929",
   "metadata": {},
   "outputs": [
    {
     "data": {
      "text/plain": [
       "datetime.timedelta"
      ]
     },
     "execution_count": 51,
     "metadata": {},
     "output_type": "execute_result"
    }
   ],
   "source": [
    "type(result)"
   ]
  },
  {
   "cell_type": "code",
   "execution_count": 53,
   "id": "79f8c519",
   "metadata": {},
   "outputs": [
    {
     "data": {
      "text/plain": [
       "730"
      ]
     },
     "execution_count": 53,
     "metadata": {},
     "output_type": "execute_result"
    }
   ],
   "source": [
    "result.days"
   ]
  },
  {
   "cell_type": "markdown",
   "id": "20f6409e",
   "metadata": {},
   "source": [
    "***"
   ]
  },
  {
   "cell_type": "code",
   "execution_count": 55,
   "id": "de4f7b64",
   "metadata": {},
   "outputs": [],
   "source": [
    "datetime1 = datetime(2022,11,3, 22,0)\n",
    "datetime2 = datetime(2020,11,3, 12,0)"
   ]
  },
  {
   "cell_type": "code",
   "execution_count": 56,
   "id": "5b8b9348",
   "metadata": {},
   "outputs": [
    {
     "data": {
      "text/plain": [
       "datetime.timedelta(days=730, seconds=36000)"
      ]
     },
     "execution_count": 56,
     "metadata": {},
     "output_type": "execute_result"
    }
   ],
   "source": [
    "datetime1 - datetime2"
   ]
  },
  {
   "cell_type": "code",
   "execution_count": 57,
   "id": "b53bcab8",
   "metadata": {},
   "outputs": [],
   "source": [
    "# note the return of seconds (10 hours apart is 36000 seconds)"
   ]
  },
  {
   "cell_type": "code",
   "execution_count": 58,
   "id": "dc77aff1",
   "metadata": {},
   "outputs": [],
   "source": [
    "result2 = datetime1 - datetime2"
   ]
  },
  {
   "cell_type": "code",
   "execution_count": 65,
   "id": "f59df19c",
   "metadata": {},
   "outputs": [
    {
     "data": {
      "text/plain": [
       "63108000.0"
      ]
     },
     "execution_count": 65,
     "metadata": {},
     "output_type": "execute_result"
    }
   ],
   "source": [
    "# this is everything in seconds\n",
    "\n",
    "result2.total_seconds()"
   ]
  },
  {
   "cell_type": "code",
   "execution_count": 64,
   "id": "6fd916ae",
   "metadata": {},
   "outputs": [
    {
     "name": "stdout",
     "output_type": "stream",
     "text": [
      "730 days, 10:00:00\n"
     ]
    }
   ],
   "source": [
    "print(result2)"
   ]
  },
  {
   "cell_type": "code",
   "execution_count": null,
   "id": "d73f0516",
   "metadata": {},
   "outputs": [],
   "source": []
  }
 ],
 "metadata": {
  "kernelspec": {
   "display_name": "Python 3 (ipykernel)",
   "language": "python",
   "name": "python3"
  },
  "language_info": {
   "codemirror_mode": {
    "name": "ipython",
    "version": 3
   },
   "file_extension": ".py",
   "mimetype": "text/x-python",
   "name": "python",
   "nbconvert_exporter": "python",
   "pygments_lexer": "ipython3",
   "version": "3.9.12"
  }
 },
 "nbformat": 4,
 "nbformat_minor": 5
}
