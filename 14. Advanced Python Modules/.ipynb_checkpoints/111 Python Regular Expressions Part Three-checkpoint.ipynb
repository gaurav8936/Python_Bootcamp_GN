{
 "cells": [
  {
   "cell_type": "markdown",
   "id": "35a5bb2c",
   "metadata": {},
   "source": [
    "<font size = 8> Python Regular Expressions Part Three"
   ]
  },
  {
   "cell_type": "code",
   "execution_count": 1,
   "id": "f655b1e4",
   "metadata": {},
   "outputs": [],
   "source": [
    "import re"
   ]
  },
  {
   "cell_type": "markdown",
   "id": "f439e243",
   "metadata": {},
   "source": [
    "***"
   ]
  },
  {
   "cell_type": "code",
   "execution_count": 2,
   "id": "2c59eff9",
   "metadata": {},
   "outputs": [],
   "source": [
    "# Searching for multiple patterns using the OR operator"
   ]
  },
  {
   "cell_type": "code",
   "execution_count": 4,
   "id": "2b0696e8",
   "metadata": {},
   "outputs": [
    {
     "data": {
      "text/plain": [
       "<re.Match object; span=(4, 7), match='cat'>"
      ]
     },
     "execution_count": 4,
     "metadata": {},
     "output_type": "execute_result"
    }
   ],
   "source": [
    "re.search(r'cat', 'The cat is here')"
   ]
  },
  {
   "cell_type": "code",
   "execution_count": 3,
   "id": "43b8f2a6",
   "metadata": {},
   "outputs": [],
   "source": [
    "text = \"This is my phone number in India 650-506-6062\""
   ]
  },
  {
   "cell_type": "code",
   "execution_count": 5,
   "id": "a52b044b",
   "metadata": {},
   "outputs": [
    {
     "data": {
      "text/plain": [
       "<re.Match object; span=(11, 16), match='phone'>"
      ]
     },
     "execution_count": 5,
     "metadata": {},
     "output_type": "execute_result"
    }
   ],
   "source": [
    "re.search(r'phone', text)"
   ]
  },
  {
   "cell_type": "code",
   "execution_count": 6,
   "id": "3fd704d2",
   "metadata": {},
   "outputs": [],
   "source": [
    "re.search(r'tele', text)"
   ]
  },
  {
   "cell_type": "code",
   "execution_count": 7,
   "id": "8098a503",
   "metadata": {},
   "outputs": [],
   "source": [
    "# note that the word tele did not return a result"
   ]
  },
  {
   "cell_type": "markdown",
   "id": "09fcb4ce",
   "metadata": {},
   "source": [
    "***"
   ]
  },
  {
   "cell_type": "markdown",
   "id": "dcef93d3",
   "metadata": {},
   "source": [
    "## OR"
   ]
  },
  {
   "cell_type": "code",
   "execution_count": 9,
   "id": "d45a9a3c",
   "metadata": {},
   "outputs": [
    {
     "data": {
      "text/plain": [
       "<re.Match object; span=(11, 17), match='phone '>"
      ]
     },
     "execution_count": 9,
     "metadata": {},
     "output_type": "execute_result"
    }
   ],
   "source": [
    "re.search(r'phone | tele', text)"
   ]
  },
  {
   "cell_type": "markdown",
   "id": "3d0751dd",
   "metadata": {},
   "source": [
    "***"
   ]
  },
  {
   "cell_type": "markdown",
   "id": "ac142f9a",
   "metadata": {},
   "source": [
    "## Wildcard"
   ]
  },
  {
   "cell_type": "code",
   "execution_count": 16,
   "id": "6853c943",
   "metadata": {},
   "outputs": [],
   "source": [
    "text2 = \"The cat in the hat sat there splat\""
   ]
  },
  {
   "cell_type": "code",
   "execution_count": 17,
   "id": "dea53628",
   "metadata": {},
   "outputs": [
    {
     "data": {
      "text/plain": [
       "['at', 'at', 'at', 'at']"
      ]
     },
     "execution_count": 17,
     "metadata": {},
     "output_type": "execute_result"
    }
   ],
   "source": [
    "re.findall(r'at', text2)"
   ]
  },
  {
   "cell_type": "code",
   "execution_count": 12,
   "id": "53b24b95",
   "metadata": {},
   "outputs": [],
   "source": [
    "# 3 mataches of at"
   ]
  },
  {
   "cell_type": "code",
   "execution_count": 13,
   "id": "87bbe67b",
   "metadata": {},
   "outputs": [],
   "source": [
    "# what if you wanted the whole word"
   ]
  },
  {
   "cell_type": "code",
   "execution_count": 14,
   "id": "17c9b400",
   "metadata": {},
   "outputs": [],
   "source": [
    "# Use the wildcard operator (.)"
   ]
  },
  {
   "cell_type": "code",
   "execution_count": 18,
   "id": "024fd247",
   "metadata": {},
   "outputs": [
    {
     "data": {
      "text/plain": [
       "['cat', 'hat', 'sat', 'lat']"
      ]
     },
     "execution_count": 18,
     "metadata": {},
     "output_type": "execute_result"
    }
   ],
   "source": [
    "re.findall(r'.at', text2)"
   ]
  },
  {
   "cell_type": "code",
   "execution_count": 19,
   "id": "d7d5e100",
   "metadata": {},
   "outputs": [],
   "source": [
    "# Add more wildcards as it is truncated to 2"
   ]
  },
  {
   "cell_type": "code",
   "execution_count": 20,
   "id": "ad17136a",
   "metadata": {},
   "outputs": [
    {
     "data": {
      "text/plain": [
       "[' cat', ' hat', ' sat', 'plat']"
      ]
     },
     "execution_count": 20,
     "metadata": {},
     "output_type": "execute_result"
    }
   ],
   "source": [
    "re.findall(r'..at', text2)"
   ]
  },
  {
   "cell_type": "code",
   "execution_count": 21,
   "id": "3ca6a586",
   "metadata": {},
   "outputs": [
    {
     "data": {
      "text/plain": [
       "['he cat', 'he hat', ' splat']"
      ]
     },
     "execution_count": 21,
     "metadata": {},
     "output_type": "execute_result"
    }
   ],
   "source": [
    "re.findall(r'....at', text2)"
   ]
  },
  {
   "cell_type": "code",
   "execution_count": 22,
   "id": "22c96d1e",
   "metadata": {},
   "outputs": [],
   "source": [
    "# wildcard counts space as a character"
   ]
  },
  {
   "cell_type": "markdown",
   "id": "057bdb69",
   "metadata": {},
   "source": [
    "***"
   ]
  },
  {
   "cell_type": "markdown",
   "id": "9f3ea572",
   "metadata": {},
   "source": [
    "## Starts with and Ends with"
   ]
  },
  {
   "cell_type": "code",
   "execution_count": 23,
   "id": "a1f8321e",
   "metadata": {},
   "outputs": [
    {
     "data": {
      "text/plain": [
       "['1']"
      ]
     },
     "execution_count": 23,
     "metadata": {},
     "output_type": "execute_result"
    }
   ],
   "source": [
    "# STARTS WITH\n",
    "\n",
    "re.findall(r'^\\d', \"1 is a number\")\n",
    "\n",
    "# ^\\d indicates return a string starting iwth a number"
   ]
  },
  {
   "cell_type": "code",
   "execution_count": 24,
   "id": "afd47f71",
   "metadata": {},
   "outputs": [
    {
     "data": {
      "text/plain": [
       "[]"
      ]
     },
     "execution_count": 24,
     "metadata": {},
     "output_type": "execute_result"
    }
   ],
   "source": [
    "# However this will not work for\n",
    "\n",
    "re.findall(r'^\\d', \"This 2 is also a number\")"
   ]
  },
  {
   "cell_type": "markdown",
   "id": "87a05120",
   "metadata": {},
   "source": [
    "***"
   ]
  },
  {
   "cell_type": "code",
   "execution_count": 25,
   "id": "fa0d7b99",
   "metadata": {},
   "outputs": [],
   "source": [
    "# ENDS WITH"
   ]
  },
  {
   "cell_type": "code",
   "execution_count": 26,
   "id": "ff164443",
   "metadata": {},
   "outputs": [
    {
     "data": {
      "text/plain": [
       "['2']"
      ]
     },
     "execution_count": 26,
     "metadata": {},
     "output_type": "execute_result"
    }
   ],
   "source": [
    "re.findall(r'\\d$', \"here are dollars 2\")"
   ]
  },
  {
   "cell_type": "code",
   "execution_count": 27,
   "id": "91af7479",
   "metadata": {},
   "outputs": [],
   "source": [
    "# NOTE THE $ symbol"
   ]
  },
  {
   "cell_type": "code",
   "execution_count": 28,
   "id": "b3f8c1a8",
   "metadata": {},
   "outputs": [
    {
     "data": {
      "text/plain": [
       "[]"
      ]
     },
     "execution_count": 28,
     "metadata": {},
     "output_type": "execute_result"
    }
   ],
   "source": [
    "# However, this will not work for\n",
    "\n",
    "re.findall(r'\\d$', \"here are 2 dollars\")"
   ]
  },
  {
   "cell_type": "markdown",
   "id": "37fb4799",
   "metadata": {},
   "source": [
    "***"
   ]
  },
  {
   "cell_type": "markdown",
   "id": "913d497c",
   "metadata": {},
   "source": [
    "## Excluding characters"
   ]
  },
  {
   "cell_type": "code",
   "execution_count": 29,
   "id": "472ac6dc",
   "metadata": {},
   "outputs": [],
   "source": [
    "# Use the ^ iwth brackets"
   ]
  },
  {
   "cell_type": "code",
   "execution_count": 32,
   "id": "db214162",
   "metadata": {},
   "outputs": [],
   "source": [
    "phrase = 'there are 3 numbers 34 inside 5 this sentence'\n",
    "\n",
    "# jusrt random numbers placed inside this sentence\n",
    "\n",
    "# we need to exclude numbers"
   ]
  },
  {
   "cell_type": "code",
   "execution_count": 35,
   "id": "4e08e0e4",
   "metadata": {},
   "outputs": [],
   "source": [
    "# First define the pattern (d for integers)\n",
    "\n",
    "pattern1 = r'[^\\d]'"
   ]
  },
  {
   "cell_type": "code",
   "execution_count": 36,
   "id": "a056b5a6",
   "metadata": {},
   "outputs": [
    {
     "data": {
      "text/plain": [
       "['t',\n",
       " 'h',\n",
       " 'e',\n",
       " 'r',\n",
       " 'e',\n",
       " ' ',\n",
       " 'a',\n",
       " 'r',\n",
       " 'e',\n",
       " ' ',\n",
       " ' ',\n",
       " 'n',\n",
       " 'u',\n",
       " 'm',\n",
       " 'b',\n",
       " 'e',\n",
       " 'r',\n",
       " 's',\n",
       " ' ',\n",
       " ' ',\n",
       " 'i',\n",
       " 'n',\n",
       " 's',\n",
       " 'i',\n",
       " 'd',\n",
       " 'e',\n",
       " ' ',\n",
       " ' ',\n",
       " 't',\n",
       " 'h',\n",
       " 'i',\n",
       " 's',\n",
       " ' ',\n",
       " 's',\n",
       " 'e',\n",
       " 'n',\n",
       " 't',\n",
       " 'e',\n",
       " 'n',\n",
       " 'c',\n",
       " 'e']"
      ]
     },
     "execution_count": 36,
     "metadata": {},
     "output_type": "execute_result"
    }
   ],
   "source": [
    "re.findall(pattern1, phrase)"
   ]
  },
  {
   "cell_type": "code",
   "execution_count": 37,
   "id": "282cfdfc",
   "metadata": {},
   "outputs": [],
   "source": [
    "# this only return non numbers"
   ]
  },
  {
   "cell_type": "code",
   "execution_count": 39,
   "id": "11bcfeb2",
   "metadata": {},
   "outputs": [],
   "source": [
    "# getting the words back together with the + identifier"
   ]
  },
  {
   "attachments": {
    "image.png": {
     "image/png": "[encoded data removed]"
    }
   },
   "cell_type": "markdown",
   "id": "48c6475c",
   "metadata": {},
   "source": [
    "![image.png](attachment:image.png)"
   ]
  },
  {
   "cell_type": "code",
   "execution_count": 40,
   "id": "e0e80c89",
   "metadata": {},
   "outputs": [],
   "source": [
    "# add the +\n",
    "\n",
    "pattern2 = r'[^\\d]+'"
   ]
  },
  {
   "cell_type": "code",
   "execution_count": 41,
   "id": "885d0354",
   "metadata": {},
   "outputs": [
    {
     "data": {
      "text/plain": [
       "['there are ', ' numbers ', ' inside ', ' this sentence']"
      ]
     },
     "execution_count": 41,
     "metadata": {},
     "output_type": "execute_result"
    }
   ],
   "source": [
    "re.findall(pattern2, phrase)"
   ]
  },
  {
   "cell_type": "code",
   "execution_count": 42,
   "id": "b7a97e16",
   "metadata": {},
   "outputs": [],
   "source": [
    "# this is a useful way to get rid of punctuation from a sentence"
   ]
  },
  {
   "cell_type": "markdown",
   "id": "8fb9c3ab",
   "metadata": {},
   "source": [
    "***"
   ]
  },
  {
   "cell_type": "code",
   "execution_count": 44,
   "id": "915e17c4",
   "metadata": {},
   "outputs": [],
   "source": [
    "phrase3 = 'This is a string! But this has punctuation. How can we remove it?'"
   ]
  },
  {
   "cell_type": "code",
   "execution_count": 47,
   "id": "ee02c925",
   "metadata": {},
   "outputs": [
    {
     "data": {
      "text/plain": [
       "['This is a string', ' But this has punctuation', ' How can we remove it']"
      ]
     },
     "execution_count": 47,
     "metadata": {},
     "output_type": "execute_result"
    }
   ],
   "source": [
    "# notice the new pattern\n",
    "\n",
    "pattern3 = r'[^!.?]+'\n",
    "\n",
    "re.findall(pattern3, phrase3)\n",
    "\n",
    "# re.findall(r'[^!.?]+', phrase3)"
   ]
  },
  {
   "cell_type": "code",
   "execution_count": 48,
   "id": "983fe98a",
   "metadata": {},
   "outputs": [],
   "source": [
    "# remove spaces"
   ]
  },
  {
   "cell_type": "code",
   "execution_count": 49,
   "id": "8c715138",
   "metadata": {},
   "outputs": [
    {
     "data": {
      "text/plain": [
       "['This',\n",
       " 'is',\n",
       " 'a',\n",
       " 'string',\n",
       " 'But',\n",
       " 'this',\n",
       " 'has',\n",
       " 'punctuation',\n",
       " 'How',\n",
       " 'can',\n",
       " 'we',\n",
       " 'remove',\n",
       " 'it']"
      ]
     },
     "execution_count": 49,
     "metadata": {},
     "output_type": "execute_result"
    }
   ],
   "source": [
    "# adding space to the pattern for removal\n",
    "\n",
    "pattern4 = r'[^!.? ]+'\n",
    "\n",
    "re.findall(pattern4, phrase3)"
   ]
  },
  {
   "cell_type": "code",
   "execution_count": 50,
   "id": "d8c54dc7",
   "metadata": {},
   "outputs": [],
   "source": [
    "# now we get a list of all the words"
   ]
  },
  {
   "cell_type": "code",
   "execution_count": 51,
   "id": "b6aa9ed7",
   "metadata": {},
   "outputs": [],
   "source": [
    "clean = re.findall(pattern4, phrase3)"
   ]
  },
  {
   "cell_type": "code",
   "execution_count": 52,
   "id": "db17cfbb",
   "metadata": {},
   "outputs": [
    {
     "data": {
      "text/plain": [
       "['This',\n",
       " 'is',\n",
       " 'a',\n",
       " 'string',\n",
       " 'But',\n",
       " 'this',\n",
       " 'has',\n",
       " 'punctuation',\n",
       " 'How',\n",
       " 'can',\n",
       " 'we',\n",
       " 'remove',\n",
       " 'it']"
      ]
     },
     "execution_count": 52,
     "metadata": {},
     "output_type": "execute_result"
    }
   ],
   "source": [
    "clean"
   ]
  },
  {
   "cell_type": "markdown",
   "id": "fef904ee",
   "metadata": {},
   "source": [
    "***"
   ]
  },
  {
   "cell_type": "markdown",
   "id": "5b807024",
   "metadata": {},
   "source": [
    "## Joining words back together"
   ]
  },
  {
   "cell_type": "code",
   "execution_count": 53,
   "id": "b5075337",
   "metadata": {},
   "outputs": [
    {
     "data": {
      "text/plain": [
       "'This is a string But this has punctuation How can we remove it'"
      ]
     },
     "execution_count": 53,
     "metadata": {},
     "output_type": "execute_result"
    }
   ],
   "source": [
    "' '.join(clean)"
   ]
  },
  {
   "cell_type": "markdown",
   "id": "3c156a82",
   "metadata": {},
   "source": [
    "***"
   ]
  },
  {
   "cell_type": "markdown",
   "id": "0f1960ae",
   "metadata": {},
   "source": [
    "## Grouping things with [ ]"
   ]
  },
  {
   "cell_type": "code",
   "execution_count": 55,
   "id": "f35cdc50",
   "metadata": {},
   "outputs": [],
   "source": [
    "text5 = 'Only find the hyphen-words in this sentence. \\\n",
    "But you do not know how long-ish they are'"
   ]
  },
  {
   "cell_type": "code",
   "execution_count": 56,
   "id": "c88ba5fc",
   "metadata": {},
   "outputs": [],
   "source": [
    "# find words that have a hyphen in the middle of it"
   ]
  },
  {
   "cell_type": "code",
   "execution_count": 57,
   "id": "a2643f58",
   "metadata": {},
   "outputs": [],
   "source": [
    "pattern5 = r'[\\w]+'\n",
    "\n",
    "# this indicates a group of alphanumeric\n",
    "# this excludes teh hyphen itself"
   ]
  },
  {
   "attachments": {
    "image.png": {
     "image/png": "[encoded data removed]"
    }
   },
   "cell_type": "markdown",
   "id": "f1220488",
   "metadata": {},
   "source": [
    "![image.png](attachment:image.png)"
   ]
  },
  {
   "cell_type": "code",
   "execution_count": 58,
   "id": "402bf673",
   "metadata": {},
   "outputs": [
    {
     "data": {
      "text/plain": [
       "['Only',\n",
       " 'find',\n",
       " 'the',\n",
       " 'hyphen',\n",
       " 'words',\n",
       " 'in',\n",
       " 'this',\n",
       " 'sentence',\n",
       " 'But',\n",
       " 'you',\n",
       " 'do',\n",
       " 'not',\n",
       " 'know',\n",
       " 'how',\n",
       " 'long',\n",
       " 'ish',\n",
       " 'they',\n",
       " 'are']"
      ]
     },
     "execution_count": 58,
     "metadata": {},
     "output_type": "execute_result"
    }
   ],
   "source": [
    "re.findall(pattern5, text5)"
   ]
  },
  {
   "cell_type": "markdown",
   "id": "0b592d36",
   "metadata": {},
   "source": [
    "***"
   ]
  },
  {
   "cell_type": "code",
   "execution_count": 64,
   "id": "c07ed798",
   "metadata": {},
   "outputs": [],
   "source": [
    "# adding two groups together separated by a hyphen\n",
    "\n",
    "pattern6 = r'[\\w]+-[\\w]+'\n",
    "\n",
    "# pattern6 = r'[\\w]+ - [\\w]+'"
   ]
  },
  {
   "cell_type": "code",
   "execution_count": 65,
   "id": "005a6900",
   "metadata": {},
   "outputs": [
    {
     "data": {
      "text/plain": [
       "['hyphen-words', 'long-ish']"
      ]
     },
     "execution_count": 65,
     "metadata": {},
     "output_type": "execute_result"
    }
   ],
   "source": [
    "re.findall(pattern6,text5)"
   ]
  },
  {
   "cell_type": "markdown",
   "id": "5041f65c",
   "metadata": {},
   "source": [
    "***"
   ]
  },
  {
   "cell_type": "code",
   "execution_count": 66,
   "id": "26d26842",
   "metadata": {},
   "outputs": [],
   "source": [
    "# You would get the same result if you remove the braces"
   ]
  },
  {
   "cell_type": "code",
   "execution_count": 67,
   "id": "5abba897",
   "metadata": {},
   "outputs": [],
   "source": [
    "pattern7 = r'\\w+-\\w+'"
   ]
  },
  {
   "cell_type": "code",
   "execution_count": 68,
   "id": "64a3097a",
   "metadata": {},
   "outputs": [
    {
     "data": {
      "text/plain": [
       "['hyphen-words', 'long-ish']"
      ]
     },
     "execution_count": 68,
     "metadata": {},
     "output_type": "execute_result"
    }
   ],
   "source": [
    "re.findall(pattern7,text5)"
   ]
  },
  {
   "cell_type": "code",
   "execution_count": 69,
   "id": "d94a6a0a",
   "metadata": {},
   "outputs": [],
   "source": [
    "# braces are added primarily to improve readability"
   ]
  },
  {
   "cell_type": "markdown",
   "id": "24f95445",
   "metadata": {},
   "source": [
    "***"
   ]
  },
  {
   "cell_type": "markdown",
   "id": "e8a8538f",
   "metadata": {},
   "source": [
    "## Using paranthesis for multiple options"
   ]
  },
  {
   "cell_type": "code",
   "execution_count": 71,
   "id": "74503887",
   "metadata": {},
   "outputs": [],
   "source": [
    "text = 'Hello, would you like some catfish?'\n",
    "texttwo = \"Hello, would you like to take a catnap?\"\n",
    "textthree = \"Hello, have you seen this caterpillar?\""
   ]
  },
  {
   "cell_type": "code",
   "execution_count": 72,
   "id": "6d606fec",
   "metadata": {},
   "outputs": [],
   "source": [
    "# all start with cat"
   ]
  },
  {
   "cell_type": "code",
   "execution_count": 73,
   "id": "cbba2c4b",
   "metadata": {},
   "outputs": [
    {
     "data": {
      "text/plain": [
       "<re.Match object; span=(27, 34), match='catfish'>"
      ]
     },
     "execution_count": 73,
     "metadata": {},
     "output_type": "execute_result"
    }
   ],
   "source": [
    "re.search(r'cat(fish|nap|claw)', text)"
   ]
  },
  {
   "cell_type": "code",
   "execution_count": 74,
   "id": "a68afa14",
   "metadata": {},
   "outputs": [
    {
     "data": {
      "text/plain": [
       "<re.Match object; span=(32, 38), match='catnap'>"
      ]
     },
     "execution_count": 74,
     "metadata": {},
     "output_type": "execute_result"
    }
   ],
   "source": [
    "re.search(r'cat(fish|nap|claw)', texttwo)"
   ]
  },
  {
   "cell_type": "code",
   "execution_count": 75,
   "id": "7a9a6c8e",
   "metadata": {},
   "outputs": [],
   "source": [
    "re.search(r'cat(fish|nap|claw)', textthree)"
   ]
  },
  {
   "cell_type": "code",
   "execution_count": 76,
   "id": "110456aa",
   "metadata": {},
   "outputs": [],
   "source": [
    "# did not find anything"
   ]
  },
  {
   "cell_type": "code",
   "execution_count": 77,
   "id": "c1fcf1bd",
   "metadata": {},
   "outputs": [
    {
     "data": {
      "text/plain": [
       "<re.Match object; span=(26, 37), match='caterpillar'>"
      ]
     },
     "execution_count": 77,
     "metadata": {},
     "output_type": "execute_result"
    }
   ],
   "source": [
    "re.search(r'cat(fish|nap|erpillar)', textthree)"
   ]
  },
  {
   "cell_type": "code",
   "execution_count": null,
   "id": "71bf02fd",
   "metadata": {},
   "outputs": [],
   "source": []
  }
 ],
 "metadata": {
  "kernelspec": {
   "display_name": "Python 3 (ipykernel)",
   "language": "python",
   "name": "python3"
  },
  "language_info": {
   "codemirror_mode": {
    "name": "ipython",
    "version": 3
   },
   "file_extension": ".py",
   "mimetype": "text/x-python",
   "name": "python",
   "nbconvert_exporter": "python",
   "pygments_lexer": "ipython3",
   "version": "3.9.12"
  }
 },
 "nbformat": 4,
 "nbformat_minor": 5
}
