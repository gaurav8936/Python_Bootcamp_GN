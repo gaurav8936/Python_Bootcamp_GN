{
 "cells": [
  {
   "cell_type": "markdown",
   "id": "813ea1ed",
   "metadata": {},
   "source": [
    "<font size = 20, color = 'curelean'> Resources for more basic practice <font>"
   ]
  },
  {
   "cell_type": "markdown",
   "id": "5c1c7635",
   "metadata": {},
   "source": [
    "## Basic Practice"
   ]
  },
  {
   "cell_type": "markdown",
   "id": "302a8af9",
   "metadata": {},
   "source": [
    "http://codingbat.com/python"
   ]
  },
  {
   "cell_type": "markdown",
   "id": "2c09d10d",
   "metadata": {},
   "source": [
    "## More Mathematical (and Harder) Practice:"
   ]
  },
  {
   "cell_type": "markdown",
   "id": "f70e96f2",
   "metadata": {},
   "source": [
    "https://projecteuler.net/archives"
   ]
  },
  {
   "cell_type": "markdown",
   "id": "43feb1a8",
   "metadata": {},
   "source": [
    "## List of Practice Problems:"
   ]
  },
  {
   "cell_type": "markdown",
   "id": "85ee3c5c",
   "metadata": {},
   "source": [
    "http://www.codeabbey.com/index/task_list"
   ]
  },
  {
   "cell_type": "markdown",
   "id": "2c0809ef",
   "metadata": {},
   "source": [
    "## A SubReddit Devoted to Daily Practice Problems:"
   ]
  },
  {
   "cell_type": "markdown",
   "id": "022a6919",
   "metadata": {},
   "source": [
    "https://www.reddit.com/r/dailyprogrammer"
   ]
  },
  {
   "cell_type": "markdown",
   "id": "4453d810",
   "metadata": {},
   "source": [
    "## A very tricky website with very few hints and touch problems (Not for beginners but still interesting)"
   ]
  },
  {
   "cell_type": "markdown",
   "id": "26fed792",
   "metadata": {},
   "source": [
    "http://www.pythonchallenge.com/"
   ]
  },
  {
   "cell_type": "code",
   "execution_count": null,
   "id": "28b28308",
   "metadata": {},
   "outputs": [],
   "source": []
  }
 ],
 "metadata": {
  "kernelspec": {
   "display_name": "Python 3 (ipykernel)",
   "language": "python",
   "name": "python3"
  },
  "language_info": {
   "codemirror_mode": {
    "name": "ipython",
    "version": 3
   },
   "file_extension": ".py",
   "mimetype": "text/x-python",
   "name": "python",
   "nbconvert_exporter": "python",
   "pygments_lexer": "ipython3",
   "version": "3.9.12"
  }
 },
 "nbformat": 4,
 "nbformat_minor": 5
}
