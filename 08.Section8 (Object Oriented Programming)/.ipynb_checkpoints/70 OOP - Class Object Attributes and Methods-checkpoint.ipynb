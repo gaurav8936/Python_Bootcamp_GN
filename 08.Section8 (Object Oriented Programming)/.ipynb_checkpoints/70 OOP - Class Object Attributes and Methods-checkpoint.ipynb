{
 "cells": [
  {
   "cell_type": "markdown",
   "id": "728c958f",
   "metadata": {},
   "source": [
    "<font size = 8> Class Object Attributes and Methods"
   ]
  },
  {
   "cell_type": "code",
   "execution_count": 1,
   "id": "4c1bea4e",
   "metadata": {},
   "outputs": [],
   "source": [
    "# Class Object Attrtibutes --> Will be same for all objects in the class"
   ]
  },
  {
   "cell_type": "code",
   "execution_count": 2,
   "id": "84dc780c",
   "metadata": {},
   "outputs": [],
   "source": [
    "# Methods --> ACtions you can perform with the object you create"
   ]
  },
  {
   "cell_type": "code",
   "execution_count": 5,
   "id": "28932c74",
   "metadata": {},
   "outputs": [],
   "source": [
    "class Dog():\n",
    "    \n",
    "    # define attribute at class object level\n",
    "    # CLASS OBJECT ATTRIBUTE\n",
    "    # SAME FOR ANY INSTANCE OF A CLASS\n",
    "    \n",
    "    species = 'mammal' \n",
    "    # note the self keyword is not used\n",
    "    \n",
    "    def __init__(self, breed, name, spots):\n",
    "        \n",
    "        self.breed = breed\n",
    "        self.name = name\n",
    "        \n",
    "        self.spots = spots"
   ]
  },
  {
   "cell_type": "code",
   "execution_count": 6,
   "id": "86c2e151",
   "metadata": {},
   "outputs": [],
   "source": [
    "my_dog = Dog(breed = 'Pointer', name = 'Labby', spots = True)"
   ]
  },
  {
   "cell_type": "code",
   "execution_count": 7,
   "id": "f9ade6ba",
   "metadata": {},
   "outputs": [
    {
     "data": {
      "text/plain": [
       "__main__.Dog"
      ]
     },
     "execution_count": 7,
     "metadata": {},
     "output_type": "execute_result"
    }
   ],
   "source": [
    "type(my_dog)"
   ]
  },
  {
   "cell_type": "code",
   "execution_count": 8,
   "id": "0969daf7",
   "metadata": {},
   "outputs": [
    {
     "data": {
      "text/plain": [
       "'mammal'"
      ]
     },
     "execution_count": 8,
     "metadata": {},
     "output_type": "execute_result"
    }
   ],
   "source": [
    "my_dog.species"
   ]
  },
  {
   "cell_type": "code",
   "execution_count": 9,
   "id": "c28cdf48",
   "metadata": {},
   "outputs": [
    {
     "data": {
      "text/plain": [
       "'Labby'"
      ]
     },
     "execution_count": 9,
     "metadata": {},
     "output_type": "execute_result"
    }
   ],
   "source": [
    "my_dog.name"
   ]
  },
  {
   "cell_type": "code",
   "execution_count": 11,
   "id": "3bc67fc8",
   "metadata": {},
   "outputs": [
    {
     "data": {
      "text/plain": [
       "'Pointer'"
      ]
     },
     "execution_count": 11,
     "metadata": {},
     "output_type": "execute_result"
    }
   ],
   "source": [
    "my_dog.breed"
   ]
  },
  {
   "cell_type": "code",
   "execution_count": 12,
   "id": "8e03a007",
   "metadata": {},
   "outputs": [
    {
     "data": {
      "text/plain": [
       "True"
      ]
     },
     "execution_count": 12,
     "metadata": {},
     "output_type": "execute_result"
    }
   ],
   "source": [
    "my_dog.spots"
   ]
  },
  {
   "cell_type": "markdown",
   "id": "149c6b22",
   "metadata": {},
   "source": [
    "***"
   ]
  },
  {
   "cell_type": "markdown",
   "id": "a5571242",
   "metadata": {},
   "source": [
    "# Methods"
   ]
  },
  {
   "cell_type": "markdown",
   "id": "99ec3c48",
   "metadata": {},
   "source": [
    "### Methods are functions defined inside the body of a class and use to perform operations that can use attributes "
   ]
  },
  {
   "cell_type": "code",
   "execution_count": 25,
   "id": "d4dcf342",
   "metadata": {},
   "outputs": [],
   "source": [
    "class Dog():\n",
    "    \n",
    "    # define attribute at class object level\n",
    "    # CLASS OBJECT ATTRIBUTE\n",
    "    # SAME FOR ANY INSTANCE OF A CLASS\n",
    "    \n",
    "    species = 'mammal' \n",
    "    # note the self keyword is not used\n",
    "    \n",
    "    def __init__(self, breed, name): #spots\n",
    "        \n",
    "        self.breed = breed\n",
    "        self.name = name\n",
    "        \n",
    "#         self.spots = spots\n",
    "        \n",
    "    \n",
    "    # OPERATIONS / ACTIONS ---> METHODS\n",
    "    \n",
    "    def bark(self):\n",
    "        #print(\"WOOF!\")\n",
    "        print(\"WOOF! My name is {}\".format(self.name))"
   ]
  },
  {
   "cell_type": "code",
   "execution_count": 27,
   "id": "9f03fcc6",
   "metadata": {},
   "outputs": [],
   "source": [
    "my_dog = Dog('Lab', 'Frankie')"
   ]
  },
  {
   "cell_type": "code",
   "execution_count": 28,
   "id": "f040bb2b",
   "metadata": {},
   "outputs": [
    {
     "data": {
      "text/plain": [
       "__main__.Dog"
      ]
     },
     "execution_count": 28,
     "metadata": {},
     "output_type": "execute_result"
    }
   ],
   "source": [
    "type(my_dog)"
   ]
  },
  {
   "cell_type": "code",
   "execution_count": 29,
   "id": "1d1cea44",
   "metadata": {},
   "outputs": [
    {
     "data": {
      "text/plain": [
       "'mammal'"
      ]
     },
     "execution_count": 29,
     "metadata": {},
     "output_type": "execute_result"
    }
   ],
   "source": [
    "my_dog.species\n",
    "\n",
    "# attributes dont have () as it is not something you execute"
   ]
  },
  {
   "cell_type": "code",
   "execution_count": 30,
   "id": "6d35e33d",
   "metadata": {},
   "outputs": [
    {
     "data": {
      "text/plain": [
       "'mammal'"
      ]
     },
     "execution_count": 30,
     "metadata": {},
     "output_type": "execute_result"
    }
   ],
   "source": [
    "my_dog.species"
   ]
  },
  {
   "cell_type": "markdown",
   "id": "1e2a9763",
   "metadata": {},
   "source": [
    "***"
   ]
  },
  {
   "cell_type": "code",
   "execution_count": 31,
   "id": "7ec229a6",
   "metadata": {},
   "outputs": [],
   "source": [
    "# Methods will need ot be executed ()"
   ]
  },
  {
   "cell_type": "code",
   "execution_count": 32,
   "id": "b55b6de2",
   "metadata": {},
   "outputs": [
    {
     "data": {
      "text/plain": [
       "<bound method Dog.bark of <__main__.Dog object at 0x7f8f808c7490>>"
      ]
     },
     "execution_count": 32,
     "metadata": {},
     "output_type": "execute_result"
    }
   ],
   "source": [
    "my_dog.bark"
   ]
  },
  {
   "cell_type": "code",
   "execution_count": 33,
   "id": "5362e503",
   "metadata": {},
   "outputs": [
    {
     "name": "stdout",
     "output_type": "stream",
     "text": [
      "WOOF! My name is Frankie\n"
     ]
    }
   ],
   "source": [
    "my_dog.bark()"
   ]
  },
  {
   "cell_type": "markdown",
   "id": "6d2fa354",
   "metadata": {},
   "source": [
    "***"
   ]
  },
  {
   "cell_type": "code",
   "execution_count": 34,
   "id": "d94f0979",
   "metadata": {},
   "outputs": [],
   "source": [
    "class Dog():\n",
    "    \n",
    "    # define attribute at class object level\n",
    "    # CLASS OBJECT ATTRIBUTE\n",
    "    # SAME FOR ANY INSTANCE OF A CLASS\n",
    "    \n",
    "    species = 'mammal' \n",
    "    # note the self keyword is not used\n",
    "    \n",
    "    def __init__(self, breed, name): #spots\n",
    "        \n",
    "        self.breed = breed\n",
    "        self.name = name\n",
    "        \n",
    "#         self.spots = spots\n",
    "        \n",
    "    \n",
    "    # OPERATIONS / ACTIONS ---> METHODS\n",
    "    \n",
    "    \n",
    "    # METHODS CAN TAKE OUTSIDE ARGUMENTS\n",
    "    def bark(self, number):\n",
    "        #print(\"WOOF!\")\n",
    "        print(\"WOOF! My name is {} and the number is {}\".format(self.name, number))"
   ]
  },
  {
   "cell_type": "code",
   "execution_count": 35,
   "id": "697c9682",
   "metadata": {},
   "outputs": [],
   "source": [
    "my_dog = Dog('Lab', 'Frankie')"
   ]
  },
  {
   "cell_type": "code",
   "execution_count": 37,
   "id": "9b43a1dd",
   "metadata": {},
   "outputs": [
    {
     "name": "stdout",
     "output_type": "stream",
     "text": [
      "WOOF! My name is Frankie and the number is 10\n"
     ]
    }
   ],
   "source": [
    "my_dog.bark(10)"
   ]
  },
  {
   "cell_type": "markdown",
   "id": "ec2478db",
   "metadata": {},
   "source": [
    "***"
   ]
  },
  {
   "cell_type": "markdown",
   "id": "b9c97015",
   "metadata": {},
   "source": [
    "***"
   ]
  },
  {
   "cell_type": "code",
   "execution_count": 43,
   "id": "2149e205",
   "metadata": {},
   "outputs": [],
   "source": [
    "class Circle():\n",
    "    \n",
    "    # Class Object Attribute\n",
    "    \n",
    "    pi = 3.14\n",
    "    \n",
    "    \n",
    "    def __init__(self, radius = 10):  # 10 is the default value -- not mandatory\n",
    "        \n",
    "        self.radius = radius\n",
    "        \n",
    "    \n",
    "    # METHOD\n",
    "    \n",
    "    def get_circumference(self):\n",
    "        \n",
    "        return self.radius * self.pi * 2\n",
    "        \n",
    "    "
   ]
  },
  {
   "cell_type": "code",
   "execution_count": 44,
   "id": "9a47d85a",
   "metadata": {},
   "outputs": [],
   "source": [
    "my_circle = Circle()"
   ]
  },
  {
   "attachments": {
    "image.png": {
     "image/png": "[encoded data removed]"
    }
   },
   "cell_type": "markdown",
   "id": "40eec8ea",
   "metadata": {},
   "source": [
    "![image.png](attachment:image.png)"
   ]
  },
  {
   "cell_type": "code",
   "execution_count": null,
   "id": "5620f6eb",
   "metadata": {},
   "outputs": [],
   "source": [
    "# Note this displays the attributes as well as the method"
   ]
  },
  {
   "cell_type": "code",
   "execution_count": 46,
   "id": "8653efe6",
   "metadata": {},
   "outputs": [
    {
     "data": {
      "text/plain": [
       "62.800000000000004"
      ]
     },
     "execution_count": 46,
     "metadata": {},
     "output_type": "execute_result"
    }
   ],
   "source": [
    "my_circle.get_circumference()"
   ]
  },
  {
   "cell_type": "code",
   "execution_count": 47,
   "id": "35c609e8",
   "metadata": {},
   "outputs": [
    {
     "data": {
      "text/plain": [
       "3.14"
      ]
     },
     "execution_count": 47,
     "metadata": {},
     "output_type": "execute_result"
    }
   ],
   "source": [
    "my_circle.pi"
   ]
  },
  {
   "cell_type": "code",
   "execution_count": 48,
   "id": "5b88ff1d",
   "metadata": {},
   "outputs": [
    {
     "data": {
      "text/plain": [
       "10"
      ]
     },
     "execution_count": 48,
     "metadata": {},
     "output_type": "execute_result"
    }
   ],
   "source": [
    "my_circle.radius"
   ]
  },
  {
   "cell_type": "code",
   "execution_count": 49,
   "id": "bf9b627a",
   "metadata": {},
   "outputs": [
    {
     "ename": "TypeError",
     "evalue": "get_circumference() takes 1 positional argument but 2 were given",
     "output_type": "error",
     "traceback": [
      "\u001b[0;31m---------------------------------------------------------------------------\u001b[0m",
      "\u001b[0;31mTypeError\u001b[0m                                 Traceback (most recent call last)",
      "Input \u001b[0;32mIn [49]\u001b[0m, in \u001b[0;36m<cell line: 1>\u001b[0;34m()\u001b[0m\n\u001b[0;32m----> 1\u001b[0m \u001b[43mmy_circle\u001b[49m\u001b[38;5;241;43m.\u001b[39;49m\u001b[43mget_circumference\u001b[49m\u001b[43m(\u001b[49m\u001b[38;5;241;43m100\u001b[39;49m\u001b[43m)\u001b[49m\n",
      "\u001b[0;31mTypeError\u001b[0m: get_circumference() takes 1 positional argument but 2 were given"
     ]
    }
   ],
   "source": [
    "my_circle.get_circumference(100)"
   ]
  },
  {
   "cell_type": "code",
   "execution_count": 50,
   "id": "76dbc11a",
   "metadata": {},
   "outputs": [],
   "source": [
    "my_circle = Circle(100)"
   ]
  },
  {
   "cell_type": "code",
   "execution_count": 51,
   "id": "23f7add9",
   "metadata": {},
   "outputs": [
    {
     "data": {
      "text/plain": [
       "628.0"
      ]
     },
     "execution_count": 51,
     "metadata": {},
     "output_type": "execute_result"
    }
   ],
   "source": [
    "my_circle.get_circumference()"
   ]
  },
  {
   "cell_type": "markdown",
   "id": "225ff71a",
   "metadata": {},
   "source": [
    "***"
   ]
  },
  {
   "cell_type": "code",
   "execution_count": 53,
   "id": "278a833d",
   "metadata": {},
   "outputs": [],
   "source": [
    "# Attributes need not always be defined in the INIT\n",
    "# They can be derived"
   ]
  },
  {
   "cell_type": "code",
   "execution_count": 54,
   "id": "80731c89",
   "metadata": {},
   "outputs": [],
   "source": [
    "class Circle():\n",
    "    \n",
    "    # Class Object Attribute\n",
    "    \n",
    "    pi = 3.14\n",
    "    \n",
    "    \n",
    "    def __init__(self, radius = 10):  # 10 is the default value -- not mandatory\n",
    "        \n",
    "        self.radius = radius\n",
    "        \n",
    "        # DERIVED ATTRIBUTE\n",
    "        \n",
    "        self.area = radius*radius*self.pi\n",
    "        \n",
    "    \n",
    "    # METHOD\n",
    "    \n",
    "    def get_circumference(self):\n",
    "        \n",
    "        return self.radius * self.pi * 2"
   ]
  },
  {
   "cell_type": "code",
   "execution_count": 55,
   "id": "876c9cbf",
   "metadata": {},
   "outputs": [],
   "source": [
    "my_circle = Circle(30)"
   ]
  },
  {
   "cell_type": "code",
   "execution_count": 56,
   "id": "33f13225",
   "metadata": {},
   "outputs": [
    {
     "data": {
      "text/plain": [
       "2826.0"
      ]
     },
     "execution_count": 56,
     "metadata": {},
     "output_type": "execute_result"
    }
   ],
   "source": [
    "my_circle.area"
   ]
  },
  {
   "cell_type": "markdown",
   "id": "58b9759c",
   "metadata": {},
   "source": [
    "***"
   ]
  },
  {
   "cell_type": "code",
   "execution_count": 57,
   "id": "1afa003b",
   "metadata": {},
   "outputs": [],
   "source": [
    "# Another way of calling class object attributes"
   ]
  },
  {
   "cell_type": "code",
   "execution_count": 58,
   "id": "07dbdc9a",
   "metadata": {},
   "outputs": [],
   "source": [
    "class Circle():\n",
    "    \n",
    "    # Class Object Attribute\n",
    "    \n",
    "    pi = 3.14\n",
    "    \n",
    "    def __init__(self, radius = 10):  # 10 is the default value -- not mandatory\n",
    "        \n",
    "        self.radius = radius\n",
    "        \n",
    "        # DERIVED ATTRIBUTE\n",
    "        \n",
    "        self.area = radius*radius*Circle.pi #### Note the Circle.pi (instead of self.pi)\n",
    "        \n",
    "    # METHOD\n",
    "    \n",
    "    def get_circumference(self):\n",
    "        \n",
    "        return self.radius * self.pi * 2"
   ]
  },
  {
   "cell_type": "code",
   "execution_count": null,
   "id": "143ebd18",
   "metadata": {},
   "outputs": [],
   "source": []
  }
 ],
 "metadata": {
  "kernelspec": {
   "display_name": "Python 3 (ipykernel)",
   "language": "python",
   "name": "python3"
  },
  "language_info": {
   "codemirror_mode": {
    "name": "ipython",
    "version": 3
   },
   "file_extension": ".py",
   "mimetype": "text/x-python",
   "name": "python",
   "nbconvert_exporter": "python",
   "pygments_lexer": "ipython3",
   "version": "3.9.12"
  }
 },
 "nbformat": 4,
 "nbformat_minor": 5
}
