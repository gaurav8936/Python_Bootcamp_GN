{
 "cells": [
  {
   "cell_type": "markdown",
   "id": "41ffa324",
   "metadata": {},
   "source": [
    "# Python Numbers"
   ]
  },
  {
   "cell_type": "code",
   "execution_count": 1,
   "id": "c24a1abf",
   "metadata": {},
   "outputs": [
    {
     "data": {
      "text/plain": [
       "3"
      ]
     },
     "execution_count": 1,
     "metadata": {},
     "output_type": "execute_result"
    }
   ],
   "source": [
    "1+2"
   ]
  },
  {
   "cell_type": "code",
   "execution_count": 2,
   "id": "822a63d4",
   "metadata": {},
   "outputs": [
    {
     "data": {
      "text/plain": [
       "1"
      ]
     },
     "execution_count": 2,
     "metadata": {},
     "output_type": "execute_result"
    }
   ],
   "source": [
    "2-1"
   ]
  },
  {
   "cell_type": "code",
   "execution_count": 3,
   "id": "e27ad5a5",
   "metadata": {},
   "outputs": [
    {
     "data": {
      "text/plain": [
       "4"
      ]
     },
     "execution_count": 3,
     "metadata": {},
     "output_type": "execute_result"
    }
   ],
   "source": [
    "2*2"
   ]
  },
  {
   "cell_type": "code",
   "execution_count": 4,
   "id": "e360c1fd",
   "metadata": {},
   "outputs": [
    {
     "data": {
      "text/plain": [
       "0.6666666666666666"
      ]
     },
     "execution_count": 4,
     "metadata": {},
     "output_type": "execute_result"
    }
   ],
   "source": [
    "2/3"
   ]
  },
  {
   "cell_type": "markdown",
   "id": "da02e2f6",
   "metadata": {},
   "source": [
    "# Modulo"
   ]
  },
  {
   "cell_type": "code",
   "execution_count": 5,
   "id": "33e2b449",
   "metadata": {},
   "outputs": [],
   "source": [
    "## heading two"
   ]
  },
  {
   "cell_type": "code",
   "execution_count": 6,
   "id": "d1b38bff",
   "metadata": {},
   "outputs": [],
   "source": [
    "### heading four"
   ]
  },
  {
   "cell_type": "code",
   "execution_count": 7,
   "id": "775d6b43",
   "metadata": {},
   "outputs": [],
   "source": [
    "# 1"
   ]
  },
  {
   "cell_type": "code",
   "execution_count": 8,
   "id": "e6a7113a",
   "metadata": {},
   "outputs": [
    {
     "ename": "SyntaxError",
     "evalue": "invalid syntax (3614052096.py, line 1)",
     "output_type": "error",
     "traceback": [
      "\u001b[0;36m  Input \u001b[0;32mIn [8]\u001b[0;36m\u001b[0m\n\u001b[0;31m    ** bold **\u001b[0m\n\u001b[0m    ^\u001b[0m\n\u001b[0;31mSyntaxError\u001b[0m\u001b[0;31m:\u001b[0m invalid syntax\n"
     ]
    }
   ],
   "source": [
    "** bold **"
   ]
  },
  {
   "cell_type": "code",
   "execution_count": 9,
   "id": "4adb5f75",
   "metadata": {},
   "outputs": [
    {
     "ename": "SyntaxError",
     "evalue": "invalid syntax (3228561627.py, line 1)",
     "output_type": "error",
     "traceback": [
      "\u001b[0;36m  Input \u001b[0;32mIn [9]\u001b[0;36m\u001b[0m\n\u001b[0;31m    ** bold\u001b[0m\n\u001b[0m    ^\u001b[0m\n\u001b[0;31mSyntaxError\u001b[0m\u001b[0;31m:\u001b[0m invalid syntax\n"
     ]
    }
   ],
   "source": [
    "** bold"
   ]
  },
  {
   "cell_type": "markdown",
   "id": "5588805f",
   "metadata": {},
   "source": [
    "## heading two"
   ]
  },
  {
   "cell_type": "markdown",
   "id": "5cb058c1",
   "metadata": {},
   "source": [
    "### heading 3"
   ]
  },
  {
   "cell_type": "markdown",
   "id": "91d5319a",
   "metadata": {},
   "source": [
    "** bold"
   ]
  },
  {
   "cell_type": "markdown",
   "id": "86a5889b",
   "metadata": {},
   "source": [
    "** this is a bold line **"
   ]
  },
  {
   "cell_type": "code",
   "execution_count": 10,
   "id": "0e0fbca7",
   "metadata": {},
   "outputs": [
    {
     "ename": "SyntaxError",
     "evalue": "invalid syntax (885425108.py, line 1)",
     "output_type": "error",
     "traceback": [
      "\u001b[0;36m  Input \u001b[0;32mIn [10]\u001b[0;36m\u001b[0m\n\u001b[0;31m    **this is bold**\u001b[0m\n\u001b[0m    ^\u001b[0m\n\u001b[0;31mSyntaxError\u001b[0m\u001b[0;31m:\u001b[0m invalid syntax\n"
     ]
    }
   ],
   "source": [
    "**this is bold**"
   ]
  },
  {
   "cell_type": "markdown",
   "id": "550d5f31",
   "metadata": {},
   "source": [
    "**this is bold**"
   ]
  },
  {
   "cell_type": "markdown",
   "id": "6191cc00",
   "metadata": {},
   "source": [
    "*this is italicized*"
   ]
  },
  {
   "cell_type": "markdown",
   "id": "ac849104",
   "metadata": {},
   "source": [
    "**this is bold"
   ]
  },
  {
   "cell_type": "markdown",
   "id": "37fccfb1",
   "metadata": {},
   "source": [
    "'here is some code!'"
   ]
  },
  {
   "cell_type": "markdown",
   "id": "7ede248e",
   "metadata": {},
   "source": [
    "`this is to highlight`"
   ]
  },
  {
   "cell_type": "markdown",
   "id": "0720419d",
   "metadata": {},
   "source": [
    "#hey there#"
   ]
  },
  {
   "cell_type": "markdown",
   "id": "c000136c",
   "metadata": {},
   "source": [
    "##hello##"
   ]
  },
  {
   "cell_type": "code",
   "execution_count": 11,
   "id": "f8aa8cde",
   "metadata": {},
   "outputs": [
    {
     "data": {
      "text/plain": [
       "1.75"
      ]
     },
     "execution_count": 11,
     "metadata": {},
     "output_type": "execute_result"
    }
   ],
   "source": [
    "7/4"
   ]
  },
  {
   "cell_type": "code",
   "execution_count": 12,
   "id": "ed1121f6",
   "metadata": {},
   "outputs": [
    {
     "data": {
      "text/plain": [
       "3"
      ]
     },
     "execution_count": 12,
     "metadata": {},
     "output_type": "execute_result"
    }
   ],
   "source": [
    "7%4"
   ]
  },
  {
   "cell_type": "code",
   "execution_count": 13,
   "id": "a49319d9",
   "metadata": {},
   "outputs": [
    {
     "data": {
      "text/plain": [
       "2.3333333333333335"
      ]
     },
     "execution_count": 13,
     "metadata": {},
     "output_type": "execute_result"
    }
   ],
   "source": [
    "7 / 3"
   ]
  },
  {
   "cell_type": "markdown",
   "id": "97f1d961",
   "metadata": {},
   "source": [
    "###mod operator###"
   ]
  },
  {
   "cell_type": "markdown",
   "id": "d26d0dc9",
   "metadata": {},
   "source": [
    "# mod operator"
   ]
  },
  {
   "cell_type": "code",
   "execution_count": 14,
   "id": "a7e20905",
   "metadata": {},
   "outputs": [
    {
     "data": {
      "text/plain": [
       "1.75"
      ]
     },
     "execution_count": 14,
     "metadata": {},
     "output_type": "execute_result"
    }
   ],
   "source": [
    "7 /4"
   ]
  },
  {
   "cell_type": "code",
   "execution_count": 15,
   "id": "16d38294",
   "metadata": {},
   "outputs": [
    {
     "data": {
      "text/plain": [
       "3"
      ]
     },
     "execution_count": 15,
     "metadata": {},
     "output_type": "execute_result"
    }
   ],
   "source": [
    "7 % 4"
   ]
  },
  {
   "cell_type": "markdown",
   "id": "10fbfe66",
   "metadata": {},
   "source": [
    "## mod operator is % sign"
   ]
  },
  {
   "cell_type": "markdown",
   "id": "8a373f26",
   "metadata": {},
   "source": [
    "`this is to highlight!`"
   ]
  },
  {
   "cell_type": "code",
   "execution_count": 16,
   "id": "9eed56ed",
   "metadata": {},
   "outputs": [
    {
     "data": {
      "text/plain": [
       "0"
      ]
     },
     "execution_count": 16,
     "metadata": {},
     "output_type": "execute_result"
    }
   ],
   "source": [
    "50 %5"
   ]
  },
  {
   "cell_type": "code",
   "execution_count": 17,
   "id": "e220cdd2",
   "metadata": {},
   "outputs": [
    {
     "data": {
      "text/plain": [
       "1"
      ]
     },
     "execution_count": 17,
     "metadata": {},
     "output_type": "execute_result"
    }
   ],
   "source": [
    "23 % 2"
   ]
  },
  {
   "cell_type": "markdown",
   "id": "b7d0810b",
   "metadata": {},
   "source": [
    "mod 2 can help us identifying an odd number (any reminder)"
   ]
  },
  {
   "cell_type": "markdown",
   "id": "641a356a",
   "metadata": {},
   "source": [
    "### power"
   ]
  },
  {
   "cell_type": "code",
   "execution_count": 18,
   "id": "f362e83e",
   "metadata": {},
   "outputs": [
    {
     "data": {
      "text/plain": [
       "8"
      ]
     },
     "execution_count": 18,
     "metadata": {},
     "output_type": "execute_result"
    }
   ],
   "source": [
    "2 **3"
   ]
  },
  {
   "cell_type": "markdown",
   "id": "3117cb9b",
   "metadata": {},
   "source": [
    "# order of operations"
   ]
  },
  {
   "cell_type": "code",
   "execution_count": 19,
   "id": "038da0da",
   "metadata": {},
   "outputs": [
    {
     "data": {
      "text/plain": [
       "105"
      ]
     },
     "execution_count": 19,
     "metadata": {},
     "output_type": "execute_result"
    }
   ],
   "source": [
    "2 + 10 * 10 + 3"
   ]
  },
  {
   "cell_type": "code",
   "execution_count": 20,
   "id": "bfdf394c",
   "metadata": {},
   "outputs": [
    {
     "data": {
      "text/plain": [
       "156"
      ]
     },
     "execution_count": 20,
     "metadata": {},
     "output_type": "execute_result"
    }
   ],
   "source": [
    "(2+10) * (10+3)"
   ]
  },
  {
   "cell_type": "code",
   "execution_count": null,
   "id": "53e8c49e",
   "metadata": {},
   "outputs": [],
   "source": []
  }
 ],
 "metadata": {
  "celltoolbar": "Raw Cell Format",
  "kernelspec": {
   "display_name": "Python 3 (ipykernel)",
   "language": "python",
   "name": "python3"
  },
  "language_info": {
   "codemirror_mode": {
    "name": "ipython",
    "version": 3
   },
   "file_extension": ".py",
   "mimetype": "text/x-python",
   "name": "python",
   "nbconvert_exporter": "python",
   "pygments_lexer": "ipython3",
   "version": "3.9.12"
  }
 },
 "nbformat": 4,
 "nbformat_minor": 5
}
