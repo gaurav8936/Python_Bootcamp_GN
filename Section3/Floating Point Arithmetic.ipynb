{
 "cells": [
  {
   "cell_type": "markdown",
   "id": "43abd693",
   "metadata": {},
   "source": [
    "# Floating Point Arithmetic: Issues and Limitations"
   ]
  },
  {
   "cell_type": "markdown",
   "id": "633ee337",
   "metadata": {},
   "source": [
    "Floating-point numbers are represented in computer hardware as base 2 (binary) fractions. For example, the decimal fraction"
   ]
  },
  {
   "cell_type": "markdown",
   "id": "e5ef3545",
   "metadata": {},
   "source": [
    "` 0.125 `"
   ]
  },
  {
   "cell_type": "markdown",
   "id": "2ddd87b5",
   "metadata": {},
   "source": [
    "has value 1/10 + 2/100 + 5/1000, and in the same way the binary fraction"
   ]
  },
  {
   "cell_type": "markdown",
   "id": "d45baaca",
   "metadata": {},
   "source": [
    "` 0.001 `"
   ]
  },
  {
   "cell_type": "markdown",
   "id": "e34f146c",
   "metadata": {},
   "source": [
    "has value 0/2 + 0/4 + 1/8. These two fractions have identical values, the only real difference being that the first is written in base 10 fractional notation, and the second in base 2.\n",
    "\n",
    "Unfortunately, most decimal fractions cannot be represented exactly as binary fractions. A consequence is that, in general, the decimal floating-point numbers you enter are only approximated by the binary floating-point numbers actually stored in the machine.\n",
    "\n",
    "The problem is easier to understand at first in base 10. Consider the fraction 1/3. You can approximate that as a base 10 fraction:"
   ]
  },
  {
   "cell_type": "markdown",
   "id": "c49e7124",
   "metadata": {},
   "source": [
    "` 0.3 ` "
   ]
  },
  {
   "cell_type": "markdown",
   "id": "73291fa7",
   "metadata": {},
   "source": [
    "or even better"
   ]
  },
  {
   "cell_type": "markdown",
   "id": "52209518",
   "metadata": {},
   "source": [
    "` 0.33 `"
   ]
  },
  {
   "cell_type": "markdown",
   "id": "fb26f36a",
   "metadata": {},
   "source": [
    "or better"
   ]
  },
  {
   "cell_type": "markdown",
   "id": "1b3e79ac",
   "metadata": {},
   "source": [
    "` 0.333 ` "
   ]
  },
  {
   "cell_type": "markdown",
   "id": "de4a56a2",
   "metadata": {},
   "source": [
    "and so on. No matter how many digits you’re willing to write down, the result will never be exactly 1/3, but will be an increasingly better approximation of 1/3.\n",
    "\n",
    "In the same way, no matter how many base 2 digits you’re willing to use, the decimal value 0.1 cannot be represented exactly as a base 2 fraction. In base 2, 1/10 is the infinitely repeating fraction"
   ]
  },
  {
   "cell_type": "markdown",
   "id": "aed9fc47",
   "metadata": {},
   "source": [
    "` 0.0001100110011001100110011001100110011001100110011... `"
   ]
  },
  {
   "cell_type": "markdown",
   "id": "db2ae4a6",
   "metadata": {},
   "source": [
    "which is close to, but not exactly equal to, 1/10.\n",
    "\n",
    "It’s easy to forget that the stored value is an approximation to the original decimal fraction, because of the way that floats are displayed at the interpreter prompt. Python only prints a decimal approximation to the true decimal value of the binary approximation stored by the machine. If Python were to print the true decimal value of the binary approximation stored for 0.1, it would have to display"
   ]
  },
  {
   "cell_type": "markdown",
   "id": "6ca927c3",
   "metadata": {},
   "source": [
    "` >>> 0.1\n",
    "0.1000000000000000055511151231257827021181583404541015625 `"
   ]
  },
  {
   "cell_type": "markdown",
   "id": "7ad19130",
   "metadata": {},
   "source": [
    "That is more digits than most people find useful, so Python keeps the number of digits manageable by displaying a rounded value instead"
   ]
  },
  {
   "cell_type": "markdown",
   "id": "9d210d7b",
   "metadata": {},
   "source": [
    "` >>> 0.1\n",
    "0.1 `"
   ]
  },
  {
   "cell_type": "markdown",
   "id": "bbf8f599",
   "metadata": {},
   "source": [
    "It’s important to realize that this is, in a real sense, an illusion: the value in the machine is not exactly 1/10, you’re simply rounding the display of the true machine value. This fact becomes apparent as soon as you try to do arithmetic with these values"
   ]
  },
  {
   "cell_type": "markdown",
   "id": "88dea181",
   "metadata": {},
   "source": [
    "` >>> 0.1 + 0.2\n",
    "0.30000000000000004 `"
   ]
  },
  {
   "cell_type": "code",
   "execution_count": 3,
   "id": "5934a2a3",
   "metadata": {},
   "outputs": [
    {
     "data": {
      "text/plain": [
       "0.30000000000000004"
      ]
     },
     "execution_count": 3,
     "metadata": {},
     "output_type": "execute_result"
    }
   ],
   "source": [
    "0.1 + 0.2"
   ]
  },
  {
   "cell_type": "markdown",
   "id": "2ae676d0",
   "metadata": {},
   "source": [
    "Note that this is in the very nature of binary floating-point: this is not a bug in Python, and it is not a bug in your code either. You’ll see the same kind of thing in all languages that support your hardware’s floating-point arithmetic (although some languages may not display the difference by default, or in all output modes).\n",
    "\n",
    "Other surprises follow from this one. ` For example, if you try to round the value 2.675 to two decimal places, you get this `"
   ]
  },
  {
   "cell_type": "code",
   "execution_count": 4,
   "id": "7b3c2e2e",
   "metadata": {},
   "outputs": [
    {
     "data": {
      "text/plain": [
       "2.67"
      ]
     },
     "execution_count": 4,
     "metadata": {},
     "output_type": "execute_result"
    }
   ],
   "source": [
    "round(2.675, 2)"
   ]
  },
  {
   "cell_type": "markdown",
   "id": "7bc8e74d",
   "metadata": {},
   "source": [
    "The documentation for the built-in round() function says that it rounds to the nearest value, rounding ties away from zero. Since the decimal fraction 2.675 is exactly halfway between 2.67 and 2.68, you might expect the result here to be (a binary approximation to) 2.68. It’s not, because when the decimal string 2.675 is converted to a binary floating-point number, it’s again replaced with a binary approximation, whose exact value is"
   ]
  },
  {
   "cell_type": "markdown",
   "id": "b19cc8b9",
   "metadata": {},
   "source": [
    "` 2.67499999999999982236431605997495353221893310546875 `"
   ]
  },
  {
   "cell_type": "markdown",
   "id": "381f3b30",
   "metadata": {},
   "source": [
    "Since this approximation is slightly closer to 2.67 than to 2.68, it’s rounded down."
   ]
  },
  {
   "cell_type": "markdown",
   "id": "81f0fab7",
   "metadata": {},
   "source": [
    "If you’re in a situation where you care which way your decimal halfway-cases are rounded, you should consider using the decimal module. Incidentally, the decimal module also provides a nice way to “see” the exact value that’s stored in any particular Python float"
   ]
  },
  {
   "cell_type": "code",
   "execution_count": 9,
   "id": "f3382f0c",
   "metadata": {},
   "outputs": [
    {
     "data": {
      "text/plain": [
       "Decimal('2.67499999999999982236431605997495353221893310546875')"
      ]
     },
     "execution_count": 9,
     "metadata": {},
     "output_type": "execute_result"
    }
   ],
   "source": [
    "from decimal import Decimal\n",
    "Decimal(2.675)"
   ]
  },
  {
   "cell_type": "markdown",
   "id": "c93e8ffe",
   "metadata": {},
   "source": [
    "Another consequence is that since 0.1 is not exactly 1/10, summing ten values of 0.1 may not yield exactly 1.0, either:"
   ]
  },
  {
   "cell_type": "code",
   "execution_count": 11,
   "id": "85362390",
   "metadata": {},
   "outputs": [],
   "source": [
    "sum=0.0\n",
    "for i in range(10):\n",
    "    sum +=0.1\n"
   ]
  },
  {
   "cell_type": "code",
   "execution_count": 12,
   "id": "44763114",
   "metadata": {},
   "outputs": [
    {
     "data": {
      "text/plain": [
       "0.9999999999999999"
      ]
     },
     "execution_count": 12,
     "metadata": {},
     "output_type": "execute_result"
    }
   ],
   "source": [
    "sum"
   ]
  },
  {
   "cell_type": "markdown",
   "id": "acffef98",
   "metadata": {},
   "source": [
    "Binary floating-point arithmetic holds many surprises like this. The problem with “0.1” is explained in precise detail below, in the “Representation Error” section. See The Perils of Floating Point for a more complete account of other common surprises.\n",
    "\n",
    "As that says near the end, “there are no easy answers.” Still, don’t be unduly wary of floating-point! The errors in Python float operations are inherited from the floating-point hardware, and on most machines are on the order of no more than 1 part in 2**53 per operation. That’s more than adequate for most tasks, but you do need to keep in mind that it’s not decimal arithmetic, and that every float operation can suffer a new rounding error.\n",
    "\n",
    "While pathological cases do exist, for most casual use of floating-point arithmetic you’ll see the result you expect in the end if you simply round the display of your final results to the number of decimal digits you expect. For fine control over how a float is displayed see the str.format() method’s format specifiers in Format String Syntax."
   ]
  },
  {
   "cell_type": "markdown",
   "id": "5e5c7116",
   "metadata": {},
   "source": [
    "## Representation Error"
   ]
  },
  {
   "cell_type": "markdown",
   "id": "609aad22",
   "metadata": {},
   "source": [
    "This section explains the “0.1” example in detail, and shows how you can perform an exact analysis of cases like this yourself. Basic familiarity with binary floating-point representation is assumed.\n",
    "\n",
    "Representation error refers to the fact that some (most, actually) decimal fractions cannot be represented exactly as binary (base 2) fractions. This is the chief reason why Python (or Perl, C, C++, Java, Fortran, and many others) often won’t display the exact decimal number you expect:"
   ]
  },
  {
   "cell_type": "code",
   "execution_count": 13,
   "id": "9f01a024",
   "metadata": {},
   "outputs": [
    {
     "data": {
      "text/plain": [
       "0.30000000000000004"
      ]
     },
     "execution_count": 13,
     "metadata": {},
     "output_type": "execute_result"
    }
   ],
   "source": [
    "0.1+0.2"
   ]
  },
  {
   "cell_type": "markdown",
   "id": "d56e897e",
   "metadata": {},
   "source": [
    "Why is that? 1/10 and 2/10 are not exactly representable as a binary fraction. Almost all machines today (July 2010) use IEEE-754 floating point arithmetic, and almost all platforms map Python floats to IEEE-754 “double precision”. 754 doubles contain 53 bits of precision, so on input the computer strives to convert 0.1 to the closest fraction it can of the form J/2**N where J is an integer containing exactly 53 bits. Rewriting"
   ]
  },
  {
   "cell_type": "markdown",
   "id": "60fe1c54",
   "metadata": {},
   "source": [
    "1 / 10 ~= J / (2**N)"
   ]
  },
  {
   "cell_type": "markdown",
   "id": "fd0136d1",
   "metadata": {},
   "source": [
    "as"
   ]
  },
  {
   "cell_type": "markdown",
   "id": "6cb5bbb9",
   "metadata": {},
   "source": [
    "J ~= 2**N / 10"
   ]
  },
  {
   "cell_type": "markdown",
   "id": "88c90f36",
   "metadata": {},
   "source": [
    "and recalling that J has exactly 53 bits (is >= 2**52 but < 2**53), the best value for N is 56:"
   ]
  },
  {
   "cell_type": "code",
   "execution_count": 14,
   "id": "20bf0ff5",
   "metadata": {},
   "outputs": [
    {
     "data": {
      "text/plain": [
       "4503599627370496"
      ]
     },
     "execution_count": 14,
     "metadata": {},
     "output_type": "execute_result"
    }
   ],
   "source": [
    "2**52"
   ]
  },
  {
   "cell_type": "code",
   "execution_count": 15,
   "id": "1d10d1d1",
   "metadata": {},
   "outputs": [
    {
     "data": {
      "text/plain": [
       "9007199254740992"
      ]
     },
     "execution_count": 15,
     "metadata": {},
     "output_type": "execute_result"
    }
   ],
   "source": [
    "2**53"
   ]
  },
  {
   "cell_type": "code",
   "execution_count": 16,
   "id": "8b5a6dc9",
   "metadata": {},
   "outputs": [
    {
     "data": {
      "text/plain": [
       "7205759403792794.0"
      ]
     },
     "execution_count": 16,
     "metadata": {},
     "output_type": "execute_result"
    }
   ],
   "source": [
    "2**56/10"
   ]
  },
  {
   "cell_type": "markdown",
   "id": "41649a02",
   "metadata": {},
   "source": [
    "That is, 56 is the only value for N that leaves J with exactly 53 bits. The best possible value for J is then that quotient rounded:"
   ]
  },
  {
   "cell_type": "code",
   "execution_count": 17,
   "id": "8e09c90b",
   "metadata": {},
   "outputs": [],
   "source": [
    "q, r = divmod(2**56, 10)"
   ]
  },
  {
   "cell_type": "code",
   "execution_count": 18,
   "id": "bc7fc8ce",
   "metadata": {},
   "outputs": [
    {
     "data": {
      "text/plain": [
       "6"
      ]
     },
     "execution_count": 18,
     "metadata": {},
     "output_type": "execute_result"
    }
   ],
   "source": [
    "r"
   ]
  },
  {
   "cell_type": "markdown",
   "id": "ae6db48c",
   "metadata": {},
   "source": [
    "Since the remainder is more than half of 10, the best approximation is obtained by rounding up:"
   ]
  },
  {
   "cell_type": "code",
   "execution_count": 19,
   "id": "e0035e14",
   "metadata": {},
   "outputs": [
    {
     "data": {
      "text/plain": [
       "7205759403792794"
      ]
     },
     "execution_count": 19,
     "metadata": {},
     "output_type": "execute_result"
    }
   ],
   "source": [
    "q+1"
   ]
  },
  {
   "cell_type": "markdown",
   "id": "75051a36",
   "metadata": {},
   "source": [
    "Therefore the best possible approximation to 1/10 in 754 double precision is that over 2**56, or"
   ]
  },
  {
   "cell_type": "markdown",
   "id": "5871db92",
   "metadata": {},
   "source": [
    "7205759403792794 / 72057594037927936"
   ]
  },
  {
   "cell_type": "markdown",
   "id": "cddd5d22",
   "metadata": {},
   "source": [
    "Note that since we rounded up, this is actually a little bit larger than 1/10; if we had not rounded up, the quotient would have been a little bit smaller than 1/10. But in no case can it be exactly 1/10!\n",
    "\n",
    "So the computer never “sees” 1/10: what it sees is the exact fraction given above, the best 754 double approximation it can get:"
   ]
  },
  {
   "cell_type": "code",
   "execution_count": 20,
   "id": "f583d138",
   "metadata": {},
   "outputs": [
    {
     "data": {
      "text/plain": [
       "7205759403792794.0"
      ]
     },
     "execution_count": 20,
     "metadata": {},
     "output_type": "execute_result"
    }
   ],
   "source": [
    ".1 * 2**56"
   ]
  },
  {
   "cell_type": "markdown",
   "id": "e387949b",
   "metadata": {},
   "source": [
    "If we multiply that fraction by 10**30, we can see the (truncated) value of its 30 most significant decimal digits:"
   ]
  },
  {
   "cell_type": "code",
   "execution_count": 21,
   "id": "7d518128",
   "metadata": {},
   "outputs": [
    {
     "data": {
      "text/plain": [
       "100000000000000005551115123125"
      ]
     },
     "execution_count": 21,
     "metadata": {},
     "output_type": "execute_result"
    }
   ],
   "source": [
    "7205759403792794 * 10**30 // 2**56"
   ]
  },
  {
   "cell_type": "markdown",
   "id": "797afefe",
   "metadata": {},
   "source": [
    "meaning that the exact number stored in the computer is approximately equal to the decimal value 0.100000000000000005551115123125. In versions prior to Python 2.7 and Python 3.1, Python rounded this value to 17 significant digits, giving ‘0.10000000000000001’. In current versions, Python displays a value based on the shortest decimal fraction that rounds correctly back to the true binary value, resulting simply in ‘0.1’."
   ]
  },
  {
   "cell_type": "code",
   "execution_count": null,
   "id": "3e697698",
   "metadata": {},
   "outputs": [],
   "source": []
  }
 ],
 "metadata": {
  "kernelspec": {
   "display_name": "Python 3 (ipykernel)",
   "language": "python",
   "name": "python3"
  },
  "language_info": {
   "codemirror_mode": {
    "name": "ipython",
    "version": 3
   },
   "file_extension": ".py",
   "mimetype": "text/x-python",
   "name": "python",
   "nbconvert_exporter": "python",
   "pygments_lexer": "ipython3",
   "version": "3.9.12"
  }
 },
 "nbformat": 4,
 "nbformat_minor": 5
}
