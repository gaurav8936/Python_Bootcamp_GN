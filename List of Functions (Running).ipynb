{
 "cells": [
  {
   "cell_type": "markdown",
   "id": "f2569e25",
   "metadata": {},
   "source": [
    "<font size = 8> Running List of Functions"
   ]
  },
  {
   "cell_type": "markdown",
   "id": "19af288d",
   "metadata": {},
   "source": [
    "<font size = 6, color = 'teal'> Just randomly accumulated"
   ]
  },
  {
   "cell_type": "markdown",
   "id": "0dc1fe9c",
   "metadata": {},
   "source": [
    "***"
   ]
  },
  {
   "cell_type": "markdown",
   "id": "61d21df0",
   "metadata": {},
   "source": [
    "<font size = 7, color = 'blue'> Table of Contents\n",
    "    "
   ]
  },
  {
   "cell_type": "markdown",
   "id": "f75361cb",
   "metadata": {},
   "source": [
    "1. Absolute"
   ]
  },
  {
   "cell_type": "markdown",
   "id": "03638bda",
   "metadata": {},
   "source": [
    "***"
   ]
  },
  {
   "cell_type": "markdown",
   "id": "0d378b9e",
   "metadata": {},
   "source": [
    "<font size = 7, color = 'teal'> abs"
   ]
  },
  {
   "cell_type": "code",
   "execution_count": 19,
   "id": "1c02293e",
   "metadata": {},
   "outputs": [
    {
     "name": "stdout",
     "output_type": "stream",
     "text": [
      "2\n"
     ]
    }
   ],
   "source": [
    "num1 = -2\n",
    "absolutenum1 = abs(num1)\n",
    "print(absolutenum1)"
   ]
  },
  {
   "cell_type": "code",
   "execution_count": 20,
   "id": "fc568289",
   "metadata": {},
   "outputs": [
    {
     "name": "stdout",
     "output_type": "stream",
     "text": [
      "Absolute value of -30.33 is: 30.33\n"
     ]
    }
   ],
   "source": [
    "floating = -30.33\n",
    "print('Absolute value of -30.33 is:', abs(floating))"
   ]
  },
  {
   "cell_type": "code",
   "execution_count": 21,
   "id": "12adaa64",
   "metadata": {},
   "outputs": [
    {
     "name": "stdout",
     "output_type": "stream",
     "text": [
      "Magnitude of 3 - 4j is: 5.0\n"
     ]
    }
   ],
   "source": [
    "# random complex number\n",
    "complex = (3 - 4j)\n",
    "print('Magnitude of 3 - 4j is:', abs(complex))"
   ]
  },
  {
   "cell_type": "markdown",
   "id": "6065f780",
   "metadata": {},
   "source": [
    "***"
   ]
  },
  {
   "cell_type": "markdown",
   "id": "5f1bcc54",
   "metadata": {},
   "source": [
    "<font size = 7, color = 'teal'> .join"
   ]
  },
  {
   "cell_type": "code",
   "execution_count": 3,
   "id": "d5dc7721",
   "metadata": {},
   "outputs": [
    {
     "name": "stdout",
     "output_type": "stream",
     "text": [
      "JohnPeterVicky\n"
     ]
    }
   ],
   "source": [
    "# Join all items in a tuple into a string, using a hash character as separator:\n",
    "\n",
    "myTuple = (\"John\", \"Peter\", \"Vicky\")\n",
    "\n",
    "x = \"\".join(myTuple)\n",
    "\n",
    "print(x)"
   ]
  },
  {
   "cell_type": "code",
   "execution_count": null,
   "id": "8c6f63fb",
   "metadata": {},
   "outputs": [],
   "source": []
  }
 ],
 "metadata": {
  "kernelspec": {
   "display_name": "Python 3 (ipykernel)",
   "language": "python",
   "name": "python3"
  },
  "language_info": {
   "codemirror_mode": {
    "name": "ipython",
    "version": 3
   },
   "file_extension": ".py",
   "mimetype": "text/x-python",
   "name": "python",
   "nbconvert_exporter": "python",
   "pygments_lexer": "ipython3",
   "version": "3.9.12"
  }
 },
 "nbformat": 4,
 "nbformat_minor": 5
}
