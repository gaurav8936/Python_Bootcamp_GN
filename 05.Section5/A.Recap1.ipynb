{
 "cells": [
  {
   "cell_type": "markdown",
   "id": "2be6d8e8",
   "metadata": {},
   "source": [
    "<font size = 10> Recap 1"
   ]
  },
  {
   "cell_type": "markdown",
   "id": "bc972fa7",
   "metadata": {},
   "source": [
    "<font size = 6, color = 'teal'> If, Elif, Else Statements"
   ]
  },
  {
   "cell_type": "code",
   "execution_count": 1,
   "id": "d93d3d40",
   "metadata": {},
   "outputs": [
    {
     "name": "stdout",
     "output_type": "stream",
     "text": [
      "this is not cool\n"
     ]
    }
   ],
   "source": [
    "loc = 'bank'\n",
    "if loc == 'auto shot':\n",
    "    print(\"Auto shops are cool\")\n",
    "else:\n",
    "    print(\"this is not cool\")"
   ]
  },
  {
   "cell_type": "code",
   "execution_count": 6,
   "id": "2bfe3e1a",
   "metadata": {},
   "outputs": [
    {
     "name": "stdout",
     "output_type": "stream",
     "text": [
      "Boring\n"
     ]
    }
   ],
   "source": [
    "#name = 'Ziba'\n",
    "name = 'Martha'\n",
    "\n",
    "if name == 'Ziba':\n",
    "    print('Ziba is the greatest')\n",
    "elif name == 'Martha':\n",
    "    print('Boring')\n",
    "elif name == 'John':\n",
    "    print('Boring Boring')\n",
    "else:\n",
    "    print('this is it')"
   ]
  },
  {
   "cell_type": "markdown",
   "id": "a5c3a6e5",
   "metadata": {},
   "source": [
    "***"
   ]
  },
  {
   "cell_type": "markdown",
   "id": "6d0c7370",
   "metadata": {},
   "source": [
    "<font size = 6, color = 'teal'> For Loops   "
   ]
  },
  {
   "cell_type": "markdown",
   "id": "da0dd36f",
   "metadata": {},
   "source": [
    "## Numbers"
   ]
  },
  {
   "cell_type": "code",
   "execution_count": 14,
   "id": "ebecda9d",
   "metadata": {},
   "outputs": [
    {
     "name": "stdout",
     "output_type": "stream",
     "text": [
      "0.5\n",
      "1.0\n",
      "1.5\n",
      "2.0\n",
      "2.5\n",
      "3.0\n",
      "3.5\n",
      "4.0\n",
      "4.5\n",
      "5.0\n",
      "5.5\n",
      "6.0\n",
      "6.5\n",
      "7.0\n",
      "7.5\n",
      "8.0\n",
      "8.5\n",
      "9.0\n",
      "9.5\n",
      "10.0\n"
     ]
    }
   ],
   "source": [
    "num1 = [1,2,3,4,5,6,7,8,9,10,11,12,13,14,15,16,17,18,19,20]\n",
    "\n",
    "for number in num1:\n",
    "    print(number/2)"
   ]
  },
  {
   "cell_type": "code",
   "execution_count": 13,
   "id": "329eed32",
   "metadata": {},
   "outputs": [
    {
     "name": "stdout",
     "output_type": "stream",
     "text": [
      "a\n",
      "b\n",
      "c\n",
      "d\n",
      "e\n",
      "f\n",
      "g\n"
     ]
    }
   ],
   "source": [
    "str1 = ['a','b','c','d','e','f','g']\n",
    "\n",
    "for string in str1:\n",
    "    print(string)"
   ]
  },
  {
   "cell_type": "markdown",
   "id": "dc9f4f49",
   "metadata": {},
   "source": [
    "` printing even numbers with for loop `"
   ]
  },
  {
   "cell_type": "code",
   "execution_count": 15,
   "id": "4f8cc00a",
   "metadata": {},
   "outputs": [
    {
     "name": "stdout",
     "output_type": "stream",
     "text": [
      "2\n",
      "4\n",
      "6\n",
      "8\n",
      "10\n",
      "12\n",
      "14\n",
      "16\n",
      "18\n",
      "20\n"
     ]
    }
   ],
   "source": [
    "for number2 in num1:\n",
    "    if number2%2 ==0:   ## mod operator\n",
    "        print(number2)"
   ]
  },
  {
   "cell_type": "code",
   "execution_count": 17,
   "id": "0017b181",
   "metadata": {},
   "outputs": [
    {
     "name": "stdout",
     "output_type": "stream",
     "text": [
      "odd numner is: 1\n",
      "even number is: 2\n",
      "odd numner is: 3\n",
      "even number is: 4\n",
      "odd numner is: 5\n",
      "even number is: 6\n",
      "odd numner is: 7\n",
      "even number is: 8\n",
      "odd numner is: 9\n",
      "even number is: 10\n",
      "odd numner is: 11\n",
      "even number is: 12\n",
      "odd numner is: 13\n",
      "even number is: 14\n",
      "odd numner is: 15\n",
      "even number is: 16\n",
      "odd numner is: 17\n",
      "even number is: 18\n",
      "odd numner is: 19\n",
      "even number is: 20\n"
     ]
    }
   ],
   "source": [
    "for number3 in num1:\n",
    "    if number3%2 ==0:\n",
    "        print(f'even number is: {number3}')\n",
    "    else:\n",
    "        print(f'odd numner is: {number3}')"
   ]
  },
  {
   "cell_type": "code",
   "execution_count": 23,
   "id": "192a5838",
   "metadata": {},
   "outputs": [
    {
     "name": "stdout",
     "output_type": "stream",
     "text": [
      "odd numner is: 1\n",
      "this is an even number:2\n",
      "odd numner is: 3\n",
      "this is divisible by 4: 4\n",
      "odd numner is: 5\n",
      "this is an even number:6\n",
      "odd numner is: 7\n",
      "this is divisible by 4: 8\n",
      "odd numner is: 9\n",
      "this is an even number:10\n",
      "odd numner is: 11\n",
      "this is divisible by 4: 12\n",
      "odd numner is: 13\n",
      "this is an even number:14\n",
      "odd numner is: 15\n",
      "this is divisible by 4: 16\n",
      "odd numner is: 17\n",
      "this is an even number:18\n",
      "odd numner is: 19\n",
      "this is divisible by 4: 20\n"
     ]
    }
   ],
   "source": [
    "for number3 in num1:\n",
    "    if number3%4 ==0:\n",
    "        print(f'this is divisible by 4: {number3}')\n",
    "    elif number3%2 == 0:\n",
    "        print(f'this is an even number:{number3}')\n",
    "    else:\n",
    "        print(f'odd numner is: {number3}')"
   ]
  },
  {
   "cell_type": "markdown",
   "id": "0e5a08d5",
   "metadata": {},
   "source": [
    "## Strings"
   ]
  },
  {
   "cell_type": "code",
   "execution_count": 24,
   "id": "79233495",
   "metadata": {},
   "outputs": [
    {
     "name": "stdout",
     "output_type": "stream",
     "text": [
      "2\n",
      "2\n",
      "7\n",
      " \n",
      "m\n",
      "o\n",
      "n\n",
      "t\n",
      "e\n",
      "r\n",
      "e\n",
      "y\n",
      " \n",
      "b\n",
      "l\n",
      "v\n",
      "d\n"
     ]
    }
   ],
   "source": [
    "mystring1 = '227 monterey blvd'\n",
    "\n",
    "for letter2 in mystring1:\n",
    "    print(letter2)"
   ]
  },
  {
   "cell_type": "code",
   "execution_count": 26,
   "id": "36df57ad",
   "metadata": {},
   "outputs": [
    {
     "name": "stdout",
     "output_type": "stream",
     "text": [
      "h\n",
      "o\n",
      "w\n",
      " \n",
      "a\n",
      "r\n",
      "e\n",
      " \n",
      "y\n",
      "o\n",
      "u\n"
     ]
    }
   ],
   "source": [
    "for letter2 in \"how are you\":\n",
    "    print(letter2)"
   ]
  },
  {
   "cell_type": "markdown",
   "id": "8922561d",
   "metadata": {},
   "source": [
    "## Tuples"
   ]
  },
  {
   "cell_type": "markdown",
   "id": "7c415810",
   "metadata": {},
   "source": [
    "<font size = 4, color = 'blue'> Tuple Unpacking"
   ]
  },
  {
   "cell_type": "code",
   "execution_count": 31,
   "id": "f8bc92bf",
   "metadata": {},
   "outputs": [],
   "source": [
    "mytuple1 = (1,2,3,4,5)"
   ]
  },
  {
   "cell_type": "code",
   "execution_count": 32,
   "id": "8ffc3cf9",
   "metadata": {},
   "outputs": [
    {
     "name": "stdout",
     "output_type": "stream",
     "text": [
      "1\n",
      "2\n",
      "3\n",
      "4\n",
      "5\n"
     ]
    }
   ],
   "source": [
    "for tup1 in mytuple1:\n",
    "    print(tup1)"
   ]
  },
  {
   "cell_type": "code",
   "execution_count": 34,
   "id": "a6d18d55",
   "metadata": {},
   "outputs": [
    {
     "name": "stdout",
     "output_type": "stream",
     "text": [
      "(1, 2)\n",
      "(3, 4)\n",
      "(5, 6)\n",
      "(7, 8)\n",
      "(9, 10)\n",
      "(11, 12)\n",
      "(13, 14)\n"
     ]
    }
   ],
   "source": [
    "mytuplelist1 = [(1,2), (3,4), (5,6), (7,8), (9,10), (11,12), (13,14)]\n",
    "for tup2 in mytuplelist1:\n",
    "    print(tup2)"
   ]
  },
  {
   "cell_type": "code",
   "execution_count": 37,
   "id": "1ca38537",
   "metadata": {},
   "outputs": [
    {
     "name": "stdout",
     "output_type": "stream",
     "text": [
      "1\n",
      "2\n",
      "3\n",
      "4\n",
      "5\n",
      "6\n",
      "7\n",
      "8\n",
      "9\n",
      "10\n",
      "11\n",
      "12\n",
      "13\n",
      "14\n"
     ]
    }
   ],
   "source": [
    "for (unpack1, unpack2) in mytuplelist1:\n",
    "    print(unpack1)\n",
    "    print(unpack2)"
   ]
  },
  {
   "cell_type": "code",
   "execution_count": 38,
   "id": "ad7565ab",
   "metadata": {},
   "outputs": [
    {
     "name": "stdout",
     "output_type": "stream",
     "text": [
      "1\n",
      "2\n",
      "3\n",
      "4\n",
      "5\n",
      "6\n",
      "7\n",
      "8\n",
      "9\n",
      "10\n",
      "11\n",
      "12\n",
      "13\n",
      "14\n"
     ]
    }
   ],
   "source": [
    "for unpack3, unpack4 in mytuplelist1: # without paranthesis\n",
    "    print(unpack3)\n",
    "    print(unpack4)"
   ]
  },
  {
   "cell_type": "markdown",
   "id": "aac2af45",
   "metadata": {},
   "source": [
    "## Dictionaries"
   ]
  },
  {
   "cell_type": "code",
   "execution_count": 41,
   "id": "f4887d87",
   "metadata": {},
   "outputs": [
    {
     "name": "stdout",
     "output_type": "stream",
     "text": [
      "k1\n",
      "k2\n",
      "k3\n"
     ]
    }
   ],
   "source": [
    "dict1 = {'k1': 100, 'k2': 200, 'k3': 300}\n",
    "\n",
    "for item1 in dict1:  ## Note this only prints the keys\n",
    "    print(item1) "
   ]
  },
  {
   "cell_type": "code",
   "execution_count": 43,
   "id": "6799916a",
   "metadata": {},
   "outputs": [
    {
     "name": "stdout",
     "output_type": "stream",
     "text": [
      "1\n",
      "2\n",
      "6\n"
     ]
    }
   ],
   "source": [
    "dict2 = {'k4': 1, 'k5': 2, 'k6': 6}\n",
    "\n",
    "for item2 in dict2.values(): ## Note this prints values\n",
    "    print(item2)"
   ]
  },
  {
   "cell_type": "code",
   "execution_count": 44,
   "id": "3ab222b9",
   "metadata": {},
   "outputs": [
    {
     "name": "stdout",
     "output_type": "stream",
     "text": [
      "('k4', 1)\n",
      "('k5', 2)\n",
      "('k6', 6)\n"
     ]
    }
   ],
   "source": [
    "dict2 = {'k4': 1, 'k5': 2, 'k6': 6}\n",
    "\n",
    "for item2 in dict2.items(): ## Note this prints both key & value\n",
    "    print(item2)"
   ]
  },
  {
   "cell_type": "markdown",
   "id": "7933d64c",
   "metadata": {},
   "source": [
    "<font size = 4, color = 'blue'> Tuple Unpacking"
   ]
  },
  {
   "cell_type": "code",
   "execution_count": 48,
   "id": "c8599cc8",
   "metadata": {},
   "outputs": [
    {
     "name": "stdout",
     "output_type": "stream",
     "text": [
      "k7\n",
      "100\n",
      "k8\n",
      "200\n",
      "k9\n",
      "300\n",
      "k10\n",
      "400\n"
     ]
    }
   ],
   "source": [
    "dict3 = {'k7': 100, 'k8': 200, 'k9': 300, 'k10': 400}\n",
    "\n",
    "for key3, value3 in dict3.items():\n",
    "    print(key3)\n",
    "    print(value3)"
   ]
  },
  {
   "cell_type": "code",
   "execution_count": null,
   "id": "22eeef46",
   "metadata": {},
   "outputs": [],
   "source": []
  }
 ],
 "metadata": {
  "kernelspec": {
   "display_name": "Python 3 (ipykernel)",
   "language": "python",
   "name": "python3"
  },
  "language_info": {
   "codemirror_mode": {
    "name": "ipython",
    "version": 3
   },
   "file_extension": ".py",
   "mimetype": "text/x-python",
   "name": "python",
   "nbconvert_exporter": "python",
   "pygments_lexer": "ipython3",
   "version": "3.9.12"
  }
 },
 "nbformat": 4,
 "nbformat_minor": 5
}
