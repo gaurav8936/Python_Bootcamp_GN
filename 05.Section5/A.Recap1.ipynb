{
 "cells": [
  {
   "cell_type": "markdown",
   "id": "ffd4de2f",
   "metadata": {},
   "source": [
    "<font size = 10> Recap 1"
   ]
  },
  {
   "cell_type": "markdown",
   "id": "cfba3066",
   "metadata": {},
   "source": [
    "***"
   ]
  },
  {
   "cell_type": "markdown",
   "id": "4228ec1a",
   "metadata": {},
   "source": [
    "<font size = 7, color = 'teal'> If, Elif, Else Statements"
   ]
  },
  {
   "cell_type": "code",
   "execution_count": 81,
   "id": "c09aa7d1",
   "metadata": {},
   "outputs": [
    {
     "name": "stdout",
     "output_type": "stream",
     "text": [
      "this is not cool\n"
     ]
    }
   ],
   "source": [
    "loc = 'bank'\n",
    "if loc == 'auto shot':\n",
    "    print(\"Auto shops are cool\")\n",
    "else:\n",
    "    print(\"this is not cool\")"
   ]
  },
  {
   "cell_type": "code",
   "execution_count": 6,
   "id": "e1cbcaa6",
   "metadata": {},
   "outputs": [
    {
     "name": "stdout",
     "output_type": "stream",
     "text": [
      "Boring\n"
     ]
    }
   ],
   "source": [
    "#name = 'Ziba'\n",
    "name = 'Martha'\n",
    "\n",
    "if name == 'Ziba':\n",
    "    print('Ziba is the greatest')\n",
    "elif name == 'Martha':\n",
    "    print('Boring')\n",
    "elif name == 'John':\n",
    "    print('Boring Boring')\n",
    "else:\n",
    "    print('this is it')"
   ]
  },
  {
   "cell_type": "markdown",
   "id": "20ae26a2",
   "metadata": {},
   "source": [
    "***"
   ]
  },
  {
   "cell_type": "markdown",
   "id": "9375c77f",
   "metadata": {},
   "source": [
    "<font size = 7, color = 'teal'> For Loops   "
   ]
  },
  {
   "cell_type": "markdown",
   "id": "5bd449c6",
   "metadata": {},
   "source": [
    "## Numbers"
   ]
  },
  {
   "cell_type": "code",
   "execution_count": 14,
   "id": "39358235",
   "metadata": {},
   "outputs": [
    {
     "name": "stdout",
     "output_type": "stream",
     "text": [
      "0.5\n",
      "1.0\n",
      "1.5\n",
      "2.0\n",
      "2.5\n",
      "3.0\n",
      "3.5\n",
      "4.0\n",
      "4.5\n",
      "5.0\n",
      "5.5\n",
      "6.0\n",
      "6.5\n",
      "7.0\n",
      "7.5\n",
      "8.0\n",
      "8.5\n",
      "9.0\n",
      "9.5\n",
      "10.0\n"
     ]
    }
   ],
   "source": [
    "num1 = [1,2,3,4,5,6,7,8,9,10,11,12,13,14,15,16,17,18,19,20]\n",
    "\n",
    "for number in num1:\n",
    "    print(number/2)"
   ]
  },
  {
   "cell_type": "code",
   "execution_count": 13,
   "id": "3e326d5c",
   "metadata": {},
   "outputs": [
    {
     "name": "stdout",
     "output_type": "stream",
     "text": [
      "a\n",
      "b\n",
      "c\n",
      "d\n",
      "e\n",
      "f\n",
      "g\n"
     ]
    }
   ],
   "source": [
    "str1 = ['a','b','c','d','e','f','g']\n",
    "\n",
    "for string in str1:\n",
    "    print(string)"
   ]
  },
  {
   "cell_type": "markdown",
   "id": "68d2546a",
   "metadata": {},
   "source": [
    "` printing even numbers with for loop `"
   ]
  },
  {
   "cell_type": "code",
   "execution_count": 15,
   "id": "6d36585f",
   "metadata": {},
   "outputs": [
    {
     "name": "stdout",
     "output_type": "stream",
     "text": [
      "2\n",
      "4\n",
      "6\n",
      "8\n",
      "10\n",
      "12\n",
      "14\n",
      "16\n",
      "18\n",
      "20\n"
     ]
    }
   ],
   "source": [
    "for number2 in num1:\n",
    "    if number2%2 ==0:   ## mod operator\n",
    "        print(number2)"
   ]
  },
  {
   "cell_type": "code",
   "execution_count": 17,
   "id": "4738687e",
   "metadata": {},
   "outputs": [
    {
     "name": "stdout",
     "output_type": "stream",
     "text": [
      "odd numner is: 1\n",
      "even number is: 2\n",
      "odd numner is: 3\n",
      "even number is: 4\n",
      "odd numner is: 5\n",
      "even number is: 6\n",
      "odd numner is: 7\n",
      "even number is: 8\n",
      "odd numner is: 9\n",
      "even number is: 10\n",
      "odd numner is: 11\n",
      "even number is: 12\n",
      "odd numner is: 13\n",
      "even number is: 14\n",
      "odd numner is: 15\n",
      "even number is: 16\n",
      "odd numner is: 17\n",
      "even number is: 18\n",
      "odd numner is: 19\n",
      "even number is: 20\n"
     ]
    }
   ],
   "source": [
    "for number3 in num1:\n",
    "    if number3%2 ==0:\n",
    "        print(f'even number is: {number3}')\n",
    "    else:\n",
    "        print(f'odd numner is: {number3}')"
   ]
  },
  {
   "cell_type": "code",
   "execution_count": 23,
   "id": "4724c355",
   "metadata": {},
   "outputs": [
    {
     "name": "stdout",
     "output_type": "stream",
     "text": [
      "odd numner is: 1\n",
      "this is an even number:2\n",
      "odd numner is: 3\n",
      "this is divisible by 4: 4\n",
      "odd numner is: 5\n",
      "this is an even number:6\n",
      "odd numner is: 7\n",
      "this is divisible by 4: 8\n",
      "odd numner is: 9\n",
      "this is an even number:10\n",
      "odd numner is: 11\n",
      "this is divisible by 4: 12\n",
      "odd numner is: 13\n",
      "this is an even number:14\n",
      "odd numner is: 15\n",
      "this is divisible by 4: 16\n",
      "odd numner is: 17\n",
      "this is an even number:18\n",
      "odd numner is: 19\n",
      "this is divisible by 4: 20\n"
     ]
    }
   ],
   "source": [
    "for number3 in num1:\n",
    "    if number3%4 ==0:\n",
    "        print(f'this is divisible by 4: {number3}')\n",
    "    elif number3%2 == 0:\n",
    "        print(f'this is an even number:{number3}')\n",
    "    else:\n",
    "        print(f'odd numner is: {number3}')"
   ]
  },
  {
   "cell_type": "markdown",
   "id": "0b4960bd",
   "metadata": {},
   "source": [
    "## Strings"
   ]
  },
  {
   "cell_type": "code",
   "execution_count": 24,
   "id": "e276f702",
   "metadata": {},
   "outputs": [
    {
     "name": "stdout",
     "output_type": "stream",
     "text": [
      "2\n",
      "2\n",
      "7\n",
      " \n",
      "m\n",
      "o\n",
      "n\n",
      "t\n",
      "e\n",
      "r\n",
      "e\n",
      "y\n",
      " \n",
      "b\n",
      "l\n",
      "v\n",
      "d\n"
     ]
    }
   ],
   "source": [
    "mystring1 = '227 monterey blvd'\n",
    "\n",
    "for letter2 in mystring1:\n",
    "    print(letter2)"
   ]
  },
  {
   "cell_type": "code",
   "execution_count": 26,
   "id": "9e8ae8c8",
   "metadata": {},
   "outputs": [
    {
     "name": "stdout",
     "output_type": "stream",
     "text": [
      "h\n",
      "o\n",
      "w\n",
      " \n",
      "a\n",
      "r\n",
      "e\n",
      " \n",
      "y\n",
      "o\n",
      "u\n"
     ]
    }
   ],
   "source": [
    "for letter2 in \"how are you\":\n",
    "    print(letter2)"
   ]
  },
  {
   "cell_type": "markdown",
   "id": "c51752b0",
   "metadata": {},
   "source": [
    "## Tuples"
   ]
  },
  {
   "cell_type": "markdown",
   "id": "0e10c2ca",
   "metadata": {},
   "source": [
    "<font size = 4, color = 'blue'> Tuple Unpacking"
   ]
  },
  {
   "cell_type": "code",
   "execution_count": 31,
   "id": "930c8c27",
   "metadata": {},
   "outputs": [],
   "source": [
    "mytuple1 = (1,2,3,4,5)"
   ]
  },
  {
   "cell_type": "code",
   "execution_count": 32,
   "id": "2db698a7",
   "metadata": {},
   "outputs": [
    {
     "name": "stdout",
     "output_type": "stream",
     "text": [
      "1\n",
      "2\n",
      "3\n",
      "4\n",
      "5\n"
     ]
    }
   ],
   "source": [
    "for tup1 in mytuple1:\n",
    "    print(tup1)"
   ]
  },
  {
   "cell_type": "code",
   "execution_count": 34,
   "id": "4c1421a2",
   "metadata": {},
   "outputs": [
    {
     "name": "stdout",
     "output_type": "stream",
     "text": [
      "(1, 2)\n",
      "(3, 4)\n",
      "(5, 6)\n",
      "(7, 8)\n",
      "(9, 10)\n",
      "(11, 12)\n",
      "(13, 14)\n"
     ]
    }
   ],
   "source": [
    "mytuplelist1 = [(1,2), (3,4), (5,6), (7,8), (9,10), (11,12), (13,14)]\n",
    "for tup2 in mytuplelist1:\n",
    "    print(tup2)"
   ]
  },
  {
   "cell_type": "code",
   "execution_count": 37,
   "id": "3c91db77",
   "metadata": {},
   "outputs": [
    {
     "name": "stdout",
     "output_type": "stream",
     "text": [
      "1\n",
      "2\n",
      "3\n",
      "4\n",
      "5\n",
      "6\n",
      "7\n",
      "8\n",
      "9\n",
      "10\n",
      "11\n",
      "12\n",
      "13\n",
      "14\n"
     ]
    }
   ],
   "source": [
    "for (unpack1, unpack2) in mytuplelist1:\n",
    "    print(unpack1)\n",
    "    print(unpack2)"
   ]
  },
  {
   "cell_type": "code",
   "execution_count": 38,
   "id": "8dcca65f",
   "metadata": {},
   "outputs": [
    {
     "name": "stdout",
     "output_type": "stream",
     "text": [
      "1\n",
      "2\n",
      "3\n",
      "4\n",
      "5\n",
      "6\n",
      "7\n",
      "8\n",
      "9\n",
      "10\n",
      "11\n",
      "12\n",
      "13\n",
      "14\n"
     ]
    }
   ],
   "source": [
    "for unpack3, unpack4 in mytuplelist1: # without paranthesis\n",
    "    print(unpack3)\n",
    "    print(unpack4)"
   ]
  },
  {
   "cell_type": "markdown",
   "id": "9140e8f1",
   "metadata": {},
   "source": [
    "## Dictionaries"
   ]
  },
  {
   "cell_type": "code",
   "execution_count": 41,
   "id": "bb102feb",
   "metadata": {},
   "outputs": [
    {
     "name": "stdout",
     "output_type": "stream",
     "text": [
      "k1\n",
      "k2\n",
      "k3\n"
     ]
    }
   ],
   "source": [
    "dict1 = {'k1': 100, 'k2': 200, 'k3': 300}\n",
    "\n",
    "for item1 in dict1:  ## Note this only prints the keys\n",
    "    print(item1) "
   ]
  },
  {
   "cell_type": "code",
   "execution_count": 43,
   "id": "3594b5e9",
   "metadata": {},
   "outputs": [
    {
     "name": "stdout",
     "output_type": "stream",
     "text": [
      "1\n",
      "2\n",
      "6\n"
     ]
    }
   ],
   "source": [
    "dict2 = {'k4': 1, 'k5': 2, 'k6': 6}\n",
    "\n",
    "for item2 in dict2.values(): ## Note this prints values\n",
    "    print(item2)"
   ]
  },
  {
   "cell_type": "code",
   "execution_count": 44,
   "id": "009eef9b",
   "metadata": {},
   "outputs": [
    {
     "name": "stdout",
     "output_type": "stream",
     "text": [
      "('k4', 1)\n",
      "('k5', 2)\n",
      "('k6', 6)\n"
     ]
    }
   ],
   "source": [
    "dict2 = {'k4': 1, 'k5': 2, 'k6': 6}\n",
    "\n",
    "for item2 in dict2.items(): ## Note this prints both key & value\n",
    "    print(item2)"
   ]
  },
  {
   "cell_type": "markdown",
   "id": "f89d27a6",
   "metadata": {},
   "source": [
    "<font size = 4, color = 'blue'> Tuple Unpacking"
   ]
  },
  {
   "cell_type": "code",
   "execution_count": 48,
   "id": "575e9daa",
   "metadata": {},
   "outputs": [
    {
     "name": "stdout",
     "output_type": "stream",
     "text": [
      "k7\n",
      "100\n",
      "k8\n",
      "200\n",
      "k9\n",
      "300\n",
      "k10\n",
      "400\n"
     ]
    }
   ],
   "source": [
    "dict3 = {'k7': 100, 'k8': 200, 'k9': 300, 'k10': 400}\n",
    "\n",
    "for key3, value3 in dict3.items():\n",
    "    print(key3)\n",
    "    print(value3)"
   ]
  },
  {
   "cell_type": "markdown",
   "id": "0d53ab3a",
   "metadata": {},
   "source": [
    "***"
   ]
  },
  {
   "cell_type": "markdown",
   "id": "5513cd13",
   "metadata": {},
   "source": [
    "<font size = 7, color = 'teal'> While Loops"
   ]
  },
  {
   "cell_type": "code",
   "execution_count": 49,
   "id": "1b5f9dcb",
   "metadata": {},
   "outputs": [
    {
     "name": "stdout",
     "output_type": "stream",
     "text": [
      "the current value of item is 0\n",
      "the current value of item is 1\n",
      "the current value of item is 2\n",
      "the current value of item is 3\n",
      "the current value of item is 4\n"
     ]
    }
   ],
   "source": [
    "x1 = 0\n",
    "\n",
    "while x1 < 5:\n",
    "    print(f'the current value of item is {x1}')\n",
    "    x1 += 1\n",
    "    "
   ]
  },
  {
   "cell_type": "markdown",
   "id": "ca47ee69",
   "metadata": {},
   "source": [
    "***"
   ]
  },
  {
   "cell_type": "markdown",
   "id": "3269e5f0",
   "metadata": {},
   "source": [
    "<font size = 7, color = 'teal'> Pass"
   ]
  },
  {
   "cell_type": "markdown",
   "id": "9f86af98",
   "metadata": {},
   "source": [
    "<font color = 'red'> oftentimes, PASS is used as a placeholder in order to avoid syntax issues \\\n",
    "    really helpful in longer lines of code"
   ]
  },
  {
   "cell_type": "code",
   "execution_count": 54,
   "id": "6ab68c49",
   "metadata": {},
   "outputs": [
    {
     "name": "stdout",
     "output_type": "stream",
     "text": [
      "this is the end of the script\n"
     ]
    }
   ],
   "source": [
    "x2 = [1,2,3]\n",
    "\n",
    "for item2 in x2:\n",
    "    pass\n",
    "print('this is the end of the script')"
   ]
  },
  {
   "cell_type": "markdown",
   "id": "1d34a0bd",
   "metadata": {},
   "source": [
    "***"
   ]
  },
  {
   "cell_type": "markdown",
   "id": "a1c6ba16",
   "metadata": {},
   "source": [
    "<font size = 7, color = 'teal'> Break"
   ]
  },
  {
   "cell_type": "markdown",
   "id": "3dc5409b",
   "metadata": {},
   "source": [
    "<font color = 'red'> Exits out of the loop when the condition is met"
   ]
  },
  {
   "cell_type": "markdown",
   "id": "66d026cc",
   "metadata": {},
   "source": [
    "` used in a FOR loop `"
   ]
  },
  {
   "cell_type": "code",
   "execution_count": 65,
   "id": "e47d81fd",
   "metadata": {},
   "outputs": [
    {
     "name": "stdout",
     "output_type": "stream",
     "text": [
      "H\n",
      "e\n",
      "l\n",
      "l\n",
      "o\n",
      " \n",
      "m\n",
      "y\n",
      " \n",
      "l\n",
      "i\n",
      "t\n",
      "t\n",
      "l\n",
      "e\n",
      " \n"
     ]
    }
   ],
   "source": [
    "mystring2 = \"Hello my little Ziba Joon!\"\n",
    "\n",
    "for letter2 in mystring2:\n",
    "    if letter2 == 'Z':\n",
    "        break\n",
    "    print(letter2)"
   ]
  },
  {
   "cell_type": "markdown",
   "id": "9f6faec4",
   "metadata": {},
   "source": [
    "` used in a WHILE loop `"
   ]
  },
  {
   "cell_type": "code",
   "execution_count": 60,
   "id": "1b299bfd",
   "metadata": {},
   "outputs": [
    {
     "name": "stdout",
     "output_type": "stream",
     "text": [
      "this is testing break in a while loop for 0\n",
      "this is testing break in a while loop for 1\n",
      "this is testing break in a while loop for 2\n",
      "this is testing break in a while loop for 3\n"
     ]
    }
   ],
   "source": [
    "x3 = 0\n",
    "\n",
    "while x3 < 6:\n",
    "    if x3 == 4:\n",
    "        break\n",
    "    print(f'this is testing break in a while loop for {x3}')\n",
    "    x3 += 1\n",
    "    "
   ]
  },
  {
   "cell_type": "markdown",
   "id": "987ed76e",
   "metadata": {},
   "source": [
    "***"
   ]
  },
  {
   "cell_type": "markdown",
   "id": "94b5e55f",
   "metadata": {},
   "source": [
    "<font size = 7, color = 'teal'> Continue"
   ]
  },
  {
   "cell_type": "markdown",
   "id": "e8f7e1e0",
   "metadata": {},
   "source": [
    "<font color = 'red'> Continue basically skips the matching condition and moves to the next in the loop"
   ]
  },
  {
   "cell_type": "code",
   "execution_count": 55,
   "id": "463b752b",
   "metadata": {},
   "outputs": [
    {
     "name": "stdout",
     "output_type": "stream",
     "text": [
      "H\n",
      "o\n",
      "w\n",
      " \n",
      "a\n",
      "r\n",
      "e\n",
      " \n",
      "y\n",
      "o\n",
      " \n",
      "d\n",
      "o\n",
      "i\n",
      "n\n",
      "g\n",
      "?\n"
     ]
    }
   ],
   "source": [
    "mystring1 = 'How are you doing?'\n",
    "\n",
    "for letter1 in mystring1:\n",
    "    if letter1 == 'u':\n",
    "        continue\n",
    "    print(letter1)"
   ]
  },
  {
   "cell_type": "markdown",
   "id": "edb9ed9e",
   "metadata": {},
   "source": [
    "***"
   ]
  },
  {
   "cell_type": "markdown",
   "id": "c27a42ea",
   "metadata": {},
   "source": [
    "<font size = 7, color = 'teal'> Range"
   ]
  },
  {
   "cell_type": "markdown",
   "id": "94656912",
   "metadata": {},
   "source": [
    "<font color = 'red'> Range is a GENERATOR"
   ]
  },
  {
   "cell_type": "code",
   "execution_count": 67,
   "id": "264f784d",
   "metadata": {},
   "outputs": [
    {
     "name": "stdout",
     "output_type": "stream",
     "text": [
      "1\n",
      "21\n",
      "41\n",
      "61\n",
      "81\n"
     ]
    }
   ],
   "source": [
    "for num4 in range(1,100,20):\n",
    "    print(num4)"
   ]
  },
  {
   "cell_type": "code",
   "execution_count": 68,
   "id": "46a275f7",
   "metadata": {},
   "outputs": [
    {
     "data": {
      "text/plain": [
       "range(2, 20, 5)"
      ]
     },
     "execution_count": 68,
     "metadata": {},
     "output_type": "execute_result"
    }
   ],
   "source": [
    "range(2,20,5)"
   ]
  },
  {
   "cell_type": "code",
   "execution_count": 71,
   "id": "c495a236",
   "metadata": {},
   "outputs": [
    {
     "data": {
      "text/plain": [
       "[2, 7, 12, 17]"
      ]
     },
     "execution_count": 71,
     "metadata": {},
     "output_type": "execute_result"
    }
   ],
   "source": [
    "list(range(2,20,5))  ## Note the use of () rather than [] for generating the list"
   ]
  },
  {
   "cell_type": "markdown",
   "id": "0adfc365",
   "metadata": {},
   "source": [
    "***"
   ]
  },
  {
   "cell_type": "markdown",
   "id": "2411ec6f",
   "metadata": {},
   "source": [
    "<font size = 7, color = 'teal'> Enumerate"
   ]
  },
  {
   "cell_type": "code",
   "execution_count": 78,
   "id": "1480657f",
   "metadata": {},
   "outputs": [
    {
     "name": "stdout",
     "output_type": "stream",
     "text": [
      "at index0 the letter is e\n",
      "at index1 the letter is n\n",
      "at index2 the letter is u\n",
      "at index3 the letter is m\n",
      "at index4 the letter is e\n",
      "at index5 the letter is r\n",
      "at index6 the letter is a\n",
      "at index7 the letter is t\n",
      "at index8 the letter is e\n"
     ]
    }
   ],
   "source": [
    "word = 'enumerate'\n",
    "index_count1 = 0\n",
    "\n",
    "for letter1 in word:\n",
    "    print('at index{} the letter is {}'.format(index_count1, letter1))\n",
    "    index_count1 += 1"
   ]
  },
  {
   "cell_type": "markdown",
   "id": "4a9a30dd",
   "metadata": {},
   "source": [
    "` doesn't seem to work on numbers `"
   ]
  },
  {
   "cell_type": "markdown",
   "id": "0e18e4ec",
   "metadata": {},
   "source": [
    "<font color = 'red'> Enumerate returns TUPLES"
   ]
  },
  {
   "cell_type": "code",
   "execution_count": 85,
   "id": "343055c1",
   "metadata": {},
   "outputs": [
    {
     "name": "stdout",
     "output_type": "stream",
     "text": [
      "(0, 'e')\n",
      "(1, 'x')\n",
      "(2, 'p')\n",
      "(3, 'e')\n",
      "(4, 'd')\n",
      "(5, 'i')\n",
      "(6, 't')\n",
      "(7, 'i')\n",
      "(8, 'o')\n",
      "(9, 'u')\n",
      "(10, 's')\n"
     ]
    }
   ],
   "source": [
    "word4 = 'expeditious'\n",
    "\n",
    "for item4 in enumerate(word4):\n",
    "    print(item4)"
   ]
  },
  {
   "cell_type": "markdown",
   "id": "98eac617",
   "metadata": {},
   "source": [
    "<font color = 'red'> Which implies we can use tuple unpacking as well"
   ]
  },
  {
   "cell_type": "code",
   "execution_count": 87,
   "id": "65d72621",
   "metadata": {},
   "outputs": [
    {
     "name": "stdout",
     "output_type": "stream",
     "text": [
      "0\n",
      "e\n",
      "\n",
      "\n",
      "1\n",
      "x\n",
      "\n",
      "\n",
      "2\n",
      "p\n",
      "\n",
      "\n",
      "3\n",
      "e\n",
      "\n",
      "\n",
      "4\n",
      "d\n",
      "\n",
      "\n",
      "5\n",
      "i\n",
      "\n",
      "\n",
      "6\n",
      "t\n",
      "\n",
      "\n",
      "7\n",
      "i\n",
      "\n",
      "\n",
      "8\n",
      "o\n",
      "\n",
      "\n",
      "9\n",
      "u\n",
      "\n",
      "\n",
      "10\n",
      "s\n",
      "\n",
      "\n"
     ]
    }
   ],
   "source": [
    "for index4, letter4 in enumerate(word4):\n",
    "    print(index4)\n",
    "    print(letter4)\n",
    "    print('\\n')"
   ]
  },
  {
   "cell_type": "markdown",
   "id": "94b8f3a0",
   "metadata": {},
   "source": [
    "***"
   ]
  },
  {
   "cell_type": "markdown",
   "id": "7259621d",
   "metadata": {},
   "source": [
    "<font size = 7, color = 'teal'> ZIP"
   ]
  },
  {
   "cell_type": "markdown",
   "id": "68cce6b0",
   "metadata": {},
   "source": [
    "` zip works with methods like LISTS -- and limited to the shortest among all `"
   ]
  },
  {
   "cell_type": "code",
   "execution_count": 90,
   "id": "545214c9",
   "metadata": {},
   "outputs": [
    {
     "name": "stdout",
     "output_type": "stream",
     "text": [
      "(1, 'a', 100)\n",
      "(2, 'c', 200)\n",
      "(3, 'f', 300)\n"
     ]
    }
   ],
   "source": [
    "mylist1 = [1,2,3,4,5]\n",
    "mylist2 = ['a','c','f','t','h']\n",
    "#mylist3 = [100,200,300,400,500]\n",
    "mylist3 = [100,200,300]\n",
    "\n",
    "for item123 in zip(mylist1, mylist2, mylist3):\n",
    "    print(item123)"
   ]
  },
  {
   "cell_type": "markdown",
   "id": "b855a742",
   "metadata": {},
   "source": [
    "<font color = 'red'> tuple unpacking"
   ]
  },
  {
   "cell_type": "markdown",
   "id": "18ff435c",
   "metadata": {},
   "source": [
    "<font color = 'blue'> Notice that item1 and item2 (are when all three items are defined)"
   ]
  },
  {
   "cell_type": "code",
   "execution_count": 92,
   "id": "140da167",
   "metadata": {},
   "outputs": [
    {
     "name": "stdout",
     "output_type": "stream",
     "text": [
      "1 a\n",
      "2 c\n",
      "3 f\n"
     ]
    }
   ],
   "source": [
    "for item1, item2, item3 in zip(mylist1, mylist2, mylist3):\n",
    "    print(item1, item2)"
   ]
  },
  {
   "cell_type": "markdown",
   "id": "c80311ab",
   "metadata": {},
   "source": [
    "<font color = blue> Note that all values are displayed if only one item is listed"
   ]
  },
  {
   "cell_type": "code",
   "execution_count": 93,
   "id": "d05545fe",
   "metadata": {},
   "outputs": [
    {
     "name": "stdout",
     "output_type": "stream",
     "text": [
      "(1, 'a', 100)\n",
      "(2, 'c', 200)\n",
      "(3, 'f', 300)\n"
     ]
    }
   ],
   "source": [
    "for item1 in zip(mylist1, mylist2, mylist3):\n",
    "    print(item1)"
   ]
  },
  {
   "cell_type": "markdown",
   "id": "6bd5861e",
   "metadata": {},
   "source": [
    "***"
   ]
  },
  {
   "cell_type": "markdown",
   "id": "c1bfd617",
   "metadata": {},
   "source": [
    "<font size = 7, color = 'teal'> IN"
   ]
  },
  {
   "cell_type": "markdown",
   "id": "0cf79ed6",
   "metadata": {},
   "source": [
    "<font color = blue> gets true or false (boolean values"
   ]
  },
  {
   "cell_type": "markdown",
   "id": "ee7f6352",
   "metadata": {},
   "source": [
    "### Lists"
   ]
  },
  {
   "cell_type": "code",
   "execution_count": 97,
   "id": "ed3ae8da",
   "metadata": {},
   "outputs": [
    {
     "data": {
      "text/plain": [
       "True"
      ]
     },
     "execution_count": 97,
     "metadata": {},
     "output_type": "execute_result"
    }
   ],
   "source": [
    "'x' in ['x','y','a']"
   ]
  },
  {
   "cell_type": "code",
   "execution_count": 96,
   "id": "7c5f0775",
   "metadata": {},
   "outputs": [
    {
     "data": {
      "text/plain": [
       "True"
      ]
     },
     "execution_count": 96,
     "metadata": {},
     "output_type": "execute_result"
    }
   ],
   "source": [
    "'a' in 'a world'"
   ]
  },
  {
   "cell_type": "markdown",
   "id": "3d190935",
   "metadata": {},
   "source": [
    "## Dictionaries"
   ]
  },
  {
   "cell_type": "code",
   "execution_count": 99,
   "id": "efed9c9f",
   "metadata": {},
   "outputs": [
    {
     "data": {
      "text/plain": [
       "True"
      ]
     },
     "execution_count": 99,
     "metadata": {},
     "output_type": "execute_result"
    }
   ],
   "source": [
    "'mykey' in {'mykey': 1234}"
   ]
  },
  {
   "cell_type": "code",
   "execution_count": 101,
   "id": "b76227f4",
   "metadata": {},
   "outputs": [
    {
     "data": {
      "text/plain": [
       "True"
      ]
     },
     "execution_count": 101,
     "metadata": {},
     "output_type": "execute_result"
    }
   ],
   "source": [
    "dic1 = {'k1': 100, 'k2': 200}\n",
    "\n",
    "100 in dic1.values()"
   ]
  },
  {
   "cell_type": "markdown",
   "id": "2267c515",
   "metadata": {},
   "source": [
    "***"
   ]
  },
  {
   "cell_type": "markdown",
   "id": "5bb34ed7",
   "metadata": {},
   "source": [
    "<font size = 7, color = 'teal'> Min & Max "
   ]
  },
  {
   "cell_type": "code",
   "execution_count": 105,
   "id": "f9fd32bf",
   "metadata": {},
   "outputs": [
    {
     "name": "stdout",
     "output_type": "stream",
     "text": [
      "1\n",
      "10\n"
     ]
    }
   ],
   "source": [
    "mylist10 = [1,2,3,4,5,6,7,8,9,10]\n",
    "\n",
    "print(min(mylist10))\n",
    "print(max(mylist10))"
   ]
  },
  {
   "cell_type": "markdown",
   "id": "f54cd249",
   "metadata": {},
   "source": [
    "***"
   ]
  },
  {
   "cell_type": "markdown",
   "id": "9c14fbb0",
   "metadata": {},
   "source": [
    "<font size = 7, color = 'teal'> Random Library"
   ]
  },
  {
   "cell_type": "markdown",
   "id": "d4668d3e",
   "metadata": {},
   "source": [
    "## Shuffle"
   ]
  },
  {
   "cell_type": "code",
   "execution_count": 114,
   "id": "bcc079bf",
   "metadata": {},
   "outputs": [
    {
     "name": "stdout",
     "output_type": "stream",
     "text": [
      "<class 'NoneType'>\n"
     ]
    }
   ],
   "source": [
    "from random import shuffle\n",
    "\n",
    "mylist11 = [1,2,3,4,5,6,7,8,9,10]\n",
    "\n",
    "#shuffle(mylist11)\n",
    "\n",
    "random_var = shuffle(mylist11)\n",
    "print(type(random_var))  # Note there is no value assigned by the shuffle function\n",
    "\n",
    "#print(mylist11)\n",
    "#print(type(mylist11))"
   ]
  },
  {
   "cell_type": "markdown",
   "id": "c4b83281",
   "metadata": {},
   "source": [
    "## RandINT"
   ]
  },
  {
   "cell_type": "markdown",
   "id": "547bc0f5",
   "metadata": {},
   "source": [
    "<font color = blue> unlike shuffle, RandINT is not saved in place, but can be saved to a variable"
   ]
  },
  {
   "cell_type": "code",
   "execution_count": 115,
   "id": "86917db8",
   "metadata": {},
   "outputs": [
    {
     "data": {
      "text/plain": [
       "192"
      ]
     },
     "execution_count": 115,
     "metadata": {},
     "output_type": "execute_result"
    }
   ],
   "source": [
    "from random import randint\n",
    "\n",
    "randint(1,400)"
   ]
  },
  {
   "cell_type": "code",
   "execution_count": 118,
   "id": "9cf367ce",
   "metadata": {},
   "outputs": [
    {
     "name": "stdout",
     "output_type": "stream",
     "text": [
      "2374\n"
     ]
    }
   ],
   "source": [
    "rand_var2 = randint(400,6000)\n",
    "print(rand_var2)"
   ]
  },
  {
   "cell_type": "markdown",
   "id": "b8e35928",
   "metadata": {},
   "source": [
    "## Accepting User Input"
   ]
  },
  {
   "cell_type": "markdown",
   "id": "07808ea7",
   "metadata": {},
   "source": [
    "<font color = blue> Inputs always stores as a string"
   ]
  },
  {
   "cell_type": "code",
   "execution_count": 120,
   "id": "e5a63dcd",
   "metadata": {},
   "outputs": [
    {
     "name": "stdout",
     "output_type": "stream",
     "text": [
      "what is your name?Ziba\n",
      "Ziba\n"
     ]
    }
   ],
   "source": [
    "result1 = input('what is your name?')\n",
    "print (result1)"
   ]
  },
  {
   "cell_type": "code",
   "execution_count": 122,
   "id": "c45e212e",
   "metadata": {},
   "outputs": [
    {
     "name": "stdout",
     "output_type": "stream",
     "text": [
      "what is the number?33\n",
      "33\n",
      "<class 'str'>\n"
     ]
    }
   ],
   "source": [
    "result2 = input('what is the number?')\n",
    "print(result2)\n",
    "print(type(result2))"
   ]
  },
  {
   "cell_type": "markdown",
   "id": "3157edee",
   "metadata": {},
   "source": [
    "` converting string results back to number `"
   ]
  },
  {
   "cell_type": "code",
   "execution_count": 123,
   "id": "ee2dbc26",
   "metadata": {},
   "outputs": [
    {
     "data": {
      "text/plain": [
       "33.0"
      ]
     },
     "execution_count": 123,
     "metadata": {},
     "output_type": "execute_result"
    }
   ],
   "source": [
    "float (result2)"
   ]
  },
  {
   "cell_type": "code",
   "execution_count": 124,
   "id": "0ce53d98",
   "metadata": {},
   "outputs": [
    {
     "data": {
      "text/plain": [
       "33"
      ]
     },
     "execution_count": 124,
     "metadata": {},
     "output_type": "execute_result"
    }
   ],
   "source": [
    "int(result2)"
   ]
  },
  {
   "cell_type": "code",
   "execution_count": 125,
   "id": "b2d060b1",
   "metadata": {},
   "outputs": [
    {
     "name": "stdout",
     "output_type": "stream",
     "text": [
      "what is your favorite number?66\n",
      "66\n",
      "<class 'int'>\n"
     ]
    }
   ],
   "source": [
    "result3 = int(input('what is your favorite number?'))\n",
    "\n",
    "print(result3)\n",
    "\n",
    "print(type(result3))"
   ]
  },
  {
   "cell_type": "code",
   "execution_count": null,
   "id": "34ab7929",
   "metadata": {},
   "outputs": [],
   "source": []
  }
 ],
 "metadata": {
  "kernelspec": {
   "display_name": "Python 3 (ipykernel)",
   "language": "python",
   "name": "python3"
  },
  "language_info": {
   "codemirror_mode": {
    "name": "ipython",
    "version": 3
   },
   "file_extension": ".py",
   "mimetype": "text/x-python",
   "name": "python",
   "nbconvert_exporter": "python",
   "pygments_lexer": "ipython3",
   "version": "3.9.12"
  }
 },
 "nbformat": 4,
 "nbformat_minor": 5
}
