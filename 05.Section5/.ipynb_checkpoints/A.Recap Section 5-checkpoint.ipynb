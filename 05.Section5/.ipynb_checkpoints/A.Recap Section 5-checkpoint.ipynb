{
 "cells": [
  {
   "cell_type": "markdown",
   "id": "09032aa1",
   "metadata": {},
   "source": [
    "<font size = 10> Recap Section 5"
   ]
  },
  {
   "cell_type": "markdown",
   "id": "d35934b0",
   "metadata": {},
   "source": [
    "***"
   ]
  },
  {
   "cell_type": "markdown",
   "id": "2d60eb8f",
   "metadata": {},
   "source": [
    "<font size = 7, color = 'teal'> If, Elif, Else Statements"
   ]
  },
  {
   "cell_type": "code",
   "execution_count": 81,
   "id": "9fecbef1",
   "metadata": {},
   "outputs": [
    {
     "name": "stdout",
     "output_type": "stream",
     "text": [
      "this is not cool\n"
     ]
    }
   ],
   "source": [
    "loc = 'bank'\n",
    "if loc == 'auto shot':\n",
    "    print(\"Auto shops are cool\")\n",
    "else:\n",
    "    print(\"this is not cool\")"
   ]
  },
  {
   "cell_type": "code",
   "execution_count": 6,
   "id": "f2d5d22e",
   "metadata": {},
   "outputs": [
    {
     "name": "stdout",
     "output_type": "stream",
     "text": [
      "Boring\n"
     ]
    }
   ],
   "source": [
    "#name = 'Ziba'\n",
    "name = 'Martha'\n",
    "\n",
    "if name == 'Ziba':\n",
    "    print('Ziba is the greatest')\n",
    "elif name == 'Martha':\n",
    "    print('Boring')\n",
    "elif name == 'John':\n",
    "    print('Boring Boring')\n",
    "else:\n",
    "    print('this is it')"
   ]
  },
  {
   "cell_type": "markdown",
   "id": "47b9dc78",
   "metadata": {},
   "source": [
    "***"
   ]
  },
  {
   "cell_type": "markdown",
   "id": "63b42005",
   "metadata": {},
   "source": [
    "<font size = 7, color = 'teal'> For Loops   "
   ]
  },
  {
   "cell_type": "markdown",
   "id": "9e31d2f8",
   "metadata": {},
   "source": [
    "## Numbers"
   ]
  },
  {
   "cell_type": "code",
   "execution_count": 14,
   "id": "07c7c577",
   "metadata": {},
   "outputs": [
    {
     "name": "stdout",
     "output_type": "stream",
     "text": [
      "0.5\n",
      "1.0\n",
      "1.5\n",
      "2.0\n",
      "2.5\n",
      "3.0\n",
      "3.5\n",
      "4.0\n",
      "4.5\n",
      "5.0\n",
      "5.5\n",
      "6.0\n",
      "6.5\n",
      "7.0\n",
      "7.5\n",
      "8.0\n",
      "8.5\n",
      "9.0\n",
      "9.5\n",
      "10.0\n"
     ]
    }
   ],
   "source": [
    "num1 = [1,2,3,4,5,6,7,8,9,10,11,12,13,14,15,16,17,18,19,20]\n",
    "\n",
    "for number in num1:\n",
    "    print(number/2)"
   ]
  },
  {
   "cell_type": "code",
   "execution_count": 13,
   "id": "c8c67661",
   "metadata": {},
   "outputs": [
    {
     "name": "stdout",
     "output_type": "stream",
     "text": [
      "a\n",
      "b\n",
      "c\n",
      "d\n",
      "e\n",
      "f\n",
      "g\n"
     ]
    }
   ],
   "source": [
    "str1 = ['a','b','c','d','e','f','g']\n",
    "\n",
    "for string in str1:\n",
    "    print(string)"
   ]
  },
  {
   "cell_type": "markdown",
   "id": "a0aefa2b",
   "metadata": {},
   "source": [
    "` printing even numbers with for loop `"
   ]
  },
  {
   "cell_type": "code",
   "execution_count": 15,
   "id": "1b994546",
   "metadata": {},
   "outputs": [
    {
     "name": "stdout",
     "output_type": "stream",
     "text": [
      "2\n",
      "4\n",
      "6\n",
      "8\n",
      "10\n",
      "12\n",
      "14\n",
      "16\n",
      "18\n",
      "20\n"
     ]
    }
   ],
   "source": [
    "for number2 in num1:\n",
    "    if number2%2 ==0:   ## mod operator\n",
    "        print(number2)"
   ]
  },
  {
   "cell_type": "code",
   "execution_count": 17,
   "id": "2e71c2fb",
   "metadata": {},
   "outputs": [
    {
     "name": "stdout",
     "output_type": "stream",
     "text": [
      "odd numner is: 1\n",
      "even number is: 2\n",
      "odd numner is: 3\n",
      "even number is: 4\n",
      "odd numner is: 5\n",
      "even number is: 6\n",
      "odd numner is: 7\n",
      "even number is: 8\n",
      "odd numner is: 9\n",
      "even number is: 10\n",
      "odd numner is: 11\n",
      "even number is: 12\n",
      "odd numner is: 13\n",
      "even number is: 14\n",
      "odd numner is: 15\n",
      "even number is: 16\n",
      "odd numner is: 17\n",
      "even number is: 18\n",
      "odd numner is: 19\n",
      "even number is: 20\n"
     ]
    }
   ],
   "source": [
    "for number3 in num1:\n",
    "    if number3%2 ==0:\n",
    "        print(f'even number is: {number3}')\n",
    "    else:\n",
    "        print(f'odd numner is: {number3}')"
   ]
  },
  {
   "cell_type": "code",
   "execution_count": 23,
   "id": "662b8a66",
   "metadata": {},
   "outputs": [
    {
     "name": "stdout",
     "output_type": "stream",
     "text": [
      "odd numner is: 1\n",
      "this is an even number:2\n",
      "odd numner is: 3\n",
      "this is divisible by 4: 4\n",
      "odd numner is: 5\n",
      "this is an even number:6\n",
      "odd numner is: 7\n",
      "this is divisible by 4: 8\n",
      "odd numner is: 9\n",
      "this is an even number:10\n",
      "odd numner is: 11\n",
      "this is divisible by 4: 12\n",
      "odd numner is: 13\n",
      "this is an even number:14\n",
      "odd numner is: 15\n",
      "this is divisible by 4: 16\n",
      "odd numner is: 17\n",
      "this is an even number:18\n",
      "odd numner is: 19\n",
      "this is divisible by 4: 20\n"
     ]
    }
   ],
   "source": [
    "for number3 in num1:\n",
    "    if number3%4 ==0:\n",
    "        print(f'this is divisible by 4: {number3}')\n",
    "    elif number3%2 == 0:\n",
    "        print(f'this is an even number:{number3}')\n",
    "    else:\n",
    "        print(f'odd numner is: {number3}')"
   ]
  },
  {
   "cell_type": "markdown",
   "id": "3d9e15f6",
   "metadata": {},
   "source": [
    "## Strings"
   ]
  },
  {
   "cell_type": "code",
   "execution_count": 24,
   "id": "c3e4e02a",
   "metadata": {},
   "outputs": [
    {
     "name": "stdout",
     "output_type": "stream",
     "text": [
      "2\n",
      "2\n",
      "7\n",
      " \n",
      "m\n",
      "o\n",
      "n\n",
      "t\n",
      "e\n",
      "r\n",
      "e\n",
      "y\n",
      " \n",
      "b\n",
      "l\n",
      "v\n",
      "d\n"
     ]
    }
   ],
   "source": [
    "mystring1 = '227 monterey blvd'\n",
    "\n",
    "for letter2 in mystring1:\n",
    "    print(letter2)"
   ]
  },
  {
   "cell_type": "code",
   "execution_count": 26,
   "id": "bc4eb53e",
   "metadata": {},
   "outputs": [
    {
     "name": "stdout",
     "output_type": "stream",
     "text": [
      "h\n",
      "o\n",
      "w\n",
      " \n",
      "a\n",
      "r\n",
      "e\n",
      " \n",
      "y\n",
      "o\n",
      "u\n"
     ]
    }
   ],
   "source": [
    "for letter2 in \"how are you\":\n",
    "    print(letter2)"
   ]
  },
  {
   "cell_type": "markdown",
   "id": "6b90bbe0",
   "metadata": {},
   "source": [
    "## Tuples"
   ]
  },
  {
   "cell_type": "markdown",
   "id": "69673597",
   "metadata": {},
   "source": [
    "<font size = 4, color = 'blue'> Tuple Unpacking"
   ]
  },
  {
   "cell_type": "code",
   "execution_count": 31,
   "id": "ae9146ee",
   "metadata": {},
   "outputs": [],
   "source": [
    "mytuple1 = (1,2,3,4,5)"
   ]
  },
  {
   "cell_type": "code",
   "execution_count": 32,
   "id": "81982dab",
   "metadata": {},
   "outputs": [
    {
     "name": "stdout",
     "output_type": "stream",
     "text": [
      "1\n",
      "2\n",
      "3\n",
      "4\n",
      "5\n"
     ]
    }
   ],
   "source": [
    "for tup1 in mytuple1:\n",
    "    print(tup1)"
   ]
  },
  {
   "cell_type": "code",
   "execution_count": 34,
   "id": "aafa11e3",
   "metadata": {},
   "outputs": [
    {
     "name": "stdout",
     "output_type": "stream",
     "text": [
      "(1, 2)\n",
      "(3, 4)\n",
      "(5, 6)\n",
      "(7, 8)\n",
      "(9, 10)\n",
      "(11, 12)\n",
      "(13, 14)\n"
     ]
    }
   ],
   "source": [
    "mytuplelist1 = [(1,2), (3,4), (5,6), (7,8), (9,10), (11,12), (13,14)]\n",
    "for tup2 in mytuplelist1:\n",
    "    print(tup2)"
   ]
  },
  {
   "cell_type": "code",
   "execution_count": 37,
   "id": "4c351f5c",
   "metadata": {},
   "outputs": [
    {
     "name": "stdout",
     "output_type": "stream",
     "text": [
      "1\n",
      "2\n",
      "3\n",
      "4\n",
      "5\n",
      "6\n",
      "7\n",
      "8\n",
      "9\n",
      "10\n",
      "11\n",
      "12\n",
      "13\n",
      "14\n"
     ]
    }
   ],
   "source": [
    "for (unpack1, unpack2) in mytuplelist1:\n",
    "    print(unpack1)\n",
    "    print(unpack2)"
   ]
  },
  {
   "cell_type": "code",
   "execution_count": 38,
   "id": "334a8c7e",
   "metadata": {},
   "outputs": [
    {
     "name": "stdout",
     "output_type": "stream",
     "text": [
      "1\n",
      "2\n",
      "3\n",
      "4\n",
      "5\n",
      "6\n",
      "7\n",
      "8\n",
      "9\n",
      "10\n",
      "11\n",
      "12\n",
      "13\n",
      "14\n"
     ]
    }
   ],
   "source": [
    "for unpack3, unpack4 in mytuplelist1: # without paranthesis\n",
    "    print(unpack3)\n",
    "    print(unpack4)"
   ]
  },
  {
   "cell_type": "markdown",
   "id": "92126c8b",
   "metadata": {},
   "source": [
    "## Dictionaries"
   ]
  },
  {
   "cell_type": "code",
   "execution_count": 41,
   "id": "5e807720",
   "metadata": {},
   "outputs": [
    {
     "name": "stdout",
     "output_type": "stream",
     "text": [
      "k1\n",
      "k2\n",
      "k3\n"
     ]
    }
   ],
   "source": [
    "dict1 = {'k1': 100, 'k2': 200, 'k3': 300}\n",
    "\n",
    "for item1 in dict1:  ## Note this only prints the keys\n",
    "    print(item1) "
   ]
  },
  {
   "cell_type": "code",
   "execution_count": 43,
   "id": "a2e6dd86",
   "metadata": {},
   "outputs": [
    {
     "name": "stdout",
     "output_type": "stream",
     "text": [
      "1\n",
      "2\n",
      "6\n"
     ]
    }
   ],
   "source": [
    "dict2 = {'k4': 1, 'k5': 2, 'k6': 6}\n",
    "\n",
    "for item2 in dict2.values(): ## Note this prints values\n",
    "    print(item2)"
   ]
  },
  {
   "cell_type": "code",
   "execution_count": 44,
   "id": "162d098a",
   "metadata": {},
   "outputs": [
    {
     "name": "stdout",
     "output_type": "stream",
     "text": [
      "('k4', 1)\n",
      "('k5', 2)\n",
      "('k6', 6)\n"
     ]
    }
   ],
   "source": [
    "dict2 = {'k4': 1, 'k5': 2, 'k6': 6}\n",
    "\n",
    "for item2 in dict2.items(): ## Note this prints both key & value\n",
    "    print(item2)"
   ]
  },
  {
   "cell_type": "markdown",
   "id": "4dce96d6",
   "metadata": {},
   "source": [
    "<font size = 4, color = 'blue'> Tuple Unpacking"
   ]
  },
  {
   "cell_type": "code",
   "execution_count": 48,
   "id": "e2a1d054",
   "metadata": {},
   "outputs": [
    {
     "name": "stdout",
     "output_type": "stream",
     "text": [
      "k7\n",
      "100\n",
      "k8\n",
      "200\n",
      "k9\n",
      "300\n",
      "k10\n",
      "400\n"
     ]
    }
   ],
   "source": [
    "dict3 = {'k7': 100, 'k8': 200, 'k9': 300, 'k10': 400}\n",
    "\n",
    "for key3, value3 in dict3.items():\n",
    "    print(key3)\n",
    "    print(value3)"
   ]
  },
  {
   "cell_type": "markdown",
   "id": "0efcb0ea",
   "metadata": {},
   "source": [
    "***"
   ]
  },
  {
   "cell_type": "markdown",
   "id": "49eabb23",
   "metadata": {},
   "source": [
    "<font size = 7, color = 'teal'> While Loops"
   ]
  },
  {
   "cell_type": "code",
   "execution_count": 49,
   "id": "4c7e70bb",
   "metadata": {},
   "outputs": [
    {
     "name": "stdout",
     "output_type": "stream",
     "text": [
      "the current value of item is 0\n",
      "the current value of item is 1\n",
      "the current value of item is 2\n",
      "the current value of item is 3\n",
      "the current value of item is 4\n"
     ]
    }
   ],
   "source": [
    "x1 = 0\n",
    "\n",
    "while x1 < 5:\n",
    "    print(f'the current value of item is {x1}')\n",
    "    x1 += 1\n",
    "    "
   ]
  },
  {
   "cell_type": "markdown",
   "id": "49a80126",
   "metadata": {},
   "source": [
    "***"
   ]
  },
  {
   "cell_type": "markdown",
   "id": "935da060",
   "metadata": {},
   "source": [
    "<font size = 7, color = 'teal'> Pass"
   ]
  },
  {
   "cell_type": "markdown",
   "id": "bfa6f7a0",
   "metadata": {},
   "source": [
    "<font color = 'red'> oftentimes, PASS is used as a placeholder in order to avoid syntax issues \\\n",
    "    really helpful in longer lines of code"
   ]
  },
  {
   "cell_type": "code",
   "execution_count": 54,
   "id": "5b028af2",
   "metadata": {},
   "outputs": [
    {
     "name": "stdout",
     "output_type": "stream",
     "text": [
      "this is the end of the script\n"
     ]
    }
   ],
   "source": [
    "x2 = [1,2,3]\n",
    "\n",
    "for item2 in x2:\n",
    "    pass\n",
    "print('this is the end of the script')"
   ]
  },
  {
   "cell_type": "markdown",
   "id": "6ded8169",
   "metadata": {},
   "source": [
    "***"
   ]
  },
  {
   "cell_type": "markdown",
   "id": "009d0d21",
   "metadata": {},
   "source": [
    "<font size = 7, color = 'teal'> Break"
   ]
  },
  {
   "cell_type": "markdown",
   "id": "d9a058ce",
   "metadata": {},
   "source": [
    "<font color = 'red'> Exits out of the loop when the condition is met"
   ]
  },
  {
   "cell_type": "markdown",
   "id": "02c862cf",
   "metadata": {},
   "source": [
    "` used in a FOR loop `"
   ]
  },
  {
   "cell_type": "code",
   "execution_count": 65,
   "id": "874f92db",
   "metadata": {},
   "outputs": [
    {
     "name": "stdout",
     "output_type": "stream",
     "text": [
      "H\n",
      "e\n",
      "l\n",
      "l\n",
      "o\n",
      " \n",
      "m\n",
      "y\n",
      " \n",
      "l\n",
      "i\n",
      "t\n",
      "t\n",
      "l\n",
      "e\n",
      " \n"
     ]
    }
   ],
   "source": [
    "mystring2 = \"Hello my little Ziba Joon!\"\n",
    "\n",
    "for letter2 in mystring2:\n",
    "    if letter2 == 'Z':\n",
    "        break\n",
    "    print(letter2)"
   ]
  },
  {
   "cell_type": "markdown",
   "id": "e764aaf4",
   "metadata": {},
   "source": [
    "` used in a WHILE loop `"
   ]
  },
  {
   "cell_type": "code",
   "execution_count": 60,
   "id": "554d9111",
   "metadata": {},
   "outputs": [
    {
     "name": "stdout",
     "output_type": "stream",
     "text": [
      "this is testing break in a while loop for 0\n",
      "this is testing break in a while loop for 1\n",
      "this is testing break in a while loop for 2\n",
      "this is testing break in a while loop for 3\n"
     ]
    }
   ],
   "source": [
    "x3 = 0\n",
    "\n",
    "while x3 < 6:\n",
    "    if x3 == 4:\n",
    "        break\n",
    "    print(f'this is testing break in a while loop for {x3}')\n",
    "    x3 += 1\n",
    "    "
   ]
  },
  {
   "cell_type": "markdown",
   "id": "43e60ff8",
   "metadata": {},
   "source": [
    "***"
   ]
  },
  {
   "cell_type": "markdown",
   "id": "729bf4d4",
   "metadata": {},
   "source": [
    "<font size = 7, color = 'teal'> Continue"
   ]
  },
  {
   "cell_type": "markdown",
   "id": "9a45ef03",
   "metadata": {},
   "source": [
    "<font color = 'red'> Continue basically skips the matching condition and moves to the next in the loop"
   ]
  },
  {
   "cell_type": "code",
   "execution_count": 55,
   "id": "1ca13b51",
   "metadata": {},
   "outputs": [
    {
     "name": "stdout",
     "output_type": "stream",
     "text": [
      "H\n",
      "o\n",
      "w\n",
      " \n",
      "a\n",
      "r\n",
      "e\n",
      " \n",
      "y\n",
      "o\n",
      " \n",
      "d\n",
      "o\n",
      "i\n",
      "n\n",
      "g\n",
      "?\n"
     ]
    }
   ],
   "source": [
    "mystring1 = 'How are you doing?'\n",
    "\n",
    "for letter1 in mystring1:\n",
    "    if letter1 == 'u':\n",
    "        continue\n",
    "    print(letter1)"
   ]
  },
  {
   "cell_type": "markdown",
   "id": "ca3baa41",
   "metadata": {},
   "source": [
    "***"
   ]
  },
  {
   "cell_type": "markdown",
   "id": "01052dd1",
   "metadata": {},
   "source": [
    "<font size = 7, color = 'teal'> Range"
   ]
  },
  {
   "cell_type": "markdown",
   "id": "c51050bc",
   "metadata": {},
   "source": [
    "<font color = 'red'> Range is a GENERATOR"
   ]
  },
  {
   "cell_type": "code",
   "execution_count": 67,
   "id": "a09f83d6",
   "metadata": {},
   "outputs": [
    {
     "name": "stdout",
     "output_type": "stream",
     "text": [
      "1\n",
      "21\n",
      "41\n",
      "61\n",
      "81\n"
     ]
    }
   ],
   "source": [
    "for num4 in range(1,100,20):\n",
    "    print(num4)"
   ]
  },
  {
   "cell_type": "code",
   "execution_count": 68,
   "id": "77ebf2cc",
   "metadata": {},
   "outputs": [
    {
     "data": {
      "text/plain": [
       "range(2, 20, 5)"
      ]
     },
     "execution_count": 68,
     "metadata": {},
     "output_type": "execute_result"
    }
   ],
   "source": [
    "range(2,20,5)"
   ]
  },
  {
   "cell_type": "code",
   "execution_count": 71,
   "id": "d20cd3d8",
   "metadata": {},
   "outputs": [
    {
     "data": {
      "text/plain": [
       "[2, 7, 12, 17]"
      ]
     },
     "execution_count": 71,
     "metadata": {},
     "output_type": "execute_result"
    }
   ],
   "source": [
    "list(range(2,20,5))  ## Note the use of () rather than [] for generating the list"
   ]
  },
  {
   "cell_type": "markdown",
   "id": "ceb306bf",
   "metadata": {},
   "source": [
    "***"
   ]
  },
  {
   "cell_type": "markdown",
   "id": "5fc4f44f",
   "metadata": {},
   "source": [
    "<font size = 7, color = 'teal'> Enumerate"
   ]
  },
  {
   "cell_type": "code",
   "execution_count": 78,
   "id": "4e87b20a",
   "metadata": {},
   "outputs": [
    {
     "name": "stdout",
     "output_type": "stream",
     "text": [
      "at index0 the letter is e\n",
      "at index1 the letter is n\n",
      "at index2 the letter is u\n",
      "at index3 the letter is m\n",
      "at index4 the letter is e\n",
      "at index5 the letter is r\n",
      "at index6 the letter is a\n",
      "at index7 the letter is t\n",
      "at index8 the letter is e\n"
     ]
    }
   ],
   "source": [
    "word = 'enumerate'\n",
    "index_count1 = 0\n",
    "\n",
    "for letter1 in word:\n",
    "    print('at index{} the letter is {}'.format(index_count1, letter1))\n",
    "    index_count1 += 1"
   ]
  },
  {
   "cell_type": "markdown",
   "id": "827240c0",
   "metadata": {},
   "source": [
    "` doesn't seem to work on numbers `"
   ]
  },
  {
   "cell_type": "markdown",
   "id": "baf5bdf9",
   "metadata": {},
   "source": [
    "<font color = 'red'> Enumerate returns TUPLES"
   ]
  },
  {
   "cell_type": "code",
   "execution_count": 85,
   "id": "d584f0d5",
   "metadata": {},
   "outputs": [
    {
     "name": "stdout",
     "output_type": "stream",
     "text": [
      "(0, 'e')\n",
      "(1, 'x')\n",
      "(2, 'p')\n",
      "(3, 'e')\n",
      "(4, 'd')\n",
      "(5, 'i')\n",
      "(6, 't')\n",
      "(7, 'i')\n",
      "(8, 'o')\n",
      "(9, 'u')\n",
      "(10, 's')\n"
     ]
    }
   ],
   "source": [
    "word4 = 'expeditious'\n",
    "\n",
    "for item4 in enumerate(word4):\n",
    "    print(item4)"
   ]
  },
  {
   "cell_type": "markdown",
   "id": "fe2163ce",
   "metadata": {},
   "source": [
    "<font color = 'red'> Which implies we can use tuple unpacking as well"
   ]
  },
  {
   "cell_type": "code",
   "execution_count": 87,
   "id": "87e786ac",
   "metadata": {
    "scrolled": true
   },
   "outputs": [
    {
     "name": "stdout",
     "output_type": "stream",
     "text": [
      "0\n",
      "e\n",
      "\n",
      "\n",
      "1\n",
      "x\n",
      "\n",
      "\n",
      "2\n",
      "p\n",
      "\n",
      "\n",
      "3\n",
      "e\n",
      "\n",
      "\n",
      "4\n",
      "d\n",
      "\n",
      "\n",
      "5\n",
      "i\n",
      "\n",
      "\n",
      "6\n",
      "t\n",
      "\n",
      "\n",
      "7\n",
      "i\n",
      "\n",
      "\n",
      "8\n",
      "o\n",
      "\n",
      "\n",
      "9\n",
      "u\n",
      "\n",
      "\n",
      "10\n",
      "s\n",
      "\n",
      "\n"
     ]
    }
   ],
   "source": [
    "for index4, letter4 in enumerate(word4):\n",
    "    print(index4)\n",
    "    print(letter4)\n",
    "    print('\\n')"
   ]
  },
  {
   "cell_type": "markdown",
   "id": "043a1ea8",
   "metadata": {},
   "source": [
    "***"
   ]
  },
  {
   "cell_type": "markdown",
   "id": "4a267785",
   "metadata": {},
   "source": [
    "<font size = 7, color = 'teal'> ZIP"
   ]
  },
  {
   "cell_type": "markdown",
   "id": "5d542882",
   "metadata": {},
   "source": [
    "` zip works with methods like LISTS -- and limited to the shortest among all `"
   ]
  },
  {
   "cell_type": "code",
   "execution_count": 90,
   "id": "6b8607d1",
   "metadata": {},
   "outputs": [
    {
     "name": "stdout",
     "output_type": "stream",
     "text": [
      "(1, 'a', 100)\n",
      "(2, 'c', 200)\n",
      "(3, 'f', 300)\n"
     ]
    }
   ],
   "source": [
    "mylist1 = [1,2,3,4,5]\n",
    "mylist2 = ['a','c','f','t','h']\n",
    "#mylist3 = [100,200,300,400,500]\n",
    "mylist3 = [100,200,300]\n",
    "\n",
    "for item123 in zip(mylist1, mylist2, mylist3):\n",
    "    print(item123)"
   ]
  },
  {
   "cell_type": "markdown",
   "id": "546a2d25",
   "metadata": {},
   "source": [
    "<font color = 'red'> tuple unpacking"
   ]
  },
  {
   "cell_type": "markdown",
   "id": "fee69373",
   "metadata": {},
   "source": [
    "<font color = 'blue'> Notice that item1 and item2 (are when all three items are defined)"
   ]
  },
  {
   "cell_type": "code",
   "execution_count": 92,
   "id": "73444700",
   "metadata": {},
   "outputs": [
    {
     "name": "stdout",
     "output_type": "stream",
     "text": [
      "1 a\n",
      "2 c\n",
      "3 f\n"
     ]
    }
   ],
   "source": [
    "for item1, item2, item3 in zip(mylist1, mylist2, mylist3):\n",
    "    print(item1, item2)"
   ]
  },
  {
   "cell_type": "markdown",
   "id": "07d9ed5c",
   "metadata": {},
   "source": [
    "<font color = blue> Note that all values are displayed if only one item is listed"
   ]
  },
  {
   "cell_type": "code",
   "execution_count": 93,
   "id": "91921f78",
   "metadata": {},
   "outputs": [
    {
     "name": "stdout",
     "output_type": "stream",
     "text": [
      "(1, 'a', 100)\n",
      "(2, 'c', 200)\n",
      "(3, 'f', 300)\n"
     ]
    }
   ],
   "source": [
    "for item1 in zip(mylist1, mylist2, mylist3):\n",
    "    print(item1)"
   ]
  },
  {
   "cell_type": "markdown",
   "id": "46c5acf6",
   "metadata": {},
   "source": [
    "***"
   ]
  },
  {
   "cell_type": "markdown",
   "id": "225ac030",
   "metadata": {},
   "source": [
    "<font size = 7, color = 'teal'> IN"
   ]
  },
  {
   "cell_type": "markdown",
   "id": "ce41b7a7",
   "metadata": {},
   "source": [
    "<font color = blue> gets true or false (boolean values"
   ]
  },
  {
   "cell_type": "markdown",
   "id": "2618d98f",
   "metadata": {},
   "source": [
    "### Lists"
   ]
  },
  {
   "cell_type": "code",
   "execution_count": 97,
   "id": "0128ff33",
   "metadata": {},
   "outputs": [
    {
     "data": {
      "text/plain": [
       "True"
      ]
     },
     "execution_count": 97,
     "metadata": {},
     "output_type": "execute_result"
    }
   ],
   "source": [
    "'x' in ['x','y','a']"
   ]
  },
  {
   "cell_type": "code",
   "execution_count": 96,
   "id": "5ddc3afe",
   "metadata": {},
   "outputs": [
    {
     "data": {
      "text/plain": [
       "True"
      ]
     },
     "execution_count": 96,
     "metadata": {},
     "output_type": "execute_result"
    }
   ],
   "source": [
    "'a' in 'a world'"
   ]
  },
  {
   "cell_type": "markdown",
   "id": "5e4e0778",
   "metadata": {},
   "source": [
    "## Dictionaries"
   ]
  },
  {
   "cell_type": "code",
   "execution_count": 99,
   "id": "796fa7c9",
   "metadata": {},
   "outputs": [
    {
     "data": {
      "text/plain": [
       "True"
      ]
     },
     "execution_count": 99,
     "metadata": {},
     "output_type": "execute_result"
    }
   ],
   "source": [
    "'mykey' in {'mykey': 1234}"
   ]
  },
  {
   "cell_type": "code",
   "execution_count": 101,
   "id": "d1cf95ba",
   "metadata": {},
   "outputs": [
    {
     "data": {
      "text/plain": [
       "True"
      ]
     },
     "execution_count": 101,
     "metadata": {},
     "output_type": "execute_result"
    }
   ],
   "source": [
    "dic1 = {'k1': 100, 'k2': 200}\n",
    "\n",
    "100 in dic1.values()"
   ]
  },
  {
   "cell_type": "markdown",
   "id": "9fac8ff5",
   "metadata": {},
   "source": [
    "***"
   ]
  },
  {
   "cell_type": "markdown",
   "id": "62c7a136",
   "metadata": {},
   "source": [
    "<font size = 7, color = 'teal'> Min & Max "
   ]
  },
  {
   "cell_type": "code",
   "execution_count": 105,
   "id": "b5557ed6",
   "metadata": {},
   "outputs": [
    {
     "name": "stdout",
     "output_type": "stream",
     "text": [
      "1\n",
      "10\n"
     ]
    }
   ],
   "source": [
    "mylist10 = [1,2,3,4,5,6,7,8,9,10]\n",
    "\n",
    "print(min(mylist10))\n",
    "print(max(mylist10))"
   ]
  },
  {
   "cell_type": "markdown",
   "id": "5f7367a9",
   "metadata": {},
   "source": [
    "***"
   ]
  },
  {
   "cell_type": "markdown",
   "id": "3ce78c4a",
   "metadata": {},
   "source": [
    "<font size = 7, color = 'teal'> Random Library"
   ]
  },
  {
   "cell_type": "markdown",
   "id": "e78cdfae",
   "metadata": {},
   "source": [
    "## Shuffle"
   ]
  },
  {
   "cell_type": "code",
   "execution_count": 114,
   "id": "73c5dcd7",
   "metadata": {},
   "outputs": [
    {
     "name": "stdout",
     "output_type": "stream",
     "text": [
      "<class 'NoneType'>\n"
     ]
    }
   ],
   "source": [
    "from random import shuffle\n",
    "\n",
    "mylist11 = [1,2,3,4,5,6,7,8,9,10]\n",
    "\n",
    "#shuffle(mylist11)\n",
    "\n",
    "random_var = shuffle(mylist11)\n",
    "print(type(random_var))  # Note there is no value assigned by the shuffle function\n",
    "\n",
    "#print(mylist11)\n",
    "#print(type(mylist11))"
   ]
  },
  {
   "cell_type": "markdown",
   "id": "0f1c2764",
   "metadata": {},
   "source": [
    "## RandINT"
   ]
  },
  {
   "cell_type": "markdown",
   "id": "90b6b06c",
   "metadata": {},
   "source": [
    "<font color = blue> unlike shuffle, RandINT is not saved in place, but can be saved to a variable"
   ]
  },
  {
   "cell_type": "code",
   "execution_count": 115,
   "id": "620b1afb",
   "metadata": {},
   "outputs": [
    {
     "data": {
      "text/plain": [
       "192"
      ]
     },
     "execution_count": 115,
     "metadata": {},
     "output_type": "execute_result"
    }
   ],
   "source": [
    "from random import randint\n",
    "\n",
    "randint(1,400)"
   ]
  },
  {
   "cell_type": "code",
   "execution_count": 118,
   "id": "0d388a72",
   "metadata": {},
   "outputs": [
    {
     "name": "stdout",
     "output_type": "stream",
     "text": [
      "2374\n"
     ]
    }
   ],
   "source": [
    "rand_var2 = randint(400,6000)\n",
    "print(rand_var2)"
   ]
  },
  {
   "cell_type": "markdown",
   "id": "adc87aa6",
   "metadata": {},
   "source": [
    "## Accepting User Input"
   ]
  },
  {
   "cell_type": "markdown",
   "id": "880dafc8",
   "metadata": {},
   "source": [
    "<font color = blue> Inputs always stores as a string"
   ]
  },
  {
   "cell_type": "code",
   "execution_count": 120,
   "id": "c994854a",
   "metadata": {},
   "outputs": [
    {
     "name": "stdout",
     "output_type": "stream",
     "text": [
      "what is your name?Ziba\n",
      "Ziba\n"
     ]
    }
   ],
   "source": [
    "result1 = input('what is your name?')\n",
    "print (result1)"
   ]
  },
  {
   "cell_type": "code",
   "execution_count": 122,
   "id": "45a04435",
   "metadata": {},
   "outputs": [
    {
     "name": "stdout",
     "output_type": "stream",
     "text": [
      "what is the number?33\n",
      "33\n",
      "<class 'str'>\n"
     ]
    }
   ],
   "source": [
    "result2 = input('what is the number?')\n",
    "print(result2)\n",
    "print(type(result2))"
   ]
  },
  {
   "cell_type": "markdown",
   "id": "40e297f1",
   "metadata": {},
   "source": [
    "` converting string results back to number `"
   ]
  },
  {
   "cell_type": "code",
   "execution_count": 123,
   "id": "fee3e422",
   "metadata": {},
   "outputs": [
    {
     "data": {
      "text/plain": [
       "33.0"
      ]
     },
     "execution_count": 123,
     "metadata": {},
     "output_type": "execute_result"
    }
   ],
   "source": [
    "float (result2)"
   ]
  },
  {
   "cell_type": "code",
   "execution_count": 124,
   "id": "bc7e10fa",
   "metadata": {},
   "outputs": [
    {
     "data": {
      "text/plain": [
       "33"
      ]
     },
     "execution_count": 124,
     "metadata": {},
     "output_type": "execute_result"
    }
   ],
   "source": [
    "int(result2)"
   ]
  },
  {
   "cell_type": "code",
   "execution_count": 125,
   "id": "dc93383a",
   "metadata": {},
   "outputs": [
    {
     "name": "stdout",
     "output_type": "stream",
     "text": [
      "what is your favorite number?66\n",
      "66\n",
      "<class 'int'>\n"
     ]
    }
   ],
   "source": [
    "result3 = int(input('what is your favorite number?'))\n",
    "\n",
    "print(result3)\n",
    "\n",
    "print(type(result3))"
   ]
  },
  {
   "cell_type": "markdown",
   "id": "6c78aa1f",
   "metadata": {},
   "source": [
    "***"
   ]
  },
  {
   "cell_type": "markdown",
   "id": "511a3662",
   "metadata": {},
   "source": [
    "<font size = 7, color = 'teal'> List Comprehension"
   ]
  },
  {
   "cell_type": "markdown",
   "id": "d6db24ae",
   "metadata": {},
   "source": [
    "<font color = blue> this function is unnecessarily complex"
   ]
  },
  {
   "cell_type": "markdown",
   "id": "37c134a4",
   "metadata": {},
   "source": [
    "<font color = red> Below are examples of getting the same answer with for loops"
   ]
  },
  {
   "cell_type": "code",
   "execution_count": 134,
   "id": "a7c2baa6",
   "metadata": {},
   "outputs": [
    {
     "name": "stdout",
     "output_type": "stream",
     "text": [
      "['h', 'e', 'l', 'l', 'o']\n"
     ]
    }
   ],
   "source": [
    "mystring1 = 'hello'\n",
    "mylist1 = []\n",
    "for myletter1 in mystring1:\n",
    "    mylist1.append(myletter1)\n",
    "print(mylist1)"
   ]
  },
  {
   "cell_type": "code",
   "execution_count": 136,
   "id": "6141a5ac",
   "metadata": {},
   "outputs": [
    {
     "name": "stdout",
     "output_type": "stream",
     "text": [
      "[0, 1, 2, 3, 4, 5, 6, 7, 8, 9, 10]\n"
     ]
    }
   ],
   "source": [
    "mynumberrange1 = range(0,11)\n",
    "\n",
    "mylist1 = []\n",
    "for number1 in mynumberrange1:\n",
    "    mylist1.append(number1)\n",
    "print(mylist1)"
   ]
  },
  {
   "cell_type": "code",
   "execution_count": 6,
   "id": "397523db",
   "metadata": {},
   "outputs": [
    {
     "name": "stdout",
     "output_type": "stream",
     "text": [
      "[33.8, 37.4, 41.0, 43.16, 96.08, 113.18]\n"
     ]
    }
   ],
   "source": [
    "celcius1 = [1,3,5,6.2, 35.6, 45.1]\n",
    "\n",
    "farenheit1 = []\n",
    "for temp1 in celcius1:\n",
    "    farenheit1.append((9/5)*temp1+32)\n",
    "print(farenheit1)"
   ]
  },
  {
   "cell_type": "markdown",
   "id": "984b5cbe",
   "metadata": {},
   "source": [
    "<font color = red> Same solution with list comprehension"
   ]
  },
  {
   "cell_type": "code",
   "execution_count": 137,
   "id": "9fe93225",
   "metadata": {},
   "outputs": [
    {
     "data": {
      "text/plain": [
       "['h', 'e', 'l', 'l', 'o']"
      ]
     },
     "execution_count": 137,
     "metadata": {},
     "output_type": "execute_result"
    }
   ],
   "source": [
    "mylist2 = [letter2 for letter2 in mystring1]\n",
    "mylist2"
   ]
  },
  {
   "cell_type": "code",
   "execution_count": 138,
   "id": "c7b977fe",
   "metadata": {},
   "outputs": [
    {
     "data": {
      "text/plain": [
       "[0, 1, 2, 3, 4, 5, 6, 7, 8, 9, 10]"
      ]
     },
     "execution_count": 138,
     "metadata": {},
     "output_type": "execute_result"
    }
   ],
   "source": [
    "mylist3 = [number3 for number3 in mynumberrange1]\n",
    "mylist3"
   ]
  },
  {
   "cell_type": "code",
   "execution_count": 139,
   "id": "7e85b837",
   "metadata": {},
   "outputs": [
    {
     "data": {
      "text/plain": [
       "[1, 2, 3, 4, 5, 6, 7, 8, 9]"
      ]
     },
     "execution_count": 139,
     "metadata": {},
     "output_type": "execute_result"
    }
   ],
   "source": [
    "mylist4 = [number4 for number4 in range(1,10)]\n",
    "mylist4"
   ]
  },
  {
   "cell_type": "markdown",
   "id": "c0e0b498",
   "metadata": {},
   "source": [
    "## Functions inside the loop"
   ]
  },
  {
   "cell_type": "markdown",
   "id": "9a8ac543",
   "metadata": {},
   "source": [
    "<font color = blue> Printing Number squares in a range"
   ]
  },
  {
   "cell_type": "code",
   "execution_count": 140,
   "id": "b5bfebdf",
   "metadata": {},
   "outputs": [
    {
     "data": {
      "text/plain": [
       "[1, 4, 9, 16, 25, 36, 49, 64, 81]"
      ]
     },
     "execution_count": 140,
     "metadata": {},
     "output_type": "execute_result"
    }
   ],
   "source": [
    "mylist5 = [number5**2 for number5 in range(1,10)]\n",
    "mylist5"
   ]
  },
  {
   "cell_type": "markdown",
   "id": "e9900e42",
   "metadata": {},
   "source": [
    "<font color = blue> Printing even numbers in range"
   ]
  },
  {
   "cell_type": "code",
   "execution_count": 3,
   "id": "83bc4507",
   "metadata": {},
   "outputs": [
    {
     "data": {
      "text/plain": [
       "[2, 4, 6, 8]"
      ]
     },
     "execution_count": 3,
     "metadata": {},
     "output_type": "execute_result"
    }
   ],
   "source": [
    "mylist6 = [number6 for number6 in range(1,10) if number6%2 == 0]\n",
    "mylist6"
   ]
  },
  {
   "cell_type": "markdown",
   "id": "bbc333d2",
   "metadata": {},
   "source": [
    "<font color = blue> Printing square of even numbers in range"
   ]
  },
  {
   "cell_type": "code",
   "execution_count": 5,
   "id": "7f4fd49d",
   "metadata": {},
   "outputs": [
    {
     "data": {
      "text/plain": [
       "[4, 16, 36, 64]"
      ]
     },
     "execution_count": 5,
     "metadata": {},
     "output_type": "execute_result"
    }
   ],
   "source": [
    "mylist7 = [number7**2 for number7 in range(1,10) if number7%2==0]\n",
    "mylist7"
   ]
  },
  {
   "cell_type": "markdown",
   "id": "02e9a0b1",
   "metadata": {},
   "source": [
    "<font color = blue> Converting Celcius to Farenheit"
   ]
  },
  {
   "cell_type": "code",
   "execution_count": 10,
   "id": "35c90786",
   "metadata": {},
   "outputs": [
    {
     "data": {
      "text/plain": [
       "[33.8, 37.4, 41.0, 43.16, 96.08, 113.18]"
      ]
     },
     "execution_count": 10,
     "metadata": {},
     "output_type": "execute_result"
    }
   ],
   "source": [
    "celcius2 = [1,3,5,6.2, 35.6, 45.1]\n",
    "\n",
    "farenheit2 = [((9/5)*temp2 + 32) for temp2 in celcius2]\n",
    "farenheit2"
   ]
  },
  {
   "cell_type": "markdown",
   "id": "d526a25a",
   "metadata": {},
   "source": [
    "## If Else Statements -- different order (for in end)"
   ]
  },
  {
   "cell_type": "markdown",
   "id": "c53f1124",
   "metadata": {},
   "source": [
    "<font color = blue> Print even number, else text 'ODD' for a range of numbers"
   ]
  },
  {
   "cell_type": "code",
   "execution_count": 13,
   "id": "13de9e34",
   "metadata": {},
   "outputs": [
    {
     "data": {
      "text/plain": [
       "[0, 'ODD', 2, 'ODD', 4, 'ODD', 6, 'ODD', 8, 'ODD']"
      ]
     },
     "execution_count": 13,
     "metadata": {},
     "output_type": "execute_result"
    }
   ],
   "source": [
    "result10 = [x10 if x10%2==0 else 'ODD' for x10 in range(0,10)]\n",
    "result10"
   ]
  },
  {
   "cell_type": "markdown",
   "id": "4816deb5",
   "metadata": {},
   "source": [
    "## Nested Loops"
   ]
  },
  {
   "cell_type": "markdown",
   "id": "268fc699",
   "metadata": {},
   "source": [
    "<font color = blue> Multiply two number lists"
   ]
  },
  {
   "cell_type": "markdown",
   "id": "54b96d83",
   "metadata": {},
   "source": [
    "<font color = orange> Using FOR loops"
   ]
  },
  {
   "cell_type": "code",
   "execution_count": 16,
   "id": "d4ceac6a",
   "metadata": {},
   "outputs": [
    {
     "data": {
      "text/plain": [
       "[4, 5, 6, 8, 10, 12, 12, 15, 18]"
      ]
     },
     "execution_count": 16,
     "metadata": {},
     "output_type": "execute_result"
    }
   ],
   "source": [
    "mylist11 = []\n",
    "myrange11 = [1,2,3]\n",
    "myrange12 = [4,5,6]\n",
    "\n",
    "for temp11 in myrange11:\n",
    "    for temp12 in myrange12:\n",
    "        mylist11.append(temp11*temp12)\n",
    "\n",
    "mylist11"
   ]
  },
  {
   "cell_type": "markdown",
   "id": "3140ddcf",
   "metadata": {},
   "source": [
    "<font color = orange> Using List Comprehension"
   ]
  },
  {
   "cell_type": "code",
   "execution_count": 17,
   "id": "c8185a76",
   "metadata": {},
   "outputs": [
    {
     "data": {
      "text/plain": [
       "[4, 5, 6, 8, 10, 12, 12, 15, 18]"
      ]
     },
     "execution_count": 17,
     "metadata": {},
     "output_type": "execute_result"
    }
   ],
   "source": [
    "mylist12 = [temp13*temp14 for temp13 in myrange11 for temp14 in myrange12]\n",
    "\n",
    "mylist12"
   ]
  },
  {
   "cell_type": "code",
   "execution_count": null,
   "id": "e61e9309",
   "metadata": {},
   "outputs": [],
   "source": []
  }
 ],
 "metadata": {
  "kernelspec": {
   "display_name": "Python 3 (ipykernel)",
   "language": "python",
   "name": "python3"
  },
  "language_info": {
   "codemirror_mode": {
    "name": "ipython",
    "version": 3
   },
   "file_extension": ".py",
   "mimetype": "text/x-python",
   "name": "python",
   "nbconvert_exporter": "python",
   "pygments_lexer": "ipython3",
   "version": "3.9.12"
  }
 },
 "nbformat": 4,
 "nbformat_minor": 5
}
