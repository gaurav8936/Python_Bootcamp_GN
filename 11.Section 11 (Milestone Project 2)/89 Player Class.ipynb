{
 "cells": [
  {
   "cell_type": "markdown",
   "id": "e0c1f20a",
   "metadata": {},
   "source": [
    "<font size = 8> Player Class"
   ]
  },
  {
   "cell_type": "code",
   "execution_count": 29,
   "id": "67d79fb8",
   "metadata": {},
   "outputs": [],
   "source": [
    "# Add random, list of suites and ranks\n",
    "\n",
    "import random\n",
    "\n",
    "# tuple (does not change)\n",
    "suits = ('Hearts', 'Diamonds', 'Spades', 'Clubs')\n",
    "\n",
    "# tuple (does not change)\n",
    "ranks = ('Two', 'Three', 'Four', 'Five', 'Six', 'Seven', 'Eight', 'Nine', \\\n",
    "         'Ten', 'Jack', 'Queen', 'King', 'Ace')\n",
    "\n",
    "values = {'Two':2, 'Three':3, 'Four':4, 'Five':5, 'Six':6, 'Seven':7, 'Eight':8, \n",
    "            'Nine':9, 'Ten':10, 'Jack':11, 'Queen':12, 'King':13, 'Ace':14}"
   ]
  },
  {
   "cell_type": "code",
   "execution_count": 30,
   "id": "cd19254d",
   "metadata": {},
   "outputs": [],
   "source": [
    "class Card():\n",
    "    \n",
    "    def __init__(self, suit, rank):\n",
    "        self.suit = suit\n",
    "        self.rank = rank\n",
    "        self.value = values[rank]\n",
    "        \n",
    "    def __str__(self):\n",
    "        return self.rank + \" of \" + self.suit"
   ]
  },
  {
   "cell_type": "markdown",
   "id": "d5d1f8f7",
   "metadata": {},
   "source": [
    "***"
   ]
  },
  {
   "cell_type": "code",
   "execution_count": 61,
   "id": "f4b125e1",
   "metadata": {},
   "outputs": [],
   "source": [
    "class Deck():\n",
    "    \n",
    "    def __init__(self):\n",
    "        \n",
    "        # deck should contain all 52 card objects\n",
    "        self.all_cards = [] # this is an attribute \n",
    "                            # this starts off as an empty list\n",
    "        \n",
    "        # for al suits, create a rank\n",
    "        for suit in suits   :\n",
    "            for rank in ranks:\n",
    "                \n",
    "                #Create the card object\n",
    "                \n",
    "                created_card = Card(suit,rank)\n",
    "                \n",
    "                # Append the newely created card to the list\n",
    "                self.all_cards.append(created_card)\n",
    "    \n",
    "    def shuffle(self):\n",
    "        \n",
    "        # remember that random.shuffle does not return anything\n",
    "        # there is not return -- it is all in place\n",
    "        \n",
    "        random.shuffle(self.all_cards)\n",
    "    \n",
    "    def deal_one(self):\n",
    "        \n",
    "        #return a single card\n",
    "        return self.all_cards.pop()"
   ]
  }
 ],
 "metadata": {
  "kernelspec": {
   "display_name": "Python 3 (ipykernel)",
   "language": "python",
   "name": "python3"
  },
  "language_info": {
   "codemirror_mode": {
    "name": "ipython",
    "version": 3
   },
   "file_extension": ".py",
   "mimetype": "text/x-python",
   "name": "python",
   "nbconvert_exporter": "python",
   "pygments_lexer": "ipython3",
   "version": "3.9.12"
  }
 },
 "nbformat": 4,
 "nbformat_minor": 5
}
