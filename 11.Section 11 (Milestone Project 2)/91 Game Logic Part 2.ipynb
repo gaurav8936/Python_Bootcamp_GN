{
 "cells": [
  {
   "cell_type": "markdown",
   "id": "e0c1f20a",
   "metadata": {},
   "source": [
    "<font size = 8> 91 Game Logic Part 2"
   ]
  },
  {
   "cell_type": "code",
   "execution_count": 11,
   "id": "67d79fb8",
   "metadata": {},
   "outputs": [],
   "source": [
    "# Add random, list of suites and ranks\n",
    "\n",
    "import random\n",
    "\n",
    "# tuple (does not change)\n",
    "suits = ('Hearts', 'Diamonds', 'Spades', 'Clubs')\n",
    "\n",
    "# tuple (does not change)\n",
    "ranks = ('Two', 'Three', 'Four', 'Five', 'Six', 'Seven', 'Eight', 'Nine', \\\n",
    "         'Ten', 'Jack', 'Queen', 'King', 'Ace')\n",
    "\n",
    "values = {'Two':2, 'Three':3, 'Four':4, 'Five':5, 'Six':6, 'Seven':7, 'Eight':8, \n",
    "            'Nine':9, 'Ten':10, 'Jack':11, 'Queen':12, 'King':13, 'Ace':14}"
   ]
  },
  {
   "cell_type": "code",
   "execution_count": 12,
   "id": "cd19254d",
   "metadata": {},
   "outputs": [],
   "source": [
    "class Card():\n",
    "    \n",
    "    def __init__(self, suit, rank):\n",
    "        self.suit = suit\n",
    "        self.rank = rank\n",
    "        self.value = values[rank]\n",
    "        \n",
    "    def __str__(self):\n",
    "        return self.rank + \" of \" + self.suit"
   ]
  },
  {
   "cell_type": "markdown",
   "id": "d5d1f8f7",
   "metadata": {},
   "source": [
    "***"
   ]
  },
  {
   "cell_type": "code",
   "execution_count": 13,
   "id": "f4b125e1",
   "metadata": {},
   "outputs": [],
   "source": [
    "class Deck():\n",
    "    \n",
    "    def __init__(self):\n",
    "        \n",
    "        # deck should contain all 52 card objects\n",
    "        self.all_cards = [] # this is an attribute \n",
    "                            # this starts off as an empty list\n",
    "        \n",
    "        # for al suits, create a rank\n",
    "        for suit in suits   :\n",
    "            for rank in ranks:\n",
    "                \n",
    "                #Create the card object\n",
    "                \n",
    "                created_card = Card(suit,rank)\n",
    "                \n",
    "                # Append the newely created card to the list\n",
    "                self.all_cards.append(created_card)\n",
    "    \n",
    "    def shuffle(self):\n",
    "        \n",
    "        # remember that random.shuffle does not return anything\n",
    "        # there is not return -- it is all in place\n",
    "        \n",
    "        random.shuffle(self.all_cards)\n",
    "    \n",
    "    def deal_one(self):\n",
    "        \n",
    "        #return a single card\n",
    "        return self.all_cards.pop()"
   ]
  },
  {
   "cell_type": "code",
   "execution_count": 2,
   "id": "28c813d7",
   "metadata": {},
   "outputs": [],
   "source": [
    "# class Player:\n",
    "    \n",
    "#     def __init__(self, name):\n",
    "        \n",
    "#         self.name = name\n",
    "#         self.all_cards = [] #empty list for current hand of cards\n",
    "    \n",
    "#     def remove_one(self):\n",
    "#         pass\n",
    "    \n",
    "    \n",
    "#     def add_cards(self, new_cards):\n",
    "#         pass\n",
    "    \n",
    "    \n",
    "#     def __str__(self):\n",
    "#         return f'Player {self.name} has {len(self.all_cards)} cards'\n",
    "        "
   ]
  },
  {
   "cell_type": "code",
   "execution_count": 3,
   "id": "b5e130d8",
   "metadata": {},
   "outputs": [],
   "source": [
    "new_player = Player(\"Ziba\")"
   ]
  },
  {
   "cell_type": "code",
   "execution_count": 4,
   "id": "70fe74c3",
   "metadata": {},
   "outputs": [
    {
     "name": "stdout",
     "output_type": "stream",
     "text": [
      "Player Ziba has 0 cards\n"
     ]
    }
   ],
   "source": [
    "print(new_player)"
   ]
  },
  {
   "cell_type": "code",
   "execution_count": 5,
   "id": "199ab783",
   "metadata": {},
   "outputs": [],
   "source": [
    "# Removing & adding cards cards"
   ]
  },
  {
   "cell_type": "code",
   "execution_count": 28,
   "id": "f747673a",
   "metadata": {},
   "outputs": [],
   "source": [
    "# 3 things to do\n",
    "## add a single card object\n",
    "## add multiple card objects\n",
    "## remove a card object\n",
    "##### we don't need to remove multiple cards as a list (instead us a for loop)\n",
    "\n",
    "\n",
    "class Player:\n",
    "    \n",
    "    def __init__(self, name):\n",
    "        \n",
    "        self.name = name\n",
    "        self.all_cards = [] #empty list for current hand of cards\n",
    "    \n",
    "    def remove_one(self):\n",
    "        return self.all_cards.pop(0)\n",
    "    \n",
    "    \n",
    "    def add_cards(self, new_cards):\n",
    "        # new_cards can be a single card object or a list of card objects\n",
    "        # for list of multiple card objects\n",
    "        if type(new_cards)== type([]):\n",
    "            self.all_cards.extend(new_cards)\n",
    "        \n",
    "        # for single card object\n",
    "        else:\n",
    "            self.all_cards.append(new_cards)\n",
    "    \n",
    "    \n",
    "    def __str__(self):\n",
    "        return f'Player {self.name} has {len(self.all_cards)} cards'"
   ]
  },
  {
   "cell_type": "code",
   "execution_count": 8,
   "id": "a9da7705",
   "metadata": {},
   "outputs": [],
   "source": [
    "new_player = Player(\"Amy\")"
   ]
  },
  {
   "cell_type": "code",
   "execution_count": 9,
   "id": "36362d13",
   "metadata": {},
   "outputs": [
    {
     "name": "stdout",
     "output_type": "stream",
     "text": [
      "Player Amy has 0 cards\n"
     ]
    }
   ],
   "source": [
    "print(new_player)"
   ]
  },
  {
   "cell_type": "markdown",
   "id": "33e0926a",
   "metadata": {},
   "source": [
    "***"
   ]
  },
  {
   "cell_type": "code",
   "execution_count": 16,
   "id": "f7eb056e",
   "metadata": {},
   "outputs": [],
   "source": [
    "# create the deck"
   ]
  },
  {
   "cell_type": "code",
   "execution_count": 14,
   "id": "52d02290",
   "metadata": {},
   "outputs": [],
   "source": [
    "new_deck = Deck()"
   ]
  },
  {
   "cell_type": "code",
   "execution_count": 15,
   "id": "99400067",
   "metadata": {},
   "outputs": [],
   "source": [
    "mycard = new_deck.deal_one()"
   ]
  },
  {
   "cell_type": "code",
   "execution_count": 18,
   "id": "df8ec256",
   "metadata": {},
   "outputs": [
    {
     "name": "stdout",
     "output_type": "stream",
     "text": [
      "Ace of Clubs\n"
     ]
    }
   ],
   "source": [
    "print(mycard)"
   ]
  },
  {
   "cell_type": "markdown",
   "id": "d57991dd",
   "metadata": {},
   "source": [
    "***"
   ]
  },
  {
   "cell_type": "code",
   "execution_count": 19,
   "id": "82b6e25e",
   "metadata": {},
   "outputs": [],
   "source": [
    "# add single card objext\n",
    "\n",
    "new_player.add_cards(mycard)"
   ]
  },
  {
   "cell_type": "code",
   "execution_count": 20,
   "id": "e318273b",
   "metadata": {},
   "outputs": [
    {
     "name": "stdout",
     "output_type": "stream",
     "text": [
      "Player Amy has 1 cards\n"
     ]
    }
   ],
   "source": [
    "print(new_player)"
   ]
  },
  {
   "cell_type": "markdown",
   "id": "8c3bd6b6",
   "metadata": {},
   "source": [
    "***"
   ]
  },
  {
   "cell_type": "code",
   "execution_count": 21,
   "id": "5a63b0b7",
   "metadata": {},
   "outputs": [
    {
     "name": "stdout",
     "output_type": "stream",
     "text": [
      "Ace of Clubs\n"
     ]
    }
   ],
   "source": [
    "print(new_player.all_cards[0])"
   ]
  },
  {
   "cell_type": "code",
   "execution_count": 22,
   "id": "864c50f5",
   "metadata": {},
   "outputs": [],
   "source": [
    "# notice the same card in the list"
   ]
  },
  {
   "cell_type": "markdown",
   "id": "05135cb8",
   "metadata": {},
   "source": [
    "***"
   ]
  },
  {
   "cell_type": "code",
   "execution_count": 23,
   "id": "024412fb",
   "metadata": {},
   "outputs": [],
   "source": [
    "# adding multiple card objects as a list\n",
    "\n",
    "new_player.add_cards([mycard, mycard, mycard])"
   ]
  },
  {
   "cell_type": "code",
   "execution_count": 24,
   "id": "cb941df2",
   "metadata": {},
   "outputs": [
    {
     "name": "stdout",
     "output_type": "stream",
     "text": [
      "Player Amy has 4 cards\n"
     ]
    }
   ],
   "source": [
    "print(new_player)"
   ]
  },
  {
   "cell_type": "markdown",
   "id": "c2bed7a4",
   "metadata": {},
   "source": [
    "***"
   ]
  },
  {
   "cell_type": "code",
   "execution_count": 25,
   "id": "1a6e1665",
   "metadata": {},
   "outputs": [
    {
     "data": {
      "text/plain": [
       "<__main__.Card at 0x7fec20dd1370>"
      ]
     },
     "execution_count": 25,
     "metadata": {},
     "output_type": "execute_result"
    }
   ],
   "source": [
    "# Test the removal method\n",
    "\n",
    "new_player.remove_one()"
   ]
  },
  {
   "cell_type": "code",
   "execution_count": 26,
   "id": "0421ee08",
   "metadata": {},
   "outputs": [
    {
     "name": "stdout",
     "output_type": "stream",
     "text": [
      "Player Amy has 3 cards\n"
     ]
    }
   ],
   "source": [
    "print(new_player)"
   ]
  },
  {
   "cell_type": "code",
   "execution_count": null,
   "id": "64628052",
   "metadata": {},
   "outputs": [],
   "source": []
  }
 ],
 "metadata": {
  "kernelspec": {
   "display_name": "Python 3 (ipykernel)",
   "language": "python",
   "name": "python3"
  },
  "language_info": {
   "codemirror_mode": {
    "name": "ipython",
    "version": 3
   },
   "file_extension": ".py",
   "mimetype": "text/x-python",
   "name": "python",
   "nbconvert_exporter": "python",
   "pygments_lexer": "ipython3",
   "version": "3.9.12"
  }
 },
 "nbformat": 4,
 "nbformat_minor": 5
}
