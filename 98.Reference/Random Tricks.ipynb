{
 "cells": [
  {
   "cell_type": "markdown",
   "id": "5cb8425e",
   "metadata": {},
   "source": [
    "## How to Prevent Automatic Creation of DS_Store Files"
   ]
  },
  {
   "cell_type": "markdown",
   "id": "a6670682",
   "metadata": {},
   "source": [
    "` Type defaults write com.apple.desktopservices DSDontWriteNetworkStores true and press Enter. If you ever want to reverse this command, use the same command but change true to false.`"
   ]
  },
  {
   "cell_type": "code",
   "execution_count": null,
   "id": "9442f97e",
   "metadata": {},
   "outputs": [],
   "source": []
  }
 ],
 "metadata": {
  "kernelspec": {
   "display_name": "Python 3 (ipykernel)",
   "language": "python",
   "name": "python3"
  },
  "language_info": {
   "codemirror_mode": {
    "name": "ipython",
    "version": 3
   },
   "file_extension": ".py",
   "mimetype": "text/x-python",
   "name": "python",
   "nbconvert_exporter": "python",
   "pygments_lexer": "ipython3",
   "version": "3.9.12"
  }
 },
 "nbformat": 4,
 "nbformat_minor": 5
}
