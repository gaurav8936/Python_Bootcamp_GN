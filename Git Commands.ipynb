{
 "cells": [
  {
   "cell_type": "markdown",
   "id": "182bb1d3",
   "metadata": {},
   "source": [
    "# Basic Git Commands"
   ]
  },
  {
   "cell_type": "markdown",
   "id": "d6e0defb",
   "metadata": {},
   "source": [
    "git version\n",
    "   "
   ]
  },
  {
   "cell_type": "markdown",
   "id": "154e83d7",
   "metadata": {},
   "source": [
    "git config --global user.name \"Gaurav Narasimhan\""
   ]
  },
  {
   "cell_type": "markdown",
   "id": "fdd1f1b2",
   "metadata": {},
   "source": [
    "git config --global user.email \"gaurav.narasimhan@berkeley.edu\""
   ]
  },
  {
   "cell_type": "markdown",
   "id": "9043789d",
   "metadata": {},
   "source": [
    "git config --global --list"
   ]
  },
  {
   "cell_type": "markdown",
   "id": "c827a987",
   "metadata": {},
   "source": [
    "git clone https://github.com/gaurav8936/github-demo.git"
   ]
  },
  {
   "cell_type": "markdown",
   "id": "7bd2356d",
   "metadata": {},
   "source": [
    "git status"
   ]
  },
  {
   "cell_type": "markdown",
   "id": "09c5ccec",
   "metadata": {},
   "source": [
    "git add start.txt"
   ]
  },
  {
   "cell_type": "markdown",
   "id": "cf3ea032",
   "metadata": {},
   "source": [
    "git commit -m \"adding start.txt file\""
   ]
  },
  {
   "cell_type": "markdown",
   "id": "32c0e33b",
   "metadata": {},
   "source": [
    "git push origin main"
   ]
  },
  {
   "cell_type": "markdown",
   "id": "1e32ad8e",
   "metadata": {},
   "source": [
    "git pull"
   ]
  },
  {
   "cell_type": "markdown",
   "id": "a06cae1a",
   "metadata": {},
   "source": [
    "Git checkout dev"
   ]
  },
  {
   "cell_type": "markdown",
   "id": "e63ac5ad",
   "metadata": {},
   "source": [
    "Git checkout -b stage —— this is a new branch"
   ]
  },
  {
   "cell_type": "markdown",
   "id": "5cf8aafd",
   "metadata": {},
   "source": [
    "Git push origin stage\n"
   ]
  },
  {
   "cell_type": "markdown",
   "id": "2aa391a2",
   "metadata": {},
   "source": [
    "Git diff main dev"
   ]
  },
  {
   "cell_type": "markdown",
   "id": "1ce2523b",
   "metadata": {},
   "source": [
    "git config pull.rebase false"
   ]
  },
  {
   "cell_type": "markdown",
   "id": "5a10d968",
   "metadata": {},
   "source": [
    "git remote add origin <server>"
   ]
  },
  {
   "cell_type": "markdown",
   "id": "fac6d5e4",
   "metadata": {},
   "source": [
    "git remote -v"
   ]
  },
  {
   "cell_type": "markdown",
   "id": "bcb94d79",
   "metadata": {},
   "source": [
    ":q! (Quit without saving)\n",
    ":w (only save)\n",
    ":x (save and exit)"
   ]
  }
 ],
 "metadata": {
  "kernelspec": {
   "display_name": "Python 3 (ipykernel)",
   "language": "python",
   "name": "python3"
  },
  "language_info": {
   "codemirror_mode": {
    "name": "ipython",
    "version": 3
   },
   "file_extension": ".py",
   "mimetype": "text/x-python",
   "name": "python",
   "nbconvert_exporter": "python",
   "pygments_lexer": "ipython3",
   "version": "3.9.12"
  }
 },
 "nbformat": 4,
 "nbformat_minor": 5
}
