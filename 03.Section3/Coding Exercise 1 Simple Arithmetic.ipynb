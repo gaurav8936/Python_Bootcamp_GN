{
 "cells": [
  {
   "cell_type": "markdown",
   "id": "00857ea5",
   "metadata": {},
   "source": [
    "# Coding Exercise 1: Simple Arithmetic"
   ]
  },
  {
   "cell_type": "code",
   "execution_count": 1,
   "id": "293d1109",
   "metadata": {},
   "outputs": [
    {
     "data": {
      "text/plain": [
       "100"
      ]
     },
     "execution_count": 1,
     "metadata": {},
     "output_type": "execute_result"
    }
   ],
   "source": [
    "10*10"
   ]
  },
  {
   "cell_type": "code",
   "execution_count": 2,
   "id": "58d45286",
   "metadata": {},
   "outputs": [
    {
     "data": {
      "text/plain": [
       "100"
      ]
     },
     "execution_count": 2,
     "metadata": {},
     "output_type": "execute_result"
    }
   ],
   "source": [
    "2*40+20"
   ]
  },
  {
   "cell_type": "markdown",
   "id": "d2403bc8",
   "metadata": {},
   "source": [
    "### order of arithmetic opertors"
   ]
  },
  {
   "cell_type": "markdown",
   "id": "a5c6a400",
   "metadata": {},
   "source": [
    "`PEMDAS - Parentheses, Exponents, Multiplication and Division (from left to right), Addition and Subtraction (from left to right1"
   ]
  },
  {
   "cell_type": "markdown",
   "id": "c53aae84",
   "metadata": {},
   "source": [
    "` PEMDAS Parentheses, Exponents, Multiplication and Division (from left to right), Addition and Subtraction `"
   ]
  },
  {
   "cell_type": "code",
   "execution_count": null,
   "id": "f986ab5c",
   "metadata": {},
   "outputs": [],
   "source": []
  }
 ],
 "metadata": {
  "kernelspec": {
   "display_name": "Python 3 (ipykernel)",
   "language": "python",
   "name": "python3"
  },
  "language_info": {
   "codemirror_mode": {
    "name": "ipython",
    "version": 3
   },
   "file_extension": ".py",
   "mimetype": "text/x-python",
   "name": "python",
   "nbconvert_exporter": "python",
   "pygments_lexer": "ipython3",
   "version": "3.9.12"
  }
 },
 "nbformat": 4,
 "nbformat_minor": 5
}
