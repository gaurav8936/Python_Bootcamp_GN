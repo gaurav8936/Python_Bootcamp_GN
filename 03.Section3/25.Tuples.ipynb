{
 "cells": [
  {
   "cell_type": "markdown",
   "id": "0cee85c8",
   "metadata": {},
   "source": [
    "<font size = 20, color = 'read'> Tuples <font>"
   ]
  },
  {
   "cell_type": "code",
   "execution_count": null,
   "id": "4d53f287",
   "metadata": {},
   "outputs": [],
   "source": []
  }
 ],
 "metadata": {
  "kernelspec": {
   "display_name": "Python 3 (ipykernel)",
   "language": "python",
   "name": "python3"
  },
  "language_info": {
   "codemirror_mode": {
    "name": "ipython",
    "version": 3
   },
   "file_extension": ".py",
   "mimetype": "text/x-python",
   "name": "python",
   "nbconvert_exporter": "python",
   "pygments_lexer": "ipython3",
   "version": "3.9.12"
  }
 },
 "nbformat": 4,
 "nbformat_minor": 5
}
