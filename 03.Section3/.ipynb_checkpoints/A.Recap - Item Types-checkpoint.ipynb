{
 "cells": [
  {
   "cell_type": "markdown",
   "id": "edd57c31",
   "metadata": {},
   "source": [
    "<font size = 20, color = 'teal'> Recap - Item Types <font>"
   ]
  },
  {
   "cell_type": "markdown",
   "id": "bd2aaacf",
   "metadata": {},
   "source": [
    "# TYPES"
   ]
  },
  {
   "cell_type": "markdown",
   "id": "fea54e6e",
   "metadata": {},
   "source": [
    "## NSLDTSB"
   ]
  },
  {
   "cell_type": "markdown",
   "id": "11edf2e6",
   "metadata": {},
   "source": [
    "**Number, String, List, Dictionary, Tuple, Set, Boolean**"
   ]
  },
  {
   "cell_type": "markdown",
   "id": "fbca164b",
   "metadata": {},
   "source": [
    "NSLDTSB (Number, String, List, Dictionary, Tuples, Set, Boolean)"
   ]
  },
  {
   "cell_type": "markdown",
   "id": "293d21d8",
   "metadata": {},
   "source": [
    "NSLDTSB: Number, String, List, Dictionary, Tuple, Set, Boolean"
   ]
  },
  {
   "cell_type": "markdown",
   "id": "3665622a",
   "metadata": {},
   "source": [
    "| # | Number | String | List | Dictionary | Tuple | Set | Boolean |\n",
    "| --- | --- | --- | --- | --- | --- | --- | --- |\n",
    "| Example | 1 or 2.1 | 'hello there' | [1,2,3] |{'k1' = 123} | (1,2,3) | set(string or number) | 0 or 1 |\n",
    "| Highlight | float & integer | Unordered, Immutable  | Ordered, Mutable | Key Value Pairs |Similar to List, but Immutable |Unordered, Unique | True or False |\n",
    "|Symbol |- |\" \"  | [ ] | { 'k' : value} | (v1, v2, v3) |set() |- | \n",
    "| Mutable | Yes | No |Yes | TBD |No |No | - |\n",
    "| Ordered | - | Yes | Yes |No |Yes | No |- |\n",
    "| Index | TBD | Yes | Yes | No | TBD | TBD | - |\n",
    "| Slice | No | Yes | Yes | No | Yes |TBD |- | \n",
    "| Add | - | - | Yes  |-  | TBD  | - |- |\n",
    "| Remove| -  | Yes  |- | TBD|- |- |- |  \n",
    "|- |- |- |- |- |- |- |- | \n",
    "|- |- |- |- |- |- |- |- |\n",
    "|- |- |- |- |- |- |- |- |\n",
    "|- |- |- |- |- |- |- |- |\n",
    "|- |- |- |- |- |- |- |- |\n",
    "|- |- |- |- |- |- |- |- |\n"
   ]
  },
  {
   "cell_type": "markdown",
   "id": "4acc3403",
   "metadata": {},
   "source": [
    "Number"
   ]
  },
  {
   "cell_type": "markdown",
   "id": "adcf4aab",
   "metadata": {},
   "source": [
    "String"
   ]
  },
  {
   "cell_type": "markdown",
   "id": "85a5b752",
   "metadata": {},
   "source": [
    "List"
   ]
  },
  {
   "cell_type": "markdown",
   "id": "fd3e82dd",
   "metadata": {},
   "source": [
    "Dictionary"
   ]
  },
  {
   "cell_type": "markdown",
   "id": "6ab62b10",
   "metadata": {},
   "source": [
    "Tuple"
   ]
  },
  {
   "cell_type": "markdown",
   "id": "f6907f03",
   "metadata": {},
   "source": [
    "Set"
   ]
  },
  {
   "cell_type": "markdown",
   "id": "5828ebd5",
   "metadata": {},
   "source": [
    "Bolean"
   ]
  },
  {
   "cell_type": "markdown",
   "id": "336d5e89",
   "metadata": {},
   "source": [
    "<font size = 30> Numbers <font>"
   ]
  },
  {
   "cell_type": "code",
   "execution_count": 1,
   "id": "745da19d",
   "metadata": {},
   "outputs": [
    {
     "data": {
      "text/plain": [
       "-1"
      ]
     },
     "execution_count": 1,
     "metadata": {},
     "output_type": "execute_result"
    }
   ],
   "source": [
    "1-2"
   ]
  },
  {
   "cell_type": "code",
   "execution_count": 2,
   "id": "eb43245d",
   "metadata": {},
   "outputs": [
    {
     "data": {
      "text/plain": [
       "4"
      ]
     },
     "execution_count": 2,
     "metadata": {},
     "output_type": "execute_result"
    }
   ],
   "source": [
    "2*2"
   ]
  },
  {
   "cell_type": "code",
   "execution_count": 3,
   "id": "0cdc5100",
   "metadata": {},
   "outputs": [
    {
     "data": {
      "text/plain": [
       "0.6666666666666666"
      ]
     },
     "execution_count": 3,
     "metadata": {},
     "output_type": "execute_result"
    }
   ],
   "source": [
    "2/3"
   ]
  },
  {
   "cell_type": "markdown",
   "id": "34b032bb",
   "metadata": {},
   "source": [
    "### Mod Operater"
   ]
  },
  {
   "cell_type": "code",
   "execution_count": 5,
   "id": "abafdae3",
   "metadata": {},
   "outputs": [
    {
     "data": {
      "text/plain": [
       "1"
      ]
     },
     "execution_count": 5,
     "metadata": {},
     "output_type": "execute_result"
    }
   ],
   "source": [
    "7%3"
   ]
  },
  {
   "cell_type": "code",
   "execution_count": 6,
   "id": "3cd9dec3",
   "metadata": {},
   "outputs": [
    {
     "data": {
      "text/plain": [
       "1"
      ]
     },
     "execution_count": 6,
     "metadata": {},
     "output_type": "execute_result"
    }
   ],
   "source": [
    "23 % 2"
   ]
  },
  {
   "cell_type": "markdown",
   "id": "ed72daa7",
   "metadata": {},
   "source": [
    "### Order of Operations"
   ]
  },
  {
   "cell_type": "markdown",
   "id": "66288c9d",
   "metadata": {},
   "source": [
    "#### PEMDAS -- Paranthesis, Exponent, Multiplication, Division, Addition, Subtraction"
   ]
  },
  {
   "cell_type": "code",
   "execution_count": 7,
   "id": "90fddefc",
   "metadata": {},
   "outputs": [
    {
     "data": {
      "text/plain": [
       "31"
      ]
     },
     "execution_count": 7,
     "metadata": {},
     "output_type": "execute_result"
    }
   ],
   "source": [
    "2+10*3-1"
   ]
  },
  {
   "cell_type": "code",
   "execution_count": 9,
   "id": "c278824a",
   "metadata": {},
   "outputs": [
    {
     "data": {
      "text/plain": [
       "185.625"
      ]
     },
     "execution_count": 9,
     "metadata": {},
     "output_type": "execute_result"
    }
   ],
   "source": [
    "(2+3/4)*45/2*3"
   ]
  },
  {
   "cell_type": "markdown",
   "id": "ab23fee7",
   "metadata": {},
   "source": [
    "2.75 * (22.5*3) .... 67.5 * 2.75"
   ]
  },
  {
   "cell_type": "code",
   "execution_count": 10,
   "id": "32b4bab9",
   "metadata": {},
   "outputs": [
    {
     "data": {
      "text/plain": [
       "185.625"
      ]
     },
     "execution_count": 10,
     "metadata": {},
     "output_type": "execute_result"
    }
   ],
   "source": [
    "67.5*2.75"
   ]
  },
  {
   "cell_type": "markdown",
   "id": "8a492bf2",
   "metadata": {},
   "source": [
    "## Variable Assignments"
   ]
  },
  {
   "cell_type": "markdown",
   "id": "163b0aa8",
   "metadata": {},
   "source": [
    "` Dynamic Typing -- means variables can be reassigned to different data types `"
   ]
  },
  {
   "cell_type": "code",
   "execution_count": 12,
   "id": "9e5652be",
   "metadata": {},
   "outputs": [],
   "source": [
    "my_dogs = 2"
   ]
  },
  {
   "cell_type": "code",
   "execution_count": 13,
   "id": "f23eea53",
   "metadata": {},
   "outputs": [],
   "source": [
    "my_dogs = [\"Sammy\", \"Frankie\"]"
   ]
  },
  {
   "cell_type": "markdown",
   "id": "35c30c43",
   "metadata": {},
   "source": [
    "` Something like this is not possible in say, C++ where variables need to be declared like int my_dog = 1 `"
   ]
  },
  {
   "cell_type": "code",
   "execution_count": 14,
   "id": "519d271b",
   "metadata": {},
   "outputs": [],
   "source": [
    "a = 10"
   ]
  },
  {
   "cell_type": "code",
   "execution_count": 16,
   "id": "dcd012ab",
   "metadata": {},
   "outputs": [
    {
     "data": {
      "text/plain": [
       "10"
      ]
     },
     "execution_count": 16,
     "metadata": {},
     "output_type": "execute_result"
    }
   ],
   "source": [
    "a"
   ]
  },
  {
   "cell_type": "code",
   "execution_count": 21,
   "id": "ba804fac",
   "metadata": {},
   "outputs": [],
   "source": [
    "a = a + a"
   ]
  },
  {
   "cell_type": "code",
   "execution_count": 22,
   "id": "181a148e",
   "metadata": {},
   "outputs": [
    {
     "data": {
      "text/plain": [
       "80"
      ]
     },
     "execution_count": 22,
     "metadata": {},
     "output_type": "execute_result"
    }
   ],
   "source": [
    "a"
   ]
  },
  {
   "cell_type": "code",
   "execution_count": 23,
   "id": "fb1288b8",
   "metadata": {},
   "outputs": [
    {
     "data": {
      "text/plain": [
       "int"
      ]
     },
     "execution_count": 23,
     "metadata": {},
     "output_type": "execute_result"
    }
   ],
   "source": [
    "type(a)"
   ]
  },
  {
   "cell_type": "code",
   "execution_count": 24,
   "id": "f341358d",
   "metadata": {},
   "outputs": [],
   "source": [
    "a = 0.1"
   ]
  },
  {
   "cell_type": "code",
   "execution_count": 25,
   "id": "10cd3b34",
   "metadata": {},
   "outputs": [
    {
     "data": {
      "text/plain": [
       "float"
      ]
     },
     "execution_count": 25,
     "metadata": {},
     "output_type": "execute_result"
    }
   ],
   "source": [
    "type(a)"
   ]
  },
  {
   "cell_type": "code",
   "execution_count": 26,
   "id": "795676ef",
   "metadata": {},
   "outputs": [
    {
     "data": {
      "text/plain": [
       "0.1"
      ]
     },
     "execution_count": 26,
     "metadata": {},
     "output_type": "execute_result"
    }
   ],
   "source": [
    "a"
   ]
  },
  {
   "cell_type": "code",
   "execution_count": 3,
   "id": "da3628ae",
   "metadata": {},
   "outputs": [],
   "source": [
    "my_income = 100\n",
    "my_tax = .20\n",
    "my_total_tax = my_income * my_tax"
   ]
  },
  {
   "cell_type": "code",
   "execution_count": 4,
   "id": "85463b59",
   "metadata": {},
   "outputs": [
    {
     "data": {
      "text/plain": [
       "20.0"
      ]
     },
     "execution_count": 4,
     "metadata": {},
     "output_type": "execute_result"
    }
   ],
   "source": [
    "my_total_tax"
   ]
  },
  {
   "cell_type": "markdown",
   "id": "1ec4eb6c",
   "metadata": {},
   "source": [
    "***"
   ]
  },
  {
   "cell_type": "markdown",
   "id": "155437a7",
   "metadata": {},
   "source": [
    "<font size = 30> Strings <font>"
   ]
  },
  {
   "cell_type": "markdown",
   "id": "763a2a5a",
   "metadata": {},
   "source": [
    "## <font color = 'red'> Ordered, Immutable, Index, Slice <font>"
   ]
  },
  {
   "cell_type": "markdown",
   "id": "9b9729cc",
   "metadata": {},
   "source": [
    "<font color = 'red'> Strings are ordered sequences <font>"
   ]
  },
  {
   "cell_type": "code",
   "execution_count": 5,
   "id": "bc041d3f",
   "metadata": {},
   "outputs": [],
   "source": [
    "a = 'Hello'"
   ]
  },
  {
   "cell_type": "code",
   "execution_count": 6,
   "id": "105325ee",
   "metadata": {},
   "outputs": [
    {
     "data": {
      "text/plain": [
       "'e'"
      ]
     },
     "execution_count": 6,
     "metadata": {},
     "output_type": "execute_result"
    }
   ],
   "source": [
    "a[1]"
   ]
  },
  {
   "cell_type": "code",
   "execution_count": 7,
   "id": "27f8865e",
   "metadata": {},
   "outputs": [
    {
     "data": {
      "text/plain": [
       "'o'"
      ]
     },
     "execution_count": 7,
     "metadata": {},
     "output_type": "execute_result"
    }
   ],
   "source": [
    "a[-1]"
   ]
  },
  {
   "cell_type": "code",
   "execution_count": 8,
   "id": "d90cd177",
   "metadata": {},
   "outputs": [
    {
     "data": {
      "text/plain": [
       "'two'"
      ]
     },
     "execution_count": 8,
     "metadata": {},
     "output_type": "execute_result"
    }
   ],
   "source": [
    "\"one\"\n",
    "\"two\""
   ]
  },
  {
   "cell_type": "code",
   "execution_count": 9,
   "id": "27488080",
   "metadata": {},
   "outputs": [
    {
     "name": "stdout",
     "output_type": "stream",
     "text": [
      "one\n",
      "two\n"
     ]
    }
   ],
   "source": [
    "print(\"one\")\n",
    "print(\"two\")"
   ]
  },
  {
   "cell_type": "code",
   "execution_count": 10,
   "id": "68942769",
   "metadata": {},
   "outputs": [
    {
     "name": "stdout",
     "output_type": "stream",
     "text": [
      "hello \n",
      " world\n"
     ]
    }
   ],
   "source": [
    "print(\"hello \\n world\")"
   ]
  },
  {
   "cell_type": "code",
   "execution_count": 11,
   "id": "3a76fbac",
   "metadata": {},
   "outputs": [
    {
     "data": {
      "text/plain": [
       "11"
      ]
     },
     "execution_count": 11,
     "metadata": {},
     "output_type": "execute_result"
    }
   ],
   "source": [
    "len(\"Hello World\")"
   ]
  },
  {
   "cell_type": "code",
   "execution_count": 12,
   "id": "12e7dc4a",
   "metadata": {},
   "outputs": [],
   "source": [
    "mystring = \"My name is Anthony\""
   ]
  },
  {
   "cell_type": "code",
   "execution_count": 13,
   "id": "4fd652e6",
   "metadata": {},
   "outputs": [
    {
     "data": {
      "text/plain": [
       "18"
      ]
     },
     "execution_count": 13,
     "metadata": {},
     "output_type": "execute_result"
    }
   ],
   "source": [
    "len(mystring)"
   ]
  },
  {
   "cell_type": "code",
   "execution_count": 15,
   "id": "a38fe375",
   "metadata": {},
   "outputs": [
    {
     "data": {
      "text/plain": [
       "'M'"
      ]
     },
     "execution_count": 15,
     "metadata": {},
     "output_type": "execute_result"
    }
   ],
   "source": [
    "mystring[0]"
   ]
  },
  {
   "cell_type": "code",
   "execution_count": 17,
   "id": "51bf446d",
   "metadata": {},
   "outputs": [
    {
     "data": {
      "text/plain": [
       "'A'"
      ]
     },
     "execution_count": 17,
     "metadata": {},
     "output_type": "execute_result"
    }
   ],
   "source": [
    "mystring[11]"
   ]
  },
  {
   "cell_type": "code",
   "execution_count": 18,
   "id": "b37efde1",
   "metadata": {},
   "outputs": [
    {
     "data": {
      "text/plain": [
       "' name is Anthony'"
      ]
     },
     "execution_count": 18,
     "metadata": {},
     "output_type": "execute_result"
    }
   ],
   "source": [
    "mystring[2:]"
   ]
  },
  {
   "cell_type": "code",
   "execution_count": 19,
   "id": "0fd4da35",
   "metadata": {},
   "outputs": [
    {
     "data": {
      "text/plain": [
       "'name is Anthony'"
      ]
     },
     "execution_count": 19,
     "metadata": {},
     "output_type": "execute_result"
    }
   ],
   "source": [
    "mystring[3:]"
   ]
  },
  {
   "cell_type": "code",
   "execution_count": 20,
   "id": "d39de79d",
   "metadata": {},
   "outputs": [
    {
     "data": {
      "text/plain": [
       "'My '"
      ]
     },
     "execution_count": 20,
     "metadata": {},
     "output_type": "execute_result"
    }
   ],
   "source": [
    "mystring[:3]"
   ]
  },
  {
   "cell_type": "code",
   "execution_count": 21,
   "id": "1d8a3332",
   "metadata": {},
   "outputs": [
    {
     "data": {
      "text/plain": [
       "'My nam'"
      ]
     },
     "execution_count": 21,
     "metadata": {},
     "output_type": "execute_result"
    }
   ],
   "source": [
    "mystring[:6]"
   ]
  },
  {
   "cell_type": "code",
   "execution_count": 22,
   "id": "a5eab2fc",
   "metadata": {},
   "outputs": [
    {
     "data": {
      "text/plain": [
       "'nam'"
      ]
     },
     "execution_count": 22,
     "metadata": {},
     "output_type": "execute_result"
    }
   ],
   "source": [
    "mystring[3:6]"
   ]
  },
  {
   "cell_type": "markdown",
   "id": "f52fca39",
   "metadata": {},
   "source": [
    "<font color = 'red'> Step Size <font>"
   ]
  },
  {
   "cell_type": "code",
   "execution_count": 23,
   "id": "79c98018",
   "metadata": {},
   "outputs": [
    {
     "data": {
      "text/plain": [
       "'My name is Anthony'"
      ]
     },
     "execution_count": 23,
     "metadata": {},
     "output_type": "execute_result"
    }
   ],
   "source": [
    "mystring[::1]"
   ]
  },
  {
   "cell_type": "code",
   "execution_count": 24,
   "id": "9a3bc710",
   "metadata": {},
   "outputs": [
    {
     "data": {
      "text/plain": [
       "'M aei nhn'"
      ]
     },
     "execution_count": 24,
     "metadata": {},
     "output_type": "execute_result"
    }
   ],
   "source": [
    "mystring[::2]"
   ]
  },
  {
   "cell_type": "code",
   "execution_count": 26,
   "id": "d927229b",
   "metadata": {},
   "outputs": [
    {
     "data": {
      "text/plain": [
       "'name is Anthon'"
      ]
     },
     "execution_count": 26,
     "metadata": {},
     "output_type": "execute_result"
    }
   ],
   "source": [
    "mystring[3:17:1]"
   ]
  },
  {
   "cell_type": "code",
   "execution_count": 27,
   "id": "04f3853a",
   "metadata": {},
   "outputs": [
    {
     "data": {
      "text/plain": [
       "'nm sAto'"
      ]
     },
     "execution_count": 27,
     "metadata": {},
     "output_type": "execute_result"
    }
   ],
   "source": [
    "mystring[3:17:2]"
   ]
  },
  {
   "cell_type": "markdown",
   "id": "71bdf6c4",
   "metadata": {},
   "source": [
    "<font color = 'red'> Reversing a String <font>"
   ]
  },
  {
   "cell_type": "code",
   "execution_count": 28,
   "id": "27f79080",
   "metadata": {},
   "outputs": [
    {
     "data": {
      "text/plain": [
       "'ynohtnA si eman yM'"
      ]
     },
     "execution_count": 28,
     "metadata": {},
     "output_type": "execute_result"
    }
   ],
   "source": [
    "mystring[::-1]"
   ]
  },
  {
   "cell_type": "markdown",
   "id": "353a80e6",
   "metadata": {},
   "source": [
    "## Print Formatting with Strings"
   ]
  },
  {
   "cell_type": "code",
   "execution_count": 30,
   "id": "3706c42c",
   "metadata": {},
   "outputs": [
    {
     "name": "stdout",
     "output_type": "stream",
     "text": [
      "Hello my name is Gaurav\n"
     ]
    }
   ],
   "source": [
    "myname = \"Gaurav\"\n",
    "print(\"Hello my name is \" + myname)"
   ]
  },
  {
   "cell_type": "code",
   "execution_count": 31,
   "id": "91b8990d",
   "metadata": {},
   "outputs": [
    {
     "name": "stdout",
     "output_type": "stream",
     "text": [
      "This is a string  Inserted here\n"
     ]
    }
   ],
   "source": [
    "print('This is a string{}'.format(\"  Inserted here\"))"
   ]
  },
  {
   "cell_type": "code",
   "execution_count": 32,
   "id": "be07c974",
   "metadata": {},
   "outputs": [
    {
     "name": "stdout",
     "output_type": "stream",
     "text": [
      "abcdefgh\n"
     ]
    }
   ],
   "source": [
    "print(\"abcd{}\".format(\"efgh\"))"
   ]
  },
  {
   "cell_type": "code",
   "execution_count": 33,
   "id": "0970353d",
   "metadata": {},
   "outputs": [
    {
     "name": "stdout",
     "output_type": "stream",
     "text": [
      "How are you doing Ziba Joon\n"
     ]
    }
   ],
   "source": [
    "print('How are you doing{}'.format(\" Ziba Joon\"))"
   ]
  },
  {
   "cell_type": "code",
   "execution_count": 34,
   "id": "838af0b9",
   "metadata": {},
   "outputs": [
    {
     "name": "stdout",
     "output_type": "stream",
     "text": [
      "this is such an amazing time\n"
     ]
    }
   ],
   "source": [
    "print('this is such{}{}{}'.format(' an', ' amazing', ' time'))"
   ]
  },
  {
   "cell_type": "code",
   "execution_count": 36,
   "id": "ac4f56e5",
   "metadata": {},
   "outputs": [
    {
     "name": "stdout",
     "output_type": "stream",
     "text": [
      "I would like to take Ziba Joon to Ocean Beach for a swim\n"
     ]
    }
   ],
   "source": [
    "print('I would like to take {z} to {o} for a swim'.format(z = 'Ziba Joon', o = 'Ocean Beach'))"
   ]
  },
  {
   "cell_type": "code",
   "execution_count": 37,
   "id": "9ee8c1b7",
   "metadata": {},
   "outputs": [
    {
     "name": "stdout",
     "output_type": "stream",
     "text": [
      "what is Ziba Joon doing here in Philadelphia in June\n"
     ]
    }
   ],
   "source": [
    "print('what is {p} doing here in {c} in {m}'.format(p = \"Ziba Joon\", c = \"Philadelphia\", m = \"June\"))"
   ]
  },
  {
   "cell_type": "markdown",
   "id": "d66c1f82",
   "metadata": {},
   "source": [
    "## Float Fomatting - value, width, precision"
   ]
  },
  {
   "cell_type": "code",
   "execution_count": 40,
   "id": "f738079d",
   "metadata": {},
   "outputs": [
    {
     "name": "stdout",
     "output_type": "stream",
     "text": [
      "The result was 14.285714285714286\n",
      "The result was 14.285714285714286\n"
     ]
    }
   ],
   "source": [
    "result = 100/7\n",
    "print(\"The result was {}\".format(result))\n",
    "print(\"The result was {r}\".format(r=result))"
   ]
  },
  {
   "cell_type": "markdown",
   "id": "203ed4a0",
   "metadata": {},
   "source": [
    "## Using F Strings for formatting"
   ]
  },
  {
   "cell_type": "code",
   "execution_count": 48,
   "id": "e94924d7",
   "metadata": {},
   "outputs": [
    {
     "name": "stdout",
     "output_type": "stream",
     "text": [
      "The result is 100.7\n",
      "The result is 100.7\n"
     ]
    }
   ],
   "source": [
    "result = 100.7\n",
    "print(\"The result is {r}\".format(r = result))\n",
    "print(f\"The result is {result}\")"
   ]
  },
  {
   "cell_type": "markdown",
   "id": "c1a159c8",
   "metadata": {},
   "source": [
    "***"
   ]
  },
  {
   "cell_type": "code",
   "execution_count": 55,
   "id": "d77c2f58",
   "metadata": {},
   "outputs": [
    {
     "name": "stdout",
     "output_type": "stream",
     "text": [
      "Sam is 10 years old\n",
      "Sam is 10 years old\n",
      "Sam is 10 years old\n"
     ]
    }
   ],
   "source": [
    "name = \"Sam\"\n",
    "age = 10\n",
    "print(\"{n} is {a} years old\".format(n = name, a = age))\n",
    "print(\"{} is {} years old\".format(name, age))\n",
    "print(f\"{name} is {age} years old\")"
   ]
  },
  {
   "cell_type": "markdown",
   "id": "d7a4f525",
   "metadata": {},
   "source": [
    "***"
   ]
  },
  {
   "cell_type": "markdown",
   "id": "46c51a0a",
   "metadata": {},
   "source": [
    "<font size = 30> Lists <font>"
   ]
  },
  {
   "cell_type": "markdown",
   "id": "ed04d44d",
   "metadata": {},
   "source": [
    "## <font color = 'red'> Ordered, Mutate, Index, Slice, Add, Remove, Sort <font>"
   ]
  },
  {
   "cell_type": "markdown",
   "id": "6a9c35d5",
   "metadata": {},
   "source": [
    "### While String is a data type, Lists are similar in that it is (1) Ordered and (2) Supports Indexing & Slicing -- However, the list is a collection of different types, including strings"
   ]
  },
  {
   "cell_type": "markdown",
   "id": "2a1889ce",
   "metadata": {},
   "source": [
    "## Lists can mutate"
   ]
  },
  {
   "cell_type": "code",
   "execution_count": 62,
   "id": "6254f14a",
   "metadata": {},
   "outputs": [
    {
     "name": "stdout",
     "output_type": "stream",
     "text": [
      "['My name is Ziba', 1, 0.07142857142857142]\n",
      "[23.1, 0.16666666666666666, 'Cats']\n"
     ]
    }
   ],
   "source": [
    "my_list1 = [\"My name is Ziba\", 1, 4/56]\n",
    "my_list2 = [23.1, 1/6, \"Cats\"]\n",
    "print(my_list1)\n",
    "print(my_list2)"
   ]
  },
  {
   "cell_type": "markdown",
   "id": "6be8afc2",
   "metadata": {},
   "source": [
    "### Indexing"
   ]
  },
  {
   "cell_type": "code",
   "execution_count": 65,
   "id": "b70a1131",
   "metadata": {},
   "outputs": [
    {
     "data": {
      "text/plain": [
       "'Cats'"
      ]
     },
     "execution_count": 65,
     "metadata": {},
     "output_type": "execute_result"
    }
   ],
   "source": [
    "my_list1[0]\n",
    "my_list2[2]"
   ]
  },
  {
   "cell_type": "code",
   "execution_count": 69,
   "id": "8a05af32",
   "metadata": {},
   "outputs": [
    {
     "name": "stdout",
     "output_type": "stream",
     "text": [
      "My name is Ziba\n",
      "Cats\n"
     ]
    }
   ],
   "source": [
    "print(my_list1[0])\n",
    "print(my_list2[2])"
   ]
  },
  {
   "cell_type": "markdown",
   "id": "5398245b",
   "metadata": {},
   "source": [
    "### Slicing"
   ]
  },
  {
   "cell_type": "code",
   "execution_count": 72,
   "id": "1c8def5c",
   "metadata": {},
   "outputs": [
    {
     "data": {
      "text/plain": [
       "[0.16666666666666666, 'Cats']"
      ]
     },
     "execution_count": 72,
     "metadata": {},
     "output_type": "execute_result"
    }
   ],
   "source": [
    "my_list2[1:]"
   ]
  },
  {
   "cell_type": "code",
   "execution_count": 73,
   "id": "974a6a4e",
   "metadata": {},
   "outputs": [
    {
     "data": {
      "text/plain": [
       "['My name is Ziba', 1]"
      ]
     },
     "execution_count": 73,
     "metadata": {},
     "output_type": "execute_result"
    }
   ],
   "source": [
    "my_list[:2]"
   ]
  },
  {
   "cell_type": "code",
   "execution_count": 74,
   "id": "114db8e2",
   "metadata": {},
   "outputs": [
    {
     "data": {
      "text/plain": [
       "['My name is Ziba']"
      ]
     },
     "execution_count": 74,
     "metadata": {},
     "output_type": "execute_result"
    }
   ],
   "source": [
    "my_list[:1]"
   ]
  },
  {
   "cell_type": "code",
   "execution_count": 75,
   "id": "ceb81d02",
   "metadata": {},
   "outputs": [
    {
     "data": {
      "text/plain": [
       "[1]"
      ]
     },
     "execution_count": 75,
     "metadata": {},
     "output_type": "execute_result"
    }
   ],
   "source": [
    "my_list[1:2]"
   ]
  },
  {
   "cell_type": "code",
   "execution_count": 78,
   "id": "b4635d21",
   "metadata": {},
   "outputs": [],
   "source": [
    "my_list3 = ['a','b','c','d','e','f','g','h','i','j','k','l','m','n']"
   ]
  },
  {
   "cell_type": "code",
   "execution_count": 79,
   "id": "8a2968b6",
   "metadata": {},
   "outputs": [
    {
     "data": {
      "text/plain": [
       "['b', 'c', 'd', 'e', 'f', 'g', 'h', 'i', 'j', 'k', 'l', 'm', 'n']"
      ]
     },
     "execution_count": 79,
     "metadata": {},
     "output_type": "execute_result"
    }
   ],
   "source": [
    "my_list3[1:]"
   ]
  },
  {
   "cell_type": "code",
   "execution_count": 81,
   "id": "32c4c912",
   "metadata": {},
   "outputs": [
    {
     "data": {
      "text/plain": [
       "['a', 'b', 'c', 'd', 'e', 'f']"
      ]
     },
     "execution_count": 81,
     "metadata": {},
     "output_type": "execute_result"
    }
   ],
   "source": [
    "my_list3[:6]"
   ]
  },
  {
   "cell_type": "code",
   "execution_count": 83,
   "id": "5624ef39",
   "metadata": {},
   "outputs": [
    {
     "data": {
      "text/plain": [
       "['d', 'e', 'f', 'g']"
      ]
     },
     "execution_count": 83,
     "metadata": {},
     "output_type": "execute_result"
    }
   ],
   "source": [
    "my_list3[3:7]"
   ]
  },
  {
   "cell_type": "markdown",
   "id": "45c1b091",
   "metadata": {},
   "source": [
    "### Concatanation"
   ]
  },
  {
   "cell_type": "code",
   "execution_count": 84,
   "id": "e3869515",
   "metadata": {},
   "outputs": [
    {
     "data": {
      "text/plain": [
       "['My name is Ziba', 1, 0.07142857142857142, 23.1, 0.16666666666666666, 'Cats']"
      ]
     },
     "execution_count": 84,
     "metadata": {},
     "output_type": "execute_result"
    }
   ],
   "source": [
    "my_list1 + my_list2"
   ]
  },
  {
   "cell_type": "code",
   "execution_count": 85,
   "id": "7c37df0a",
   "metadata": {},
   "outputs": [],
   "source": [
    "my_list4 = my_list1 + my_list2"
   ]
  },
  {
   "cell_type": "code",
   "execution_count": 87,
   "id": "4662e862",
   "metadata": {},
   "outputs": [
    {
     "name": "stdout",
     "output_type": "stream",
     "text": [
      "['My name is Ziba', 1, 0.07142857142857142, 23.1, 0.16666666666666666, 'Cats']\n"
     ]
    }
   ],
   "source": [
    "print(my_list4)"
   ]
  },
  {
   "cell_type": "markdown",
   "id": "038d6271",
   "metadata": {},
   "source": [
    "### Mutation"
   ]
  },
  {
   "cell_type": "code",
   "execution_count": 89,
   "id": "3e8888e3",
   "metadata": {},
   "outputs": [
    {
     "data": {
      "text/plain": [
       "[5, 2, 3, 4]"
      ]
     },
     "execution_count": 89,
     "metadata": {},
     "output_type": "execute_result"
    }
   ],
   "source": [
    "my_list5 = [1,2,3,4]\n",
    "my_list5[0] = 5\n",
    "my_list5"
   ]
  },
  {
   "cell_type": "markdown",
   "id": "6853c753",
   "metadata": {},
   "source": [
    "### Adding"
   ]
  },
  {
   "cell_type": "code",
   "execution_count": 91,
   "id": "307104e9",
   "metadata": {},
   "outputs": [
    {
     "data": {
      "text/plain": [
       "[1, 2, 3, 4, 5, 6, 7]"
      ]
     },
     "execution_count": 91,
     "metadata": {},
     "output_type": "execute_result"
    }
   ],
   "source": [
    "my_list6 = [1,2,3,4,5,6]\n",
    "my_list6.append(7)\n",
    "my_list6"
   ]
  },
  {
   "cell_type": "markdown",
   "id": "b05bf861",
   "metadata": {},
   "source": [
    "### Removing"
   ]
  },
  {
   "cell_type": "code",
   "execution_count": 93,
   "id": "68c0f6bf",
   "metadata": {},
   "outputs": [
    {
     "data": {
      "text/plain": [
       "6"
      ]
     },
     "execution_count": 93,
     "metadata": {},
     "output_type": "execute_result"
    }
   ],
   "source": [
    "my_list7 = [1,2,3,4,5,6]\n",
    "my_list7.pop()"
   ]
  },
  {
   "cell_type": "code",
   "execution_count": 94,
   "id": "2aefa838",
   "metadata": {},
   "outputs": [
    {
     "data": {
      "text/plain": [
       "[1, 2, 3, 4, 5]"
      ]
     },
     "execution_count": 94,
     "metadata": {},
     "output_type": "execute_result"
    }
   ],
   "source": [
    "my_list7"
   ]
  },
  {
   "cell_type": "code",
   "execution_count": 95,
   "id": "5bae5674",
   "metadata": {},
   "outputs": [
    {
     "data": {
      "text/plain": [
       "[1, 2, 4, 5]"
      ]
     },
     "execution_count": 95,
     "metadata": {},
     "output_type": "execute_result"
    }
   ],
   "source": [
    "my_list7.pop(2)\n",
    "my_list7"
   ]
  },
  {
   "cell_type": "markdown",
   "id": "1f75b5f1",
   "metadata": {},
   "source": [
    "### Sort"
   ]
  },
  {
   "cell_type": "markdown",
   "id": "c049b366",
   "metadata": {},
   "source": [
    "<font color = 'red'> Notice the in place behavior of sort -- and why reassignment (my_list81, my_list91) is needed <font>"
   ]
  },
  {
   "cell_type": "code",
   "execution_count": 105,
   "id": "374f70de",
   "metadata": {},
   "outputs": [
    {
     "name": "stdout",
     "output_type": "stream",
     "text": [
      "None\n",
      "None\n"
     ]
    }
   ],
   "source": [
    "my_list8 = ['b','g','t','y','r','e','d','c','s','a','r']\n",
    "my_list9 = [5,4,7,8,9,1,2,4,0]\n",
    "my_list8.sort()\n",
    "my_list81 = my_list8.sort()\n",
    "print(my_list81)\n",
    "my_list9.sort()\n",
    "my_list91 = my_list9.sort()\n",
    "print(my_list91)"
   ]
  },
  {
   "cell_type": "code",
   "execution_count": 102,
   "id": "6f8749df",
   "metadata": {},
   "outputs": [
    {
     "data": {
      "text/plain": [
       "NoneType"
      ]
     },
     "execution_count": 102,
     "metadata": {},
     "output_type": "execute_result"
    }
   ],
   "source": [
    "type(my_list81)\n",
    "type(my_list91)"
   ]
  },
  {
   "cell_type": "code",
   "execution_count": 107,
   "id": "fc67c108",
   "metadata": {},
   "outputs": [
    {
     "name": "stdout",
     "output_type": "stream",
     "text": [
      "['a', 'b', 'c', 'd', 'e', 'g', 'r', 'r', 's', 't', 'y']\n",
      "[0, 1, 2, 4, 4, 5, 7, 8, 9]\n"
     ]
    }
   ],
   "source": [
    "my_list10 = ['b','g','t','y','r','e','d','c','s','a','r']\n",
    "my_list10.sort()\n",
    "my_list101 = my_list10\n",
    "print(my_list101)\n",
    "my_list11 = [5,4,7,8,9,1,2,4,0]\n",
    "my_list11.sort()\n",
    "my_list111 = my_list11\n",
    "print(my_list111)"
   ]
  },
  {
   "cell_type": "markdown",
   "id": "75f11699",
   "metadata": {},
   "source": [
    "### Reverse"
   ]
  },
  {
   "cell_type": "markdown",
   "id": "953355ae",
   "metadata": {},
   "source": [
    "<font color = 'red'> Notice how calling my_list111 in the same cell does not work <font>"
   ]
  },
  {
   "cell_type": "code",
   "execution_count": 112,
   "id": "0f362fb9",
   "metadata": {},
   "outputs": [
    {
     "data": {
      "text/plain": [
       "[0, 1, 2, 4, 4, 5, 7, 8, 9]"
      ]
     },
     "execution_count": 112,
     "metadata": {},
     "output_type": "execute_result"
    }
   ],
   "source": [
    "my_list111.reverse()\n",
    "my_list111"
   ]
  },
  {
   "cell_type": "code",
   "execution_count": 111,
   "id": "4cf4f1e7",
   "metadata": {},
   "outputs": [
    {
     "data": {
      "text/plain": [
       "[9, 8, 7, 5, 4, 4, 2, 1, 0]"
      ]
     },
     "execution_count": 111,
     "metadata": {},
     "output_type": "execute_result"
    }
   ],
   "source": [
    "my_list111"
   ]
  },
  {
   "cell_type": "markdown",
   "id": "c9ae81c0",
   "metadata": {},
   "source": [
    "### Nested Lists"
   ]
  },
  {
   "cell_type": "code",
   "execution_count": 116,
   "id": "d8929916",
   "metadata": {},
   "outputs": [
    {
     "data": {
      "text/plain": [
       "5"
      ]
     },
     "execution_count": 116,
     "metadata": {},
     "output_type": "execute_result"
    }
   ],
   "source": [
    "my_list12 = [1,2,3,[4,5,6]]\n",
    "my_list12[3][1]"
   ]
  },
  {
   "cell_type": "code",
   "execution_count": 117,
   "id": "e20b911d",
   "metadata": {},
   "outputs": [
    {
     "data": {
      "text/plain": [
       "3"
      ]
     },
     "execution_count": 117,
     "metadata": {},
     "output_type": "execute_result"
    }
   ],
   "source": [
    "my_list12[2]"
   ]
  },
  {
   "cell_type": "markdown",
   "id": "92c6ece6",
   "metadata": {},
   "source": [
    "***"
   ]
  },
  {
   "cell_type": "markdown",
   "id": "14f7c6af",
   "metadata": {},
   "source": [
    "<font size = 30> Dictionaries <font>"
   ]
  },
  {
   "cell_type": "markdown",
   "id": "6752a8bc",
   "metadata": {},
   "source": [
    "## <font color = 'red'> UnOrdered, Key-Value Pairs, (UnSortable, UnSlicable, UnIndexable)<font>"
   ]
  },
  {
   "cell_type": "code",
   "execution_count": 119,
   "id": "c3b727d5",
   "metadata": {},
   "outputs": [
    {
     "data": {
      "text/plain": [
       "2.1"
      ]
     },
     "execution_count": 119,
     "metadata": {},
     "output_type": "execute_result"
    }
   ],
   "source": [
    "price_lookup = {'apple': 2.1, 'banana': 4.3, 'milk': 6.23, 'mango' : 4.89, 'onion': 9.09}\n",
    "price_lookup['apple']"
   ]
  },
  {
   "cell_type": "code",
   "execution_count": 123,
   "id": "19fabf86",
   "metadata": {},
   "outputs": [
    {
     "data": {
      "text/plain": [
       "(1, 2, 3)"
      ]
     },
     "execution_count": 123,
     "metadata": {},
     "output_type": "execute_result"
    }
   ],
   "source": [
    "d1 = {'k1' : (1,2,3), 'k2' : (4,5,6)}\n",
    "d1['k1']"
   ]
  },
  {
   "cell_type": "code",
   "execution_count": 132,
   "id": "94f8444e",
   "metadata": {},
   "outputs": [],
   "source": [
    "d2 = {'k1' : (1,2,3), 'k2' : (4,5,6), 'k3' : [7,8,9,10], \n",
    "      'k4' : {'k5' : 11, 'k6' : 12, 'k7' : 13}}"
   ]
  },
  {
   "cell_type": "code",
   "execution_count": 131,
   "id": "e419da06",
   "metadata": {},
   "outputs": [
    {
     "data": {
      "text/plain": [
       "13"
      ]
     },
     "execution_count": 131,
     "metadata": {},
     "output_type": "execute_result"
    }
   ],
   "source": [
    "d2['k4']['k7']"
   ]
  },
  {
   "cell_type": "code",
   "execution_count": 138,
   "id": "6c712ee6",
   "metadata": {},
   "outputs": [
    {
     "data": {
      "text/plain": [
       "13"
      ]
     },
     "execution_count": 138,
     "metadata": {},
     "output_type": "execute_result"
    }
   ],
   "source": [
    "d2['k4']['k7']"
   ]
  },
  {
   "cell_type": "markdown",
   "id": "3d408339",
   "metadata": {},
   "source": [
    "### Converting from Dictionary to List (for example to change Uppercase)"
   ]
  },
  {
   "cell_type": "code",
   "execution_count": 156,
   "id": "d080f4a1",
   "metadata": {},
   "outputs": [],
   "source": [
    "d = {'key1' : ['a','b','c','d']}"
   ]
  },
  {
   "cell_type": "code",
   "execution_count": 157,
   "id": "4955cdb4",
   "metadata": {},
   "outputs": [],
   "source": [
    "my_list13 = d['key1']"
   ]
  },
  {
   "cell_type": "code",
   "execution_count": 158,
   "id": "e4119c09",
   "metadata": {},
   "outputs": [
    {
     "data": {
      "text/plain": [
       "['a', 'b', 'c', 'd']"
      ]
     },
     "execution_count": 158,
     "metadata": {},
     "output_type": "execute_result"
    }
   ],
   "source": [
    "my_list13"
   ]
  },
  {
   "cell_type": "code",
   "execution_count": 159,
   "id": "1148686c",
   "metadata": {},
   "outputs": [],
   "source": [
    "letter = my_list13[2]"
   ]
  },
  {
   "cell_type": "code",
   "execution_count": 160,
   "id": "5dd9196d",
   "metadata": {},
   "outputs": [
    {
     "data": {
      "text/plain": [
       "'c'"
      ]
     },
     "execution_count": 160,
     "metadata": {},
     "output_type": "execute_result"
    }
   ],
   "source": [
    "letter"
   ]
  },
  {
   "cell_type": "code",
   "execution_count": 163,
   "id": "81080cb9",
   "metadata": {},
   "outputs": [
    {
     "data": {
      "text/plain": [
       "'C'"
      ]
     },
     "execution_count": 163,
     "metadata": {},
     "output_type": "execute_result"
    }
   ],
   "source": [
    "letter.upper()"
   ]
  },
  {
   "cell_type": "markdown",
   "id": "3c3d1942",
   "metadata": {},
   "source": [
    "***"
   ]
  },
  {
   "cell_type": "code",
   "execution_count": 169,
   "id": "26d7dae3",
   "metadata": {},
   "outputs": [
    {
     "data": {
      "text/plain": [
       "'c'"
      ]
     },
     "execution_count": 169,
     "metadata": {},
     "output_type": "execute_result"
    }
   ],
   "source": [
    "e = {'key1' : ['a','b','c','d', 'e']} # declaring the Dictionary\n",
    "newletter = e['key1'] # converting to list\n",
    "newletter[2]"
   ]
  },
  {
   "cell_type": "code",
   "execution_count": 172,
   "id": "dfed5d06",
   "metadata": {},
   "outputs": [
    {
     "data": {
      "text/plain": [
       "'C'"
      ]
     },
     "execution_count": 172,
     "metadata": {},
     "output_type": "execute_result"
    }
   ],
   "source": [
    "newletter2 = e['key1'][2].upper()\n",
    "newletter2"
   ]
  },
  {
   "cell_type": "markdown",
   "id": "2c5a043a",
   "metadata": {},
   "source": [
    "***"
   ]
  },
  {
   "cell_type": "code",
   "execution_count": 175,
   "id": "b1c64090",
   "metadata": {},
   "outputs": [],
   "source": [
    "f = {'key1' : 100, 'key2' : 200}"
   ]
  },
  {
   "cell_type": "code",
   "execution_count": 181,
   "id": "2f906f1e",
   "metadata": {},
   "outputs": [],
   "source": [
    "f['key3']= 300 ## Adding new value"
   ]
  },
  {
   "cell_type": "code",
   "execution_count": 180,
   "id": "dd3b155d",
   "metadata": {},
   "outputs": [
    {
     "data": {
      "text/plain": [
       "{'key1': 100, 'key2': 200, 'key3': 300}"
      ]
     },
     "execution_count": 180,
     "metadata": {},
     "output_type": "execute_result"
    }
   ],
   "source": [
    "f"
   ]
  },
  {
   "cell_type": "code",
   "execution_count": 183,
   "id": "af7901eb",
   "metadata": {},
   "outputs": [
    {
     "data": {
      "text/plain": [
       "{'key1': 100, 'key2': 'NEW VALUE', 'key3': 300}"
      ]
     },
     "execution_count": 183,
     "metadata": {},
     "output_type": "execute_result"
    }
   ],
   "source": [
    "f['key2'] = \"NEW VALUE\" ## Testing Mutability by replacing value for key2\n",
    "f"
   ]
  },
  {
   "cell_type": "code",
   "execution_count": 190,
   "id": "90569f9b",
   "metadata": {},
   "outputs": [
    {
     "data": {
      "text/plain": [
       "dict_keys(['key1', 'key2', 'key3'])"
      ]
     },
     "execution_count": 190,
     "metadata": {},
     "output_type": "execute_result"
    }
   ],
   "source": [
    "## to extract just the keys\n",
    "f.keys()"
   ]
  },
  {
   "cell_type": "code",
   "execution_count": 191,
   "id": "89306f9f",
   "metadata": {},
   "outputs": [
    {
     "data": {
      "text/plain": [
       "dict_values([100, 'NEW VALUE', 300])"
      ]
     },
     "execution_count": 191,
     "metadata": {},
     "output_type": "execute_result"
    }
   ],
   "source": [
    "## to extract just the values\n",
    "f.values() "
   ]
  },
  {
   "cell_type": "code",
   "execution_count": 192,
   "id": "2796db6f",
   "metadata": {},
   "outputs": [
    {
     "data": {
      "text/plain": [
       "dict_items([('key1', 100), ('key2', 'NEW VALUE'), ('key3', 300)])"
      ]
     },
     "execution_count": 192,
     "metadata": {},
     "output_type": "execute_result"
    }
   ],
   "source": [
    "## to extract the full list of key value pairs\n",
    "f.items()"
   ]
  },
  {
   "cell_type": "markdown",
   "id": "fda612db",
   "metadata": {},
   "source": [
    "***"
   ]
  },
  {
   "cell_type": "markdown",
   "id": "c6eecb78",
   "metadata": {},
   "source": [
    "<font size = 30> Tuples <font>"
   ]
  },
  {
   "cell_type": "markdown",
   "id": "800f9867",
   "metadata": {},
   "source": [
    "## <font color = 'red'> Similar to LIST, but IMMUTABLE)<font>"
   ]
  },
  {
   "cell_type": "code",
   "execution_count": 193,
   "id": "7ac92b6b",
   "metadata": {},
   "outputs": [
    {
     "data": {
      "text/plain": [
       "tuple"
      ]
     },
     "execution_count": 193,
     "metadata": {},
     "output_type": "execute_result"
    }
   ],
   "source": [
    "tuple = (1,2,3) ## this is a tuple\n",
    "type(tuple)"
   ]
  },
  {
   "cell_type": "code",
   "execution_count": 194,
   "id": "2bd67c12",
   "metadata": {},
   "outputs": [
    {
     "data": {
      "text/plain": [
       "list"
      ]
     },
     "execution_count": 194,
     "metadata": {},
     "output_type": "execute_result"
    }
   ],
   "source": [
    "list = [1,2,3] ## this is a LIST\n",
    "type(list)"
   ]
  },
  {
   "cell_type": "code",
   "execution_count": 202,
   "id": "a8b291e6",
   "metadata": {},
   "outputs": [
    {
     "name": "stdout",
     "output_type": "stream",
     "text": [
      "('hello there', 5, 10.1, 14.285714285714286, 5, 'a', 'a', 'b')\n"
     ]
    }
   ],
   "source": [
    "t1 = (\"hello there\", 5, 10.1, 100/7, 5, 'a', 'a', 'b')\n",
    "print (t1)"
   ]
  },
  {
   "cell_type": "code",
   "execution_count": 201,
   "id": "d5d45685",
   "metadata": {},
   "outputs": [
    {
     "data": {
      "text/plain": [
       "'hello there'"
      ]
     },
     "execution_count": 201,
     "metadata": {},
     "output_type": "execute_result"
    }
   ],
   "source": [
    "t1[0]"
   ]
  },
  {
   "cell_type": "code",
   "execution_count": 206,
   "id": "57b04422",
   "metadata": {},
   "outputs": [
    {
     "name": "stdout",
     "output_type": "stream",
     "text": [
      "2\n",
      "5\n"
     ]
    }
   ],
   "source": [
    "print(t1.count('a'))\n",
    "print(t1.index('a')) ## only returns first instance of the value occurance"
   ]
  },
  {
   "cell_type": "code",
   "execution_count": 207,
   "id": "81eb9ecd",
   "metadata": {},
   "outputs": [
    {
     "data": {
      "text/plain": [
       "'hello there'"
      ]
     },
     "execution_count": 207,
     "metadata": {},
     "output_type": "execute_result"
    }
   ],
   "source": [
    "t1[0]"
   ]
  },
  {
   "cell_type": "code",
   "execution_count": 209,
   "id": "07549edd",
   "metadata": {},
   "outputs": [
    {
     "ename": "TypeError",
     "evalue": "'tuple' object does not support item assignment",
     "output_type": "error",
     "traceback": [
      "\u001b[0;31m---------------------------------------------------------------------------\u001b[0m",
      "\u001b[0;31mTypeError\u001b[0m                                 Traceback (most recent call last)",
      "Input \u001b[0;32mIn [209]\u001b[0m, in \u001b[0;36m<cell line: 1>\u001b[0;34m()\u001b[0m\n\u001b[0;32m----> 1\u001b[0m t1[\u001b[38;5;241m0\u001b[39m] \u001b[38;5;241m=\u001b[39m \u001b[38;5;124m\"\u001b[39m\u001b[38;5;124mChanging this\u001b[39m\u001b[38;5;124m\"\u001b[39m\n",
      "\u001b[0;31mTypeError\u001b[0m: 'tuple' object does not support item assignment"
     ]
    }
   ],
   "source": [
    "t1[0] = \"Changing this\" ## testing immutability"
   ]
  },
  {
   "cell_type": "markdown",
   "id": "74eda768",
   "metadata": {},
   "source": [
    "***"
   ]
  },
  {
   "cell_type": "markdown",
   "id": "33236ed1",
   "metadata": {},
   "source": [
    "<font size = 30> Sets <font>"
   ]
  },
  {
   "cell_type": "markdown",
   "id": "9eadc822",
   "metadata": {},
   "source": [
    "## <font color = 'red'> Unordered, Unique<font>"
   ]
  },
  {
   "cell_type": "code",
   "execution_count": 216,
   "id": "e56acf34",
   "metadata": {},
   "outputs": [
    {
     "name": "stdout",
     "output_type": "stream",
     "text": [
      "<class 'set'>\n"
     ]
    },
    {
     "data": {
      "text/plain": [
       "{1, 2}"
      ]
     },
     "execution_count": 216,
     "metadata": {},
     "output_type": "execute_result"
    }
   ],
   "source": [
    "s1 = set()  ### testing the uniqueness\n",
    "s1.add(1) #### needs the explicit SET\n",
    "s1.add(2)\n",
    "s1.add(1)\n",
    "print(type(s1))\n",
    "s1"
   ]
  },
  {
   "cell_type": "code",
   "execution_count": 221,
   "id": "714e53da",
   "metadata": {},
   "outputs": [
    {
     "name": "stdout",
     "output_type": "stream",
     "text": [
      "<class 'list'>\n",
      "{1, 2, 3, 4, 5}\n",
      "<class 'set'>\n"
     ]
    }
   ],
   "source": [
    "my_list21 = [1,1,1,1,1,1,2,2,2,2,2,3,4,5,5,5,5,4,4]\n",
    "s2 = set(my_list21)\n",
    "print(type(my_list21))\n",
    "print(s2)\n",
    "print(type(s2))"
   ]
  },
  {
   "cell_type": "code",
   "execution_count": 222,
   "id": "0207e965",
   "metadata": {},
   "outputs": [
    {
     "data": {
      "text/plain": [
       "{'M', 'i', 'p', 's'}"
      ]
     },
     "execution_count": 222,
     "metadata": {},
     "output_type": "execute_result"
    }
   ],
   "source": [
    "string1 = ('Mississippi')\n",
    "set(string1)"
   ]
  },
  {
   "cell_type": "code",
   "execution_count": 223,
   "id": "72d968ce",
   "metadata": {},
   "outputs": [
    {
     "data": {
      "text/plain": [
       "{'M', 'i', 'p', 's'}"
      ]
     },
     "execution_count": 223,
     "metadata": {},
     "output_type": "execute_result"
    }
   ],
   "source": [
    "set('Mississippi')"
   ]
  },
  {
   "cell_type": "markdown",
   "id": "0b80c66b",
   "metadata": {},
   "source": [
    "***"
   ]
  },
  {
   "cell_type": "markdown",
   "id": "6ce47e5c",
   "metadata": {},
   "source": [
    "<font size = 30> Boolean <font>"
   ]
  },
  {
   "cell_type": "markdown",
   "id": "9b5d2f52",
   "metadata": {},
   "source": [
    "## <font color = 'red'> True or False<font>"
   ]
  },
  {
   "cell_type": "code",
   "execution_count": 227,
   "id": "2fd8d592",
   "metadata": {},
   "outputs": [
    {
     "name": "stdout",
     "output_type": "stream",
     "text": [
      "True\n",
      "<class 'bool'>\n"
     ]
    },
    {
     "data": {
      "text/plain": [
       "False"
      ]
     },
     "execution_count": 227,
     "metadata": {},
     "output_type": "execute_result"
    }
   ],
   "source": [
    "print(True)\n",
    "print(type(True))\n",
    "False"
   ]
  },
  {
   "cell_type": "code",
   "execution_count": 228,
   "id": "5663a532",
   "metadata": {},
   "outputs": [
    {
     "data": {
      "text/plain": [
       "bool"
      ]
     },
     "execution_count": 228,
     "metadata": {},
     "output_type": "execute_result"
    }
   ],
   "source": [
    "type(False)"
   ]
  },
  {
   "cell_type": "code",
   "execution_count": 229,
   "id": "91ee073a",
   "metadata": {},
   "outputs": [
    {
     "data": {
      "text/plain": [
       "False"
      ]
     },
     "execution_count": 229,
     "metadata": {},
     "output_type": "execute_result"
    }
   ],
   "source": [
    "1>2"
   ]
  },
  {
   "cell_type": "code",
   "execution_count": 230,
   "id": "6990ef2b",
   "metadata": {},
   "outputs": [
    {
     "data": {
      "text/plain": [
       "False"
      ]
     },
     "execution_count": 230,
     "metadata": {},
     "output_type": "execute_result"
    }
   ],
   "source": [
    "2==4"
   ]
  },
  {
   "cell_type": "code",
   "execution_count": 235,
   "id": "85ea45ab",
   "metadata": {},
   "outputs": [],
   "source": [
    "b = None ## Use None as a placeholder for future value assignment"
   ]
  },
  {
   "cell_type": "code",
   "execution_count": 232,
   "id": "3663c316",
   "metadata": {},
   "outputs": [],
   "source": [
    "b"
   ]
  },
  {
   "cell_type": "code",
   "execution_count": 234,
   "id": "2e2084c0",
   "metadata": {},
   "outputs": [
    {
     "ename": "NameError",
     "evalue": "name 'c' is not defined",
     "output_type": "error",
     "traceback": [
      "\u001b[0;31m---------------------------------------------------------------------------\u001b[0m",
      "\u001b[0;31mNameError\u001b[0m                                 Traceback (most recent call last)",
      "Input \u001b[0;32mIn [234]\u001b[0m, in \u001b[0;36m<cell line: 1>\u001b[0;34m()\u001b[0m\n\u001b[0;32m----> 1\u001b[0m \u001b[43mc\u001b[49m\n",
      "\u001b[0;31mNameError\u001b[0m: name 'c' is not defined"
     ]
    }
   ],
   "source": [
    "c"
   ]
  },
  {
   "cell_type": "code",
   "execution_count": null,
   "id": "85b7994b",
   "metadata": {},
   "outputs": [],
   "source": []
  }
 ],
 "metadata": {
  "kernelspec": {
   "display_name": "Python 3 (ipykernel)",
   "language": "python",
   "name": "python3"
  },
  "language_info": {
   "codemirror_mode": {
    "name": "ipython",
    "version": 3
   },
   "file_extension": ".py",
   "mimetype": "text/x-python",
   "name": "python",
   "nbconvert_exporter": "python",
   "pygments_lexer": "ipython3",
   "version": "3.9.12"
  }
 },
 "nbformat": 4,
 "nbformat_minor": 5
}
