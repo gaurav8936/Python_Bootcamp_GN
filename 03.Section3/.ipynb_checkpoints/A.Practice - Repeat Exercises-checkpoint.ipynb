{
 "cells": [
  {
   "cell_type": "markdown",
   "id": "5569d0ef",
   "metadata": {},
   "source": [
    "<font size = 20, color = 'teal'> Practice - Repeat Exercises <font>"
   ]
  },
  {
   "cell_type": "markdown",
   "id": "157b0b1b",
   "metadata": {},
   "source": [
    "# TYPES"
   ]
  },
  {
   "cell_type": "markdown",
   "id": "29bfc184",
   "metadata": {},
   "source": [
    "## NSLDTSB"
   ]
  },
  {
   "cell_type": "markdown",
   "id": "35bbba2a",
   "metadata": {},
   "source": [
    "Number"
   ]
  },
  {
   "cell_type": "markdown",
   "id": "41a53230",
   "metadata": {},
   "source": [
    "String"
   ]
  },
  {
   "cell_type": "markdown",
   "id": "02cce92a",
   "metadata": {},
   "source": [
    "List"
   ]
  },
  {
   "cell_type": "markdown",
   "id": "6347c7e0",
   "metadata": {},
   "source": [
    "Dictionary"
   ]
  },
  {
   "cell_type": "markdown",
   "id": "9e07bccb",
   "metadata": {},
   "source": [
    "Tuple"
   ]
  },
  {
   "cell_type": "markdown",
   "id": "81fcbac8",
   "metadata": {},
   "source": [
    "Set"
   ]
  },
  {
   "cell_type": "markdown",
   "id": "79886f23",
   "metadata": {},
   "source": [
    "Bolean"
   ]
  },
  {
   "cell_type": "markdown",
   "id": "4f246e47",
   "metadata": {},
   "source": [
    "<font size = 30> Numbers <font>"
   ]
  },
  {
   "cell_type": "code",
   "execution_count": 1,
   "id": "1b86d469",
   "metadata": {},
   "outputs": [
    {
     "data": {
      "text/plain": [
       "-1"
      ]
     },
     "execution_count": 1,
     "metadata": {},
     "output_type": "execute_result"
    }
   ],
   "source": [
    "1-2"
   ]
  },
  {
   "cell_type": "code",
   "execution_count": 2,
   "id": "72a58f3d",
   "metadata": {},
   "outputs": [
    {
     "data": {
      "text/plain": [
       "4"
      ]
     },
     "execution_count": 2,
     "metadata": {},
     "output_type": "execute_result"
    }
   ],
   "source": [
    "2*2"
   ]
  },
  {
   "cell_type": "code",
   "execution_count": 3,
   "id": "39906cf3",
   "metadata": {},
   "outputs": [
    {
     "data": {
      "text/plain": [
       "0.6666666666666666"
      ]
     },
     "execution_count": 3,
     "metadata": {},
     "output_type": "execute_result"
    }
   ],
   "source": [
    "2/3"
   ]
  },
  {
   "cell_type": "markdown",
   "id": "9757468e",
   "metadata": {},
   "source": [
    "### Mod Operater"
   ]
  },
  {
   "cell_type": "code",
   "execution_count": 5,
   "id": "62b1c653",
   "metadata": {},
   "outputs": [
    {
     "data": {
      "text/plain": [
       "1"
      ]
     },
     "execution_count": 5,
     "metadata": {},
     "output_type": "execute_result"
    }
   ],
   "source": [
    "7%3"
   ]
  },
  {
   "cell_type": "code",
   "execution_count": 6,
   "id": "aeb67aac",
   "metadata": {},
   "outputs": [
    {
     "data": {
      "text/plain": [
       "1"
      ]
     },
     "execution_count": 6,
     "metadata": {},
     "output_type": "execute_result"
    }
   ],
   "source": [
    "23 % 2"
   ]
  },
  {
   "cell_type": "markdown",
   "id": "41919865",
   "metadata": {},
   "source": [
    "### Order of Operations"
   ]
  },
  {
   "cell_type": "markdown",
   "id": "c8eaeaa3",
   "metadata": {},
   "source": [
    "#### PEMDAS -- Paranthesis, Exponent, Multiplication, Division, Addition, Subtraction"
   ]
  },
  {
   "cell_type": "code",
   "execution_count": 7,
   "id": "fe459017",
   "metadata": {},
   "outputs": [
    {
     "data": {
      "text/plain": [
       "31"
      ]
     },
     "execution_count": 7,
     "metadata": {},
     "output_type": "execute_result"
    }
   ],
   "source": [
    "2+10*3-1"
   ]
  },
  {
   "cell_type": "code",
   "execution_count": 9,
   "id": "f725c12b",
   "metadata": {},
   "outputs": [
    {
     "data": {
      "text/plain": [
       "185.625"
      ]
     },
     "execution_count": 9,
     "metadata": {},
     "output_type": "execute_result"
    }
   ],
   "source": [
    "(2+3/4)*45/2*3"
   ]
  },
  {
   "cell_type": "markdown",
   "id": "61718dbf",
   "metadata": {},
   "source": [
    "2.75 * (22.5*3) .... 67.5 * 2.75"
   ]
  },
  {
   "cell_type": "code",
   "execution_count": 10,
   "id": "6a02da95",
   "metadata": {},
   "outputs": [
    {
     "data": {
      "text/plain": [
       "185.625"
      ]
     },
     "execution_count": 10,
     "metadata": {},
     "output_type": "execute_result"
    }
   ],
   "source": [
    "67.5*2.75"
   ]
  },
  {
   "cell_type": "markdown",
   "id": "123e2a50",
   "metadata": {},
   "source": [
    "## Variable Assignments"
   ]
  },
  {
   "cell_type": "markdown",
   "id": "45be51eb",
   "metadata": {},
   "source": [
    "` Dynamic Typing -- means variables can be reassigned to different data types `"
   ]
  },
  {
   "cell_type": "code",
   "execution_count": 12,
   "id": "016bb76d",
   "metadata": {},
   "outputs": [],
   "source": [
    "my_dogs = 2"
   ]
  },
  {
   "cell_type": "code",
   "execution_count": 13,
   "id": "16c5ba50",
   "metadata": {},
   "outputs": [],
   "source": [
    "my_dogs = [\"Sammy\", \"Frankie\"]"
   ]
  },
  {
   "cell_type": "markdown",
   "id": "77d53ef4",
   "metadata": {},
   "source": [
    "` Something like this is not possible in say, C++ where variables need to be declared like int my_dog = 1 `"
   ]
  },
  {
   "cell_type": "code",
   "execution_count": 14,
   "id": "5d23c712",
   "metadata": {},
   "outputs": [],
   "source": [
    "a = 10"
   ]
  },
  {
   "cell_type": "code",
   "execution_count": 16,
   "id": "266e4293",
   "metadata": {},
   "outputs": [
    {
     "data": {
      "text/plain": [
       "10"
      ]
     },
     "execution_count": 16,
     "metadata": {},
     "output_type": "execute_result"
    }
   ],
   "source": [
    "a"
   ]
  },
  {
   "cell_type": "code",
   "execution_count": 21,
   "id": "a79e2d5e",
   "metadata": {},
   "outputs": [],
   "source": [
    "a = a + a"
   ]
  },
  {
   "cell_type": "code",
   "execution_count": 22,
   "id": "9e828902",
   "metadata": {},
   "outputs": [
    {
     "data": {
      "text/plain": [
       "80"
      ]
     },
     "execution_count": 22,
     "metadata": {},
     "output_type": "execute_result"
    }
   ],
   "source": [
    "a"
   ]
  },
  {
   "cell_type": "code",
   "execution_count": 23,
   "id": "6ba001d8",
   "metadata": {},
   "outputs": [
    {
     "data": {
      "text/plain": [
       "int"
      ]
     },
     "execution_count": 23,
     "metadata": {},
     "output_type": "execute_result"
    }
   ],
   "source": [
    "type(a)"
   ]
  },
  {
   "cell_type": "code",
   "execution_count": 24,
   "id": "d11b9f9c",
   "metadata": {},
   "outputs": [],
   "source": [
    "a = 0.1"
   ]
  },
  {
   "cell_type": "code",
   "execution_count": 25,
   "id": "40d41920",
   "metadata": {},
   "outputs": [
    {
     "data": {
      "text/plain": [
       "float"
      ]
     },
     "execution_count": 25,
     "metadata": {},
     "output_type": "execute_result"
    }
   ],
   "source": [
    "type(a)"
   ]
  },
  {
   "cell_type": "code",
   "execution_count": 26,
   "id": "16556492",
   "metadata": {},
   "outputs": [
    {
     "data": {
      "text/plain": [
       "0.1"
      ]
     },
     "execution_count": 26,
     "metadata": {},
     "output_type": "execute_result"
    }
   ],
   "source": [
    "a"
   ]
  },
  {
   "cell_type": "code",
   "execution_count": 3,
   "id": "600dffc0",
   "metadata": {},
   "outputs": [],
   "source": [
    "my_income = 100\n",
    "my_tax = .20\n",
    "my_total_tax = my_income * my_tax"
   ]
  },
  {
   "cell_type": "code",
   "execution_count": 4,
   "id": "7c5215fe",
   "metadata": {},
   "outputs": [
    {
     "data": {
      "text/plain": [
       "20.0"
      ]
     },
     "execution_count": 4,
     "metadata": {},
     "output_type": "execute_result"
    }
   ],
   "source": [
    "my_total_tax"
   ]
  },
  {
   "cell_type": "markdown",
   "id": "29a790ac",
   "metadata": {},
   "source": [
    "***"
   ]
  },
  {
   "cell_type": "markdown",
   "id": "e72fed45",
   "metadata": {},
   "source": [
    "<font size = 30> Strings <font>"
   ]
  },
  {
   "cell_type": "markdown",
   "id": "e61654f0",
   "metadata": {},
   "source": [
    "<font color = 'red'> Strings are ordered sequences <font>"
   ]
  },
  {
   "cell_type": "code",
   "execution_count": 5,
   "id": "e5aac13b",
   "metadata": {},
   "outputs": [],
   "source": [
    "a = 'Hello'"
   ]
  },
  {
   "cell_type": "code",
   "execution_count": 6,
   "id": "480ddee2",
   "metadata": {},
   "outputs": [
    {
     "data": {
      "text/plain": [
       "'e'"
      ]
     },
     "execution_count": 6,
     "metadata": {},
     "output_type": "execute_result"
    }
   ],
   "source": [
    "a[1]"
   ]
  },
  {
   "cell_type": "code",
   "execution_count": 7,
   "id": "25c97296",
   "metadata": {},
   "outputs": [
    {
     "data": {
      "text/plain": [
       "'o'"
      ]
     },
     "execution_count": 7,
     "metadata": {},
     "output_type": "execute_result"
    }
   ],
   "source": [
    "a[-1]"
   ]
  },
  {
   "cell_type": "code",
   "execution_count": 8,
   "id": "6342d6d4",
   "metadata": {},
   "outputs": [
    {
     "data": {
      "text/plain": [
       "'two'"
      ]
     },
     "execution_count": 8,
     "metadata": {},
     "output_type": "execute_result"
    }
   ],
   "source": [
    "\"one\"\n",
    "\"two\""
   ]
  },
  {
   "cell_type": "code",
   "execution_count": 9,
   "id": "633d3193",
   "metadata": {},
   "outputs": [
    {
     "name": "stdout",
     "output_type": "stream",
     "text": [
      "one\n",
      "two\n"
     ]
    }
   ],
   "source": [
    "print(\"one\")\n",
    "print(\"two\")"
   ]
  },
  {
   "cell_type": "code",
   "execution_count": 10,
   "id": "80ec19a8",
   "metadata": {},
   "outputs": [
    {
     "name": "stdout",
     "output_type": "stream",
     "text": [
      "hello \n",
      " world\n"
     ]
    }
   ],
   "source": [
    "print(\"hello \\n world\")"
   ]
  },
  {
   "cell_type": "code",
   "execution_count": 11,
   "id": "d74a057d",
   "metadata": {},
   "outputs": [
    {
     "data": {
      "text/plain": [
       "11"
      ]
     },
     "execution_count": 11,
     "metadata": {},
     "output_type": "execute_result"
    }
   ],
   "source": [
    "len(\"Hello World\")"
   ]
  },
  {
   "cell_type": "code",
   "execution_count": 12,
   "id": "d123921f",
   "metadata": {},
   "outputs": [],
   "source": [
    "mystring = \"My name is Anthony\""
   ]
  },
  {
   "cell_type": "code",
   "execution_count": 13,
   "id": "15edda67",
   "metadata": {},
   "outputs": [
    {
     "data": {
      "text/plain": [
       "18"
      ]
     },
     "execution_count": 13,
     "metadata": {},
     "output_type": "execute_result"
    }
   ],
   "source": [
    "len(mystring)"
   ]
  },
  {
   "cell_type": "code",
   "execution_count": 15,
   "id": "be50c2e1",
   "metadata": {},
   "outputs": [
    {
     "data": {
      "text/plain": [
       "'M'"
      ]
     },
     "execution_count": 15,
     "metadata": {},
     "output_type": "execute_result"
    }
   ],
   "source": [
    "mystring[0]"
   ]
  },
  {
   "cell_type": "code",
   "execution_count": 17,
   "id": "44f6268f",
   "metadata": {},
   "outputs": [
    {
     "data": {
      "text/plain": [
       "'A'"
      ]
     },
     "execution_count": 17,
     "metadata": {},
     "output_type": "execute_result"
    }
   ],
   "source": [
    "mystring[11]"
   ]
  },
  {
   "cell_type": "code",
   "execution_count": 18,
   "id": "9e30b6d0",
   "metadata": {},
   "outputs": [
    {
     "data": {
      "text/plain": [
       "' name is Anthony'"
      ]
     },
     "execution_count": 18,
     "metadata": {},
     "output_type": "execute_result"
    }
   ],
   "source": [
    "mystring[2:]"
   ]
  },
  {
   "cell_type": "code",
   "execution_count": 19,
   "id": "e7a06387",
   "metadata": {},
   "outputs": [
    {
     "data": {
      "text/plain": [
       "'name is Anthony'"
      ]
     },
     "execution_count": 19,
     "metadata": {},
     "output_type": "execute_result"
    }
   ],
   "source": [
    "mystring[3:]"
   ]
  },
  {
   "cell_type": "code",
   "execution_count": 20,
   "id": "3e56beff",
   "metadata": {},
   "outputs": [
    {
     "data": {
      "text/plain": [
       "'My '"
      ]
     },
     "execution_count": 20,
     "metadata": {},
     "output_type": "execute_result"
    }
   ],
   "source": [
    "mystring[:3]"
   ]
  },
  {
   "cell_type": "code",
   "execution_count": 21,
   "id": "d958e729",
   "metadata": {},
   "outputs": [
    {
     "data": {
      "text/plain": [
       "'My nam'"
      ]
     },
     "execution_count": 21,
     "metadata": {},
     "output_type": "execute_result"
    }
   ],
   "source": [
    "mystring[:6]"
   ]
  },
  {
   "cell_type": "code",
   "execution_count": 22,
   "id": "86472c2a",
   "metadata": {},
   "outputs": [
    {
     "data": {
      "text/plain": [
       "'nam'"
      ]
     },
     "execution_count": 22,
     "metadata": {},
     "output_type": "execute_result"
    }
   ],
   "source": [
    "mystring[3:6]"
   ]
  },
  {
   "cell_type": "markdown",
   "id": "a7d04709",
   "metadata": {},
   "source": [
    "<font color = 'red'> Step Size <font>"
   ]
  },
  {
   "cell_type": "code",
   "execution_count": 23,
   "id": "4a90139e",
   "metadata": {},
   "outputs": [
    {
     "data": {
      "text/plain": [
       "'My name is Anthony'"
      ]
     },
     "execution_count": 23,
     "metadata": {},
     "output_type": "execute_result"
    }
   ],
   "source": [
    "mystring[::1]"
   ]
  },
  {
   "cell_type": "code",
   "execution_count": 24,
   "id": "13db0ab5",
   "metadata": {},
   "outputs": [
    {
     "data": {
      "text/plain": [
       "'M aei nhn'"
      ]
     },
     "execution_count": 24,
     "metadata": {},
     "output_type": "execute_result"
    }
   ],
   "source": [
    "mystring[::2]"
   ]
  },
  {
   "cell_type": "code",
   "execution_count": 26,
   "id": "30b50fa2",
   "metadata": {},
   "outputs": [
    {
     "data": {
      "text/plain": [
       "'name is Anthon'"
      ]
     },
     "execution_count": 26,
     "metadata": {},
     "output_type": "execute_result"
    }
   ],
   "source": [
    "mystring[3:17:1]"
   ]
  },
  {
   "cell_type": "code",
   "execution_count": 27,
   "id": "5ed98d64",
   "metadata": {},
   "outputs": [
    {
     "data": {
      "text/plain": [
       "'nm sAto'"
      ]
     },
     "execution_count": 27,
     "metadata": {},
     "output_type": "execute_result"
    }
   ],
   "source": [
    "mystring[3:17:2]"
   ]
  },
  {
   "cell_type": "markdown",
   "id": "64bcf2ab",
   "metadata": {},
   "source": [
    "<font color = 'red'> Reversing a String <font>"
   ]
  },
  {
   "cell_type": "code",
   "execution_count": 28,
   "id": "330579de",
   "metadata": {},
   "outputs": [
    {
     "data": {
      "text/plain": [
       "'ynohtnA si eman yM'"
      ]
     },
     "execution_count": 28,
     "metadata": {},
     "output_type": "execute_result"
    }
   ],
   "source": [
    "mystring[::-1]"
   ]
  },
  {
   "cell_type": "markdown",
   "id": "b13ac673",
   "metadata": {},
   "source": [
    "## Print Formatting with Strings"
   ]
  },
  {
   "cell_type": "code",
   "execution_count": 30,
   "id": "19c26d45",
   "metadata": {},
   "outputs": [
    {
     "name": "stdout",
     "output_type": "stream",
     "text": [
      "Hello my name is Gaurav\n"
     ]
    }
   ],
   "source": [
    "myname = \"Gaurav\"\n",
    "print(\"Hello my name is \" + myname)"
   ]
  },
  {
   "cell_type": "code",
   "execution_count": 31,
   "id": "e359b4b2",
   "metadata": {},
   "outputs": [
    {
     "name": "stdout",
     "output_type": "stream",
     "text": [
      "This is a string  Inserted here\n"
     ]
    }
   ],
   "source": [
    "print('This is a string{}'.format(\"  Inserted here\"))"
   ]
  },
  {
   "cell_type": "code",
   "execution_count": 32,
   "id": "c1c3bf34",
   "metadata": {},
   "outputs": [
    {
     "name": "stdout",
     "output_type": "stream",
     "text": [
      "abcdefgh\n"
     ]
    }
   ],
   "source": [
    "print(\"abcd{}\".format(\"efgh\"))"
   ]
  },
  {
   "cell_type": "code",
   "execution_count": 33,
   "id": "105eccb2",
   "metadata": {},
   "outputs": [
    {
     "name": "stdout",
     "output_type": "stream",
     "text": [
      "How are you doing Ziba Joon\n"
     ]
    }
   ],
   "source": [
    "print('How are you doing{}'.format(\" Ziba Joon\"))"
   ]
  },
  {
   "cell_type": "code",
   "execution_count": 34,
   "id": "7fde6b79",
   "metadata": {},
   "outputs": [
    {
     "name": "stdout",
     "output_type": "stream",
     "text": [
      "this is such an amazing time\n"
     ]
    }
   ],
   "source": [
    "print('this is such{}{}{}'.format(' an', ' amazing', ' time'))"
   ]
  },
  {
   "cell_type": "code",
   "execution_count": 36,
   "id": "321ea8f4",
   "metadata": {},
   "outputs": [
    {
     "name": "stdout",
     "output_type": "stream",
     "text": [
      "I would like to take Ziba Joon to Ocean Beach for a swim\n"
     ]
    }
   ],
   "source": [
    "print('I would like to take {z} to {o} for a swim'.format(z = 'Ziba Joon', o = 'Ocean Beach'))"
   ]
  },
  {
   "cell_type": "code",
   "execution_count": 37,
   "id": "e2073e66",
   "metadata": {},
   "outputs": [
    {
     "name": "stdout",
     "output_type": "stream",
     "text": [
      "what is Ziba Joon doing here in Philadelphia in June\n"
     ]
    }
   ],
   "source": [
    "print('what is {p} doing here in {c} in {m}'.format(p = \"Ziba Joon\", c = \"Philadelphia\", m = \"June\"))"
   ]
  },
  {
   "cell_type": "markdown",
   "id": "991ee278",
   "metadata": {},
   "source": [
    "## Float Fomatting - value, width, precision"
   ]
  },
  {
   "cell_type": "code",
   "execution_count": 40,
   "id": "ec9124b1",
   "metadata": {},
   "outputs": [
    {
     "name": "stdout",
     "output_type": "stream",
     "text": [
      "The result was 14.285714285714286\n",
      "The result was 14.285714285714286\n"
     ]
    }
   ],
   "source": [
    "result = 100/7\n",
    "print(\"The result was {}\".format(result))\n",
    "print(\"The result was {r}\".format(r=result))"
   ]
  },
  {
   "cell_type": "markdown",
   "id": "dd08ab50",
   "metadata": {},
   "source": [
    "## Using F Strings for formatting"
   ]
  },
  {
   "cell_type": "code",
   "execution_count": 48,
   "id": "c33257fb",
   "metadata": {},
   "outputs": [
    {
     "name": "stdout",
     "output_type": "stream",
     "text": [
      "The result is 100.7\n",
      "The result is 100.7\n"
     ]
    }
   ],
   "source": [
    "result = 100.7\n",
    "print(\"The result is {r}\".format(r = result))\n",
    "print(f\"The result is {result}\")"
   ]
  },
  {
   "cell_type": "markdown",
   "id": "8911700e",
   "metadata": {},
   "source": [
    "***"
   ]
  },
  {
   "cell_type": "code",
   "execution_count": 55,
   "id": "425a5d3d",
   "metadata": {},
   "outputs": [
    {
     "name": "stdout",
     "output_type": "stream",
     "text": [
      "Sam is 10 years old\n",
      "Sam is 10 years old\n",
      "Sam is 10 years old\n"
     ]
    }
   ],
   "source": [
    "name = \"Sam\"\n",
    "age = 10\n",
    "print(\"{n} is {a} years old\".format(n = name, a = age))\n",
    "print(\"{} is {} years old\".format(name, age))\n",
    "print(f\"{name} is {age} years old\")"
   ]
  },
  {
   "cell_type": "markdown",
   "id": "659907c1",
   "metadata": {},
   "source": [
    "***"
   ]
  },
  {
   "cell_type": "code",
   "execution_count": null,
   "id": "a22b3930",
   "metadata": {},
   "outputs": [],
   "source": []
  }
 ],
 "metadata": {
  "kernelspec": {
   "display_name": "Python 3 (ipykernel)",
   "language": "python",
   "name": "python3"
  },
  "language_info": {
   "codemirror_mode": {
    "name": "ipython",
    "version": 3
   },
   "file_extension": ".py",
   "mimetype": "text/x-python",
   "name": "python",
   "nbconvert_exporter": "python",
   "pygments_lexer": "ipython3",
   "version": "3.9.12"
  }
 },
 "nbformat": 4,
 "nbformat_minor": 5
}
