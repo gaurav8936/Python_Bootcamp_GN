{
 "cells": [
  {
   "cell_type": "markdown",
   "id": "45619b7b",
   "metadata": {},
   "source": [
    "<font size = 20, color = 'teal'> Practice - Repeat Exercises <font>"
   ]
  },
  {
   "cell_type": "markdown",
   "id": "b5524781",
   "metadata": {},
   "source": [
    "# TYPES"
   ]
  },
  {
   "cell_type": "markdown",
   "id": "78894b55",
   "metadata": {},
   "source": [
    "## NSLDTSB"
   ]
  },
  {
   "cell_type": "markdown",
   "id": "e21961f8",
   "metadata": {},
   "source": [
    "**Number, String, List, Dictionary, Tuple, Set, Boolean**"
   ]
  },
  {
   "cell_type": "markdown",
   "id": "861eb31f",
   "metadata": {},
   "source": [
    "Number"
   ]
  },
  {
   "cell_type": "markdown",
   "id": "ed31590d",
   "metadata": {},
   "source": [
    "String"
   ]
  },
  {
   "cell_type": "markdown",
   "id": "1148ef7e",
   "metadata": {},
   "source": [
    "List"
   ]
  },
  {
   "cell_type": "markdown",
   "id": "5e41efe0",
   "metadata": {},
   "source": [
    "Dictionary"
   ]
  },
  {
   "cell_type": "markdown",
   "id": "ba6ee033",
   "metadata": {},
   "source": [
    "Tuple"
   ]
  },
  {
   "cell_type": "markdown",
   "id": "d73fe02e",
   "metadata": {},
   "source": [
    "Set"
   ]
  },
  {
   "cell_type": "markdown",
   "id": "ebb982e3",
   "metadata": {},
   "source": [
    "Bolean"
   ]
  },
  {
   "cell_type": "markdown",
   "id": "f5d8ad60",
   "metadata": {},
   "source": [
    "<font size = 30> Numbers <font>"
   ]
  },
  {
   "cell_type": "code",
   "execution_count": 1,
   "id": "bda2b3df",
   "metadata": {},
   "outputs": [
    {
     "data": {
      "text/plain": [
       "-1"
      ]
     },
     "execution_count": 1,
     "metadata": {},
     "output_type": "execute_result"
    }
   ],
   "source": [
    "1-2"
   ]
  },
  {
   "cell_type": "code",
   "execution_count": 2,
   "id": "5295b6df",
   "metadata": {},
   "outputs": [
    {
     "data": {
      "text/plain": [
       "4"
      ]
     },
     "execution_count": 2,
     "metadata": {},
     "output_type": "execute_result"
    }
   ],
   "source": [
    "2*2"
   ]
  },
  {
   "cell_type": "code",
   "execution_count": 3,
   "id": "9c8b6a2c",
   "metadata": {},
   "outputs": [
    {
     "data": {
      "text/plain": [
       "0.6666666666666666"
      ]
     },
     "execution_count": 3,
     "metadata": {},
     "output_type": "execute_result"
    }
   ],
   "source": [
    "2/3"
   ]
  },
  {
   "cell_type": "markdown",
   "id": "5651fe67",
   "metadata": {},
   "source": [
    "### Mod Operater"
   ]
  },
  {
   "cell_type": "code",
   "execution_count": 5,
   "id": "cab509cc",
   "metadata": {},
   "outputs": [
    {
     "data": {
      "text/plain": [
       "1"
      ]
     },
     "execution_count": 5,
     "metadata": {},
     "output_type": "execute_result"
    }
   ],
   "source": [
    "7%3"
   ]
  },
  {
   "cell_type": "code",
   "execution_count": 6,
   "id": "4f899576",
   "metadata": {},
   "outputs": [
    {
     "data": {
      "text/plain": [
       "1"
      ]
     },
     "execution_count": 6,
     "metadata": {},
     "output_type": "execute_result"
    }
   ],
   "source": [
    "23 % 2"
   ]
  },
  {
   "cell_type": "markdown",
   "id": "51a33454",
   "metadata": {},
   "source": [
    "### Order of Operations"
   ]
  },
  {
   "cell_type": "markdown",
   "id": "52c0a5e6",
   "metadata": {},
   "source": [
    "#### PEMDAS -- Paranthesis, Exponent, Multiplication, Division, Addition, Subtraction"
   ]
  },
  {
   "cell_type": "code",
   "execution_count": 7,
   "id": "ce3f49b4",
   "metadata": {},
   "outputs": [
    {
     "data": {
      "text/plain": [
       "31"
      ]
     },
     "execution_count": 7,
     "metadata": {},
     "output_type": "execute_result"
    }
   ],
   "source": [
    "2+10*3-1"
   ]
  },
  {
   "cell_type": "code",
   "execution_count": 9,
   "id": "2bda7a54",
   "metadata": {},
   "outputs": [
    {
     "data": {
      "text/plain": [
       "185.625"
      ]
     },
     "execution_count": 9,
     "metadata": {},
     "output_type": "execute_result"
    }
   ],
   "source": [
    "(2+3/4)*45/2*3"
   ]
  },
  {
   "cell_type": "markdown",
   "id": "3247a711",
   "metadata": {},
   "source": [
    "2.75 * (22.5*3) .... 67.5 * 2.75"
   ]
  },
  {
   "cell_type": "code",
   "execution_count": 10,
   "id": "e8d6e0a3",
   "metadata": {},
   "outputs": [
    {
     "data": {
      "text/plain": [
       "185.625"
      ]
     },
     "execution_count": 10,
     "metadata": {},
     "output_type": "execute_result"
    }
   ],
   "source": [
    "67.5*2.75"
   ]
  },
  {
   "cell_type": "markdown",
   "id": "e49da5b2",
   "metadata": {},
   "source": [
    "## Variable Assignments"
   ]
  },
  {
   "cell_type": "markdown",
   "id": "2b1993cb",
   "metadata": {},
   "source": [
    "` Dynamic Typing -- means variables can be reassigned to different data types `"
   ]
  },
  {
   "cell_type": "code",
   "execution_count": 12,
   "id": "f6eba913",
   "metadata": {},
   "outputs": [],
   "source": [
    "my_dogs = 2"
   ]
  },
  {
   "cell_type": "code",
   "execution_count": 13,
   "id": "db62f695",
   "metadata": {},
   "outputs": [],
   "source": [
    "my_dogs = [\"Sammy\", \"Frankie\"]"
   ]
  },
  {
   "cell_type": "markdown",
   "id": "2e8b36a4",
   "metadata": {},
   "source": [
    "` Something like this is not possible in say, C++ where variables need to be declared like int my_dog = 1 `"
   ]
  },
  {
   "cell_type": "code",
   "execution_count": 14,
   "id": "3fc31745",
   "metadata": {},
   "outputs": [],
   "source": [
    "a = 10"
   ]
  },
  {
   "cell_type": "code",
   "execution_count": 16,
   "id": "c64a62dd",
   "metadata": {},
   "outputs": [
    {
     "data": {
      "text/plain": [
       "10"
      ]
     },
     "execution_count": 16,
     "metadata": {},
     "output_type": "execute_result"
    }
   ],
   "source": [
    "a"
   ]
  },
  {
   "cell_type": "code",
   "execution_count": 21,
   "id": "79fa130a",
   "metadata": {},
   "outputs": [],
   "source": [
    "a = a + a"
   ]
  },
  {
   "cell_type": "code",
   "execution_count": 22,
   "id": "023bbca8",
   "metadata": {},
   "outputs": [
    {
     "data": {
      "text/plain": [
       "80"
      ]
     },
     "execution_count": 22,
     "metadata": {},
     "output_type": "execute_result"
    }
   ],
   "source": [
    "a"
   ]
  },
  {
   "cell_type": "code",
   "execution_count": 23,
   "id": "c12f4e3d",
   "metadata": {},
   "outputs": [
    {
     "data": {
      "text/plain": [
       "int"
      ]
     },
     "execution_count": 23,
     "metadata": {},
     "output_type": "execute_result"
    }
   ],
   "source": [
    "type(a)"
   ]
  },
  {
   "cell_type": "code",
   "execution_count": 24,
   "id": "aa97bd2f",
   "metadata": {},
   "outputs": [],
   "source": [
    "a = 0.1"
   ]
  },
  {
   "cell_type": "code",
   "execution_count": 25,
   "id": "1ec87e5d",
   "metadata": {},
   "outputs": [
    {
     "data": {
      "text/plain": [
       "float"
      ]
     },
     "execution_count": 25,
     "metadata": {},
     "output_type": "execute_result"
    }
   ],
   "source": [
    "type(a)"
   ]
  },
  {
   "cell_type": "code",
   "execution_count": 26,
   "id": "dec6cdf6",
   "metadata": {},
   "outputs": [
    {
     "data": {
      "text/plain": [
       "0.1"
      ]
     },
     "execution_count": 26,
     "metadata": {},
     "output_type": "execute_result"
    }
   ],
   "source": [
    "a"
   ]
  },
  {
   "cell_type": "code",
   "execution_count": 3,
   "id": "c36f70d4",
   "metadata": {},
   "outputs": [],
   "source": [
    "my_income = 100\n",
    "my_tax = .20\n",
    "my_total_tax = my_income * my_tax"
   ]
  },
  {
   "cell_type": "code",
   "execution_count": 4,
   "id": "a01d6e56",
   "metadata": {},
   "outputs": [
    {
     "data": {
      "text/plain": [
       "20.0"
      ]
     },
     "execution_count": 4,
     "metadata": {},
     "output_type": "execute_result"
    }
   ],
   "source": [
    "my_total_tax"
   ]
  },
  {
   "cell_type": "markdown",
   "id": "333f073b",
   "metadata": {},
   "source": [
    "***"
   ]
  },
  {
   "cell_type": "markdown",
   "id": "ee8cb8f1",
   "metadata": {},
   "source": [
    "<font size = 30> Strings <font>"
   ]
  },
  {
   "cell_type": "markdown",
   "id": "2aae3396",
   "metadata": {},
   "source": [
    "<font color = 'red'> Strings are ordered sequences <font>"
   ]
  },
  {
   "cell_type": "code",
   "execution_count": 5,
   "id": "3535b33d",
   "metadata": {},
   "outputs": [],
   "source": [
    "a = 'Hello'"
   ]
  },
  {
   "cell_type": "code",
   "execution_count": 6,
   "id": "5f190b8a",
   "metadata": {},
   "outputs": [
    {
     "data": {
      "text/plain": [
       "'e'"
      ]
     },
     "execution_count": 6,
     "metadata": {},
     "output_type": "execute_result"
    }
   ],
   "source": [
    "a[1]"
   ]
  },
  {
   "cell_type": "code",
   "execution_count": 7,
   "id": "60f32556",
   "metadata": {},
   "outputs": [
    {
     "data": {
      "text/plain": [
       "'o'"
      ]
     },
     "execution_count": 7,
     "metadata": {},
     "output_type": "execute_result"
    }
   ],
   "source": [
    "a[-1]"
   ]
  },
  {
   "cell_type": "code",
   "execution_count": 8,
   "id": "cd5e430d",
   "metadata": {},
   "outputs": [
    {
     "data": {
      "text/plain": [
       "'two'"
      ]
     },
     "execution_count": 8,
     "metadata": {},
     "output_type": "execute_result"
    }
   ],
   "source": [
    "\"one\"\n",
    "\"two\""
   ]
  },
  {
   "cell_type": "code",
   "execution_count": 9,
   "id": "ff183f1c",
   "metadata": {},
   "outputs": [
    {
     "name": "stdout",
     "output_type": "stream",
     "text": [
      "one\n",
      "two\n"
     ]
    }
   ],
   "source": [
    "print(\"one\")\n",
    "print(\"two\")"
   ]
  },
  {
   "cell_type": "code",
   "execution_count": 10,
   "id": "1f20fcd6",
   "metadata": {},
   "outputs": [
    {
     "name": "stdout",
     "output_type": "stream",
     "text": [
      "hello \n",
      " world\n"
     ]
    }
   ],
   "source": [
    "print(\"hello \\n world\")"
   ]
  },
  {
   "cell_type": "code",
   "execution_count": 11,
   "id": "3e5e3c55",
   "metadata": {},
   "outputs": [
    {
     "data": {
      "text/plain": [
       "11"
      ]
     },
     "execution_count": 11,
     "metadata": {},
     "output_type": "execute_result"
    }
   ],
   "source": [
    "len(\"Hello World\")"
   ]
  },
  {
   "cell_type": "code",
   "execution_count": 12,
   "id": "f4a74ff2",
   "metadata": {},
   "outputs": [],
   "source": [
    "mystring = \"My name is Anthony\""
   ]
  },
  {
   "cell_type": "code",
   "execution_count": 13,
   "id": "6f3af7ad",
   "metadata": {},
   "outputs": [
    {
     "data": {
      "text/plain": [
       "18"
      ]
     },
     "execution_count": 13,
     "metadata": {},
     "output_type": "execute_result"
    }
   ],
   "source": [
    "len(mystring)"
   ]
  },
  {
   "cell_type": "code",
   "execution_count": 15,
   "id": "2425386f",
   "metadata": {},
   "outputs": [
    {
     "data": {
      "text/plain": [
       "'M'"
      ]
     },
     "execution_count": 15,
     "metadata": {},
     "output_type": "execute_result"
    }
   ],
   "source": [
    "mystring[0]"
   ]
  },
  {
   "cell_type": "code",
   "execution_count": 17,
   "id": "be2e5dd3",
   "metadata": {},
   "outputs": [
    {
     "data": {
      "text/plain": [
       "'A'"
      ]
     },
     "execution_count": 17,
     "metadata": {},
     "output_type": "execute_result"
    }
   ],
   "source": [
    "mystring[11]"
   ]
  },
  {
   "cell_type": "code",
   "execution_count": 18,
   "id": "63fbf43d",
   "metadata": {},
   "outputs": [
    {
     "data": {
      "text/plain": [
       "' name is Anthony'"
      ]
     },
     "execution_count": 18,
     "metadata": {},
     "output_type": "execute_result"
    }
   ],
   "source": [
    "mystring[2:]"
   ]
  },
  {
   "cell_type": "code",
   "execution_count": 19,
   "id": "3df59bf7",
   "metadata": {},
   "outputs": [
    {
     "data": {
      "text/plain": [
       "'name is Anthony'"
      ]
     },
     "execution_count": 19,
     "metadata": {},
     "output_type": "execute_result"
    }
   ],
   "source": [
    "mystring[3:]"
   ]
  },
  {
   "cell_type": "code",
   "execution_count": 20,
   "id": "2f912b77",
   "metadata": {},
   "outputs": [
    {
     "data": {
      "text/plain": [
       "'My '"
      ]
     },
     "execution_count": 20,
     "metadata": {},
     "output_type": "execute_result"
    }
   ],
   "source": [
    "mystring[:3]"
   ]
  },
  {
   "cell_type": "code",
   "execution_count": 21,
   "id": "7aa7db0d",
   "metadata": {},
   "outputs": [
    {
     "data": {
      "text/plain": [
       "'My nam'"
      ]
     },
     "execution_count": 21,
     "metadata": {},
     "output_type": "execute_result"
    }
   ],
   "source": [
    "mystring[:6]"
   ]
  },
  {
   "cell_type": "code",
   "execution_count": 22,
   "id": "7c26ab38",
   "metadata": {},
   "outputs": [
    {
     "data": {
      "text/plain": [
       "'nam'"
      ]
     },
     "execution_count": 22,
     "metadata": {},
     "output_type": "execute_result"
    }
   ],
   "source": [
    "mystring[3:6]"
   ]
  },
  {
   "cell_type": "markdown",
   "id": "4cdafe23",
   "metadata": {},
   "source": [
    "<font color = 'red'> Step Size <font>"
   ]
  },
  {
   "cell_type": "code",
   "execution_count": 23,
   "id": "81e781bb",
   "metadata": {},
   "outputs": [
    {
     "data": {
      "text/plain": [
       "'My name is Anthony'"
      ]
     },
     "execution_count": 23,
     "metadata": {},
     "output_type": "execute_result"
    }
   ],
   "source": [
    "mystring[::1]"
   ]
  },
  {
   "cell_type": "code",
   "execution_count": 24,
   "id": "4d016d44",
   "metadata": {},
   "outputs": [
    {
     "data": {
      "text/plain": [
       "'M aei nhn'"
      ]
     },
     "execution_count": 24,
     "metadata": {},
     "output_type": "execute_result"
    }
   ],
   "source": [
    "mystring[::2]"
   ]
  },
  {
   "cell_type": "code",
   "execution_count": 26,
   "id": "d248640f",
   "metadata": {},
   "outputs": [
    {
     "data": {
      "text/plain": [
       "'name is Anthon'"
      ]
     },
     "execution_count": 26,
     "metadata": {},
     "output_type": "execute_result"
    }
   ],
   "source": [
    "mystring[3:17:1]"
   ]
  },
  {
   "cell_type": "code",
   "execution_count": 27,
   "id": "13a7b013",
   "metadata": {},
   "outputs": [
    {
     "data": {
      "text/plain": [
       "'nm sAto'"
      ]
     },
     "execution_count": 27,
     "metadata": {},
     "output_type": "execute_result"
    }
   ],
   "source": [
    "mystring[3:17:2]"
   ]
  },
  {
   "cell_type": "markdown",
   "id": "1ccd1122",
   "metadata": {},
   "source": [
    "<font color = 'red'> Reversing a String <font>"
   ]
  },
  {
   "cell_type": "code",
   "execution_count": 28,
   "id": "b0016ab3",
   "metadata": {},
   "outputs": [
    {
     "data": {
      "text/plain": [
       "'ynohtnA si eman yM'"
      ]
     },
     "execution_count": 28,
     "metadata": {},
     "output_type": "execute_result"
    }
   ],
   "source": [
    "mystring[::-1]"
   ]
  },
  {
   "cell_type": "markdown",
   "id": "ffc6ef14",
   "metadata": {},
   "source": [
    "## Print Formatting with Strings"
   ]
  },
  {
   "cell_type": "code",
   "execution_count": 30,
   "id": "f0439d59",
   "metadata": {},
   "outputs": [
    {
     "name": "stdout",
     "output_type": "stream",
     "text": [
      "Hello my name is Gaurav\n"
     ]
    }
   ],
   "source": [
    "myname = \"Gaurav\"\n",
    "print(\"Hello my name is \" + myname)"
   ]
  },
  {
   "cell_type": "code",
   "execution_count": 31,
   "id": "a1e48279",
   "metadata": {},
   "outputs": [
    {
     "name": "stdout",
     "output_type": "stream",
     "text": [
      "This is a string  Inserted here\n"
     ]
    }
   ],
   "source": [
    "print('This is a string{}'.format(\"  Inserted here\"))"
   ]
  },
  {
   "cell_type": "code",
   "execution_count": 32,
   "id": "1f2b1b06",
   "metadata": {},
   "outputs": [
    {
     "name": "stdout",
     "output_type": "stream",
     "text": [
      "abcdefgh\n"
     ]
    }
   ],
   "source": [
    "print(\"abcd{}\".format(\"efgh\"))"
   ]
  },
  {
   "cell_type": "code",
   "execution_count": 33,
   "id": "ca5592bc",
   "metadata": {},
   "outputs": [
    {
     "name": "stdout",
     "output_type": "stream",
     "text": [
      "How are you doing Ziba Joon\n"
     ]
    }
   ],
   "source": [
    "print('How are you doing{}'.format(\" Ziba Joon\"))"
   ]
  },
  {
   "cell_type": "code",
   "execution_count": 34,
   "id": "6feb1281",
   "metadata": {},
   "outputs": [
    {
     "name": "stdout",
     "output_type": "stream",
     "text": [
      "this is such an amazing time\n"
     ]
    }
   ],
   "source": [
    "print('this is such{}{}{}'.format(' an', ' amazing', ' time'))"
   ]
  },
  {
   "cell_type": "code",
   "execution_count": 36,
   "id": "23039126",
   "metadata": {},
   "outputs": [
    {
     "name": "stdout",
     "output_type": "stream",
     "text": [
      "I would like to take Ziba Joon to Ocean Beach for a swim\n"
     ]
    }
   ],
   "source": [
    "print('I would like to take {z} to {o} for a swim'.format(z = 'Ziba Joon', o = 'Ocean Beach'))"
   ]
  },
  {
   "cell_type": "code",
   "execution_count": 37,
   "id": "8c308fb2",
   "metadata": {},
   "outputs": [
    {
     "name": "stdout",
     "output_type": "stream",
     "text": [
      "what is Ziba Joon doing here in Philadelphia in June\n"
     ]
    }
   ],
   "source": [
    "print('what is {p} doing here in {c} in {m}'.format(p = \"Ziba Joon\", c = \"Philadelphia\", m = \"June\"))"
   ]
  },
  {
   "cell_type": "markdown",
   "id": "fec3cb98",
   "metadata": {},
   "source": [
    "## Float Fomatting - value, width, precision"
   ]
  },
  {
   "cell_type": "code",
   "execution_count": 40,
   "id": "36142eaf",
   "metadata": {},
   "outputs": [
    {
     "name": "stdout",
     "output_type": "stream",
     "text": [
      "The result was 14.285714285714286\n",
      "The result was 14.285714285714286\n"
     ]
    }
   ],
   "source": [
    "result = 100/7\n",
    "print(\"The result was {}\".format(result))\n",
    "print(\"The result was {r}\".format(r=result))"
   ]
  },
  {
   "cell_type": "markdown",
   "id": "9abe23d9",
   "metadata": {},
   "source": [
    "## Using F Strings for formatting"
   ]
  },
  {
   "cell_type": "code",
   "execution_count": 48,
   "id": "15fd6409",
   "metadata": {},
   "outputs": [
    {
     "name": "stdout",
     "output_type": "stream",
     "text": [
      "The result is 100.7\n",
      "The result is 100.7\n"
     ]
    }
   ],
   "source": [
    "result = 100.7\n",
    "print(\"The result is {r}\".format(r = result))\n",
    "print(f\"The result is {result}\")"
   ]
  },
  {
   "cell_type": "markdown",
   "id": "b4c5451e",
   "metadata": {},
   "source": [
    "***"
   ]
  },
  {
   "cell_type": "code",
   "execution_count": 55,
   "id": "26114485",
   "metadata": {},
   "outputs": [
    {
     "name": "stdout",
     "output_type": "stream",
     "text": [
      "Sam is 10 years old\n",
      "Sam is 10 years old\n",
      "Sam is 10 years old\n"
     ]
    }
   ],
   "source": [
    "name = \"Sam\"\n",
    "age = 10\n",
    "print(\"{n} is {a} years old\".format(n = name, a = age))\n",
    "print(\"{} is {} years old\".format(name, age))\n",
    "print(f\"{name} is {age} years old\")"
   ]
  },
  {
   "cell_type": "markdown",
   "id": "848ee81e",
   "metadata": {},
   "source": [
    "***"
   ]
  },
  {
   "cell_type": "markdown",
   "id": "346811a3",
   "metadata": {},
   "source": [
    "<font size = 30> Lists <font>"
   ]
  },
  {
   "cell_type": "markdown",
   "id": "f2d20445",
   "metadata": {},
   "source": [
    "### While String is a data type, Lists are similar in that it is (1) Ordered and (2) Supports Indexing & Slicing -- However, the list is a collection of different types, including strings"
   ]
  },
  {
   "cell_type": "markdown",
   "id": "cbe09a9e",
   "metadata": {},
   "source": [
    "## Lists can mutate"
   ]
  },
  {
   "cell_type": "code",
   "execution_count": 62,
   "id": "60cab12c",
   "metadata": {},
   "outputs": [
    {
     "name": "stdout",
     "output_type": "stream",
     "text": [
      "['My name is Ziba', 1, 0.07142857142857142]\n",
      "[23.1, 0.16666666666666666, 'Cats']\n"
     ]
    }
   ],
   "source": [
    "my_list1 = [\"My name is Ziba\", 1, 4/56]\n",
    "my_list2 = [23.1, 1/6, \"Cats\"]\n",
    "print(my_list1)\n",
    "print(my_list2)"
   ]
  },
  {
   "cell_type": "markdown",
   "id": "638f01ae",
   "metadata": {},
   "source": [
    "### Indexing"
   ]
  },
  {
   "cell_type": "code",
   "execution_count": 65,
   "id": "0ba4c0e8",
   "metadata": {},
   "outputs": [
    {
     "data": {
      "text/plain": [
       "'Cats'"
      ]
     },
     "execution_count": 65,
     "metadata": {},
     "output_type": "execute_result"
    }
   ],
   "source": [
    "my_list1[0]\n",
    "my_list2[2]"
   ]
  },
  {
   "cell_type": "code",
   "execution_count": 69,
   "id": "83eca308",
   "metadata": {},
   "outputs": [
    {
     "name": "stdout",
     "output_type": "stream",
     "text": [
      "My name is Ziba\n",
      "Cats\n"
     ]
    }
   ],
   "source": [
    "print(my_list1[0])\n",
    "print(my_list2[2])"
   ]
  },
  {
   "cell_type": "markdown",
   "id": "dc622d3e",
   "metadata": {},
   "source": [
    "### Slicing"
   ]
  },
  {
   "cell_type": "code",
   "execution_count": 72,
   "id": "744fb9d1",
   "metadata": {},
   "outputs": [
    {
     "data": {
      "text/plain": [
       "[0.16666666666666666, 'Cats']"
      ]
     },
     "execution_count": 72,
     "metadata": {},
     "output_type": "execute_result"
    }
   ],
   "source": [
    "my_list2[1:]"
   ]
  },
  {
   "cell_type": "code",
   "execution_count": 73,
   "id": "1b69a7f9",
   "metadata": {},
   "outputs": [
    {
     "data": {
      "text/plain": [
       "['My name is Ziba', 1]"
      ]
     },
     "execution_count": 73,
     "metadata": {},
     "output_type": "execute_result"
    }
   ],
   "source": [
    "my_list[:2]"
   ]
  },
  {
   "cell_type": "code",
   "execution_count": 74,
   "id": "db4ef510",
   "metadata": {},
   "outputs": [
    {
     "data": {
      "text/plain": [
       "['My name is Ziba']"
      ]
     },
     "execution_count": 74,
     "metadata": {},
     "output_type": "execute_result"
    }
   ],
   "source": [
    "my_list[:1]"
   ]
  },
  {
   "cell_type": "code",
   "execution_count": 75,
   "id": "a722d352",
   "metadata": {},
   "outputs": [
    {
     "data": {
      "text/plain": [
       "[1]"
      ]
     },
     "execution_count": 75,
     "metadata": {},
     "output_type": "execute_result"
    }
   ],
   "source": [
    "my_list[1:2]"
   ]
  },
  {
   "cell_type": "code",
   "execution_count": 78,
   "id": "0eea76ea",
   "metadata": {},
   "outputs": [],
   "source": [
    "my_list3 = ['a','b','c','d','e','f','g','h','i','j','k','l','m','n']"
   ]
  },
  {
   "cell_type": "code",
   "execution_count": 79,
   "id": "c86c0fba",
   "metadata": {},
   "outputs": [
    {
     "data": {
      "text/plain": [
       "['b', 'c', 'd', 'e', 'f', 'g', 'h', 'i', 'j', 'k', 'l', 'm', 'n']"
      ]
     },
     "execution_count": 79,
     "metadata": {},
     "output_type": "execute_result"
    }
   ],
   "source": [
    "my_list3[1:]"
   ]
  },
  {
   "cell_type": "code",
   "execution_count": 81,
   "id": "0894a5f5",
   "metadata": {},
   "outputs": [
    {
     "data": {
      "text/plain": [
       "['a', 'b', 'c', 'd', 'e', 'f']"
      ]
     },
     "execution_count": 81,
     "metadata": {},
     "output_type": "execute_result"
    }
   ],
   "source": [
    "my_list3[:6]"
   ]
  },
  {
   "cell_type": "code",
   "execution_count": 83,
   "id": "7ba2f8d5",
   "metadata": {},
   "outputs": [
    {
     "data": {
      "text/plain": [
       "['d', 'e', 'f', 'g']"
      ]
     },
     "execution_count": 83,
     "metadata": {},
     "output_type": "execute_result"
    }
   ],
   "source": [
    "my_list3[3:7]"
   ]
  },
  {
   "cell_type": "markdown",
   "id": "f52aaf02",
   "metadata": {},
   "source": [
    "### Concatanation"
   ]
  },
  {
   "cell_type": "code",
   "execution_count": 84,
   "id": "39ba2752",
   "metadata": {},
   "outputs": [
    {
     "data": {
      "text/plain": [
       "['My name is Ziba', 1, 0.07142857142857142, 23.1, 0.16666666666666666, 'Cats']"
      ]
     },
     "execution_count": 84,
     "metadata": {},
     "output_type": "execute_result"
    }
   ],
   "source": [
    "my_list1 + my_list2"
   ]
  },
  {
   "cell_type": "code",
   "execution_count": 85,
   "id": "c93ce301",
   "metadata": {},
   "outputs": [],
   "source": [
    "my_list4 = my_list1 + my_list2"
   ]
  },
  {
   "cell_type": "code",
   "execution_count": 87,
   "id": "332e434a",
   "metadata": {},
   "outputs": [
    {
     "name": "stdout",
     "output_type": "stream",
     "text": [
      "['My name is Ziba', 1, 0.07142857142857142, 23.1, 0.16666666666666666, 'Cats']\n"
     ]
    }
   ],
   "source": [
    "print(my_list4)"
   ]
  },
  {
   "cell_type": "markdown",
   "id": "2fcf8fcb",
   "metadata": {},
   "source": [
    "### Mutation"
   ]
  },
  {
   "cell_type": "code",
   "execution_count": 89,
   "id": "6c32223a",
   "metadata": {},
   "outputs": [
    {
     "data": {
      "text/plain": [
       "[5, 2, 3, 4]"
      ]
     },
     "execution_count": 89,
     "metadata": {},
     "output_type": "execute_result"
    }
   ],
   "source": [
    "my_list5 = [1,2,3,4]\n",
    "my_list5[0] = 5\n",
    "my_list5"
   ]
  },
  {
   "cell_type": "markdown",
   "id": "f5fa6d69",
   "metadata": {},
   "source": [
    "### Adding"
   ]
  },
  {
   "cell_type": "code",
   "execution_count": 91,
   "id": "ce22c990",
   "metadata": {},
   "outputs": [
    {
     "data": {
      "text/plain": [
       "[1, 2, 3, 4, 5, 6, 7]"
      ]
     },
     "execution_count": 91,
     "metadata": {},
     "output_type": "execute_result"
    }
   ],
   "source": [
    "my_list6 = [1,2,3,4,5,6]\n",
    "my_list6.append(7)\n",
    "my_list6"
   ]
  },
  {
   "cell_type": "markdown",
   "id": "39bb05dd",
   "metadata": {},
   "source": [
    "### Removing"
   ]
  },
  {
   "cell_type": "code",
   "execution_count": 93,
   "id": "f9037fbf",
   "metadata": {},
   "outputs": [
    {
     "data": {
      "text/plain": [
       "6"
      ]
     },
     "execution_count": 93,
     "metadata": {},
     "output_type": "execute_result"
    }
   ],
   "source": [
    "my_list7 = [1,2,3,4,5,6]\n",
    "my_list7.pop()"
   ]
  },
  {
   "cell_type": "code",
   "execution_count": 94,
   "id": "14a53b68",
   "metadata": {},
   "outputs": [
    {
     "data": {
      "text/plain": [
       "[1, 2, 3, 4, 5]"
      ]
     },
     "execution_count": 94,
     "metadata": {},
     "output_type": "execute_result"
    }
   ],
   "source": [
    "my_list7"
   ]
  },
  {
   "cell_type": "code",
   "execution_count": 95,
   "id": "af5ab555",
   "metadata": {},
   "outputs": [
    {
     "data": {
      "text/plain": [
       "[1, 2, 4, 5]"
      ]
     },
     "execution_count": 95,
     "metadata": {},
     "output_type": "execute_result"
    }
   ],
   "source": [
    "my_list7.pop(2)\n",
    "my_list7"
   ]
  },
  {
   "cell_type": "markdown",
   "id": "f7123094",
   "metadata": {},
   "source": [
    "### Sort"
   ]
  },
  {
   "cell_type": "markdown",
   "id": "7095cee3",
   "metadata": {},
   "source": [
    "<font color = 'red'> Notice the in place behavior of sort -- and why reassignment (my_list81, my_list91) is needed <font>"
   ]
  },
  {
   "cell_type": "code",
   "execution_count": 105,
   "id": "26094d1d",
   "metadata": {},
   "outputs": [
    {
     "name": "stdout",
     "output_type": "stream",
     "text": [
      "None\n",
      "None\n"
     ]
    }
   ],
   "source": [
    "my_list8 = ['b','g','t','y','r','e','d','c','s','a','r']\n",
    "my_list9 = [5,4,7,8,9,1,2,4,0]\n",
    "my_list8.sort()\n",
    "my_list81 = my_list8.sort()\n",
    "print(my_list81)\n",
    "my_list9.sort()\n",
    "my_list91 = my_list9.sort()\n",
    "print(my_list91)"
   ]
  },
  {
   "cell_type": "code",
   "execution_count": 102,
   "id": "217541ce",
   "metadata": {},
   "outputs": [
    {
     "data": {
      "text/plain": [
       "NoneType"
      ]
     },
     "execution_count": 102,
     "metadata": {},
     "output_type": "execute_result"
    }
   ],
   "source": [
    "type(my_list81)\n",
    "type(my_list91)"
   ]
  },
  {
   "cell_type": "code",
   "execution_count": 107,
   "id": "7082d675",
   "metadata": {},
   "outputs": [
    {
     "name": "stdout",
     "output_type": "stream",
     "text": [
      "['a', 'b', 'c', 'd', 'e', 'g', 'r', 'r', 's', 't', 'y']\n",
      "[0, 1, 2, 4, 4, 5, 7, 8, 9]\n"
     ]
    }
   ],
   "source": [
    "my_list10 = ['b','g','t','y','r','e','d','c','s','a','r']\n",
    "my_list10.sort()\n",
    "my_list101 = my_list10\n",
    "print(my_list101)\n",
    "my_list11 = [5,4,7,8,9,1,2,4,0]\n",
    "my_list11.sort()\n",
    "my_list111 = my_list11\n",
    "print(my_list111)"
   ]
  },
  {
   "cell_type": "markdown",
   "id": "9d506ebc",
   "metadata": {},
   "source": [
    "### Reverse"
   ]
  },
  {
   "cell_type": "markdown",
   "id": "51f92392",
   "metadata": {},
   "source": [
    "<font color = 'red'> Notice how calling my_list111 in the same cell does not work <font>"
   ]
  },
  {
   "cell_type": "code",
   "execution_count": 112,
   "id": "ca799489",
   "metadata": {},
   "outputs": [
    {
     "data": {
      "text/plain": [
       "[0, 1, 2, 4, 4, 5, 7, 8, 9]"
      ]
     },
     "execution_count": 112,
     "metadata": {},
     "output_type": "execute_result"
    }
   ],
   "source": [
    "my_list111.reverse()\n",
    "my_list111"
   ]
  },
  {
   "cell_type": "code",
   "execution_count": 111,
   "id": "d72afe77",
   "metadata": {},
   "outputs": [
    {
     "data": {
      "text/plain": [
       "[9, 8, 7, 5, 4, 4, 2, 1, 0]"
      ]
     },
     "execution_count": 111,
     "metadata": {},
     "output_type": "execute_result"
    }
   ],
   "source": [
    "my_list111"
   ]
  },
  {
   "cell_type": "code",
   "execution_count": null,
   "id": "250dcc31",
   "metadata": {},
   "outputs": [],
   "source": []
  }
 ],
 "metadata": {
  "kernelspec": {
   "display_name": "Python 3 (ipykernel)",
   "language": "python",
   "name": "python3"
  },
  "language_info": {
   "codemirror_mode": {
    "name": "ipython",
    "version": 3
   },
   "file_extension": ".py",
   "mimetype": "text/x-python",
   "name": "python",
   "nbconvert_exporter": "python",
   "pygments_lexer": "ipython3",
   "version": "3.9.12"
  }
 },
 "nbformat": 4,
 "nbformat_minor": 5
}
