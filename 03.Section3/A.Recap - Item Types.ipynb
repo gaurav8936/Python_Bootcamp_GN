{
 "cells": [
  {
   "cell_type": "markdown",
   "id": "a17b91e8",
   "metadata": {},
   "source": [
    "<font size = 20, color = 'teal'> Recap - Item Types <font>"
   ]
  },
  {
   "cell_type": "markdown",
   "id": "c87e124f",
   "metadata": {},
   "source": [
    "# TYPES"
   ]
  },
  {
   "cell_type": "markdown",
   "id": "1f2d1e04",
   "metadata": {},
   "source": [
    "## NSLDTSB"
   ]
  },
  {
   "cell_type": "markdown",
   "id": "ccf92fce",
   "metadata": {},
   "source": [
    "**Number, String, List, Dictionary, Tuple, Set, Boolean**"
   ]
  },
  {
   "cell_type": "markdown",
   "id": "6aa5432d",
   "metadata": {},
   "source": [
    "NSLDTSB (Number, String, List, Dictionary, Tuples, Set, Boolean)"
   ]
  },
  {
   "cell_type": "markdown",
   "id": "c1f9576b",
   "metadata": {},
   "source": [
    "NSLDTSB: Number, String, List, Dictionary, Tuple, Set, Boolean"
   ]
  },
  {
   "cell_type": "markdown",
   "id": "b3a6df1e",
   "metadata": {},
   "source": [
    "| # | Number | String | List | Dictionary | Tuple | Set | Boolean |\n",
    "| --- | --- | --- | --- | --- | --- | --- | --- |\n",
    "| Example | 1 or 2.1 | 'Gaussian' | [1,2,3] |{'k1' = 123} | (1,2,3) | set(string or number) | 0 or 1 |"
   ]
  },
  {
   "cell_type": "markdown",
   "id": "892429e8",
   "metadata": {},
   "source": [
    "Number"
   ]
  },
  {
   "cell_type": "markdown",
   "id": "b1658cc1",
   "metadata": {},
   "source": [
    "String"
   ]
  },
  {
   "cell_type": "markdown",
   "id": "7986fe79",
   "metadata": {},
   "source": [
    "List"
   ]
  },
  {
   "cell_type": "markdown",
   "id": "ba7626fd",
   "metadata": {},
   "source": [
    "Dictionary"
   ]
  },
  {
   "cell_type": "markdown",
   "id": "eaebb9a1",
   "metadata": {},
   "source": [
    "Tuple"
   ]
  },
  {
   "cell_type": "markdown",
   "id": "db859bf7",
   "metadata": {},
   "source": [
    "Set"
   ]
  },
  {
   "cell_type": "markdown",
   "id": "5d2436d7",
   "metadata": {},
   "source": [
    "Bolean"
   ]
  },
  {
   "cell_type": "markdown",
   "id": "3643e3c3",
   "metadata": {},
   "source": [
    "<font size = 30> Numbers <font>"
   ]
  },
  {
   "cell_type": "code",
   "execution_count": 1,
   "id": "e2c91bdf",
   "metadata": {},
   "outputs": [
    {
     "data": {
      "text/plain": [
       "-1"
      ]
     },
     "execution_count": 1,
     "metadata": {},
     "output_type": "execute_result"
    }
   ],
   "source": [
    "1-2"
   ]
  },
  {
   "cell_type": "code",
   "execution_count": 2,
   "id": "4b25bc85",
   "metadata": {},
   "outputs": [
    {
     "data": {
      "text/plain": [
       "4"
      ]
     },
     "execution_count": 2,
     "metadata": {},
     "output_type": "execute_result"
    }
   ],
   "source": [
    "2*2"
   ]
  },
  {
   "cell_type": "code",
   "execution_count": 3,
   "id": "364298b8",
   "metadata": {},
   "outputs": [
    {
     "data": {
      "text/plain": [
       "0.6666666666666666"
      ]
     },
     "execution_count": 3,
     "metadata": {},
     "output_type": "execute_result"
    }
   ],
   "source": [
    "2/3"
   ]
  },
  {
   "cell_type": "markdown",
   "id": "12afa7ad",
   "metadata": {},
   "source": [
    "### Mod Operater"
   ]
  },
  {
   "cell_type": "code",
   "execution_count": 5,
   "id": "437b747c",
   "metadata": {},
   "outputs": [
    {
     "data": {
      "text/plain": [
       "1"
      ]
     },
     "execution_count": 5,
     "metadata": {},
     "output_type": "execute_result"
    }
   ],
   "source": [
    "7%3"
   ]
  },
  {
   "cell_type": "code",
   "execution_count": 6,
   "id": "dfd5304b",
   "metadata": {},
   "outputs": [
    {
     "data": {
      "text/plain": [
       "1"
      ]
     },
     "execution_count": 6,
     "metadata": {},
     "output_type": "execute_result"
    }
   ],
   "source": [
    "23 % 2"
   ]
  },
  {
   "cell_type": "markdown",
   "id": "6c0d3681",
   "metadata": {},
   "source": [
    "### Order of Operations"
   ]
  },
  {
   "cell_type": "markdown",
   "id": "866673ef",
   "metadata": {},
   "source": [
    "#### PEMDAS -- Paranthesis, Exponent, Multiplication, Division, Addition, Subtraction"
   ]
  },
  {
   "cell_type": "code",
   "execution_count": 7,
   "id": "7a508985",
   "metadata": {},
   "outputs": [
    {
     "data": {
      "text/plain": [
       "31"
      ]
     },
     "execution_count": 7,
     "metadata": {},
     "output_type": "execute_result"
    }
   ],
   "source": [
    "2+10*3-1"
   ]
  },
  {
   "cell_type": "code",
   "execution_count": 9,
   "id": "c9b5b7dc",
   "metadata": {},
   "outputs": [
    {
     "data": {
      "text/plain": [
       "185.625"
      ]
     },
     "execution_count": 9,
     "metadata": {},
     "output_type": "execute_result"
    }
   ],
   "source": [
    "(2+3/4)*45/2*3"
   ]
  },
  {
   "cell_type": "markdown",
   "id": "ff073042",
   "metadata": {},
   "source": [
    "2.75 * (22.5*3) .... 67.5 * 2.75"
   ]
  },
  {
   "cell_type": "code",
   "execution_count": 10,
   "id": "ab8ec4fa",
   "metadata": {},
   "outputs": [
    {
     "data": {
      "text/plain": [
       "185.625"
      ]
     },
     "execution_count": 10,
     "metadata": {},
     "output_type": "execute_result"
    }
   ],
   "source": [
    "67.5*2.75"
   ]
  },
  {
   "cell_type": "markdown",
   "id": "afa53f25",
   "metadata": {},
   "source": [
    "## Variable Assignments"
   ]
  },
  {
   "cell_type": "markdown",
   "id": "331b3ab2",
   "metadata": {},
   "source": [
    "` Dynamic Typing -- means variables can be reassigned to different data types `"
   ]
  },
  {
   "cell_type": "code",
   "execution_count": 12,
   "id": "78a2c3d9",
   "metadata": {},
   "outputs": [],
   "source": [
    "my_dogs = 2"
   ]
  },
  {
   "cell_type": "code",
   "execution_count": 13,
   "id": "cfa86db2",
   "metadata": {},
   "outputs": [],
   "source": [
    "my_dogs = [\"Sammy\", \"Frankie\"]"
   ]
  },
  {
   "cell_type": "markdown",
   "id": "823e67fc",
   "metadata": {},
   "source": [
    "` Something like this is not possible in say, C++ where variables need to be declared like int my_dog = 1 `"
   ]
  },
  {
   "cell_type": "code",
   "execution_count": 14,
   "id": "0534219f",
   "metadata": {},
   "outputs": [],
   "source": [
    "a = 10"
   ]
  },
  {
   "cell_type": "code",
   "execution_count": 16,
   "id": "3e0fa798",
   "metadata": {},
   "outputs": [
    {
     "data": {
      "text/plain": [
       "10"
      ]
     },
     "execution_count": 16,
     "metadata": {},
     "output_type": "execute_result"
    }
   ],
   "source": [
    "a"
   ]
  },
  {
   "cell_type": "code",
   "execution_count": 21,
   "id": "3217e2f1",
   "metadata": {},
   "outputs": [],
   "source": [
    "a = a + a"
   ]
  },
  {
   "cell_type": "code",
   "execution_count": 22,
   "id": "b9eca4dc",
   "metadata": {},
   "outputs": [
    {
     "data": {
      "text/plain": [
       "80"
      ]
     },
     "execution_count": 22,
     "metadata": {},
     "output_type": "execute_result"
    }
   ],
   "source": [
    "a"
   ]
  },
  {
   "cell_type": "code",
   "execution_count": 23,
   "id": "33a76dff",
   "metadata": {},
   "outputs": [
    {
     "data": {
      "text/plain": [
       "int"
      ]
     },
     "execution_count": 23,
     "metadata": {},
     "output_type": "execute_result"
    }
   ],
   "source": [
    "type(a)"
   ]
  },
  {
   "cell_type": "code",
   "execution_count": 24,
   "id": "2eb0b14d",
   "metadata": {},
   "outputs": [],
   "source": [
    "a = 0.1"
   ]
  },
  {
   "cell_type": "code",
   "execution_count": 25,
   "id": "c94ce746",
   "metadata": {},
   "outputs": [
    {
     "data": {
      "text/plain": [
       "float"
      ]
     },
     "execution_count": 25,
     "metadata": {},
     "output_type": "execute_result"
    }
   ],
   "source": [
    "type(a)"
   ]
  },
  {
   "cell_type": "code",
   "execution_count": 26,
   "id": "0fbb313c",
   "metadata": {},
   "outputs": [
    {
     "data": {
      "text/plain": [
       "0.1"
      ]
     },
     "execution_count": 26,
     "metadata": {},
     "output_type": "execute_result"
    }
   ],
   "source": [
    "a"
   ]
  },
  {
   "cell_type": "code",
   "execution_count": 3,
   "id": "fef1f979",
   "metadata": {},
   "outputs": [],
   "source": [
    "my_income = 100\n",
    "my_tax = .20\n",
    "my_total_tax = my_income * my_tax"
   ]
  },
  {
   "cell_type": "code",
   "execution_count": 4,
   "id": "c3946e5b",
   "metadata": {},
   "outputs": [
    {
     "data": {
      "text/plain": [
       "20.0"
      ]
     },
     "execution_count": 4,
     "metadata": {},
     "output_type": "execute_result"
    }
   ],
   "source": [
    "my_total_tax"
   ]
  },
  {
   "cell_type": "markdown",
   "id": "5aa10fc3",
   "metadata": {},
   "source": [
    "***"
   ]
  },
  {
   "cell_type": "markdown",
   "id": "0c336409",
   "metadata": {},
   "source": [
    "<font size = 30> Strings <font>"
   ]
  },
  {
   "cell_type": "markdown",
   "id": "e6fa5309",
   "metadata": {},
   "source": [
    "## <font color = 'red'> Ordered, Immutable, Index, Slice <font>"
   ]
  },
  {
   "cell_type": "markdown",
   "id": "b9c5f184",
   "metadata": {},
   "source": [
    "<font color = 'red'> Strings are ordered sequences <font>"
   ]
  },
  {
   "cell_type": "code",
   "execution_count": 5,
   "id": "57907b3c",
   "metadata": {},
   "outputs": [],
   "source": [
    "a = 'Hello'"
   ]
  },
  {
   "cell_type": "code",
   "execution_count": 6,
   "id": "6a5990ee",
   "metadata": {},
   "outputs": [
    {
     "data": {
      "text/plain": [
       "'e'"
      ]
     },
     "execution_count": 6,
     "metadata": {},
     "output_type": "execute_result"
    }
   ],
   "source": [
    "a[1]"
   ]
  },
  {
   "cell_type": "code",
   "execution_count": 7,
   "id": "bfb8ef0a",
   "metadata": {},
   "outputs": [
    {
     "data": {
      "text/plain": [
       "'o'"
      ]
     },
     "execution_count": 7,
     "metadata": {},
     "output_type": "execute_result"
    }
   ],
   "source": [
    "a[-1]"
   ]
  },
  {
   "cell_type": "code",
   "execution_count": 8,
   "id": "0d5f5e82",
   "metadata": {},
   "outputs": [
    {
     "data": {
      "text/plain": [
       "'two'"
      ]
     },
     "execution_count": 8,
     "metadata": {},
     "output_type": "execute_result"
    }
   ],
   "source": [
    "\"one\"\n",
    "\"two\""
   ]
  },
  {
   "cell_type": "code",
   "execution_count": 9,
   "id": "9509ca7d",
   "metadata": {},
   "outputs": [
    {
     "name": "stdout",
     "output_type": "stream",
     "text": [
      "one\n",
      "two\n"
     ]
    }
   ],
   "source": [
    "print(\"one\")\n",
    "print(\"two\")"
   ]
  },
  {
   "cell_type": "code",
   "execution_count": 10,
   "id": "732a9deb",
   "metadata": {},
   "outputs": [
    {
     "name": "stdout",
     "output_type": "stream",
     "text": [
      "hello \n",
      " world\n"
     ]
    }
   ],
   "source": [
    "print(\"hello \\n world\")"
   ]
  },
  {
   "cell_type": "code",
   "execution_count": 11,
   "id": "202364a4",
   "metadata": {},
   "outputs": [
    {
     "data": {
      "text/plain": [
       "11"
      ]
     },
     "execution_count": 11,
     "metadata": {},
     "output_type": "execute_result"
    }
   ],
   "source": [
    "len(\"Hello World\")"
   ]
  },
  {
   "cell_type": "code",
   "execution_count": 12,
   "id": "406fce3d",
   "metadata": {},
   "outputs": [],
   "source": [
    "mystring = \"My name is Anthony\""
   ]
  },
  {
   "cell_type": "code",
   "execution_count": 13,
   "id": "f4f64566",
   "metadata": {},
   "outputs": [
    {
     "data": {
      "text/plain": [
       "18"
      ]
     },
     "execution_count": 13,
     "metadata": {},
     "output_type": "execute_result"
    }
   ],
   "source": [
    "len(mystring)"
   ]
  },
  {
   "cell_type": "code",
   "execution_count": 15,
   "id": "51bc9ab0",
   "metadata": {},
   "outputs": [
    {
     "data": {
      "text/plain": [
       "'M'"
      ]
     },
     "execution_count": 15,
     "metadata": {},
     "output_type": "execute_result"
    }
   ],
   "source": [
    "mystring[0]"
   ]
  },
  {
   "cell_type": "code",
   "execution_count": 17,
   "id": "8a0c2964",
   "metadata": {},
   "outputs": [
    {
     "data": {
      "text/plain": [
       "'A'"
      ]
     },
     "execution_count": 17,
     "metadata": {},
     "output_type": "execute_result"
    }
   ],
   "source": [
    "mystring[11]"
   ]
  },
  {
   "cell_type": "code",
   "execution_count": 18,
   "id": "28c5af08",
   "metadata": {},
   "outputs": [
    {
     "data": {
      "text/plain": [
       "' name is Anthony'"
      ]
     },
     "execution_count": 18,
     "metadata": {},
     "output_type": "execute_result"
    }
   ],
   "source": [
    "mystring[2:]"
   ]
  },
  {
   "cell_type": "code",
   "execution_count": 19,
   "id": "b53adac9",
   "metadata": {},
   "outputs": [
    {
     "data": {
      "text/plain": [
       "'name is Anthony'"
      ]
     },
     "execution_count": 19,
     "metadata": {},
     "output_type": "execute_result"
    }
   ],
   "source": [
    "mystring[3:]"
   ]
  },
  {
   "cell_type": "code",
   "execution_count": 20,
   "id": "3de963af",
   "metadata": {},
   "outputs": [
    {
     "data": {
      "text/plain": [
       "'My '"
      ]
     },
     "execution_count": 20,
     "metadata": {},
     "output_type": "execute_result"
    }
   ],
   "source": [
    "mystring[:3]"
   ]
  },
  {
   "cell_type": "code",
   "execution_count": 21,
   "id": "fd1b7671",
   "metadata": {},
   "outputs": [
    {
     "data": {
      "text/plain": [
       "'My nam'"
      ]
     },
     "execution_count": 21,
     "metadata": {},
     "output_type": "execute_result"
    }
   ],
   "source": [
    "mystring[:6]"
   ]
  },
  {
   "cell_type": "code",
   "execution_count": 22,
   "id": "3ff7c2cd",
   "metadata": {},
   "outputs": [
    {
     "data": {
      "text/plain": [
       "'nam'"
      ]
     },
     "execution_count": 22,
     "metadata": {},
     "output_type": "execute_result"
    }
   ],
   "source": [
    "mystring[3:6]"
   ]
  },
  {
   "cell_type": "markdown",
   "id": "5df47a8b",
   "metadata": {},
   "source": [
    "<font color = 'red'> Step Size <font>"
   ]
  },
  {
   "cell_type": "code",
   "execution_count": 23,
   "id": "f3998c5b",
   "metadata": {},
   "outputs": [
    {
     "data": {
      "text/plain": [
       "'My name is Anthony'"
      ]
     },
     "execution_count": 23,
     "metadata": {},
     "output_type": "execute_result"
    }
   ],
   "source": [
    "mystring[::1]"
   ]
  },
  {
   "cell_type": "code",
   "execution_count": 24,
   "id": "65fa5878",
   "metadata": {},
   "outputs": [
    {
     "data": {
      "text/plain": [
       "'M aei nhn'"
      ]
     },
     "execution_count": 24,
     "metadata": {},
     "output_type": "execute_result"
    }
   ],
   "source": [
    "mystring[::2]"
   ]
  },
  {
   "cell_type": "code",
   "execution_count": 26,
   "id": "948c97bc",
   "metadata": {},
   "outputs": [
    {
     "data": {
      "text/plain": [
       "'name is Anthon'"
      ]
     },
     "execution_count": 26,
     "metadata": {},
     "output_type": "execute_result"
    }
   ],
   "source": [
    "mystring[3:17:1]"
   ]
  },
  {
   "cell_type": "code",
   "execution_count": 27,
   "id": "023d3f91",
   "metadata": {},
   "outputs": [
    {
     "data": {
      "text/plain": [
       "'nm sAto'"
      ]
     },
     "execution_count": 27,
     "metadata": {},
     "output_type": "execute_result"
    }
   ],
   "source": [
    "mystring[3:17:2]"
   ]
  },
  {
   "cell_type": "markdown",
   "id": "3bbfd701",
   "metadata": {},
   "source": [
    "<font color = 'red'> Reversing a String <font>"
   ]
  },
  {
   "cell_type": "code",
   "execution_count": 28,
   "id": "4b79f195",
   "metadata": {},
   "outputs": [
    {
     "data": {
      "text/plain": [
       "'ynohtnA si eman yM'"
      ]
     },
     "execution_count": 28,
     "metadata": {},
     "output_type": "execute_result"
    }
   ],
   "source": [
    "mystring[::-1]"
   ]
  },
  {
   "cell_type": "markdown",
   "id": "1ebb0781",
   "metadata": {},
   "source": [
    "## Print Formatting with Strings"
   ]
  },
  {
   "cell_type": "code",
   "execution_count": 30,
   "id": "a96f514b",
   "metadata": {},
   "outputs": [
    {
     "name": "stdout",
     "output_type": "stream",
     "text": [
      "Hello my name is Gaurav\n"
     ]
    }
   ],
   "source": [
    "myname = \"Gaurav\"\n",
    "print(\"Hello my name is \" + myname)"
   ]
  },
  {
   "cell_type": "code",
   "execution_count": 31,
   "id": "938d45b9",
   "metadata": {},
   "outputs": [
    {
     "name": "stdout",
     "output_type": "stream",
     "text": [
      "This is a string  Inserted here\n"
     ]
    }
   ],
   "source": [
    "print('This is a string{}'.format(\"  Inserted here\"))"
   ]
  },
  {
   "cell_type": "code",
   "execution_count": 32,
   "id": "48f0d499",
   "metadata": {},
   "outputs": [
    {
     "name": "stdout",
     "output_type": "stream",
     "text": [
      "abcdefgh\n"
     ]
    }
   ],
   "source": [
    "print(\"abcd{}\".format(\"efgh\"))"
   ]
  },
  {
   "cell_type": "code",
   "execution_count": 33,
   "id": "c6f2ba7c",
   "metadata": {},
   "outputs": [
    {
     "name": "stdout",
     "output_type": "stream",
     "text": [
      "How are you doing Ziba Joon\n"
     ]
    }
   ],
   "source": [
    "print('How are you doing{}'.format(\" Ziba Joon\"))"
   ]
  },
  {
   "cell_type": "code",
   "execution_count": 34,
   "id": "7ea007a2",
   "metadata": {},
   "outputs": [
    {
     "name": "stdout",
     "output_type": "stream",
     "text": [
      "this is such an amazing time\n"
     ]
    }
   ],
   "source": [
    "print('this is such{}{}{}'.format(' an', ' amazing', ' time'))"
   ]
  },
  {
   "cell_type": "code",
   "execution_count": 36,
   "id": "35e42ff6",
   "metadata": {},
   "outputs": [
    {
     "name": "stdout",
     "output_type": "stream",
     "text": [
      "I would like to take Ziba Joon to Ocean Beach for a swim\n"
     ]
    }
   ],
   "source": [
    "print('I would like to take {z} to {o} for a swim'.format(z = 'Ziba Joon', o = 'Ocean Beach'))"
   ]
  },
  {
   "cell_type": "code",
   "execution_count": 37,
   "id": "e3ad863e",
   "metadata": {},
   "outputs": [
    {
     "name": "stdout",
     "output_type": "stream",
     "text": [
      "what is Ziba Joon doing here in Philadelphia in June\n"
     ]
    }
   ],
   "source": [
    "print('what is {p} doing here in {c} in {m}'.format(p = \"Ziba Joon\", c = \"Philadelphia\", m = \"June\"))"
   ]
  },
  {
   "cell_type": "markdown",
   "id": "ddca3a09",
   "metadata": {},
   "source": [
    "## Float Fomatting - value, width, precision"
   ]
  },
  {
   "cell_type": "code",
   "execution_count": 40,
   "id": "8a5a0d48",
   "metadata": {},
   "outputs": [
    {
     "name": "stdout",
     "output_type": "stream",
     "text": [
      "The result was 14.285714285714286\n",
      "The result was 14.285714285714286\n"
     ]
    }
   ],
   "source": [
    "result = 100/7\n",
    "print(\"The result was {}\".format(result))\n",
    "print(\"The result was {r}\".format(r=result))"
   ]
  },
  {
   "cell_type": "markdown",
   "id": "d35b10f1",
   "metadata": {},
   "source": [
    "## Using F Strings for formatting"
   ]
  },
  {
   "cell_type": "code",
   "execution_count": 48,
   "id": "917fa6e9",
   "metadata": {},
   "outputs": [
    {
     "name": "stdout",
     "output_type": "stream",
     "text": [
      "The result is 100.7\n",
      "The result is 100.7\n"
     ]
    }
   ],
   "source": [
    "result = 100.7\n",
    "print(\"The result is {r}\".format(r = result))\n",
    "print(f\"The result is {result}\")"
   ]
  },
  {
   "cell_type": "markdown",
   "id": "e2cff5ed",
   "metadata": {},
   "source": [
    "***"
   ]
  },
  {
   "cell_type": "code",
   "execution_count": 55,
   "id": "e94f9cf3",
   "metadata": {},
   "outputs": [
    {
     "name": "stdout",
     "output_type": "stream",
     "text": [
      "Sam is 10 years old\n",
      "Sam is 10 years old\n",
      "Sam is 10 years old\n"
     ]
    }
   ],
   "source": [
    "name = \"Sam\"\n",
    "age = 10\n",
    "print(\"{n} is {a} years old\".format(n = name, a = age))\n",
    "print(\"{} is {} years old\".format(name, age))\n",
    "print(f\"{name} is {age} years old\")"
   ]
  },
  {
   "cell_type": "markdown",
   "id": "550507c3",
   "metadata": {},
   "source": [
    "***"
   ]
  },
  {
   "cell_type": "markdown",
   "id": "0d539d39",
   "metadata": {},
   "source": [
    "<font size = 30> Lists <font>"
   ]
  },
  {
   "cell_type": "markdown",
   "id": "5abed034",
   "metadata": {},
   "source": [
    "## <font color = 'red'> Ordered, Mutate, Index, Slice, Add, Remove, Sort <font>"
   ]
  },
  {
   "cell_type": "markdown",
   "id": "fb352503",
   "metadata": {},
   "source": [
    "### While String is a data type, Lists are similar in that it is (1) Ordered and (2) Supports Indexing & Slicing -- However, the list is a collection of different types, including strings"
   ]
  },
  {
   "cell_type": "markdown",
   "id": "3ef2d267",
   "metadata": {},
   "source": [
    "## Lists can mutate"
   ]
  },
  {
   "cell_type": "code",
   "execution_count": 62,
   "id": "0173514f",
   "metadata": {},
   "outputs": [
    {
     "name": "stdout",
     "output_type": "stream",
     "text": [
      "['My name is Ziba', 1, 0.07142857142857142]\n",
      "[23.1, 0.16666666666666666, 'Cats']\n"
     ]
    }
   ],
   "source": [
    "my_list1 = [\"My name is Ziba\", 1, 4/56]\n",
    "my_list2 = [23.1, 1/6, \"Cats\"]\n",
    "print(my_list1)\n",
    "print(my_list2)"
   ]
  },
  {
   "cell_type": "markdown",
   "id": "093082b7",
   "metadata": {},
   "source": [
    "### Indexing"
   ]
  },
  {
   "cell_type": "code",
   "execution_count": 65,
   "id": "80c63918",
   "metadata": {},
   "outputs": [
    {
     "data": {
      "text/plain": [
       "'Cats'"
      ]
     },
     "execution_count": 65,
     "metadata": {},
     "output_type": "execute_result"
    }
   ],
   "source": [
    "my_list1[0]\n",
    "my_list2[2]"
   ]
  },
  {
   "cell_type": "code",
   "execution_count": 69,
   "id": "8861f180",
   "metadata": {},
   "outputs": [
    {
     "name": "stdout",
     "output_type": "stream",
     "text": [
      "My name is Ziba\n",
      "Cats\n"
     ]
    }
   ],
   "source": [
    "print(my_list1[0])\n",
    "print(my_list2[2])"
   ]
  },
  {
   "cell_type": "markdown",
   "id": "19f15a45",
   "metadata": {},
   "source": [
    "### Slicing"
   ]
  },
  {
   "cell_type": "code",
   "execution_count": 72,
   "id": "734aee51",
   "metadata": {},
   "outputs": [
    {
     "data": {
      "text/plain": [
       "[0.16666666666666666, 'Cats']"
      ]
     },
     "execution_count": 72,
     "metadata": {},
     "output_type": "execute_result"
    }
   ],
   "source": [
    "my_list2[1:]"
   ]
  },
  {
   "cell_type": "code",
   "execution_count": 73,
   "id": "0a84361c",
   "metadata": {},
   "outputs": [
    {
     "data": {
      "text/plain": [
       "['My name is Ziba', 1]"
      ]
     },
     "execution_count": 73,
     "metadata": {},
     "output_type": "execute_result"
    }
   ],
   "source": [
    "my_list[:2]"
   ]
  },
  {
   "cell_type": "code",
   "execution_count": 74,
   "id": "e1457e52",
   "metadata": {},
   "outputs": [
    {
     "data": {
      "text/plain": [
       "['My name is Ziba']"
      ]
     },
     "execution_count": 74,
     "metadata": {},
     "output_type": "execute_result"
    }
   ],
   "source": [
    "my_list[:1]"
   ]
  },
  {
   "cell_type": "code",
   "execution_count": 75,
   "id": "04d8d1fd",
   "metadata": {},
   "outputs": [
    {
     "data": {
      "text/plain": [
       "[1]"
      ]
     },
     "execution_count": 75,
     "metadata": {},
     "output_type": "execute_result"
    }
   ],
   "source": [
    "my_list[1:2]"
   ]
  },
  {
   "cell_type": "code",
   "execution_count": 78,
   "id": "11b44ba8",
   "metadata": {},
   "outputs": [],
   "source": [
    "my_list3 = ['a','b','c','d','e','f','g','h','i','j','k','l','m','n']"
   ]
  },
  {
   "cell_type": "code",
   "execution_count": 79,
   "id": "4352e994",
   "metadata": {},
   "outputs": [
    {
     "data": {
      "text/plain": [
       "['b', 'c', 'd', 'e', 'f', 'g', 'h', 'i', 'j', 'k', 'l', 'm', 'n']"
      ]
     },
     "execution_count": 79,
     "metadata": {},
     "output_type": "execute_result"
    }
   ],
   "source": [
    "my_list3[1:]"
   ]
  },
  {
   "cell_type": "code",
   "execution_count": 81,
   "id": "208fc52c",
   "metadata": {},
   "outputs": [
    {
     "data": {
      "text/plain": [
       "['a', 'b', 'c', 'd', 'e', 'f']"
      ]
     },
     "execution_count": 81,
     "metadata": {},
     "output_type": "execute_result"
    }
   ],
   "source": [
    "my_list3[:6]"
   ]
  },
  {
   "cell_type": "code",
   "execution_count": 83,
   "id": "6c917f4c",
   "metadata": {},
   "outputs": [
    {
     "data": {
      "text/plain": [
       "['d', 'e', 'f', 'g']"
      ]
     },
     "execution_count": 83,
     "metadata": {},
     "output_type": "execute_result"
    }
   ],
   "source": [
    "my_list3[3:7]"
   ]
  },
  {
   "cell_type": "markdown",
   "id": "b6c87141",
   "metadata": {},
   "source": [
    "### Concatanation"
   ]
  },
  {
   "cell_type": "code",
   "execution_count": 84,
   "id": "ad4f7a99",
   "metadata": {},
   "outputs": [
    {
     "data": {
      "text/plain": [
       "['My name is Ziba', 1, 0.07142857142857142, 23.1, 0.16666666666666666, 'Cats']"
      ]
     },
     "execution_count": 84,
     "metadata": {},
     "output_type": "execute_result"
    }
   ],
   "source": [
    "my_list1 + my_list2"
   ]
  },
  {
   "cell_type": "code",
   "execution_count": 85,
   "id": "7ba5f529",
   "metadata": {},
   "outputs": [],
   "source": [
    "my_list4 = my_list1 + my_list2"
   ]
  },
  {
   "cell_type": "code",
   "execution_count": 87,
   "id": "7c91f477",
   "metadata": {},
   "outputs": [
    {
     "name": "stdout",
     "output_type": "stream",
     "text": [
      "['My name is Ziba', 1, 0.07142857142857142, 23.1, 0.16666666666666666, 'Cats']\n"
     ]
    }
   ],
   "source": [
    "print(my_list4)"
   ]
  },
  {
   "cell_type": "markdown",
   "id": "6579b0d2",
   "metadata": {},
   "source": [
    "### Mutation"
   ]
  },
  {
   "cell_type": "code",
   "execution_count": 89,
   "id": "29a0c7b8",
   "metadata": {},
   "outputs": [
    {
     "data": {
      "text/plain": [
       "[5, 2, 3, 4]"
      ]
     },
     "execution_count": 89,
     "metadata": {},
     "output_type": "execute_result"
    }
   ],
   "source": [
    "my_list5 = [1,2,3,4]\n",
    "my_list5[0] = 5\n",
    "my_list5"
   ]
  },
  {
   "cell_type": "markdown",
   "id": "ce2dff70",
   "metadata": {},
   "source": [
    "### Adding"
   ]
  },
  {
   "cell_type": "code",
   "execution_count": 91,
   "id": "49c84b1c",
   "metadata": {},
   "outputs": [
    {
     "data": {
      "text/plain": [
       "[1, 2, 3, 4, 5, 6, 7]"
      ]
     },
     "execution_count": 91,
     "metadata": {},
     "output_type": "execute_result"
    }
   ],
   "source": [
    "my_list6 = [1,2,3,4,5,6]\n",
    "my_list6.append(7)\n",
    "my_list6"
   ]
  },
  {
   "cell_type": "markdown",
   "id": "230d2935",
   "metadata": {},
   "source": [
    "### Removing"
   ]
  },
  {
   "cell_type": "code",
   "execution_count": 93,
   "id": "61ef28fc",
   "metadata": {},
   "outputs": [
    {
     "data": {
      "text/plain": [
       "6"
      ]
     },
     "execution_count": 93,
     "metadata": {},
     "output_type": "execute_result"
    }
   ],
   "source": [
    "my_list7 = [1,2,3,4,5,6]\n",
    "my_list7.pop()"
   ]
  },
  {
   "cell_type": "code",
   "execution_count": 94,
   "id": "5a80ad6f",
   "metadata": {},
   "outputs": [
    {
     "data": {
      "text/plain": [
       "[1, 2, 3, 4, 5]"
      ]
     },
     "execution_count": 94,
     "metadata": {},
     "output_type": "execute_result"
    }
   ],
   "source": [
    "my_list7"
   ]
  },
  {
   "cell_type": "code",
   "execution_count": 95,
   "id": "f44fccd8",
   "metadata": {},
   "outputs": [
    {
     "data": {
      "text/plain": [
       "[1, 2, 4, 5]"
      ]
     },
     "execution_count": 95,
     "metadata": {},
     "output_type": "execute_result"
    }
   ],
   "source": [
    "my_list7.pop(2)\n",
    "my_list7"
   ]
  },
  {
   "cell_type": "markdown",
   "id": "27b9cbe7",
   "metadata": {},
   "source": [
    "### Sort"
   ]
  },
  {
   "cell_type": "markdown",
   "id": "14b0b503",
   "metadata": {},
   "source": [
    "<font color = 'red'> Notice the in place behavior of sort -- and why reassignment (my_list81, my_list91) is needed <font>"
   ]
  },
  {
   "cell_type": "code",
   "execution_count": 105,
   "id": "49bc7afe",
   "metadata": {},
   "outputs": [
    {
     "name": "stdout",
     "output_type": "stream",
     "text": [
      "None\n",
      "None\n"
     ]
    }
   ],
   "source": [
    "my_list8 = ['b','g','t','y','r','e','d','c','s','a','r']\n",
    "my_list9 = [5,4,7,8,9,1,2,4,0]\n",
    "my_list8.sort()\n",
    "my_list81 = my_list8.sort()\n",
    "print(my_list81)\n",
    "my_list9.sort()\n",
    "my_list91 = my_list9.sort()\n",
    "print(my_list91)"
   ]
  },
  {
   "cell_type": "code",
   "execution_count": 102,
   "id": "8e006729",
   "metadata": {},
   "outputs": [
    {
     "data": {
      "text/plain": [
       "NoneType"
      ]
     },
     "execution_count": 102,
     "metadata": {},
     "output_type": "execute_result"
    }
   ],
   "source": [
    "type(my_list81)\n",
    "type(my_list91)"
   ]
  },
  {
   "cell_type": "code",
   "execution_count": 107,
   "id": "be7ad0d0",
   "metadata": {},
   "outputs": [
    {
     "name": "stdout",
     "output_type": "stream",
     "text": [
      "['a', 'b', 'c', 'd', 'e', 'g', 'r', 'r', 's', 't', 'y']\n",
      "[0, 1, 2, 4, 4, 5, 7, 8, 9]\n"
     ]
    }
   ],
   "source": [
    "my_list10 = ['b','g','t','y','r','e','d','c','s','a','r']\n",
    "my_list10.sort()\n",
    "my_list101 = my_list10\n",
    "print(my_list101)\n",
    "my_list11 = [5,4,7,8,9,1,2,4,0]\n",
    "my_list11.sort()\n",
    "my_list111 = my_list11\n",
    "print(my_list111)"
   ]
  },
  {
   "cell_type": "markdown",
   "id": "9a734523",
   "metadata": {},
   "source": [
    "### Reverse"
   ]
  },
  {
   "cell_type": "markdown",
   "id": "6faea8f1",
   "metadata": {},
   "source": [
    "<font color = 'red'> Notice how calling my_list111 in the same cell does not work <font>"
   ]
  },
  {
   "cell_type": "code",
   "execution_count": 112,
   "id": "8237fa78",
   "metadata": {},
   "outputs": [
    {
     "data": {
      "text/plain": [
       "[0, 1, 2, 4, 4, 5, 7, 8, 9]"
      ]
     },
     "execution_count": 112,
     "metadata": {},
     "output_type": "execute_result"
    }
   ],
   "source": [
    "my_list111.reverse()\n",
    "my_list111"
   ]
  },
  {
   "cell_type": "code",
   "execution_count": 111,
   "id": "35651e1e",
   "metadata": {},
   "outputs": [
    {
     "data": {
      "text/plain": [
       "[9, 8, 7, 5, 4, 4, 2, 1, 0]"
      ]
     },
     "execution_count": 111,
     "metadata": {},
     "output_type": "execute_result"
    }
   ],
   "source": [
    "my_list111"
   ]
  },
  {
   "cell_type": "markdown",
   "id": "5ac31cc7",
   "metadata": {},
   "source": [
    "### Nested Lists"
   ]
  },
  {
   "cell_type": "code",
   "execution_count": 116,
   "id": "90f633fa",
   "metadata": {},
   "outputs": [
    {
     "data": {
      "text/plain": [
       "5"
      ]
     },
     "execution_count": 116,
     "metadata": {},
     "output_type": "execute_result"
    }
   ],
   "source": [
    "my_list12 = [1,2,3,[4,5,6]]\n",
    "my_list12[3][1]"
   ]
  },
  {
   "cell_type": "code",
   "execution_count": 117,
   "id": "3aae0482",
   "metadata": {},
   "outputs": [
    {
     "data": {
      "text/plain": [
       "3"
      ]
     },
     "execution_count": 117,
     "metadata": {},
     "output_type": "execute_result"
    }
   ],
   "source": [
    "my_list12[2]"
   ]
  },
  {
   "cell_type": "markdown",
   "id": "09f1ff9b",
   "metadata": {},
   "source": [
    "***"
   ]
  },
  {
   "cell_type": "markdown",
   "id": "0cec4bb0",
   "metadata": {},
   "source": [
    "<font size = 30> Dictionaries <font>"
   ]
  },
  {
   "cell_type": "markdown",
   "id": "b8854429",
   "metadata": {},
   "source": [
    "## <font color = 'red'> UnOrdered, Key-Value Pairs, (UnSortable, UnSlicable, UnIndexable)<font>"
   ]
  },
  {
   "cell_type": "code",
   "execution_count": 119,
   "id": "e7865005",
   "metadata": {},
   "outputs": [
    {
     "data": {
      "text/plain": [
       "2.1"
      ]
     },
     "execution_count": 119,
     "metadata": {},
     "output_type": "execute_result"
    }
   ],
   "source": [
    "price_lookup = {'apple': 2.1, 'banana': 4.3, 'milk': 6.23, 'mango' : 4.89, 'onion': 9.09}\n",
    "price_lookup['apple']"
   ]
  },
  {
   "cell_type": "code",
   "execution_count": 123,
   "id": "4136156a",
   "metadata": {},
   "outputs": [
    {
     "data": {
      "text/plain": [
       "(1, 2, 3)"
      ]
     },
     "execution_count": 123,
     "metadata": {},
     "output_type": "execute_result"
    }
   ],
   "source": [
    "d1 = {'k1' : (1,2,3), 'k2' : (4,5,6)}\n",
    "d1['k1']"
   ]
  },
  {
   "cell_type": "code",
   "execution_count": 132,
   "id": "39d93906",
   "metadata": {},
   "outputs": [],
   "source": [
    "d2 = {'k1' : (1,2,3), 'k2' : (4,5,6), 'k3' : [7,8,9,10], \n",
    "      'k4' : {'k5' : 11, 'k6' : 12, 'k7' : 13}}"
   ]
  },
  {
   "cell_type": "code",
   "execution_count": 131,
   "id": "bbd5f83a",
   "metadata": {},
   "outputs": [
    {
     "data": {
      "text/plain": [
       "13"
      ]
     },
     "execution_count": 131,
     "metadata": {},
     "output_type": "execute_result"
    }
   ],
   "source": [
    "d2['k4']['k7']"
   ]
  },
  {
   "cell_type": "code",
   "execution_count": 138,
   "id": "3765f8b4",
   "metadata": {},
   "outputs": [
    {
     "data": {
      "text/plain": [
       "13"
      ]
     },
     "execution_count": 138,
     "metadata": {},
     "output_type": "execute_result"
    }
   ],
   "source": [
    "d2['k4']['k7']"
   ]
  },
  {
   "cell_type": "markdown",
   "id": "d348be0b",
   "metadata": {},
   "source": [
    "### Converting from Dictionary to List (for example to change Uppercase)"
   ]
  },
  {
   "cell_type": "code",
   "execution_count": 156,
   "id": "0d134f2b",
   "metadata": {},
   "outputs": [],
   "source": [
    "d = {'key1' : ['a','b','c','d']}"
   ]
  },
  {
   "cell_type": "code",
   "execution_count": 157,
   "id": "5a96620e",
   "metadata": {},
   "outputs": [],
   "source": [
    "my_list13 = d['key1']"
   ]
  },
  {
   "cell_type": "code",
   "execution_count": 158,
   "id": "596f840d",
   "metadata": {},
   "outputs": [
    {
     "data": {
      "text/plain": [
       "['a', 'b', 'c', 'd']"
      ]
     },
     "execution_count": 158,
     "metadata": {},
     "output_type": "execute_result"
    }
   ],
   "source": [
    "my_list13"
   ]
  },
  {
   "cell_type": "code",
   "execution_count": 159,
   "id": "d840f747",
   "metadata": {},
   "outputs": [],
   "source": [
    "letter = my_list13[2]"
   ]
  },
  {
   "cell_type": "code",
   "execution_count": 160,
   "id": "d565d669",
   "metadata": {},
   "outputs": [
    {
     "data": {
      "text/plain": [
       "'c'"
      ]
     },
     "execution_count": 160,
     "metadata": {},
     "output_type": "execute_result"
    }
   ],
   "source": [
    "letter"
   ]
  },
  {
   "cell_type": "code",
   "execution_count": 163,
   "id": "205bc2e3",
   "metadata": {},
   "outputs": [
    {
     "data": {
      "text/plain": [
       "'C'"
      ]
     },
     "execution_count": 163,
     "metadata": {},
     "output_type": "execute_result"
    }
   ],
   "source": [
    "letter.upper()"
   ]
  },
  {
   "cell_type": "markdown",
   "id": "d187cf49",
   "metadata": {},
   "source": [
    "***"
   ]
  },
  {
   "cell_type": "code",
   "execution_count": 169,
   "id": "24d6dc15",
   "metadata": {},
   "outputs": [
    {
     "data": {
      "text/plain": [
       "'c'"
      ]
     },
     "execution_count": 169,
     "metadata": {},
     "output_type": "execute_result"
    }
   ],
   "source": [
    "e = {'key1' : ['a','b','c','d', 'e']} # declaring the Dictionary\n",
    "newletter = e['key1'] # converting to list\n",
    "newletter[2]"
   ]
  },
  {
   "cell_type": "code",
   "execution_count": 172,
   "id": "0d562107",
   "metadata": {},
   "outputs": [
    {
     "data": {
      "text/plain": [
       "'C'"
      ]
     },
     "execution_count": 172,
     "metadata": {},
     "output_type": "execute_result"
    }
   ],
   "source": [
    "newletter2 = e['key1'][2].upper()\n",
    "newletter2"
   ]
  },
  {
   "cell_type": "markdown",
   "id": "766c55c9",
   "metadata": {},
   "source": [
    "***"
   ]
  },
  {
   "cell_type": "code",
   "execution_count": 175,
   "id": "72b1bf91",
   "metadata": {},
   "outputs": [],
   "source": [
    "f = {'key1' : 100, 'key2' : 200}"
   ]
  },
  {
   "cell_type": "code",
   "execution_count": 181,
   "id": "fcacc68b",
   "metadata": {},
   "outputs": [],
   "source": [
    "f['key3']= 300 ## Adding new value"
   ]
  },
  {
   "cell_type": "code",
   "execution_count": 180,
   "id": "9489c472",
   "metadata": {},
   "outputs": [
    {
     "data": {
      "text/plain": [
       "{'key1': 100, 'key2': 200, 'key3': 300}"
      ]
     },
     "execution_count": 180,
     "metadata": {},
     "output_type": "execute_result"
    }
   ],
   "source": [
    "f"
   ]
  },
  {
   "cell_type": "code",
   "execution_count": 183,
   "id": "ae620c5f",
   "metadata": {},
   "outputs": [
    {
     "data": {
      "text/plain": [
       "{'key1': 100, 'key2': 'NEW VALUE', 'key3': 300}"
      ]
     },
     "execution_count": 183,
     "metadata": {},
     "output_type": "execute_result"
    }
   ],
   "source": [
    "f['key2'] = \"NEW VALUE\" ## Testing Mutability by replacing value for key2\n",
    "f"
   ]
  },
  {
   "cell_type": "code",
   "execution_count": 190,
   "id": "b9b2208e",
   "metadata": {},
   "outputs": [
    {
     "data": {
      "text/plain": [
       "dict_keys(['key1', 'key2', 'key3'])"
      ]
     },
     "execution_count": 190,
     "metadata": {},
     "output_type": "execute_result"
    }
   ],
   "source": [
    "## to extract just the keys\n",
    "f.keys()"
   ]
  },
  {
   "cell_type": "code",
   "execution_count": 191,
   "id": "3523e657",
   "metadata": {},
   "outputs": [
    {
     "data": {
      "text/plain": [
       "dict_values([100, 'NEW VALUE', 300])"
      ]
     },
     "execution_count": 191,
     "metadata": {},
     "output_type": "execute_result"
    }
   ],
   "source": [
    "## to extract just the values\n",
    "f.values() "
   ]
  },
  {
   "cell_type": "code",
   "execution_count": 192,
   "id": "ca4ebf1d",
   "metadata": {},
   "outputs": [
    {
     "data": {
      "text/plain": [
       "dict_items([('key1', 100), ('key2', 'NEW VALUE'), ('key3', 300)])"
      ]
     },
     "execution_count": 192,
     "metadata": {},
     "output_type": "execute_result"
    }
   ],
   "source": [
    "## to extract the full list of key value pairs\n",
    "f.items()"
   ]
  },
  {
   "cell_type": "markdown",
   "id": "a7585e9e",
   "metadata": {},
   "source": [
    "***"
   ]
  },
  {
   "cell_type": "markdown",
   "id": "d25e702d",
   "metadata": {},
   "source": [
    "<font size = 30> Tuples <font>"
   ]
  },
  {
   "cell_type": "markdown",
   "id": "9c039b96",
   "metadata": {},
   "source": [
    "## <font color = 'red'> Similar to LIST, but IMMUTABLE)<font>"
   ]
  },
  {
   "cell_type": "code",
   "execution_count": 193,
   "id": "8ce87c72",
   "metadata": {},
   "outputs": [
    {
     "data": {
      "text/plain": [
       "tuple"
      ]
     },
     "execution_count": 193,
     "metadata": {},
     "output_type": "execute_result"
    }
   ],
   "source": [
    "tuple = (1,2,3) ## this is a tuple\n",
    "type(tuple)"
   ]
  },
  {
   "cell_type": "code",
   "execution_count": 194,
   "id": "d2f49232",
   "metadata": {},
   "outputs": [
    {
     "data": {
      "text/plain": [
       "list"
      ]
     },
     "execution_count": 194,
     "metadata": {},
     "output_type": "execute_result"
    }
   ],
   "source": [
    "list = [1,2,3] ## this is a LIST\n",
    "type(list)"
   ]
  },
  {
   "cell_type": "code",
   "execution_count": 202,
   "id": "63934c42",
   "metadata": {},
   "outputs": [
    {
     "name": "stdout",
     "output_type": "stream",
     "text": [
      "('hello there', 5, 10.1, 14.285714285714286, 5, 'a', 'a', 'b')\n"
     ]
    }
   ],
   "source": [
    "t1 = (\"hello there\", 5, 10.1, 100/7, 5, 'a', 'a', 'b')\n",
    "print (t1)"
   ]
  },
  {
   "cell_type": "code",
   "execution_count": 201,
   "id": "7a901cba",
   "metadata": {},
   "outputs": [
    {
     "data": {
      "text/plain": [
       "'hello there'"
      ]
     },
     "execution_count": 201,
     "metadata": {},
     "output_type": "execute_result"
    }
   ],
   "source": [
    "t1[0]"
   ]
  },
  {
   "cell_type": "code",
   "execution_count": 206,
   "id": "6303faf5",
   "metadata": {},
   "outputs": [
    {
     "name": "stdout",
     "output_type": "stream",
     "text": [
      "2\n",
      "5\n"
     ]
    }
   ],
   "source": [
    "print(t1.count('a'))\n",
    "print(t1.index('a')) ## only returns first instance of the value occurance"
   ]
  },
  {
   "cell_type": "code",
   "execution_count": 207,
   "id": "cae3dff1",
   "metadata": {},
   "outputs": [
    {
     "data": {
      "text/plain": [
       "'hello there'"
      ]
     },
     "execution_count": 207,
     "metadata": {},
     "output_type": "execute_result"
    }
   ],
   "source": [
    "t1[0]"
   ]
  },
  {
   "cell_type": "code",
   "execution_count": 209,
   "id": "96d82e7d",
   "metadata": {},
   "outputs": [
    {
     "ename": "TypeError",
     "evalue": "'tuple' object does not support item assignment",
     "output_type": "error",
     "traceback": [
      "\u001b[0;31m---------------------------------------------------------------------------\u001b[0m",
      "\u001b[0;31mTypeError\u001b[0m                                 Traceback (most recent call last)",
      "Input \u001b[0;32mIn [209]\u001b[0m, in \u001b[0;36m<cell line: 1>\u001b[0;34m()\u001b[0m\n\u001b[0;32m----> 1\u001b[0m t1[\u001b[38;5;241m0\u001b[39m] \u001b[38;5;241m=\u001b[39m \u001b[38;5;124m\"\u001b[39m\u001b[38;5;124mChanging this\u001b[39m\u001b[38;5;124m\"\u001b[39m\n",
      "\u001b[0;31mTypeError\u001b[0m: 'tuple' object does not support item assignment"
     ]
    }
   ],
   "source": [
    "t1[0] = \"Changing this\" ## testing immutability"
   ]
  },
  {
   "cell_type": "markdown",
   "id": "bd31df7f",
   "metadata": {},
   "source": [
    "***"
   ]
  },
  {
   "cell_type": "markdown",
   "id": "1bfc6274",
   "metadata": {},
   "source": [
    "<font size = 30> Sets <font>"
   ]
  },
  {
   "cell_type": "markdown",
   "id": "af07afca",
   "metadata": {},
   "source": [
    "## <font color = 'red'> Unordered, Unique<font>"
   ]
  },
  {
   "cell_type": "code",
   "execution_count": 216,
   "id": "f63f985a",
   "metadata": {},
   "outputs": [
    {
     "name": "stdout",
     "output_type": "stream",
     "text": [
      "<class 'set'>\n"
     ]
    },
    {
     "data": {
      "text/plain": [
       "{1, 2}"
      ]
     },
     "execution_count": 216,
     "metadata": {},
     "output_type": "execute_result"
    }
   ],
   "source": [
    "s1 = set()  ### testing the uniqueness\n",
    "s1.add(1) #### needs the explicit SET\n",
    "s1.add(2)\n",
    "s1.add(1)\n",
    "print(type(s1))\n",
    "s1"
   ]
  },
  {
   "cell_type": "code",
   "execution_count": 221,
   "id": "a00cdbe6",
   "metadata": {},
   "outputs": [
    {
     "name": "stdout",
     "output_type": "stream",
     "text": [
      "<class 'list'>\n",
      "{1, 2, 3, 4, 5}\n",
      "<class 'set'>\n"
     ]
    }
   ],
   "source": [
    "my_list21 = [1,1,1,1,1,1,2,2,2,2,2,3,4,5,5,5,5,4,4]\n",
    "s2 = set(my_list21)\n",
    "print(type(my_list21))\n",
    "print(s2)\n",
    "print(type(s2))"
   ]
  },
  {
   "cell_type": "code",
   "execution_count": 222,
   "id": "b1187d5f",
   "metadata": {},
   "outputs": [
    {
     "data": {
      "text/plain": [
       "{'M', 'i', 'p', 's'}"
      ]
     },
     "execution_count": 222,
     "metadata": {},
     "output_type": "execute_result"
    }
   ],
   "source": [
    "string1 = ('Mississippi')\n",
    "set(string1)"
   ]
  },
  {
   "cell_type": "code",
   "execution_count": 223,
   "id": "a77e58b6",
   "metadata": {},
   "outputs": [
    {
     "data": {
      "text/plain": [
       "{'M', 'i', 'p', 's'}"
      ]
     },
     "execution_count": 223,
     "metadata": {},
     "output_type": "execute_result"
    }
   ],
   "source": [
    "set('Mississippi')"
   ]
  },
  {
   "cell_type": "markdown",
   "id": "bda01558",
   "metadata": {},
   "source": [
    "***"
   ]
  },
  {
   "cell_type": "markdown",
   "id": "0c13df6c",
   "metadata": {},
   "source": [
    "<font size = 30> Boolean <font>"
   ]
  },
  {
   "cell_type": "markdown",
   "id": "e8425203",
   "metadata": {},
   "source": [
    "## <font color = 'red'> True or False<font>"
   ]
  },
  {
   "cell_type": "code",
   "execution_count": 227,
   "id": "a5a763bb",
   "metadata": {},
   "outputs": [
    {
     "name": "stdout",
     "output_type": "stream",
     "text": [
      "True\n",
      "<class 'bool'>\n"
     ]
    },
    {
     "data": {
      "text/plain": [
       "False"
      ]
     },
     "execution_count": 227,
     "metadata": {},
     "output_type": "execute_result"
    }
   ],
   "source": [
    "print(True)\n",
    "print(type(True))\n",
    "False"
   ]
  },
  {
   "cell_type": "code",
   "execution_count": 228,
   "id": "adcde90d",
   "metadata": {},
   "outputs": [
    {
     "data": {
      "text/plain": [
       "bool"
      ]
     },
     "execution_count": 228,
     "metadata": {},
     "output_type": "execute_result"
    }
   ],
   "source": [
    "type(False)"
   ]
  },
  {
   "cell_type": "code",
   "execution_count": 229,
   "id": "779bc8ad",
   "metadata": {},
   "outputs": [
    {
     "data": {
      "text/plain": [
       "False"
      ]
     },
     "execution_count": 229,
     "metadata": {},
     "output_type": "execute_result"
    }
   ],
   "source": [
    "1>2"
   ]
  },
  {
   "cell_type": "code",
   "execution_count": 230,
   "id": "82b91759",
   "metadata": {},
   "outputs": [
    {
     "data": {
      "text/plain": [
       "False"
      ]
     },
     "execution_count": 230,
     "metadata": {},
     "output_type": "execute_result"
    }
   ],
   "source": [
    "2==4"
   ]
  },
  {
   "cell_type": "code",
   "execution_count": 235,
   "id": "f935bba6",
   "metadata": {},
   "outputs": [],
   "source": [
    "b = None ## Use None as a placeholder for future value assignment"
   ]
  },
  {
   "cell_type": "code",
   "execution_count": 232,
   "id": "330c78a8",
   "metadata": {},
   "outputs": [],
   "source": [
    "b"
   ]
  },
  {
   "cell_type": "code",
   "execution_count": 234,
   "id": "ee0d7a7e",
   "metadata": {},
   "outputs": [
    {
     "ename": "NameError",
     "evalue": "name 'c' is not defined",
     "output_type": "error",
     "traceback": [
      "\u001b[0;31m---------------------------------------------------------------------------\u001b[0m",
      "\u001b[0;31mNameError\u001b[0m                                 Traceback (most recent call last)",
      "Input \u001b[0;32mIn [234]\u001b[0m, in \u001b[0;36m<cell line: 1>\u001b[0;34m()\u001b[0m\n\u001b[0;32m----> 1\u001b[0m \u001b[43mc\u001b[49m\n",
      "\u001b[0;31mNameError\u001b[0m: name 'c' is not defined"
     ]
    }
   ],
   "source": [
    "c"
   ]
  },
  {
   "cell_type": "code",
   "execution_count": null,
   "id": "00d5535b",
   "metadata": {},
   "outputs": [],
   "source": []
  }
 ],
 "metadata": {
  "kernelspec": {
   "display_name": "Python 3 (ipykernel)",
   "language": "python",
   "name": "python3"
  },
  "language_info": {
   "codemirror_mode": {
    "name": "ipython",
    "version": 3
   },
   "file_extension": ".py",
   "mimetype": "text/x-python",
   "name": "python",
   "nbconvert_exporter": "python",
   "pygments_lexer": "ipython3",
   "version": "3.9.12"
  }
 },
 "nbformat": 4,
 "nbformat_minor": 5
}
