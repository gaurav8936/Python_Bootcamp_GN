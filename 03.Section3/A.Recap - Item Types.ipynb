{
 "cells": [
  {
   "cell_type": "markdown",
   "id": "a7e69eae",
   "metadata": {},
   "source": [
    "<font size = 20, color = 'teal'> Recap - Item Types <font>"
   ]
  },
  {
   "cell_type": "markdown",
   "id": "cfaf88c4",
   "metadata": {},
   "source": [
    "# TYPES"
   ]
  },
  {
   "cell_type": "markdown",
   "id": "0d134d54",
   "metadata": {},
   "source": [
    "## NSLDTSB"
   ]
  },
  {
   "cell_type": "markdown",
   "id": "6f546b52",
   "metadata": {},
   "source": [
    "**Number, String, List, Dictionary, Tuple, Set, Boolean**"
   ]
  },
  {
   "cell_type": "markdown",
   "id": "d34f719b",
   "metadata": {},
   "source": [
    "NSLDTSB (Number, String, List, Dictionary, Tuples, Set, Boolean)"
   ]
  },
  {
   "cell_type": "markdown",
   "id": "868c8b4d",
   "metadata": {},
   "source": [
    "Number"
   ]
  },
  {
   "cell_type": "markdown",
   "id": "c7929ccf",
   "metadata": {},
   "source": [
    "String"
   ]
  },
  {
   "cell_type": "markdown",
   "id": "1ac642ec",
   "metadata": {},
   "source": [
    "List"
   ]
  },
  {
   "cell_type": "markdown",
   "id": "c3c121f2",
   "metadata": {},
   "source": [
    "Dictionary"
   ]
  },
  {
   "cell_type": "markdown",
   "id": "d421a334",
   "metadata": {},
   "source": [
    "Tuple"
   ]
  },
  {
   "cell_type": "markdown",
   "id": "09ec53a2",
   "metadata": {},
   "source": [
    "Set"
   ]
  },
  {
   "cell_type": "markdown",
   "id": "9ac765aa",
   "metadata": {},
   "source": [
    "Bolean"
   ]
  },
  {
   "cell_type": "markdown",
   "id": "5f8fdb3f",
   "metadata": {},
   "source": [
    "<font size = 30> Numbers <font>"
   ]
  },
  {
   "cell_type": "code",
   "execution_count": 1,
   "id": "8f8af932",
   "metadata": {},
   "outputs": [
    {
     "data": {
      "text/plain": [
       "-1"
      ]
     },
     "execution_count": 1,
     "metadata": {},
     "output_type": "execute_result"
    }
   ],
   "source": [
    "1-2"
   ]
  },
  {
   "cell_type": "code",
   "execution_count": 2,
   "id": "4319a470",
   "metadata": {},
   "outputs": [
    {
     "data": {
      "text/plain": [
       "4"
      ]
     },
     "execution_count": 2,
     "metadata": {},
     "output_type": "execute_result"
    }
   ],
   "source": [
    "2*2"
   ]
  },
  {
   "cell_type": "code",
   "execution_count": 3,
   "id": "845a8dac",
   "metadata": {},
   "outputs": [
    {
     "data": {
      "text/plain": [
       "0.6666666666666666"
      ]
     },
     "execution_count": 3,
     "metadata": {},
     "output_type": "execute_result"
    }
   ],
   "source": [
    "2/3"
   ]
  },
  {
   "cell_type": "markdown",
   "id": "f72af05d",
   "metadata": {},
   "source": [
    "### Mod Operater"
   ]
  },
  {
   "cell_type": "code",
   "execution_count": 5,
   "id": "84baf9b1",
   "metadata": {},
   "outputs": [
    {
     "data": {
      "text/plain": [
       "1"
      ]
     },
     "execution_count": 5,
     "metadata": {},
     "output_type": "execute_result"
    }
   ],
   "source": [
    "7%3"
   ]
  },
  {
   "cell_type": "code",
   "execution_count": 6,
   "id": "ffda96ae",
   "metadata": {},
   "outputs": [
    {
     "data": {
      "text/plain": [
       "1"
      ]
     },
     "execution_count": 6,
     "metadata": {},
     "output_type": "execute_result"
    }
   ],
   "source": [
    "23 % 2"
   ]
  },
  {
   "cell_type": "markdown",
   "id": "34a733ad",
   "metadata": {},
   "source": [
    "### Order of Operations"
   ]
  },
  {
   "cell_type": "markdown",
   "id": "193ed802",
   "metadata": {},
   "source": [
    "#### PEMDAS -- Paranthesis, Exponent, Multiplication, Division, Addition, Subtraction"
   ]
  },
  {
   "cell_type": "code",
   "execution_count": 7,
   "id": "5b4ec9d3",
   "metadata": {},
   "outputs": [
    {
     "data": {
      "text/plain": [
       "31"
      ]
     },
     "execution_count": 7,
     "metadata": {},
     "output_type": "execute_result"
    }
   ],
   "source": [
    "2+10*3-1"
   ]
  },
  {
   "cell_type": "code",
   "execution_count": 9,
   "id": "7f4262b7",
   "metadata": {},
   "outputs": [
    {
     "data": {
      "text/plain": [
       "185.625"
      ]
     },
     "execution_count": 9,
     "metadata": {},
     "output_type": "execute_result"
    }
   ],
   "source": [
    "(2+3/4)*45/2*3"
   ]
  },
  {
   "cell_type": "markdown",
   "id": "0b0a8ad4",
   "metadata": {},
   "source": [
    "2.75 * (22.5*3) .... 67.5 * 2.75"
   ]
  },
  {
   "cell_type": "code",
   "execution_count": 10,
   "id": "a443a354",
   "metadata": {},
   "outputs": [
    {
     "data": {
      "text/plain": [
       "185.625"
      ]
     },
     "execution_count": 10,
     "metadata": {},
     "output_type": "execute_result"
    }
   ],
   "source": [
    "67.5*2.75"
   ]
  },
  {
   "cell_type": "markdown",
   "id": "9b3cebec",
   "metadata": {},
   "source": [
    "## Variable Assignments"
   ]
  },
  {
   "cell_type": "markdown",
   "id": "00160c23",
   "metadata": {},
   "source": [
    "` Dynamic Typing -- means variables can be reassigned to different data types `"
   ]
  },
  {
   "cell_type": "code",
   "execution_count": 12,
   "id": "b05e098e",
   "metadata": {},
   "outputs": [],
   "source": [
    "my_dogs = 2"
   ]
  },
  {
   "cell_type": "code",
   "execution_count": 13,
   "id": "6683bb36",
   "metadata": {},
   "outputs": [],
   "source": [
    "my_dogs = [\"Sammy\", \"Frankie\"]"
   ]
  },
  {
   "cell_type": "markdown",
   "id": "9dd50d5f",
   "metadata": {},
   "source": [
    "` Something like this is not possible in say, C++ where variables need to be declared like int my_dog = 1 `"
   ]
  },
  {
   "cell_type": "code",
   "execution_count": 14,
   "id": "51214c74",
   "metadata": {},
   "outputs": [],
   "source": [
    "a = 10"
   ]
  },
  {
   "cell_type": "code",
   "execution_count": 16,
   "id": "89a99031",
   "metadata": {},
   "outputs": [
    {
     "data": {
      "text/plain": [
       "10"
      ]
     },
     "execution_count": 16,
     "metadata": {},
     "output_type": "execute_result"
    }
   ],
   "source": [
    "a"
   ]
  },
  {
   "cell_type": "code",
   "execution_count": 21,
   "id": "2b8d0af2",
   "metadata": {},
   "outputs": [],
   "source": [
    "a = a + a"
   ]
  },
  {
   "cell_type": "code",
   "execution_count": 22,
   "id": "3608e7d5",
   "metadata": {},
   "outputs": [
    {
     "data": {
      "text/plain": [
       "80"
      ]
     },
     "execution_count": 22,
     "metadata": {},
     "output_type": "execute_result"
    }
   ],
   "source": [
    "a"
   ]
  },
  {
   "cell_type": "code",
   "execution_count": 23,
   "id": "2abf7115",
   "metadata": {},
   "outputs": [
    {
     "data": {
      "text/plain": [
       "int"
      ]
     },
     "execution_count": 23,
     "metadata": {},
     "output_type": "execute_result"
    }
   ],
   "source": [
    "type(a)"
   ]
  },
  {
   "cell_type": "code",
   "execution_count": 24,
   "id": "abed9f7a",
   "metadata": {},
   "outputs": [],
   "source": [
    "a = 0.1"
   ]
  },
  {
   "cell_type": "code",
   "execution_count": 25,
   "id": "66c9dded",
   "metadata": {},
   "outputs": [
    {
     "data": {
      "text/plain": [
       "float"
      ]
     },
     "execution_count": 25,
     "metadata": {},
     "output_type": "execute_result"
    }
   ],
   "source": [
    "type(a)"
   ]
  },
  {
   "cell_type": "code",
   "execution_count": 26,
   "id": "40e0edf9",
   "metadata": {},
   "outputs": [
    {
     "data": {
      "text/plain": [
       "0.1"
      ]
     },
     "execution_count": 26,
     "metadata": {},
     "output_type": "execute_result"
    }
   ],
   "source": [
    "a"
   ]
  },
  {
   "cell_type": "code",
   "execution_count": 3,
   "id": "35f8e93f",
   "metadata": {},
   "outputs": [],
   "source": [
    "my_income = 100\n",
    "my_tax = .20\n",
    "my_total_tax = my_income * my_tax"
   ]
  },
  {
   "cell_type": "code",
   "execution_count": 4,
   "id": "74bd27dd",
   "metadata": {},
   "outputs": [
    {
     "data": {
      "text/plain": [
       "20.0"
      ]
     },
     "execution_count": 4,
     "metadata": {},
     "output_type": "execute_result"
    }
   ],
   "source": [
    "my_total_tax"
   ]
  },
  {
   "cell_type": "markdown",
   "id": "71abe31a",
   "metadata": {},
   "source": [
    "***"
   ]
  },
  {
   "cell_type": "markdown",
   "id": "f0435c58",
   "metadata": {},
   "source": [
    "<font size = 30> Strings <font>"
   ]
  },
  {
   "cell_type": "markdown",
   "id": "d95fc356",
   "metadata": {},
   "source": [
    "## <font color = 'red'> Ordered, Immutable, Index, Slice <font>"
   ]
  },
  {
   "cell_type": "markdown",
   "id": "3f3fcbb5",
   "metadata": {},
   "source": [
    "<font color = 'red'> Strings are ordered sequences <font>"
   ]
  },
  {
   "cell_type": "code",
   "execution_count": 5,
   "id": "f363c8c4",
   "metadata": {},
   "outputs": [],
   "source": [
    "a = 'Hello'"
   ]
  },
  {
   "cell_type": "code",
   "execution_count": 6,
   "id": "252e32dd",
   "metadata": {},
   "outputs": [
    {
     "data": {
      "text/plain": [
       "'e'"
      ]
     },
     "execution_count": 6,
     "metadata": {},
     "output_type": "execute_result"
    }
   ],
   "source": [
    "a[1]"
   ]
  },
  {
   "cell_type": "code",
   "execution_count": 7,
   "id": "34b1fc21",
   "metadata": {},
   "outputs": [
    {
     "data": {
      "text/plain": [
       "'o'"
      ]
     },
     "execution_count": 7,
     "metadata": {},
     "output_type": "execute_result"
    }
   ],
   "source": [
    "a[-1]"
   ]
  },
  {
   "cell_type": "code",
   "execution_count": 8,
   "id": "f84e31b4",
   "metadata": {},
   "outputs": [
    {
     "data": {
      "text/plain": [
       "'two'"
      ]
     },
     "execution_count": 8,
     "metadata": {},
     "output_type": "execute_result"
    }
   ],
   "source": [
    "\"one\"\n",
    "\"two\""
   ]
  },
  {
   "cell_type": "code",
   "execution_count": 9,
   "id": "f61431ca",
   "metadata": {},
   "outputs": [
    {
     "name": "stdout",
     "output_type": "stream",
     "text": [
      "one\n",
      "two\n"
     ]
    }
   ],
   "source": [
    "print(\"one\")\n",
    "print(\"two\")"
   ]
  },
  {
   "cell_type": "code",
   "execution_count": 10,
   "id": "5d4f5c47",
   "metadata": {},
   "outputs": [
    {
     "name": "stdout",
     "output_type": "stream",
     "text": [
      "hello \n",
      " world\n"
     ]
    }
   ],
   "source": [
    "print(\"hello \\n world\")"
   ]
  },
  {
   "cell_type": "code",
   "execution_count": 11,
   "id": "3e6a22e3",
   "metadata": {},
   "outputs": [
    {
     "data": {
      "text/plain": [
       "11"
      ]
     },
     "execution_count": 11,
     "metadata": {},
     "output_type": "execute_result"
    }
   ],
   "source": [
    "len(\"Hello World\")"
   ]
  },
  {
   "cell_type": "code",
   "execution_count": 12,
   "id": "e48ec722",
   "metadata": {},
   "outputs": [],
   "source": [
    "mystring = \"My name is Anthony\""
   ]
  },
  {
   "cell_type": "code",
   "execution_count": 13,
   "id": "c3238c1a",
   "metadata": {},
   "outputs": [
    {
     "data": {
      "text/plain": [
       "18"
      ]
     },
     "execution_count": 13,
     "metadata": {},
     "output_type": "execute_result"
    }
   ],
   "source": [
    "len(mystring)"
   ]
  },
  {
   "cell_type": "code",
   "execution_count": 15,
   "id": "713a9438",
   "metadata": {},
   "outputs": [
    {
     "data": {
      "text/plain": [
       "'M'"
      ]
     },
     "execution_count": 15,
     "metadata": {},
     "output_type": "execute_result"
    }
   ],
   "source": [
    "mystring[0]"
   ]
  },
  {
   "cell_type": "code",
   "execution_count": 17,
   "id": "373d931d",
   "metadata": {},
   "outputs": [
    {
     "data": {
      "text/plain": [
       "'A'"
      ]
     },
     "execution_count": 17,
     "metadata": {},
     "output_type": "execute_result"
    }
   ],
   "source": [
    "mystring[11]"
   ]
  },
  {
   "cell_type": "code",
   "execution_count": 18,
   "id": "004d316f",
   "metadata": {},
   "outputs": [
    {
     "data": {
      "text/plain": [
       "' name is Anthony'"
      ]
     },
     "execution_count": 18,
     "metadata": {},
     "output_type": "execute_result"
    }
   ],
   "source": [
    "mystring[2:]"
   ]
  },
  {
   "cell_type": "code",
   "execution_count": 19,
   "id": "810ae573",
   "metadata": {},
   "outputs": [
    {
     "data": {
      "text/plain": [
       "'name is Anthony'"
      ]
     },
     "execution_count": 19,
     "metadata": {},
     "output_type": "execute_result"
    }
   ],
   "source": [
    "mystring[3:]"
   ]
  },
  {
   "cell_type": "code",
   "execution_count": 20,
   "id": "9ce69052",
   "metadata": {},
   "outputs": [
    {
     "data": {
      "text/plain": [
       "'My '"
      ]
     },
     "execution_count": 20,
     "metadata": {},
     "output_type": "execute_result"
    }
   ],
   "source": [
    "mystring[:3]"
   ]
  },
  {
   "cell_type": "code",
   "execution_count": 21,
   "id": "0d0320e3",
   "metadata": {},
   "outputs": [
    {
     "data": {
      "text/plain": [
       "'My nam'"
      ]
     },
     "execution_count": 21,
     "metadata": {},
     "output_type": "execute_result"
    }
   ],
   "source": [
    "mystring[:6]"
   ]
  },
  {
   "cell_type": "code",
   "execution_count": 22,
   "id": "d62c36e0",
   "metadata": {},
   "outputs": [
    {
     "data": {
      "text/plain": [
       "'nam'"
      ]
     },
     "execution_count": 22,
     "metadata": {},
     "output_type": "execute_result"
    }
   ],
   "source": [
    "mystring[3:6]"
   ]
  },
  {
   "cell_type": "markdown",
   "id": "6d496f29",
   "metadata": {},
   "source": [
    "<font color = 'red'> Step Size <font>"
   ]
  },
  {
   "cell_type": "code",
   "execution_count": 23,
   "id": "23a1ee40",
   "metadata": {},
   "outputs": [
    {
     "data": {
      "text/plain": [
       "'My name is Anthony'"
      ]
     },
     "execution_count": 23,
     "metadata": {},
     "output_type": "execute_result"
    }
   ],
   "source": [
    "mystring[::1]"
   ]
  },
  {
   "cell_type": "code",
   "execution_count": 24,
   "id": "6b767472",
   "metadata": {},
   "outputs": [
    {
     "data": {
      "text/plain": [
       "'M aei nhn'"
      ]
     },
     "execution_count": 24,
     "metadata": {},
     "output_type": "execute_result"
    }
   ],
   "source": [
    "mystring[::2]"
   ]
  },
  {
   "cell_type": "code",
   "execution_count": 26,
   "id": "013b3f3d",
   "metadata": {},
   "outputs": [
    {
     "data": {
      "text/plain": [
       "'name is Anthon'"
      ]
     },
     "execution_count": 26,
     "metadata": {},
     "output_type": "execute_result"
    }
   ],
   "source": [
    "mystring[3:17:1]"
   ]
  },
  {
   "cell_type": "code",
   "execution_count": 27,
   "id": "3fd2f7f3",
   "metadata": {},
   "outputs": [
    {
     "data": {
      "text/plain": [
       "'nm sAto'"
      ]
     },
     "execution_count": 27,
     "metadata": {},
     "output_type": "execute_result"
    }
   ],
   "source": [
    "mystring[3:17:2]"
   ]
  },
  {
   "cell_type": "markdown",
   "id": "d51353a2",
   "metadata": {},
   "source": [
    "<font color = 'red'> Reversing a String <font>"
   ]
  },
  {
   "cell_type": "code",
   "execution_count": 28,
   "id": "2b01fc41",
   "metadata": {},
   "outputs": [
    {
     "data": {
      "text/plain": [
       "'ynohtnA si eman yM'"
      ]
     },
     "execution_count": 28,
     "metadata": {},
     "output_type": "execute_result"
    }
   ],
   "source": [
    "mystring[::-1]"
   ]
  },
  {
   "cell_type": "markdown",
   "id": "368eae5d",
   "metadata": {},
   "source": [
    "## Print Formatting with Strings"
   ]
  },
  {
   "cell_type": "code",
   "execution_count": 30,
   "id": "4d7d91db",
   "metadata": {},
   "outputs": [
    {
     "name": "stdout",
     "output_type": "stream",
     "text": [
      "Hello my name is Gaurav\n"
     ]
    }
   ],
   "source": [
    "myname = \"Gaurav\"\n",
    "print(\"Hello my name is \" + myname)"
   ]
  },
  {
   "cell_type": "code",
   "execution_count": 31,
   "id": "24206e81",
   "metadata": {},
   "outputs": [
    {
     "name": "stdout",
     "output_type": "stream",
     "text": [
      "This is a string  Inserted here\n"
     ]
    }
   ],
   "source": [
    "print('This is a string{}'.format(\"  Inserted here\"))"
   ]
  },
  {
   "cell_type": "code",
   "execution_count": 32,
   "id": "b9d2de4a",
   "metadata": {},
   "outputs": [
    {
     "name": "stdout",
     "output_type": "stream",
     "text": [
      "abcdefgh\n"
     ]
    }
   ],
   "source": [
    "print(\"abcd{}\".format(\"efgh\"))"
   ]
  },
  {
   "cell_type": "code",
   "execution_count": 33,
   "id": "2f9c3a1a",
   "metadata": {},
   "outputs": [
    {
     "name": "stdout",
     "output_type": "stream",
     "text": [
      "How are you doing Ziba Joon\n"
     ]
    }
   ],
   "source": [
    "print('How are you doing{}'.format(\" Ziba Joon\"))"
   ]
  },
  {
   "cell_type": "code",
   "execution_count": 34,
   "id": "cd1c43d6",
   "metadata": {},
   "outputs": [
    {
     "name": "stdout",
     "output_type": "stream",
     "text": [
      "this is such an amazing time\n"
     ]
    }
   ],
   "source": [
    "print('this is such{}{}{}'.format(' an', ' amazing', ' time'))"
   ]
  },
  {
   "cell_type": "code",
   "execution_count": 36,
   "id": "d02f8760",
   "metadata": {},
   "outputs": [
    {
     "name": "stdout",
     "output_type": "stream",
     "text": [
      "I would like to take Ziba Joon to Ocean Beach for a swim\n"
     ]
    }
   ],
   "source": [
    "print('I would like to take {z} to {o} for a swim'.format(z = 'Ziba Joon', o = 'Ocean Beach'))"
   ]
  },
  {
   "cell_type": "code",
   "execution_count": 37,
   "id": "c3376517",
   "metadata": {},
   "outputs": [
    {
     "name": "stdout",
     "output_type": "stream",
     "text": [
      "what is Ziba Joon doing here in Philadelphia in June\n"
     ]
    }
   ],
   "source": [
    "print('what is {p} doing here in {c} in {m}'.format(p = \"Ziba Joon\", c = \"Philadelphia\", m = \"June\"))"
   ]
  },
  {
   "cell_type": "markdown",
   "id": "1aede9ea",
   "metadata": {},
   "source": [
    "## Float Fomatting - value, width, precision"
   ]
  },
  {
   "cell_type": "code",
   "execution_count": 40,
   "id": "0cfbc02e",
   "metadata": {},
   "outputs": [
    {
     "name": "stdout",
     "output_type": "stream",
     "text": [
      "The result was 14.285714285714286\n",
      "The result was 14.285714285714286\n"
     ]
    }
   ],
   "source": [
    "result = 100/7\n",
    "print(\"The result was {}\".format(result))\n",
    "print(\"The result was {r}\".format(r=result))"
   ]
  },
  {
   "cell_type": "markdown",
   "id": "ee7820e8",
   "metadata": {},
   "source": [
    "## Using F Strings for formatting"
   ]
  },
  {
   "cell_type": "code",
   "execution_count": 48,
   "id": "08d2ad73",
   "metadata": {},
   "outputs": [
    {
     "name": "stdout",
     "output_type": "stream",
     "text": [
      "The result is 100.7\n",
      "The result is 100.7\n"
     ]
    }
   ],
   "source": [
    "result = 100.7\n",
    "print(\"The result is {r}\".format(r = result))\n",
    "print(f\"The result is {result}\")"
   ]
  },
  {
   "cell_type": "markdown",
   "id": "abcc748b",
   "metadata": {},
   "source": [
    "***"
   ]
  },
  {
   "cell_type": "code",
   "execution_count": 55,
   "id": "12ca6ddc",
   "metadata": {},
   "outputs": [
    {
     "name": "stdout",
     "output_type": "stream",
     "text": [
      "Sam is 10 years old\n",
      "Sam is 10 years old\n",
      "Sam is 10 years old\n"
     ]
    }
   ],
   "source": [
    "name = \"Sam\"\n",
    "age = 10\n",
    "print(\"{n} is {a} years old\".format(n = name, a = age))\n",
    "print(\"{} is {} years old\".format(name, age))\n",
    "print(f\"{name} is {age} years old\")"
   ]
  },
  {
   "cell_type": "markdown",
   "id": "f4d653fa",
   "metadata": {},
   "source": [
    "***"
   ]
  },
  {
   "cell_type": "markdown",
   "id": "26191082",
   "metadata": {},
   "source": [
    "<font size = 30> Lists <font>"
   ]
  },
  {
   "cell_type": "markdown",
   "id": "fa8575d4",
   "metadata": {},
   "source": [
    "## <font color = 'red'> Ordered, Mutate, Index, Slice, Add, Remove, Sort <font>"
   ]
  },
  {
   "cell_type": "markdown",
   "id": "b5395adb",
   "metadata": {},
   "source": [
    "### While String is a data type, Lists are similar in that it is (1) Ordered and (2) Supports Indexing & Slicing -- However, the list is a collection of different types, including strings"
   ]
  },
  {
   "cell_type": "markdown",
   "id": "3c409638",
   "metadata": {},
   "source": [
    "## Lists can mutate"
   ]
  },
  {
   "cell_type": "code",
   "execution_count": 62,
   "id": "801e1be8",
   "metadata": {},
   "outputs": [
    {
     "name": "stdout",
     "output_type": "stream",
     "text": [
      "['My name is Ziba', 1, 0.07142857142857142]\n",
      "[23.1, 0.16666666666666666, 'Cats']\n"
     ]
    }
   ],
   "source": [
    "my_list1 = [\"My name is Ziba\", 1, 4/56]\n",
    "my_list2 = [23.1, 1/6, \"Cats\"]\n",
    "print(my_list1)\n",
    "print(my_list2)"
   ]
  },
  {
   "cell_type": "markdown",
   "id": "fa3abc0a",
   "metadata": {},
   "source": [
    "### Indexing"
   ]
  },
  {
   "cell_type": "code",
   "execution_count": 65,
   "id": "2da73b04",
   "metadata": {},
   "outputs": [
    {
     "data": {
      "text/plain": [
       "'Cats'"
      ]
     },
     "execution_count": 65,
     "metadata": {},
     "output_type": "execute_result"
    }
   ],
   "source": [
    "my_list1[0]\n",
    "my_list2[2]"
   ]
  },
  {
   "cell_type": "code",
   "execution_count": 69,
   "id": "b846a954",
   "metadata": {},
   "outputs": [
    {
     "name": "stdout",
     "output_type": "stream",
     "text": [
      "My name is Ziba\n",
      "Cats\n"
     ]
    }
   ],
   "source": [
    "print(my_list1[0])\n",
    "print(my_list2[2])"
   ]
  },
  {
   "cell_type": "markdown",
   "id": "d836f25b",
   "metadata": {},
   "source": [
    "### Slicing"
   ]
  },
  {
   "cell_type": "code",
   "execution_count": 72,
   "id": "202e3f6c",
   "metadata": {},
   "outputs": [
    {
     "data": {
      "text/plain": [
       "[0.16666666666666666, 'Cats']"
      ]
     },
     "execution_count": 72,
     "metadata": {},
     "output_type": "execute_result"
    }
   ],
   "source": [
    "my_list2[1:]"
   ]
  },
  {
   "cell_type": "code",
   "execution_count": 73,
   "id": "efff5b7d",
   "metadata": {},
   "outputs": [
    {
     "data": {
      "text/plain": [
       "['My name is Ziba', 1]"
      ]
     },
     "execution_count": 73,
     "metadata": {},
     "output_type": "execute_result"
    }
   ],
   "source": [
    "my_list[:2]"
   ]
  },
  {
   "cell_type": "code",
   "execution_count": 74,
   "id": "a8010ca1",
   "metadata": {},
   "outputs": [
    {
     "data": {
      "text/plain": [
       "['My name is Ziba']"
      ]
     },
     "execution_count": 74,
     "metadata": {},
     "output_type": "execute_result"
    }
   ],
   "source": [
    "my_list[:1]"
   ]
  },
  {
   "cell_type": "code",
   "execution_count": 75,
   "id": "5e76a147",
   "metadata": {},
   "outputs": [
    {
     "data": {
      "text/plain": [
       "[1]"
      ]
     },
     "execution_count": 75,
     "metadata": {},
     "output_type": "execute_result"
    }
   ],
   "source": [
    "my_list[1:2]"
   ]
  },
  {
   "cell_type": "code",
   "execution_count": 78,
   "id": "b5589e2d",
   "metadata": {},
   "outputs": [],
   "source": [
    "my_list3 = ['a','b','c','d','e','f','g','h','i','j','k','l','m','n']"
   ]
  },
  {
   "cell_type": "code",
   "execution_count": 79,
   "id": "df804c35",
   "metadata": {},
   "outputs": [
    {
     "data": {
      "text/plain": [
       "['b', 'c', 'd', 'e', 'f', 'g', 'h', 'i', 'j', 'k', 'l', 'm', 'n']"
      ]
     },
     "execution_count": 79,
     "metadata": {},
     "output_type": "execute_result"
    }
   ],
   "source": [
    "my_list3[1:]"
   ]
  },
  {
   "cell_type": "code",
   "execution_count": 81,
   "id": "31742916",
   "metadata": {},
   "outputs": [
    {
     "data": {
      "text/plain": [
       "['a', 'b', 'c', 'd', 'e', 'f']"
      ]
     },
     "execution_count": 81,
     "metadata": {},
     "output_type": "execute_result"
    }
   ],
   "source": [
    "my_list3[:6]"
   ]
  },
  {
   "cell_type": "code",
   "execution_count": 83,
   "id": "3c9d15cc",
   "metadata": {},
   "outputs": [
    {
     "data": {
      "text/plain": [
       "['d', 'e', 'f', 'g']"
      ]
     },
     "execution_count": 83,
     "metadata": {},
     "output_type": "execute_result"
    }
   ],
   "source": [
    "my_list3[3:7]"
   ]
  },
  {
   "cell_type": "markdown",
   "id": "ad6b1196",
   "metadata": {},
   "source": [
    "### Concatanation"
   ]
  },
  {
   "cell_type": "code",
   "execution_count": 84,
   "id": "d9daf774",
   "metadata": {},
   "outputs": [
    {
     "data": {
      "text/plain": [
       "['My name is Ziba', 1, 0.07142857142857142, 23.1, 0.16666666666666666, 'Cats']"
      ]
     },
     "execution_count": 84,
     "metadata": {},
     "output_type": "execute_result"
    }
   ],
   "source": [
    "my_list1 + my_list2"
   ]
  },
  {
   "cell_type": "code",
   "execution_count": 85,
   "id": "ee81a99e",
   "metadata": {},
   "outputs": [],
   "source": [
    "my_list4 = my_list1 + my_list2"
   ]
  },
  {
   "cell_type": "code",
   "execution_count": 87,
   "id": "60120191",
   "metadata": {},
   "outputs": [
    {
     "name": "stdout",
     "output_type": "stream",
     "text": [
      "['My name is Ziba', 1, 0.07142857142857142, 23.1, 0.16666666666666666, 'Cats']\n"
     ]
    }
   ],
   "source": [
    "print(my_list4)"
   ]
  },
  {
   "cell_type": "markdown",
   "id": "ffbb1ffe",
   "metadata": {},
   "source": [
    "### Mutation"
   ]
  },
  {
   "cell_type": "code",
   "execution_count": 89,
   "id": "3ed21b0c",
   "metadata": {},
   "outputs": [
    {
     "data": {
      "text/plain": [
       "[5, 2, 3, 4]"
      ]
     },
     "execution_count": 89,
     "metadata": {},
     "output_type": "execute_result"
    }
   ],
   "source": [
    "my_list5 = [1,2,3,4]\n",
    "my_list5[0] = 5\n",
    "my_list5"
   ]
  },
  {
   "cell_type": "markdown",
   "id": "18d69c06",
   "metadata": {},
   "source": [
    "### Adding"
   ]
  },
  {
   "cell_type": "code",
   "execution_count": 91,
   "id": "dd408c8f",
   "metadata": {},
   "outputs": [
    {
     "data": {
      "text/plain": [
       "[1, 2, 3, 4, 5, 6, 7]"
      ]
     },
     "execution_count": 91,
     "metadata": {},
     "output_type": "execute_result"
    }
   ],
   "source": [
    "my_list6 = [1,2,3,4,5,6]\n",
    "my_list6.append(7)\n",
    "my_list6"
   ]
  },
  {
   "cell_type": "markdown",
   "id": "45ead16e",
   "metadata": {},
   "source": [
    "### Removing"
   ]
  },
  {
   "cell_type": "code",
   "execution_count": 93,
   "id": "58e296f0",
   "metadata": {},
   "outputs": [
    {
     "data": {
      "text/plain": [
       "6"
      ]
     },
     "execution_count": 93,
     "metadata": {},
     "output_type": "execute_result"
    }
   ],
   "source": [
    "my_list7 = [1,2,3,4,5,6]\n",
    "my_list7.pop()"
   ]
  },
  {
   "cell_type": "code",
   "execution_count": 94,
   "id": "ed382511",
   "metadata": {},
   "outputs": [
    {
     "data": {
      "text/plain": [
       "[1, 2, 3, 4, 5]"
      ]
     },
     "execution_count": 94,
     "metadata": {},
     "output_type": "execute_result"
    }
   ],
   "source": [
    "my_list7"
   ]
  },
  {
   "cell_type": "code",
   "execution_count": 95,
   "id": "88860fac",
   "metadata": {},
   "outputs": [
    {
     "data": {
      "text/plain": [
       "[1, 2, 4, 5]"
      ]
     },
     "execution_count": 95,
     "metadata": {},
     "output_type": "execute_result"
    }
   ],
   "source": [
    "my_list7.pop(2)\n",
    "my_list7"
   ]
  },
  {
   "cell_type": "markdown",
   "id": "01a60053",
   "metadata": {},
   "source": [
    "### Sort"
   ]
  },
  {
   "cell_type": "markdown",
   "id": "ab007437",
   "metadata": {},
   "source": [
    "<font color = 'red'> Notice the in place behavior of sort -- and why reassignment (my_list81, my_list91) is needed <font>"
   ]
  },
  {
   "cell_type": "code",
   "execution_count": 105,
   "id": "7fd4314f",
   "metadata": {},
   "outputs": [
    {
     "name": "stdout",
     "output_type": "stream",
     "text": [
      "None\n",
      "None\n"
     ]
    }
   ],
   "source": [
    "my_list8 = ['b','g','t','y','r','e','d','c','s','a','r']\n",
    "my_list9 = [5,4,7,8,9,1,2,4,0]\n",
    "my_list8.sort()\n",
    "my_list81 = my_list8.sort()\n",
    "print(my_list81)\n",
    "my_list9.sort()\n",
    "my_list91 = my_list9.sort()\n",
    "print(my_list91)"
   ]
  },
  {
   "cell_type": "code",
   "execution_count": 102,
   "id": "4948acb6",
   "metadata": {},
   "outputs": [
    {
     "data": {
      "text/plain": [
       "NoneType"
      ]
     },
     "execution_count": 102,
     "metadata": {},
     "output_type": "execute_result"
    }
   ],
   "source": [
    "type(my_list81)\n",
    "type(my_list91)"
   ]
  },
  {
   "cell_type": "code",
   "execution_count": 107,
   "id": "96a96160",
   "metadata": {},
   "outputs": [
    {
     "name": "stdout",
     "output_type": "stream",
     "text": [
      "['a', 'b', 'c', 'd', 'e', 'g', 'r', 'r', 's', 't', 'y']\n",
      "[0, 1, 2, 4, 4, 5, 7, 8, 9]\n"
     ]
    }
   ],
   "source": [
    "my_list10 = ['b','g','t','y','r','e','d','c','s','a','r']\n",
    "my_list10.sort()\n",
    "my_list101 = my_list10\n",
    "print(my_list101)\n",
    "my_list11 = [5,4,7,8,9,1,2,4,0]\n",
    "my_list11.sort()\n",
    "my_list111 = my_list11\n",
    "print(my_list111)"
   ]
  },
  {
   "cell_type": "markdown",
   "id": "d0dd23ef",
   "metadata": {},
   "source": [
    "### Reverse"
   ]
  },
  {
   "cell_type": "markdown",
   "id": "0fce0e4c",
   "metadata": {},
   "source": [
    "<font color = 'red'> Notice how calling my_list111 in the same cell does not work <font>"
   ]
  },
  {
   "cell_type": "code",
   "execution_count": 112,
   "id": "e1a854b2",
   "metadata": {},
   "outputs": [
    {
     "data": {
      "text/plain": [
       "[0, 1, 2, 4, 4, 5, 7, 8, 9]"
      ]
     },
     "execution_count": 112,
     "metadata": {},
     "output_type": "execute_result"
    }
   ],
   "source": [
    "my_list111.reverse()\n",
    "my_list111"
   ]
  },
  {
   "cell_type": "code",
   "execution_count": 111,
   "id": "bbbb33d9",
   "metadata": {},
   "outputs": [
    {
     "data": {
      "text/plain": [
       "[9, 8, 7, 5, 4, 4, 2, 1, 0]"
      ]
     },
     "execution_count": 111,
     "metadata": {},
     "output_type": "execute_result"
    }
   ],
   "source": [
    "my_list111"
   ]
  },
  {
   "cell_type": "markdown",
   "id": "1ad9350b",
   "metadata": {},
   "source": [
    "### Nested Lists"
   ]
  },
  {
   "cell_type": "code",
   "execution_count": 116,
   "id": "f31ed559",
   "metadata": {},
   "outputs": [
    {
     "data": {
      "text/plain": [
       "5"
      ]
     },
     "execution_count": 116,
     "metadata": {},
     "output_type": "execute_result"
    }
   ],
   "source": [
    "my_list12 = [1,2,3,[4,5,6]]\n",
    "my_list12[3][1]"
   ]
  },
  {
   "cell_type": "code",
   "execution_count": 117,
   "id": "0d4da38b",
   "metadata": {},
   "outputs": [
    {
     "data": {
      "text/plain": [
       "3"
      ]
     },
     "execution_count": 117,
     "metadata": {},
     "output_type": "execute_result"
    }
   ],
   "source": [
    "my_list12[2]"
   ]
  },
  {
   "cell_type": "markdown",
   "id": "f9cc0127",
   "metadata": {},
   "source": [
    "***"
   ]
  },
  {
   "cell_type": "markdown",
   "id": "c8b7a163",
   "metadata": {},
   "source": [
    "<font size = 30> Dictionaries <font>"
   ]
  },
  {
   "cell_type": "markdown",
   "id": "1c6239f7",
   "metadata": {},
   "source": [
    "## <font color = 'red'> UnOrdered, Key-Value Pairs, (UnSortable, UnSlicable, UnIndexable)<font>"
   ]
  },
  {
   "cell_type": "code",
   "execution_count": 119,
   "id": "74656d2e",
   "metadata": {},
   "outputs": [
    {
     "data": {
      "text/plain": [
       "2.1"
      ]
     },
     "execution_count": 119,
     "metadata": {},
     "output_type": "execute_result"
    }
   ],
   "source": [
    "price_lookup = {'apple': 2.1, 'banana': 4.3, 'milk': 6.23, 'mango' : 4.89, 'onion': 9.09}\n",
    "price_lookup['apple']"
   ]
  },
  {
   "cell_type": "code",
   "execution_count": 123,
   "id": "c3075dec",
   "metadata": {},
   "outputs": [
    {
     "data": {
      "text/plain": [
       "(1, 2, 3)"
      ]
     },
     "execution_count": 123,
     "metadata": {},
     "output_type": "execute_result"
    }
   ],
   "source": [
    "d1 = {'k1' : (1,2,3), 'k2' : (4,5,6)}\n",
    "d1['k1']"
   ]
  },
  {
   "cell_type": "code",
   "execution_count": 132,
   "id": "08c9cd0b",
   "metadata": {},
   "outputs": [],
   "source": [
    "d2 = {'k1' : (1,2,3), 'k2' : (4,5,6), 'k3' : [7,8,9,10], \n",
    "      'k4' : {'k5' : 11, 'k6' : 12, 'k7' : 13}}"
   ]
  },
  {
   "cell_type": "code",
   "execution_count": 131,
   "id": "75148877",
   "metadata": {},
   "outputs": [
    {
     "data": {
      "text/plain": [
       "13"
      ]
     },
     "execution_count": 131,
     "metadata": {},
     "output_type": "execute_result"
    }
   ],
   "source": [
    "d2['k4']['k7']"
   ]
  },
  {
   "cell_type": "code",
   "execution_count": 138,
   "id": "f7a83b38",
   "metadata": {},
   "outputs": [
    {
     "data": {
      "text/plain": [
       "13"
      ]
     },
     "execution_count": 138,
     "metadata": {},
     "output_type": "execute_result"
    }
   ],
   "source": [
    "d2['k4']['k7']"
   ]
  },
  {
   "cell_type": "markdown",
   "id": "d1abf522",
   "metadata": {},
   "source": [
    "### Converting from Dictionary to List (for example to change Uppercase)"
   ]
  },
  {
   "cell_type": "code",
   "execution_count": 156,
   "id": "f6f29f33",
   "metadata": {},
   "outputs": [],
   "source": [
    "d = {'key1' : ['a','b','c','d']}"
   ]
  },
  {
   "cell_type": "code",
   "execution_count": 157,
   "id": "743a359a",
   "metadata": {},
   "outputs": [],
   "source": [
    "my_list13 = d['key1']"
   ]
  },
  {
   "cell_type": "code",
   "execution_count": 158,
   "id": "a01c257a",
   "metadata": {},
   "outputs": [
    {
     "data": {
      "text/plain": [
       "['a', 'b', 'c', 'd']"
      ]
     },
     "execution_count": 158,
     "metadata": {},
     "output_type": "execute_result"
    }
   ],
   "source": [
    "my_list13"
   ]
  },
  {
   "cell_type": "code",
   "execution_count": 159,
   "id": "89fe79dd",
   "metadata": {},
   "outputs": [],
   "source": [
    "letter = my_list13[2]"
   ]
  },
  {
   "cell_type": "code",
   "execution_count": 160,
   "id": "4559422d",
   "metadata": {},
   "outputs": [
    {
     "data": {
      "text/plain": [
       "'c'"
      ]
     },
     "execution_count": 160,
     "metadata": {},
     "output_type": "execute_result"
    }
   ],
   "source": [
    "letter"
   ]
  },
  {
   "cell_type": "code",
   "execution_count": 163,
   "id": "0906ebf1",
   "metadata": {},
   "outputs": [
    {
     "data": {
      "text/plain": [
       "'C'"
      ]
     },
     "execution_count": 163,
     "metadata": {},
     "output_type": "execute_result"
    }
   ],
   "source": [
    "letter.upper()"
   ]
  },
  {
   "cell_type": "markdown",
   "id": "de53d98e",
   "metadata": {},
   "source": [
    "***"
   ]
  },
  {
   "cell_type": "code",
   "execution_count": 169,
   "id": "d02849c6",
   "metadata": {},
   "outputs": [
    {
     "data": {
      "text/plain": [
       "'c'"
      ]
     },
     "execution_count": 169,
     "metadata": {},
     "output_type": "execute_result"
    }
   ],
   "source": [
    "e = {'key1' : ['a','b','c','d', 'e']} # declaring the Dictionary\n",
    "newletter = e['key1'] # converting to list\n",
    "newletter[2]"
   ]
  },
  {
   "cell_type": "code",
   "execution_count": 172,
   "id": "8cc21fc6",
   "metadata": {},
   "outputs": [
    {
     "data": {
      "text/plain": [
       "'C'"
      ]
     },
     "execution_count": 172,
     "metadata": {},
     "output_type": "execute_result"
    }
   ],
   "source": [
    "newletter2 = e['key1'][2].upper()\n",
    "newletter2"
   ]
  },
  {
   "cell_type": "markdown",
   "id": "4877ed16",
   "metadata": {},
   "source": [
    "***"
   ]
  },
  {
   "cell_type": "code",
   "execution_count": 175,
   "id": "33b66eb6",
   "metadata": {},
   "outputs": [],
   "source": [
    "f = {'key1' : 100, 'key2' : 200}"
   ]
  },
  {
   "cell_type": "code",
   "execution_count": 181,
   "id": "5592533a",
   "metadata": {},
   "outputs": [],
   "source": [
    "f['key3']= 300 ## Adding new value"
   ]
  },
  {
   "cell_type": "code",
   "execution_count": 180,
   "id": "4d8d3f35",
   "metadata": {},
   "outputs": [
    {
     "data": {
      "text/plain": [
       "{'key1': 100, 'key2': 200, 'key3': 300}"
      ]
     },
     "execution_count": 180,
     "metadata": {},
     "output_type": "execute_result"
    }
   ],
   "source": [
    "f"
   ]
  },
  {
   "cell_type": "code",
   "execution_count": 183,
   "id": "0a865348",
   "metadata": {},
   "outputs": [
    {
     "data": {
      "text/plain": [
       "{'key1': 100, 'key2': 'NEW VALUE', 'key3': 300}"
      ]
     },
     "execution_count": 183,
     "metadata": {},
     "output_type": "execute_result"
    }
   ],
   "source": [
    "f['key2'] = \"NEW VALUE\" ## Testing Mutability by replacing value for key2\n",
    "f"
   ]
  },
  {
   "cell_type": "code",
   "execution_count": 190,
   "id": "e8956261",
   "metadata": {},
   "outputs": [
    {
     "data": {
      "text/plain": [
       "dict_keys(['key1', 'key2', 'key3'])"
      ]
     },
     "execution_count": 190,
     "metadata": {},
     "output_type": "execute_result"
    }
   ],
   "source": [
    "## to extract just the keys\n",
    "f.keys()"
   ]
  },
  {
   "cell_type": "code",
   "execution_count": 191,
   "id": "3ce1732f",
   "metadata": {},
   "outputs": [
    {
     "data": {
      "text/plain": [
       "dict_values([100, 'NEW VALUE', 300])"
      ]
     },
     "execution_count": 191,
     "metadata": {},
     "output_type": "execute_result"
    }
   ],
   "source": [
    "## to extract just the values\n",
    "f.values() "
   ]
  },
  {
   "cell_type": "code",
   "execution_count": 192,
   "id": "970f5585",
   "metadata": {},
   "outputs": [
    {
     "data": {
      "text/plain": [
       "dict_items([('key1', 100), ('key2', 'NEW VALUE'), ('key3', 300)])"
      ]
     },
     "execution_count": 192,
     "metadata": {},
     "output_type": "execute_result"
    }
   ],
   "source": [
    "## to extract the full list of key value pairs\n",
    "f.items()"
   ]
  },
  {
   "cell_type": "markdown",
   "id": "b6711c9d",
   "metadata": {},
   "source": [
    "***"
   ]
  },
  {
   "cell_type": "markdown",
   "id": "5bae80c1",
   "metadata": {},
   "source": [
    "<font size = 30> Tuples <font>"
   ]
  },
  {
   "cell_type": "markdown",
   "id": "d7105773",
   "metadata": {},
   "source": [
    "## <font color = 'red'> Similar to LIST, but IMMUTABLE)<font>"
   ]
  },
  {
   "cell_type": "code",
   "execution_count": 193,
   "id": "dbf809a9",
   "metadata": {},
   "outputs": [
    {
     "data": {
      "text/plain": [
       "tuple"
      ]
     },
     "execution_count": 193,
     "metadata": {},
     "output_type": "execute_result"
    }
   ],
   "source": [
    "tuple = (1,2,3) ## this is a tuple\n",
    "type(tuple)"
   ]
  },
  {
   "cell_type": "code",
   "execution_count": 194,
   "id": "c6947406",
   "metadata": {},
   "outputs": [
    {
     "data": {
      "text/plain": [
       "list"
      ]
     },
     "execution_count": 194,
     "metadata": {},
     "output_type": "execute_result"
    }
   ],
   "source": [
    "list = [1,2,3] ## this is a LIST\n",
    "type(list)"
   ]
  },
  {
   "cell_type": "code",
   "execution_count": 202,
   "id": "3ab959eb",
   "metadata": {},
   "outputs": [
    {
     "name": "stdout",
     "output_type": "stream",
     "text": [
      "('hello there', 5, 10.1, 14.285714285714286, 5, 'a', 'a', 'b')\n"
     ]
    }
   ],
   "source": [
    "t1 = (\"hello there\", 5, 10.1, 100/7, 5, 'a', 'a', 'b')\n",
    "print (t1)"
   ]
  },
  {
   "cell_type": "code",
   "execution_count": 201,
   "id": "9d8d8b97",
   "metadata": {},
   "outputs": [
    {
     "data": {
      "text/plain": [
       "'hello there'"
      ]
     },
     "execution_count": 201,
     "metadata": {},
     "output_type": "execute_result"
    }
   ],
   "source": [
    "t1[0]"
   ]
  },
  {
   "cell_type": "code",
   "execution_count": 206,
   "id": "804b2a61",
   "metadata": {},
   "outputs": [
    {
     "name": "stdout",
     "output_type": "stream",
     "text": [
      "2\n",
      "5\n"
     ]
    }
   ],
   "source": [
    "print(t1.count('a'))\n",
    "print(t1.index('a')) ## only returns first instance of the value occurance"
   ]
  },
  {
   "cell_type": "code",
   "execution_count": 207,
   "id": "8a07ef71",
   "metadata": {},
   "outputs": [
    {
     "data": {
      "text/plain": [
       "'hello there'"
      ]
     },
     "execution_count": 207,
     "metadata": {},
     "output_type": "execute_result"
    }
   ],
   "source": [
    "t1[0]"
   ]
  },
  {
   "cell_type": "code",
   "execution_count": 209,
   "id": "01c45094",
   "metadata": {},
   "outputs": [
    {
     "ename": "TypeError",
     "evalue": "'tuple' object does not support item assignment",
     "output_type": "error",
     "traceback": [
      "\u001b[0;31m---------------------------------------------------------------------------\u001b[0m",
      "\u001b[0;31mTypeError\u001b[0m                                 Traceback (most recent call last)",
      "Input \u001b[0;32mIn [209]\u001b[0m, in \u001b[0;36m<cell line: 1>\u001b[0;34m()\u001b[0m\n\u001b[0;32m----> 1\u001b[0m t1[\u001b[38;5;241m0\u001b[39m] \u001b[38;5;241m=\u001b[39m \u001b[38;5;124m\"\u001b[39m\u001b[38;5;124mChanging this\u001b[39m\u001b[38;5;124m\"\u001b[39m\n",
      "\u001b[0;31mTypeError\u001b[0m: 'tuple' object does not support item assignment"
     ]
    }
   ],
   "source": [
    "t1[0] = \"Changing this\" ## testing immutability"
   ]
  },
  {
   "cell_type": "markdown",
   "id": "1c87c8d8",
   "metadata": {},
   "source": [
    "***"
   ]
  },
  {
   "cell_type": "markdown",
   "id": "016cc26f",
   "metadata": {},
   "source": [
    "<font size = 30> Sets <font>"
   ]
  },
  {
   "cell_type": "markdown",
   "id": "ff0db479",
   "metadata": {},
   "source": [
    "## <font color = 'red'> Unordered, Unique<font>"
   ]
  },
  {
   "cell_type": "code",
   "execution_count": 216,
   "id": "605410e1",
   "metadata": {},
   "outputs": [
    {
     "name": "stdout",
     "output_type": "stream",
     "text": [
      "<class 'set'>\n"
     ]
    },
    {
     "data": {
      "text/plain": [
       "{1, 2}"
      ]
     },
     "execution_count": 216,
     "metadata": {},
     "output_type": "execute_result"
    }
   ],
   "source": [
    "s1 = set()  ### testing the uniqueness\n",
    "s1.add(1) #### needs the explicit SET\n",
    "s1.add(2)\n",
    "s1.add(1)\n",
    "print(type(s1))\n",
    "s1"
   ]
  },
  {
   "cell_type": "code",
   "execution_count": 221,
   "id": "e6bd866f",
   "metadata": {},
   "outputs": [
    {
     "name": "stdout",
     "output_type": "stream",
     "text": [
      "<class 'list'>\n",
      "{1, 2, 3, 4, 5}\n",
      "<class 'set'>\n"
     ]
    }
   ],
   "source": [
    "my_list21 = [1,1,1,1,1,1,2,2,2,2,2,3,4,5,5,5,5,4,4]\n",
    "s2 = set(my_list21)\n",
    "print(type(my_list21))\n",
    "print(s2)\n",
    "print(type(s2))"
   ]
  },
  {
   "cell_type": "code",
   "execution_count": 222,
   "id": "2552bfd7",
   "metadata": {},
   "outputs": [
    {
     "data": {
      "text/plain": [
       "{'M', 'i', 'p', 's'}"
      ]
     },
     "execution_count": 222,
     "metadata": {},
     "output_type": "execute_result"
    }
   ],
   "source": [
    "string1 = ('Mississippi')\n",
    "set(string1)"
   ]
  },
  {
   "cell_type": "code",
   "execution_count": 223,
   "id": "74b6e98f",
   "metadata": {},
   "outputs": [
    {
     "data": {
      "text/plain": [
       "{'M', 'i', 'p', 's'}"
      ]
     },
     "execution_count": 223,
     "metadata": {},
     "output_type": "execute_result"
    }
   ],
   "source": [
    "set('Mississippi')"
   ]
  },
  {
   "cell_type": "markdown",
   "id": "3907642b",
   "metadata": {},
   "source": [
    "***"
   ]
  },
  {
   "cell_type": "markdown",
   "id": "646bb7d1",
   "metadata": {},
   "source": [
    "<font size = 30> Boolean <font>"
   ]
  },
  {
   "cell_type": "markdown",
   "id": "d91a721f",
   "metadata": {},
   "source": [
    "## <font color = 'red'> True or False<font>"
   ]
  },
  {
   "cell_type": "code",
   "execution_count": 227,
   "id": "bccf968b",
   "metadata": {},
   "outputs": [
    {
     "name": "stdout",
     "output_type": "stream",
     "text": [
      "True\n",
      "<class 'bool'>\n"
     ]
    },
    {
     "data": {
      "text/plain": [
       "False"
      ]
     },
     "execution_count": 227,
     "metadata": {},
     "output_type": "execute_result"
    }
   ],
   "source": [
    "print(True)\n",
    "print(type(True))\n",
    "False"
   ]
  },
  {
   "cell_type": "code",
   "execution_count": 228,
   "id": "3d25606b",
   "metadata": {},
   "outputs": [
    {
     "data": {
      "text/plain": [
       "bool"
      ]
     },
     "execution_count": 228,
     "metadata": {},
     "output_type": "execute_result"
    }
   ],
   "source": [
    "type(False)"
   ]
  },
  {
   "cell_type": "code",
   "execution_count": 229,
   "id": "30b0bc60",
   "metadata": {},
   "outputs": [
    {
     "data": {
      "text/plain": [
       "False"
      ]
     },
     "execution_count": 229,
     "metadata": {},
     "output_type": "execute_result"
    }
   ],
   "source": [
    "1>2"
   ]
  },
  {
   "cell_type": "code",
   "execution_count": 230,
   "id": "86069ac2",
   "metadata": {},
   "outputs": [
    {
     "data": {
      "text/plain": [
       "False"
      ]
     },
     "execution_count": 230,
     "metadata": {},
     "output_type": "execute_result"
    }
   ],
   "source": [
    "2==4"
   ]
  },
  {
   "cell_type": "code",
   "execution_count": 235,
   "id": "68e61e1f",
   "metadata": {},
   "outputs": [],
   "source": [
    "b = None ## Use None as a placeholder for future value assignment"
   ]
  },
  {
   "cell_type": "code",
   "execution_count": 232,
   "id": "71b85313",
   "metadata": {},
   "outputs": [],
   "source": [
    "b"
   ]
  },
  {
   "cell_type": "code",
   "execution_count": 234,
   "id": "5b8f5b94",
   "metadata": {},
   "outputs": [
    {
     "ename": "NameError",
     "evalue": "name 'c' is not defined",
     "output_type": "error",
     "traceback": [
      "\u001b[0;31m---------------------------------------------------------------------------\u001b[0m",
      "\u001b[0;31mNameError\u001b[0m                                 Traceback (most recent call last)",
      "Input \u001b[0;32mIn [234]\u001b[0m, in \u001b[0;36m<cell line: 1>\u001b[0;34m()\u001b[0m\n\u001b[0;32m----> 1\u001b[0m \u001b[43mc\u001b[49m\n",
      "\u001b[0;31mNameError\u001b[0m: name 'c' is not defined"
     ]
    }
   ],
   "source": [
    "c"
   ]
  },
  {
   "cell_type": "code",
   "execution_count": null,
   "id": "4c653f80",
   "metadata": {},
   "outputs": [],
   "source": []
  }
 ],
 "metadata": {
  "kernelspec": {
   "display_name": "Python 3 (ipykernel)",
   "language": "python",
   "name": "python3"
  },
  "language_info": {
   "codemirror_mode": {
    "name": "ipython",
    "version": 3
   },
   "file_extension": ".py",
   "mimetype": "text/x-python",
   "name": "python",
   "nbconvert_exporter": "python",
   "pygments_lexer": "ipython3",
   "version": "3.9.12"
  }
 },
 "nbformat": 4,
 "nbformat_minor": 5
}
