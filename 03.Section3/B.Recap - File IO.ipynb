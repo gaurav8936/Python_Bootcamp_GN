{
 "cells": [
  {
   "cell_type": "markdown",
   "id": "e031d000",
   "metadata": {},
   "source": [
    "<font size = 30> File I/O <font>"
   ]
  },
  {
   "cell_type": "markdown",
   "id": "e1d83de9",
   "metadata": {},
   "source": [
    "## Using the Magic Function (Jupyter only)"
   ]
  },
  {
   "cell_type": "code",
   "execution_count": 2,
   "id": "baa1216a",
   "metadata": {},
   "outputs": [
    {
     "name": "stdout",
     "output_type": "stream",
     "text": [
      "Overwriting myfile_06282022_V1.00.txt\n"
     ]
    }
   ],
   "source": [
    "%%writefile myfile_06282022_V1.00.txt\n",
    "Line One\n",
    "Line Two\n",
    "Line Three\n",
    "Line Four"
   ]
  },
  {
   "cell_type": "markdown",
   "id": "b16bf377",
   "metadata": {},
   "source": [
    "***"
   ]
  },
  {
   "cell_type": "code",
   "execution_count": 29,
   "id": "f1088a49",
   "metadata": {},
   "outputs": [
    {
     "ename": "AttributeError",
     "evalue": "'str' object has no attribute 'seek'",
     "output_type": "error",
     "traceback": [
      "\u001b[0;31m---------------------------------------------------------------------------\u001b[0m",
      "\u001b[0;31mAttributeError\u001b[0m                            Traceback (most recent call last)",
      "Input \u001b[0;32mIn [29]\u001b[0m, in \u001b[0;36m<cell line: 3>\u001b[0;34m()\u001b[0m\n\u001b[1;32m      1\u001b[0m my_file1\u001b[38;5;241m.\u001b[39mseek(\u001b[38;5;241m0\u001b[39m) \u001b[38;5;66;03m## This is to reset the cursor\u001b[39;00m\n\u001b[1;32m      2\u001b[0m my_file3\u001b[38;5;241m.\u001b[39mseek(\u001b[38;5;241m0\u001b[39m)\n\u001b[0;32m----> 3\u001b[0m \u001b[43mfile_contents3\u001b[49m\u001b[38;5;241;43m.\u001b[39;49m\u001b[43mseek\u001b[49m(\u001b[38;5;241m0\u001b[39m)\n",
      "\u001b[0;31mAttributeError\u001b[0m: 'str' object has no attribute 'seek'"
     ]
    }
   ],
   "source": [
    "my_file1.seek(0) ## This is to reset the cursor\n",
    "my_file3.seek(0)\n",
    "file_contents3.seek(0)"
   ]
  },
  {
   "cell_type": "markdown",
   "id": "9a64a9de",
   "metadata": {},
   "source": [
    "***"
   ]
  },
  {
   "cell_type": "code",
   "execution_count": 3,
   "id": "dc04babf",
   "metadata": {},
   "outputs": [],
   "source": [
    "my_file1 = open('myfile_06282022_V1.00.txt')"
   ]
  },
  {
   "cell_type": "code",
   "execution_count": 9,
   "id": "d7173f7e",
   "metadata": {},
   "outputs": [
    {
     "data": {
      "text/plain": [
       "'Line One\\nLine Two\\nLine Three\\nLine Four\\n'"
      ]
     },
     "execution_count": 9,
     "metadata": {},
     "output_type": "execute_result"
    }
   ],
   "source": [
    "my_file1.read()"
   ]
  },
  {
   "cell_type": "code",
   "execution_count": 30,
   "id": "dfc2e174",
   "metadata": {},
   "outputs": [
    {
     "data": {
      "text/plain": [
       "_io.TextIOWrapper"
      ]
     },
     "execution_count": 30,
     "metadata": {},
     "output_type": "execute_result"
    }
   ],
   "source": [
    "type(my_file1)"
   ]
  },
  {
   "cell_type": "code",
   "execution_count": 16,
   "id": "de733b7e",
   "metadata": {},
   "outputs": [
    {
     "data": {
      "text/plain": [
       "'Line One\\nLine Two\\nLine Three\\nLine Four\\n'"
      ]
     },
     "execution_count": 16,
     "metadata": {},
     "output_type": "execute_result"
    }
   ],
   "source": [
    "file_contents1 = my_file1.read()\n",
    "file_contents1"
   ]
  },
  {
   "cell_type": "markdown",
   "id": "aedbef1b",
   "metadata": {},
   "source": [
    "***"
   ]
  },
  {
   "cell_type": "code",
   "execution_count": 35,
   "id": "ef1edd9c",
   "metadata": {},
   "outputs": [
    {
     "data": {
      "text/plain": [
       "''"
      ]
     },
     "execution_count": 35,
     "metadata": {},
     "output_type": "execute_result"
    }
   ],
   "source": [
    "my_file3 = open('myfile_06282022_V1.00.txt')\n",
    "my_file3.read()\n",
    "file_contents3 = my_file3.read()\n",
    "file_contents3  ### there seems to be a problem with '' being returned even after seek(0)\n",
    "### this is exactly what was done in above example -- just in one line"
   ]
  },
  {
   "cell_type": "code",
   "execution_count": 33,
   "id": "b10863e9",
   "metadata": {},
   "outputs": [
    {
     "data": {
      "text/plain": [
       "0"
      ]
     },
     "execution_count": 33,
     "metadata": {},
     "output_type": "execute_result"
    }
   ],
   "source": [
    "my_file3.seek(0)"
   ]
  },
  {
   "cell_type": "code",
   "execution_count": 31,
   "id": "b1bef9d5",
   "metadata": {},
   "outputs": [
    {
     "data": {
      "text/plain": [
       "str"
      ]
     },
     "execution_count": 31,
     "metadata": {},
     "output_type": "execute_result"
    }
   ],
   "source": [
    "type(file_contents3)"
   ]
  },
  {
   "cell_type": "code",
   "execution_count": 32,
   "id": "d92d423c",
   "metadata": {},
   "outputs": [
    {
     "data": {
      "text/plain": [
       "_io.TextIOWrapper"
      ]
     },
     "execution_count": 32,
     "metadata": {},
     "output_type": "execute_result"
    }
   ],
   "source": [
    "type(my_file3)"
   ]
  },
  {
   "cell_type": "markdown",
   "id": "e19beab6",
   "metadata": {},
   "source": [
    "***"
   ]
  },
  {
   "cell_type": "code",
   "execution_count": 36,
   "id": "8846ecba",
   "metadata": {},
   "outputs": [
    {
     "data": {
      "text/plain": [
       "'Line One\\nLine Two\\nLine Three\\nLine Four\\n'"
      ]
     },
     "execution_count": 36,
     "metadata": {},
     "output_type": "execute_result"
    }
   ],
   "source": [
    "my_file4 = open('myfile_06282022_V1.00.txt')\n",
    "my_file4.read()"
   ]
  },
  {
   "cell_type": "code",
   "execution_count": 39,
   "id": "4078bafb",
   "metadata": {},
   "outputs": [
    {
     "data": {
      "text/plain": [
       "'Line One\\nLine Two\\nLine Three\\nLine Four\\n'"
      ]
     },
     "execution_count": 39,
     "metadata": {},
     "output_type": "execute_result"
    }
   ],
   "source": [
    "my_file4.seek(0) ### Solved the problem -- needed a seek in between\n",
    "file_contents4 = my_file4.read()\n",
    "file_contents4"
   ]
  },
  {
   "cell_type": "markdown",
   "id": "8abf4e9f",
   "metadata": {},
   "source": [
    "***"
   ]
  },
  {
   "cell_type": "code",
   "execution_count": 21,
   "id": "b79a3204",
   "metadata": {},
   "outputs": [
    {
     "name": "stdout",
     "output_type": "stream",
     "text": [
      "Line One\n",
      "Line Two\n",
      "Line Three\n",
      "Line Four\n",
      "\n",
      "<class '_io.TextIOWrapper'>\n"
     ]
    }
   ],
   "source": [
    "file_contents2 = open('myfile_06282022_V1.00.txt')\n",
    "print(file_contents2.read())\n",
    "print(type(file_contents2))"
   ]
  },
  {
   "cell_type": "markdown",
   "id": "b7d5c3a2",
   "metadata": {},
   "source": [
    "***"
   ]
  },
  {
   "cell_type": "code",
   "execution_count": 45,
   "id": "bf0d4302",
   "metadata": {},
   "outputs": [],
   "source": [
    "my_file5 = open(\"/Users/ganarasi/Dropbox/Berkeley2022/00.Python/31.Python_Bootcamp_GN/98.Reference/myfile2.txt\")"
   ]
  },
  {
   "cell_type": "code",
   "execution_count": 46,
   "id": "ba7ea4de",
   "metadata": {},
   "outputs": [
    {
     "data": {
      "text/plain": [
       "'Hello this is a text file\\nThis is the second line\\nThis is the third line\\n'"
      ]
     },
     "execution_count": 46,
     "metadata": {},
     "output_type": "execute_result"
    }
   ],
   "source": [
    "my_file5.read()"
   ]
  },
  {
   "cell_type": "code",
   "execution_count": 50,
   "id": "c5dcb79c",
   "metadata": {},
   "outputs": [
    {
     "data": {
      "text/plain": [
       "'Hello this is a text file\\nThis is the second line\\nThis is the third line\\n'"
      ]
     },
     "execution_count": 50,
     "metadata": {},
     "output_type": "execute_result"
    }
   ],
   "source": [
    "my_file5.seek(0)\n",
    "file_content5 = my_file5.read()\n",
    "file_content5"
   ]
  },
  {
   "cell_type": "code",
   "execution_count": 53,
   "id": "788ab6da",
   "metadata": {},
   "outputs": [
    {
     "data": {
      "text/plain": [
       "['Hello this is a text file\\n',\n",
       " 'This is the second line\\n',\n",
       " 'This is the third line\\n']"
      ]
     },
     "execution_count": 53,
     "metadata": {},
     "output_type": "execute_result"
    }
   ],
   "source": [
    "my_file5.seek(0)\n",
    "my_file5.readlines() ### Readlines is important"
   ]
  },
  {
   "cell_type": "code",
   "execution_count": 54,
   "id": "d9f7c2c4",
   "metadata": {},
   "outputs": [],
   "source": [
    "my_file5.close()"
   ]
  },
  {
   "cell_type": "markdown",
   "id": "d0cb7630",
   "metadata": {},
   "source": [
    "***"
   ]
  },
  {
   "cell_type": "code",
   "execution_count": 55,
   "id": "d85593e6",
   "metadata": {},
   "outputs": [],
   "source": [
    "example = open('test_06282022_V1.00.txt', 'w')\n",
    "example.write(\"Hello World\")\n",
    "example.close()"
   ]
  },
  {
   "cell_type": "markdown",
   "id": "fdd2fb3e",
   "metadata": {},
   "source": [
    "***"
   ]
  },
  {
   "cell_type": "markdown",
   "id": "b254edd9",
   "metadata": {},
   "source": [
    "### WITH Method"
   ]
  },
  {
   "cell_type": "code",
   "execution_count": 62,
   "id": "57bf9405",
   "metadata": {},
   "outputs": [
    {
     "data": {
      "text/plain": [
       "'Hello World'"
      ]
     },
     "execution_count": 62,
     "metadata": {},
     "output_type": "execute_result"
    }
   ],
   "source": [
    "with open('test_06282022_V1.00.txt') as new_file_1:\n",
    "    content = new_file_1.read() ### similar to the format seen earlier\n",
    "content"
   ]
  },
  {
   "cell_type": "code",
   "execution_count": 67,
   "id": "bb6527f9",
   "metadata": {},
   "outputs": [
    {
     "data": {
      "text/plain": [
       "'Hello World'"
      ]
     },
     "execution_count": 67,
     "metadata": {},
     "output_type": "execute_result"
    }
   ],
   "source": [
    "with open(\"/Users/ganarasi/Dropbox/Berkeley2022/00.Python/31.Python_Bootcamp_GN\\\n",
    "/03.Section3/test_06282022_V1.00.txt\") as new_file_2:\n",
    "    content2 = new_file_2.read()\n",
    "content2\n",
    "###### First use of the '\\' symbol to split code between lines"
   ]
  },
  {
   "cell_type": "code",
   "execution_count": 68,
   "id": "392e3e1e",
   "metadata": {},
   "outputs": [
    {
     "data": {
      "text/plain": [
       "'Hello World'"
      ]
     },
     "execution_count": 68,
     "metadata": {},
     "output_type": "execute_result"
    }
   ],
   "source": [
    "with open('test_06282022_V1.00.txt', mode = 'r') as new_file_3:\n",
    "    content3 = new_file_3.read()\n",
    "content3"
   ]
  },
  {
   "cell_type": "markdown",
   "id": "3b27480c",
   "metadata": {},
   "source": [
    "### Write+"
   ]
  },
  {
   "cell_type": "code",
   "execution_count": 70,
   "id": "801ad7ca",
   "metadata": {},
   "outputs": [
    {
     "data": {
      "text/plain": [
       "''"
      ]
     },
     "execution_count": 70,
     "metadata": {},
     "output_type": "execute_result"
    }
   ],
   "source": [
    "with open('test_06282022_V1.10.txt', mode = 'w+') as new_file_4:\n",
    "    content4 = new_file_4.read()\n",
    "content4"
   ]
  },
  {
   "cell_type": "code",
   "execution_count": 88,
   "id": "567ceaf2",
   "metadata": {},
   "outputs": [
    {
     "name": "stdout",
     "output_type": "stream",
     "text": [
      "This is the appended lineThis is the appended lineThis is the appended lineThis is the appended lineThis is the appended line This is the appended line This is the appended line This is the appended line \n"
     ]
    }
   ],
   "source": [
    "with open('test_06282022_V1.10.txt', mode = 'r') as same_file_7:\n",
    "    print(same_file_7.read())"
   ]
  },
  {
   "cell_type": "markdown",
   "id": "b7d79d91",
   "metadata": {},
   "source": [
    "***"
   ]
  },
  {
   "cell_type": "code",
   "execution_count": 85,
   "id": "144521f6",
   "metadata": {},
   "outputs": [
    {
     "data": {
      "text/plain": [
       "<_io.TextIOWrapper name='test_06282022_V1.20.txt' mode='w' encoding='UTF-8'>"
      ]
     },
     "execution_count": 85,
     "metadata": {},
     "output_type": "execute_result"
    }
   ],
   "source": [
    "with open('test_06282022_V1.20.txt', mode = 'w') as new_file_5:\n",
    "    new_file_5.write(\"This is the first sentence of the file I created\")\n",
    "new_file_5"
   ]
  },
  {
   "cell_type": "code",
   "execution_count": 86,
   "id": "058c17c8",
   "metadata": {},
   "outputs": [
    {
     "name": "stdout",
     "output_type": "stream",
     "text": [
      "This is the first sentence of the file I created\n"
     ]
    }
   ],
   "source": [
    "with open('test_06282022_V1.20.txt', mode = 'r') as same_file_6:\n",
    "    print(same_file_6.read())"
   ]
  },
  {
   "cell_type": "markdown",
   "id": "e345e4b4",
   "metadata": {},
   "source": [
    "### Append & Read"
   ]
  },
  {
   "cell_type": "code",
   "execution_count": 81,
   "id": "d5fb92e0",
   "metadata": {},
   "outputs": [],
   "source": [
    "with open('test_06282022_V1.10.txt', mode = 'a') as same_file_1:\n",
    "    same_file_1.write('This is the appended line ')"
   ]
  },
  {
   "cell_type": "code",
   "execution_count": 82,
   "id": "9f726e76",
   "metadata": {},
   "outputs": [
    {
     "name": "stdout",
     "output_type": "stream",
     "text": [
      "This is the appended lineThis is the appended lineThis is the appended lineThis is the appended lineThis is the appended line This is the appended line This is the appended line This is the appended line \n"
     ]
    }
   ],
   "source": [
    "with open('test_06282022_V1.10.txt', mode = 'r') as same_file_2:\n",
    "    print(same_file_2.read())"
   ]
  },
  {
   "cell_type": "code",
   "execution_count": null,
   "id": "255b5618",
   "metadata": {},
   "outputs": [],
   "source": []
  }
 ],
 "metadata": {
  "kernelspec": {
   "display_name": "Python 3 (ipykernel)",
   "language": "python",
   "name": "python3"
  },
  "language_info": {
   "codemirror_mode": {
    "name": "ipython",
    "version": 3
   },
   "file_extension": ".py",
   "mimetype": "text/x-python",
   "name": "python",
   "nbconvert_exporter": "python",
   "pygments_lexer": "ipython3",
   "version": "3.9.12"
  }
 },
 "nbformat": 4,
 "nbformat_minor": 5
}
