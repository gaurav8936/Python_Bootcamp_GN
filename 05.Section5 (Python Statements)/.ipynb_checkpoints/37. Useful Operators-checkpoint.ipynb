{
 "cells": [
  {
   "cell_type": "markdown",
   "id": "a32c216c",
   "metadata": {},
   "source": [
    "<font size = 30> Useful Operators"
   ]
  },
  {
   "cell_type": "markdown",
   "id": "dfd33e30",
   "metadata": {},
   "source": [
    "# <font color = 'red'>Range "
   ]
  },
  {
   "cell_type": "code",
   "execution_count": 1,
   "id": "6e719c65",
   "metadata": {},
   "outputs": [],
   "source": [
    "mylist1 = [1,2,3]"
   ]
  },
  {
   "cell_type": "code",
   "execution_count": 2,
   "id": "9821f6af",
   "metadata": {},
   "outputs": [
    {
     "name": "stdout",
     "output_type": "stream",
     "text": [
      "0\n",
      "1\n",
      "2\n",
      "3\n",
      "4\n",
      "5\n",
      "6\n",
      "7\n",
      "8\n",
      "9\n"
     ]
    }
   ],
   "source": [
    "for num in range(10):\n",
    "    print(num)\n",
    "    "
   ]
  },
  {
   "cell_type": "markdown",
   "id": "9fd781c8",
   "metadata": {},
   "source": [
    "<font color = 'red'> Note this prints 10 numbers, excluding 10 itself (as it starts from 0)"
   ]
  },
  {
   "cell_type": "code",
   "execution_count": 4,
   "id": "baa7c516",
   "metadata": {},
   "outputs": [
    {
     "name": "stdout",
     "output_type": "stream",
     "text": [
      "3\n",
      "4\n",
      "5\n",
      "6\n",
      "7\n",
      "8\n",
      "9\n"
     ]
    }
   ],
   "source": [
    "for num1 in range(3,10):\n",
    "    print(num1)"
   ]
  },
  {
   "cell_type": "markdown",
   "id": "5fbcd6bf",
   "metadata": {},
   "source": [
    "## Adding Step Size"
   ]
  },
  {
   "cell_type": "markdown",
   "id": "83c53b17",
   "metadata": {},
   "source": [
    "<font color = 'red'> This is one way to print even numbers"
   ]
  },
  {
   "cell_type": "code",
   "execution_count": 5,
   "id": "1fa34eeb",
   "metadata": {},
   "outputs": [
    {
     "name": "stdout",
     "output_type": "stream",
     "text": [
      "0\n",
      "2\n",
      "4\n",
      "6\n",
      "8\n"
     ]
    }
   ],
   "source": [
    "for num2 in range(0,10,2):\n",
    "    print(num2)\n"
   ]
  },
  {
   "cell_type": "markdown",
   "id": "1eebf22f",
   "metadata": {},
   "source": [
    "### Range is a generator -- hence does not error as shown below"
   ]
  },
  {
   "cell_type": "code",
   "execution_count": 6,
   "id": "3037ca3f",
   "metadata": {},
   "outputs": [
    {
     "data": {
      "text/plain": [
       "range(0, 10, 2)"
      ]
     },
     "execution_count": 6,
     "metadata": {},
     "output_type": "execute_result"
    }
   ],
   "source": [
    "range(0,10,2)"
   ]
  },
  {
   "cell_type": "markdown",
   "id": "6105baf8",
   "metadata": {},
   "source": [
    "` in order to case this to a list `"
   ]
  },
  {
   "cell_type": "code",
   "execution_count": 7,
   "id": "308efe09",
   "metadata": {},
   "outputs": [
    {
     "data": {
      "text/plain": [
       "[0, 2, 4, 6, 8]"
      ]
     },
     "execution_count": 7,
     "metadata": {},
     "output_type": "execute_result"
    }
   ],
   "source": [
    "list(range(0,10,2))"
   ]
  },
  {
   "cell_type": "markdown",
   "id": "3e55a9c7",
   "metadata": {},
   "source": [
    "<font color = 'red'> This is also an example of a GENERATOR function which displays  the content without saving it to memory"
   ]
  },
  {
   "cell_type": "markdown",
   "id": "8cf7fc2d",
   "metadata": {},
   "source": [
    "# <font color = 'red'> Enumerate"
   ]
  },
  {
   "cell_type": "code",
   "execution_count": 12,
   "id": "751f3354",
   "metadata": {},
   "outputs": [
    {
     "name": "stdout",
     "output_type": "stream",
     "text": [
      "At Index 0 the letter is a\n",
      "At Index 1 the letter is b\n",
      "At Index 2 the letter is c\n",
      "At Index 3 the letter is d\n",
      "At Index 4 the letter is e\n"
     ]
    }
   ],
   "source": [
    "index_count1 = 0\n",
    "\n",
    "for letter1 in 'abcde':\n",
    "    print('At Index {} the letter is {}'.format(index_count1, letter1))\n",
    "    index_count1 += 1"
   ]
  },
  {
   "cell_type": "markdown",
   "id": "67f7878c",
   "metadata": {},
   "source": [
    "` This is a very generic requirement -- count how many times we have gone through the loop and what the index at each time is `"
   ]
  },
  {
   "cell_type": "code",
   "execution_count": 14,
   "id": "a6f267bf",
   "metadata": {},
   "outputs": [
    {
     "name": "stdout",
     "output_type": "stream",
     "text": [
      "At index 0 the letter is a\n",
      "At index 1 the letter is b\n",
      "At index 2 the letter is c\n",
      "At index 3 the letter is d\n",
      "At index 4 the letter is e\n"
     ]
    }
   ],
   "source": [
    "index_count2 = 0\n",
    "\n",
    "word = 'abcde'  ## The only difference is the variable for the string\n",
    "for letter2 in word:\n",
    "    print('At index {} the letter is {}'.format(index_count2, letter2))\n",
    "    index_count2 += 1"
   ]
  },
  {
   "cell_type": "markdown",
   "id": "994c6bdf",
   "metadata": {},
   "source": [
    "` You could also do this another way `"
   ]
  },
  {
   "cell_type": "code",
   "execution_count": 16,
   "id": "71e858fa",
   "metadata": {},
   "outputs": [
    {
     "name": "stdout",
     "output_type": "stream",
     "text": [
      "a\n",
      "b\n",
      "c\n",
      "d\n",
      "e\n"
     ]
    }
   ],
   "source": [
    "index_count3 = 0\n",
    "\n",
    "word3 = 'abcde'\n",
    "for letter3 in word3:\n",
    "    print(word3[index_count3])\n",
    "    index_count3 += 1"
   ]
  },
  {
   "cell_type": "markdown",
   "id": "b01132cd",
   "metadata": {},
   "source": [
    "<font color = 'red'> Since this is so common, there is the ENUMERATE function in python"
   ]
  },
  {
   "cell_type": "code",
   "execution_count": 17,
   "id": "85fbd0e7",
   "metadata": {},
   "outputs": [
    {
     "name": "stdout",
     "output_type": "stream",
     "text": [
      "(0, 'w')\n",
      "(1, 'o')\n",
      "(2, 'r')\n",
      "(3, 'd')\n",
      "(4, '4')\n"
     ]
    }
   ],
   "source": [
    "word4 = 'abcde'\n",
    "\n",
    "for item4 in enumerate('word4'):\n",
    "    print(item4)"
   ]
  },
  {
   "cell_type": "markdown",
   "id": "c9c25f9e",
   "metadata": {},
   "source": [
    "` Notice that now I get TUPLES `"
   ]
  },
  {
   "cell_type": "markdown",
   "id": "154a7ef9",
   "metadata": {},
   "source": [
    "## <font color = 'red'> Now I can use TUPLE UNPACKING as well"
   ]
  },
  {
   "cell_type": "code",
   "execution_count": 20,
   "id": "13e012a1",
   "metadata": {},
   "outputs": [
    {
     "name": "stdout",
     "output_type": "stream",
     "text": [
      "0\n",
      "a\n",
      "\n",
      "\n",
      "1\n",
      "b\n",
      "\n",
      "\n",
      "2\n",
      "c\n",
      "\n",
      "\n",
      "3\n",
      "d\n",
      "\n",
      "\n",
      "4\n",
      "e\n",
      "\n",
      "\n"
     ]
    }
   ],
   "source": [
    "word5 = 'abcde'\n",
    "\n",
    "for index5, letter5 in enumerate(word):\n",
    "    print(index5)\n",
    "    print(letter5)\n",
    "    print('\\n')  ### Notice the print new line function with print('\\n')"
   ]
  },
  {
   "cell_type": "markdown",
   "id": "abcf9f22",
   "metadata": {},
   "source": [
    "# <font color = 'red'> Zip (opposite of ENUMERATE)"
   ]
  },
  {
   "cell_type": "code",
   "execution_count": 29,
   "id": "5ac595a3",
   "metadata": {},
   "outputs": [
    {
     "data": {
      "text/plain": [
       "<zip at 0x7f96015fbb80>"
      ]
     },
     "execution_count": 29,
     "metadata": {},
     "output_type": "execute_result"
    }
   ],
   "source": [
    "# The standard ZIP function does not print out anything\n",
    "\n",
    "mylist3 = [1,2,3,4,5]\n",
    "mylist4 = ['a','b','c','d','e']\n",
    "\n",
    "zip(mylist3, mylist4)"
   ]
  },
  {
   "cell_type": "markdown",
   "id": "9a37a9ff",
   "metadata": {},
   "source": [
    "` this merely tells you that the zip file is waiting in memory `"
   ]
  },
  {
   "cell_type": "code",
   "execution_count": 23,
   "id": "c4263205",
   "metadata": {},
   "outputs": [
    {
     "name": "stdout",
     "output_type": "stream",
     "text": [
      "(1, 'a')\n",
      "(2, 'b')\n",
      "(3, 'c')\n",
      "(4, 'd')\n",
      "(5, 'e')\n"
     ]
    }
   ],
   "source": [
    "# Zipping lists and using the for loop to iterate\n",
    "\n",
    "mylist5 = [1,2,3,4,5]\n",
    "mylist6 = ['a','b','c','d','e']\n",
    "\n",
    "for item56 in zip(mylist3, mylist4):\n",
    "    print(item56)"
   ]
  },
  {
   "cell_type": "code",
   "execution_count": 25,
   "id": "5b6a972c",
   "metadata": {},
   "outputs": [
    {
     "name": "stdout",
     "output_type": "stream",
     "text": [
      "(1, 'a', 100, 'a')\n",
      "(2, 'b', 200, 'b')\n",
      "(3, 'c', 300, 'c')\n",
      "(4, 'd', 400, 'd')\n",
      "(5, 'e', 500, 'e')\n"
     ]
    }
   ],
   "source": [
    "# Zipping multiple lists\n",
    "\n",
    "mylist7 = [1,2,3,4,5]\n",
    "mylist8 = ['a','b','c','d','e']\n",
    "mylist9 = [100,200,300,400,500]\n",
    "mylist10 = ['a','b','c','d','e']\n",
    "\n",
    "for item710 in zip(mylist7, mylist8, mylist9, mylist10):\n",
    "    print(item710)"
   ]
  },
  {
   "cell_type": "code",
   "execution_count": 26,
   "id": "e8a6c602",
   "metadata": {},
   "outputs": [
    {
     "name": "stdout",
     "output_type": "stream",
     "text": [
      "(1, 'a')\n",
      "(2, 'b')\n",
      "(3, 'c')\n"
     ]
    }
   ],
   "source": [
    "# Zipping uneven lists\n",
    "\n",
    "mylist11 = [1,2,3]\n",
    "mylist12 = ['a','b','c','d','e']\n",
    "\n",
    "for item56 in zip(mylist11, mylist12):\n",
    "    print(item56)"
   ]
  },
  {
   "cell_type": "markdown",
   "id": "4a776655",
   "metadata": {},
   "source": [
    "<font color = 'red'> ZIP is limited to the shortest of the lists"
   ]
  },
  {
   "cell_type": "code",
   "execution_count": 31,
   "id": "d2a66dbf",
   "metadata": {},
   "outputs": [
    {
     "data": {
      "text/plain": [
       "[(1, 'a'), (2, 'b'), (3, 'c')]"
      ]
     },
     "execution_count": 31,
     "metadata": {},
     "output_type": "execute_result"
    }
   ],
   "source": [
    "# Converting ZIP to list\n",
    "\n",
    "mylist13 = [1,2,3]\n",
    "mylist14 = ['a','b','c','d','e']\n",
    "\n",
    "list(zip(mylist13, mylist14))"
   ]
  },
  {
   "cell_type": "markdown",
   "id": "2f53ad66",
   "metadata": {},
   "source": [
    "### TUPLE UNPACKING for ZIP"
   ]
  },
  {
   "cell_type": "code",
   "execution_count": 8,
   "id": "63fd6ba5",
   "metadata": {},
   "outputs": [
    {
     "name": "stdout",
     "output_type": "stream",
     "text": [
      "1\n",
      "2\n",
      "3\n",
      "4\n",
      "5\n"
     ]
    }
   ],
   "source": [
    "# TUPLE UNPACKING\n",
    "\n",
    "mylist15 = [1,2,3,4,5]\n",
    "mylist16 = ['a','b','c','d','e']\n",
    "mylist17 = [100,200,300,400,500]\n",
    "mylist18 = ['a','b','c','d','e']\n",
    "\n",
    "for list1,list2,list3,list4 in zip(mylist15, mylist16, mylist17, mylist18):\n",
    "    print(list1)"
   ]
  },
  {
   "cell_type": "code",
   "execution_count": 3,
   "id": "5dfb468b",
   "metadata": {},
   "outputs": [],
   "source": [
    "# TUPLE UPNPACKING\n",
    "mylist19 = [1,2,3,4,5]\n",
    "mylist20 = ['a','b','c']"
   ]
  },
  {
   "cell_type": "code",
   "execution_count": 6,
   "id": "e0444105",
   "metadata": {},
   "outputs": [
    {
     "name": "stdout",
     "output_type": "stream",
     "text": [
      "1\n",
      "2\n",
      "3\n"
     ]
    }
   ],
   "source": [
    "for item1,item2 in zip(mylist19, mylist20):\n",
    "    print(item1)"
   ]
  },
  {
   "cell_type": "markdown",
   "id": "05ce47cc",
   "metadata": {},
   "source": [
    "# In Function"
   ]
  },
  {
   "cell_type": "markdown",
   "id": "2085e0f6",
   "metadata": {},
   "source": [
    "### Lists"
   ]
  },
  {
   "cell_type": "code",
   "execution_count": 9,
   "id": "9860835d",
   "metadata": {},
   "outputs": [
    {
     "data": {
      "text/plain": [
       "False"
      ]
     },
     "execution_count": 9,
     "metadata": {},
     "output_type": "execute_result"
    }
   ],
   "source": [
    "'x' in [1,2,3]"
   ]
  },
  {
   "cell_type": "code",
   "execution_count": 11,
   "id": "0e1d3fcd",
   "metadata": {},
   "outputs": [
    {
     "data": {
      "text/plain": [
       "True"
      ]
     },
     "execution_count": 11,
     "metadata": {},
     "output_type": "execute_result"
    }
   ],
   "source": [
    "'x' in ['x', 'y']"
   ]
  },
  {
   "cell_type": "code",
   "execution_count": 12,
   "id": "18f0f256",
   "metadata": {},
   "outputs": [
    {
     "data": {
      "text/plain": [
       "True"
      ]
     },
     "execution_count": 12,
     "metadata": {},
     "output_type": "execute_result"
    }
   ],
   "source": [
    "2 in [1,2,3]"
   ]
  },
  {
   "cell_type": "code",
   "execution_count": 13,
   "id": "f2b03fa5",
   "metadata": {},
   "outputs": [
    {
     "data": {
      "text/plain": [
       "True"
      ]
     },
     "execution_count": 13,
     "metadata": {},
     "output_type": "execute_result"
    }
   ],
   "source": [
    "'a' in 'a world'"
   ]
  },
  {
   "cell_type": "markdown",
   "id": "0a3334f1",
   "metadata": {},
   "source": [
    "### Dictionaries"
   ]
  },
  {
   "cell_type": "code",
   "execution_count": 14,
   "id": "f3c5dc9c",
   "metadata": {},
   "outputs": [
    {
     "data": {
      "text/plain": [
       "True"
      ]
     },
     "execution_count": 14,
     "metadata": {},
     "output_type": "execute_result"
    }
   ],
   "source": [
    "'mykey' in {'mykey': 345}"
   ]
  },
  {
   "cell_type": "code",
   "execution_count": 16,
   "id": "9aefaf2d",
   "metadata": {},
   "outputs": [
    {
     "data": {
      "text/plain": [
       "True"
      ]
     },
     "execution_count": 16,
     "metadata": {},
     "output_type": "execute_result"
    }
   ],
   "source": [
    "d = {'mykey': 345}\n",
    "345 in d.values()"
   ]
  },
  {
   "cell_type": "code",
   "execution_count": 17,
   "id": "f6b7bcd8",
   "metadata": {},
   "outputs": [
    {
     "data": {
      "text/plain": [
       "False"
      ]
     },
     "execution_count": 17,
     "metadata": {},
     "output_type": "execute_result"
    }
   ],
   "source": [
    "d = {'mykey': 345}\n",
    "345 in d.keys()"
   ]
  },
  {
   "cell_type": "markdown",
   "id": "b90d18d0",
   "metadata": {},
   "source": [
    "# Min & Max Function"
   ]
  },
  {
   "cell_type": "code",
   "execution_count": 18,
   "id": "118ed8bc",
   "metadata": {},
   "outputs": [],
   "source": [
    "mylist = [10,20,30,40,100]"
   ]
  },
  {
   "cell_type": "code",
   "execution_count": 19,
   "id": "7519cad3",
   "metadata": {},
   "outputs": [
    {
     "data": {
      "text/plain": [
       "10"
      ]
     },
     "execution_count": 19,
     "metadata": {},
     "output_type": "execute_result"
    }
   ],
   "source": [
    "min(mylist)"
   ]
  },
  {
   "cell_type": "code",
   "execution_count": 20,
   "id": "2e5a2c8a",
   "metadata": {},
   "outputs": [
    {
     "data": {
      "text/plain": [
       "100"
      ]
     },
     "execution_count": 20,
     "metadata": {},
     "output_type": "execute_result"
    }
   ],
   "source": [
    "max(mylist)"
   ]
  },
  {
   "cell_type": "markdown",
   "id": "d8404d08",
   "metadata": {},
   "source": [
    "<font size = 6, color = 'red'> Random Library - functions that come inbuilt <font>"
   ]
  },
  {
   "attachments": {
    "image.png": {
     "image/png": "[encoded data removed]"
    }
   },
   "cell_type": "markdown",
   "id": "9023d881",
   "metadata": {},
   "source": [
    "![image.png](attachment:image.png)"
   ]
  },
  {
   "cell_type": "markdown",
   "id": "1e975b3d",
   "metadata": {},
   "source": [
    "## Shuffle --- In place function (not committed to memory)"
   ]
  },
  {
   "cell_type": "code",
   "execution_count": 21,
   "id": "42b03431",
   "metadata": {},
   "outputs": [],
   "source": [
    "from random import shuffle"
   ]
  },
  {
   "cell_type": "code",
   "execution_count": 23,
   "id": "e3dbb1e6",
   "metadata": {},
   "outputs": [],
   "source": [
    "mylist2 = [ 1,2,3,4,5,6,7,8,9,10]"
   ]
  },
  {
   "cell_type": "code",
   "execution_count": 24,
   "id": "f5bbcb17",
   "metadata": {},
   "outputs": [],
   "source": [
    "shuffle(mylist2)"
   ]
  },
  {
   "cell_type": "code",
   "execution_count": 25,
   "id": "ae2fc542",
   "metadata": {},
   "outputs": [
    {
     "data": {
      "text/plain": [
       "[5, 8, 10, 7, 3, 1, 6, 9, 4, 2]"
      ]
     },
     "execution_count": 25,
     "metadata": {},
     "output_type": "execute_result"
    }
   ],
   "source": [
    "mylist2"
   ]
  },
  {
   "cell_type": "code",
   "execution_count": 26,
   "id": "74340a79",
   "metadata": {},
   "outputs": [],
   "source": [
    "shuffle(mylist2)"
   ]
  },
  {
   "cell_type": "code",
   "execution_count": 27,
   "id": "6747acb8",
   "metadata": {},
   "outputs": [
    {
     "data": {
      "text/plain": [
       "[6, 5, 7, 3, 9, 4, 8, 1, 2, 10]"
      ]
     },
     "execution_count": 27,
     "metadata": {},
     "output_type": "execute_result"
    }
   ],
   "source": [
    "mylist2"
   ]
  },
  {
   "cell_type": "markdown",
   "id": "f3e5e040",
   "metadata": {},
   "source": [
    "<font color = 'red'> Note: This DOES NOT return any value. So trying to assign a variable name will not result in anything"
   ]
  },
  {
   "cell_type": "code",
   "execution_count": 28,
   "id": "68511330",
   "metadata": {},
   "outputs": [],
   "source": [
    "random_list = shuffle(mylist2)\n",
    "random_list"
   ]
  },
  {
   "cell_type": "code",
   "execution_count": 29,
   "id": "eb03f0c2",
   "metadata": {},
   "outputs": [
    {
     "data": {
      "text/plain": [
       "NoneType"
      ]
     },
     "execution_count": 29,
     "metadata": {},
     "output_type": "execute_result"
    }
   ],
   "source": [
    "type(random_list)"
   ]
  },
  {
   "cell_type": "markdown",
   "id": "6246eb7e",
   "metadata": {},
   "source": [
    "## RANDINT -- grabbing a random Integer"
   ]
  },
  {
   "cell_type": "code",
   "execution_count": 30,
   "id": "7db02e1e",
   "metadata": {},
   "outputs": [],
   "source": [
    "from random import randint"
   ]
  },
  {
   "cell_type": "code",
   "execution_count": 32,
   "id": "540067e6",
   "metadata": {},
   "outputs": [
    {
     "data": {
      "text/plain": [
       "20"
      ]
     },
     "execution_count": 32,
     "metadata": {},
     "output_type": "execute_result"
    }
   ],
   "source": [
    "randint(1,400)"
   ]
  },
  {
   "cell_type": "code",
   "execution_count": 33,
   "id": "29f9b655",
   "metadata": {},
   "outputs": [
    {
     "data": {
      "text/plain": [
       "282"
      ]
     },
     "execution_count": 33,
     "metadata": {},
     "output_type": "execute_result"
    }
   ],
   "source": [
    "randint(1,400)"
   ]
  },
  {
   "cell_type": "markdown",
   "id": "f01fe923",
   "metadata": {},
   "source": [
    "<font color = 'red'> Unlike Shuffle, RandINT can be saved as it is not in place"
   ]
  },
  {
   "cell_type": "code",
   "execution_count": 34,
   "id": "3fada107",
   "metadata": {},
   "outputs": [
    {
     "data": {
      "text/plain": [
       "4870"
      ]
     },
     "execution_count": 34,
     "metadata": {},
     "output_type": "execute_result"
    }
   ],
   "source": [
    "rand_num1 = randint(300,5000)\n",
    "rand_num1"
   ]
  },
  {
   "cell_type": "markdown",
   "id": "1937784d",
   "metadata": {},
   "source": [
    "## Accepting USER INPUT"
   ]
  },
  {
   "cell_type": "code",
   "execution_count": 35,
   "id": "fa96767b",
   "metadata": {},
   "outputs": [
    {
     "name": "stdout",
     "output_type": "stream",
     "text": [
      "Enter a number: 50\n"
     ]
    },
    {
     "data": {
      "text/plain": [
       "'50'"
      ]
     },
     "execution_count": 35,
     "metadata": {},
     "output_type": "execute_result"
    }
   ],
   "source": [
    "input('Enter a number: ')"
   ]
  },
  {
   "cell_type": "code",
   "execution_count": 36,
   "id": "e889b96b",
   "metadata": {},
   "outputs": [
    {
     "name": "stdout",
     "output_type": "stream",
     "text": [
      "What is your nameZiba Joon\n"
     ]
    }
   ],
   "source": [
    "result1 = input(\"What is your name\")"
   ]
  },
  {
   "cell_type": "code",
   "execution_count": 37,
   "id": "33a1b70e",
   "metadata": {},
   "outputs": [
    {
     "data": {
      "text/plain": [
       "'Ziba Joon'"
      ]
     },
     "execution_count": 37,
     "metadata": {},
     "output_type": "execute_result"
    }
   ],
   "source": [
    "result1"
   ]
  },
  {
   "cell_type": "markdown",
   "id": "51214d94",
   "metadata": {},
   "source": [
    "<font color = 'red'> Input always accepting an input as a STRING"
   ]
  },
  {
   "cell_type": "code",
   "execution_count": 38,
   "id": "0f789aa0",
   "metadata": {},
   "outputs": [
    {
     "name": "stdout",
     "output_type": "stream",
     "text": [
      "What is your fav number30\n"
     ]
    },
    {
     "data": {
      "text/plain": [
       "'30'"
      ]
     },
     "execution_count": 38,
     "metadata": {},
     "output_type": "execute_result"
    }
   ],
   "source": [
    "result2 = input(\"What is your fav number\")\n",
    "result2"
   ]
  },
  {
   "cell_type": "code",
   "execution_count": 39,
   "id": "514e3cda",
   "metadata": {},
   "outputs": [
    {
     "data": {
      "text/plain": [
       "str"
      ]
     },
     "execution_count": 39,
     "metadata": {},
     "output_type": "execute_result"
    }
   ],
   "source": [
    "type(result2)"
   ]
  },
  {
   "cell_type": "markdown",
   "id": "c1ee2b65",
   "metadata": {},
   "source": [
    "### <font color = 'red'> Converting string back to number"
   ]
  },
  {
   "cell_type": "code",
   "execution_count": 40,
   "id": "6ad530f7",
   "metadata": {},
   "outputs": [
    {
     "data": {
      "text/plain": [
       "30.0"
      ]
     },
     "execution_count": 40,
     "metadata": {},
     "output_type": "execute_result"
    }
   ],
   "source": [
    "float(result2)"
   ]
  },
  {
   "cell_type": "code",
   "execution_count": 41,
   "id": "fbcfbdb9",
   "metadata": {},
   "outputs": [
    {
     "data": {
      "text/plain": [
       "30"
      ]
     },
     "execution_count": 41,
     "metadata": {},
     "output_type": "execute_result"
    }
   ],
   "source": [
    "int(result2)"
   ]
  },
  {
   "cell_type": "code",
   "execution_count": 42,
   "id": "64cbb3a6",
   "metadata": {},
   "outputs": [
    {
     "name": "stdout",
     "output_type": "stream",
     "text": [
      "what is your favorite number?3\n"
     ]
    },
    {
     "data": {
      "text/plain": [
       "3"
      ]
     },
     "execution_count": 42,
     "metadata": {},
     "output_type": "execute_result"
    }
   ],
   "source": [
    "result3 = int(input(\"what is your favorite number?\"))\n",
    "result3"
   ]
  },
  {
   "cell_type": "code",
   "execution_count": 43,
   "id": "0257406f",
   "metadata": {},
   "outputs": [
    {
     "data": {
      "text/plain": [
       "int"
      ]
     },
     "execution_count": 43,
     "metadata": {},
     "output_type": "execute_result"
    }
   ],
   "source": [
    "type(result3)"
   ]
  },
  {
   "cell_type": "code",
   "execution_count": null,
   "id": "c7f4b4c1",
   "metadata": {},
   "outputs": [],
   "source": []
  }
 ],
 "metadata": {
  "kernelspec": {
   "display_name": "Python 3 (ipykernel)",
   "language": "python",
   "name": "python3"
  },
  "language_info": {
   "codemirror_mode": {
    "name": "ipython",
    "version": 3
   },
   "file_extension": ".py",
   "mimetype": "text/x-python",
   "name": "python",
   "nbconvert_exporter": "python",
   "pygments_lexer": "ipython3",
   "version": "3.9.12"
  }
 },
 "nbformat": 4,
 "nbformat_minor": 5
}
